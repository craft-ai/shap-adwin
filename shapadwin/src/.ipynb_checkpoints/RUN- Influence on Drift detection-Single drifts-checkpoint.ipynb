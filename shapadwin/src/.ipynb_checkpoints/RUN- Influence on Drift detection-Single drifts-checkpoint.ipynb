{
 "cells": [
  {
   "cell_type": "markdown",
   "id": "7f00d266",
   "metadata": {
    "toc": true
   },
   "source": [
    "<h1>Table of Contents<span class=\"tocSkip\"></span></h1>\n",
    "<div class=\"toc\"><ul class=\"toc-item\"><li><span><a href=\"#Run-experiments\" data-toc-modified-id=\"Run-experiments-1\"><span class=\"toc-item-num\">1&nbsp;&nbsp;</span>Run experiments</a></span></li><li><span><a href=\"#HERE-ITS-CLEAN\" data-toc-modified-id=\"HERE-ITS-CLEAN-2\"><span class=\"toc-item-num\">2&nbsp;&nbsp;</span>HERE ITS CLEAN</a></span></li><li><span><a href=\"#Run-with-noise\" data-toc-modified-id=\"Run-with-noise-3\"><span class=\"toc-item-num\">3&nbsp;&nbsp;</span>Run with noise</a></span></li><li><span><a href=\"#Single-Drifts\" data-toc-modified-id=\"Single-Drifts-4\"><span class=\"toc-item-num\">4&nbsp;&nbsp;</span>Single Drifts</a></span><ul class=\"toc-item\"><li><span><a href=\"#COVAR-abrupt-stabilized\" data-toc-modified-id=\"COVAR-abrupt-stabilized-4.1\"><span class=\"toc-item-num\">4.1&nbsp;&nbsp;</span>COVAR abrupt stabilized</a></span></li><li><span><a href=\"#Concept-abrupt-stabilized\" data-toc-modified-id=\"Concept-abrupt-stabilized-4.2\"><span class=\"toc-item-num\">4.2&nbsp;&nbsp;</span>Concept abrupt stabilized</a></span></li><li><span><a href=\"#Concept-smooth-XYZ-stabilized\" data-toc-modified-id=\"Concept-smooth-XYZ-stabilized-4.3\"><span class=\"toc-item-num\">4.3&nbsp;&nbsp;</span>Concept smooth XYZ stabilized</a></span></li><li><span><a href=\"#Covar-xyz-abrupt-stabilized\" data-toc-modified-id=\"Covar-xyz-abrupt-stabilized-4.4\"><span class=\"toc-item-num\">4.4&nbsp;&nbsp;</span>Covar xyz abrupt stabilized</a></span></li><li><span><a href=\"#Concept-X-abrupt-stabilized\" data-toc-modified-id=\"Concept-X-abrupt-stabilized-4.5\"><span class=\"toc-item-num\">4.5&nbsp;&nbsp;</span>Concept X abrupt stabilized</a></span></li><li><span><a href=\"#Concept-X-smooth-stabilized\" data-toc-modified-id=\"Concept-X-smooth-stabilized-4.6\"><span class=\"toc-item-num\">4.6&nbsp;&nbsp;</span>Concept X smooth stabilized</a></span></li><li><span><a href=\"#LOADED-DATA---STAGGER\" data-toc-modified-id=\"LOADED-DATA---STAGGER-4.7\"><span class=\"toc-item-num\">4.7&nbsp;&nbsp;</span>LOADED DATA - STAGGER</a></span></li></ul></li><li><span><a href=\"#SAME-but-with-NOISE\" data-toc-modified-id=\"SAME-but-with-NOISE-5\"><span class=\"toc-item-num\">5&nbsp;&nbsp;</span>SAME but with NOISE</a></span><ul class=\"toc-item\"><li><span><a href=\"#Concept-abrupt-stabilized\" data-toc-modified-id=\"Concept-abrupt-stabilized-5.1\"><span class=\"toc-item-num\">5.1&nbsp;&nbsp;</span>Concept abrupt stabilized</a></span></li><li><span><a href=\"#Concept-smooth-XYZ-stabilized\" data-toc-modified-id=\"Concept-smooth-XYZ-stabilized-5.2\"><span class=\"toc-item-num\">5.2&nbsp;&nbsp;</span>Concept smooth XYZ stabilized</a></span></li><li><span><a href=\"#Covar-xyz-abrupt-stabilized\" data-toc-modified-id=\"Covar-xyz-abrupt-stabilized-5.3\"><span class=\"toc-item-num\">5.3&nbsp;&nbsp;</span>Covar xyz abrupt stabilized</a></span></li><li><span><a href=\"#Concept-X-abrupt-stabilized\" data-toc-modified-id=\"Concept-X-abrupt-stabilized-5.4\"><span class=\"toc-item-num\">5.4&nbsp;&nbsp;</span>Concept X abrupt stabilized</a></span></li><li><span><a href=\"#Concept-X-smooth-stabilized\" data-toc-modified-id=\"Concept-X-smooth-stabilized-5.5\"><span class=\"toc-item-num\">5.5&nbsp;&nbsp;</span>Concept X smooth stabilized</a></span></li></ul></li><li><span><a href=\"#END-NOISE---END-SINGLE-DRIFT\" data-toc-modified-id=\"END-NOISE---END-SINGLE-DRIFT-6\"><span class=\"toc-item-num\">6&nbsp;&nbsp;</span>END NOISE - END SINGLE DRIFT</a></span><ul class=\"toc-item\"><li><span><a href=\"#Concept-abrupt-back-and-forth\" data-toc-modified-id=\"Concept-abrupt-back-and-forth-6.1\"><span class=\"toc-item-num\">6.1&nbsp;&nbsp;</span>Concept abrupt back and forth</a></span></li><li><span><a href=\"#Covar-abrupt-back-and-forth\" data-toc-modified-id=\"Covar-abrupt-back-and-forth-6.2\"><span class=\"toc-item-num\">6.2&nbsp;&nbsp;</span>Covar abrupt back and forth</a></span></li><li><span><a href=\"#Concept-smooth-back-and-forth\" data-toc-modified-id=\"Concept-smooth-back-and-forth-6.3\"><span class=\"toc-item-num\">6.3&nbsp;&nbsp;</span>Concept smooth back and forth</a></span></li></ul></li><li><span><a href=\"#CHANGING-DELTA\" data-toc-modified-id=\"CHANGING-DELTA-7\"><span class=\"toc-item-num\">7&nbsp;&nbsp;</span>CHANGING DELTA</a></span><ul class=\"toc-item\"><li><ul class=\"toc-item\"><li><span><a href=\"#HERE\" data-toc-modified-id=\"HERE-7.0.1\"><span class=\"toc-item-num\">7.0.1&nbsp;&nbsp;</span>HERE</a></span></li></ul></li></ul></li><li><span><a href=\"#Old-code-just-in-case\" data-toc-modified-id=\"Old-code-just-in-case-8\"><span class=\"toc-item-num\">8&nbsp;&nbsp;</span>Old code just in case</a></span></li></ul></div>"
   ]
  },
  {
   "cell_type": "code",
   "execution_count": 3,
   "id": "1c3dd693",
   "metadata": {},
   "outputs": [],
   "source": [
    "\n",
    "my_path = \"/home/TOTO/Documents/labs/data/results/\"\n",
    "my_path = \"/home/bastienzim/Documents/paper/AISTATS2021/code_saved/data/results/\""
   ]
  },
  {
   "cell_type": "markdown",
   "id": "d87b81d7",
   "metadata": {},
   "source": [
    "# Run experiments"
   ]
  },
  {
   "cell_type": "code",
   "execution_count": 4,
   "id": "118026a7",
   "metadata": {},
   "outputs": [],
   "source": [
    "from drift_generators import *\n",
    "from time import gmtime, strftime, time\n",
    "import os\n",
    "import pickle\n",
    "import datetime\n",
    "import time"
   ]
  },
  {
   "cell_type": "code",
   "execution_count": 5,
   "id": "d7416992",
   "metadata": {},
   "outputs": [],
   "source": [
    "\n",
    "#circle_centers = [[0.7 for i in range(self.n_features)], self.default_decision, self.default_decision]\n",
    "D_G = Drift_generators(n_samples = 12000, n_features = 3)\n",
    "D_G.new_smooth_concept_drift(n_drift=1, drift_points=[5000,9000], \n",
    "        circle_centers=[[0.5 for i in range(D_G.n_features)],[0.7 for i in range(D_G.n_features)]])# = None, circle_centers = None):"
   ]
  },
  {
   "cell_type": "code",
   "execution_count": 6,
   "id": "3995b9f8",
   "metadata": {},
   "outputs": [],
   "source": [
    "D_G.df.loc[5000:, 'class'] =\\\n",
    "        D_G.df.loc[5000:].drop(columns=['class']).apply(lambda data: D_G.is_in_hypersphere(data.values, [0.625, 0.5, 0.5]), axis=1)\n"
   ]
  },
  {
   "cell_type": "code",
   "execution_count": 7,
   "id": "3aa40c18",
   "metadata": {},
   "outputs": [
    {
     "name": "stdout",
     "output_type": "stream",
     "text": [
      "[[0.5, 0.5, 0.5], [0.7, 0.7, 0.7]]\n"
     ]
    },
    {
     "data": {
      "text/plain": [
       "([5000, 9000], 1200)"
      ]
     },
     "execution_count": 7,
     "metadata": {},
     "output_type": "execute_result"
    }
   ],
   "source": [
    "print(D_G.circle_centers)\n",
    "D_G.drift_points, D_G.n_train+D_G.n_test"
   ]
  },
  {
   "cell_type": "code",
   "execution_count": null,
   "id": "fe6bbb6c",
   "metadata": {},
   "outputs": [],
   "source": []
  },
  {
   "cell_type": "code",
   "execution_count": 8,
   "id": "d7100944",
   "metadata": {},
   "outputs": [],
   "source": [
    "D_G = Drift_generators(n_samples = 12000, n_features = 3)"
   ]
  },
  {
   "cell_type": "code",
   "execution_count": 9,
   "id": "5847155e",
   "metadata": {},
   "outputs": [],
   "source": [
    "D_G.retrain_nothing();"
   ]
  },
  {
   "cell_type": "code",
   "execution_count": 10,
   "id": "d0f58fa4",
   "metadata": {},
   "outputs": [
    {
     "name": "stderr",
     "output_type": "stream",
     "text": [
      "Attempting to set identical bottom == top == 1.0 results in singular transformations; automatically expanding.\n"
     ]
    },
    {
     "data": {
      "image/png": "[encoded data removed]",
      "text/plain": [
       "<Figure size 720x576 with 1 Axes>"
      ]
     },
     "metadata": {
      "needs_background": "light"
     },
     "output_type": "display_data"
    }
   ],
   "source": [
    "D_G.plot_retrain()"
   ]
  },
  {
   "cell_type": "code",
   "execution_count": null,
   "id": "31e66858",
   "metadata": {},
   "outputs": [],
   "source": []
  },
  {
   "cell_type": "code",
   "execution_count": null,
   "id": "89418a03",
   "metadata": {},
   "outputs": [],
   "source": []
  },
  {
   "cell_type": "code",
   "execution_count": 11,
   "id": "294636b0",
   "metadata": {},
   "outputs": [],
   "source": [
    "from drift_generators import *\n",
    "from time import gmtime, strftime, time\n",
    "import os\n",
    "import pickle\n",
    "import datetime\n",
    "import time"
   ]
  },
  {
   "cell_type": "code",
   "execution_count": 12,
   "id": "08974e25",
   "metadata": {},
   "outputs": [],
   "source": [
    "D_G = Drift_generators(n_samples = int(4500), n_features = 3)\n",
    "D_G.back_and_forth_abrupt_drift(drift_points = [1800,3000],\n",
    "    circle_centers = [[0.7, 0.7, 0.7], [0.3, 0.7, 0.7], [0.7, 0.7, 0.7]])#(circle_centers = [[0.7, 0.7, 0.7], [0.3, 0.7, 0.7], [0.7, 0.7, 0.7]])"
   ]
  },
  {
   "cell_type": "code",
   "execution_count": 13,
   "id": "1570135b",
   "metadata": {},
   "outputs": [
    {
     "data": {
      "text/plain": [
       "[1800, 3000]"
      ]
     },
     "execution_count": 13,
     "metadata": {},
     "output_type": "execute_result"
    }
   ],
   "source": [
    "D_G.drift_points"
   ]
  },
  {
   "cell_type": "code",
   "execution_count": 14,
   "id": "fc3ed07d",
   "metadata": {},
   "outputs": [
    {
     "data": {
      "text/plain": [
       "[0.7, 0.7, 0.7]"
      ]
     },
     "execution_count": 14,
     "metadata": {},
     "output_type": "execute_result"
    }
   ],
   "source": [
    "D_G.default_decision"
   ]
  },
  {
   "cell_type": "code",
   "execution_count": 15,
   "id": "3cc99909",
   "metadata": {},
   "outputs": [
    {
     "data": {
      "text/plain": [
       "[[0.7, 0.7, 0.7], [0.3, 0.7, 0.7], [0.7, 0.7, 0.7]]"
      ]
     },
     "execution_count": 15,
     "metadata": {},
     "output_type": "execute_result"
    }
   ],
   "source": [
    "D_G.circle_centers"
   ]
  },
  {
   "cell_type": "code",
   "execution_count": 16,
   "id": "89d9857d",
   "metadata": {},
   "outputs": [
    {
     "data": {
      "image/png": "[encoded data removed]",
      "text/plain": [
       "<Figure size 720x576 with 1 Axes>"
      ]
     },
     "metadata": {
      "needs_background": "light"
     },
     "output_type": "display_data"
    }
   ],
   "source": [
    "D_G.retrain_nothing()\n",
    "D_G.plot_retrain()"
   ]
  },
  {
   "cell_type": "code",
   "execution_count": null,
   "id": "ab2fc074",
   "metadata": {},
   "outputs": [],
   "source": []
  },
  {
   "cell_type": "code",
   "execution_count": null,
   "id": "87ba24d4",
   "metadata": {},
   "outputs": [],
   "source": []
  },
  {
   "cell_type": "markdown",
   "id": "06cb9dce",
   "metadata": {},
   "source": [
    "# HERE ITS CLEAN"
   ]
  },
  {
   "cell_type": "code",
   "execution_count": 1,
   "id": "9accf639",
   "metadata": {},
   "outputs": [
    {
     "name": "stderr",
     "output_type": "stream",
     "text": [
      "2022-01-27 11:10:27.433866: W tensorflow/stream_executor/platform/default/dso_loader.cc:64] Could not load dynamic library 'libcudart.so.11.0'; dlerror: libcudart.so.11.0: cannot open shared object file: No such file or directory; LD_LIBRARY_PATH: /home/bastienzim/.local/lib/python3.8/site-packages/cv2/../../lib64:\n",
      "2022-01-27 11:10:27.433913: I tensorflow/stream_executor/cuda/cudart_stub.cc:29] Ignore above cudart dlerror if you do not have a GPU set up on your machine.\n"
     ]
    }
   ],
   "source": [
    "from drift_generators import *\n",
    "from time import gmtime, strftime, time\n",
    "import os\n",
    "import pickle\n",
    "import datetime\n",
    "import time"
   ]
  },
  {
   "cell_type": "code",
   "execution_count": 2,
   "id": "62e39090",
   "metadata": {},
   "outputs": [],
   "source": [
    "funcs = [func for func in dir(Drift_generators) if callable(getattr(Drift_generators, func))\n",
    "         and not func.startswith(\"__\")\n",
    "         and \"retrain\" in func and not \"plot\" in func and not \"perf\" in func]"
   ]
  },
  {
   "cell_type": "code",
   "execution_count": 3,
   "id": "f7e1a625",
   "metadata": {
    "scrolled": true
   },
   "outputs": [
    {
     "data": {
      "text/plain": [
       "['retrain_shap_adwin_back_best',\n",
       " 'retrain_shap_adwin_back_train',\n",
       " 'retrain_shap_adwin_back_worse',\n",
       " 'retrain_shap_adwin_smallback',\n",
       " 'retrain_shap_adwin',\n",
       " 'retrain_adwin_loss',\n",
       " 'retrain_nothing',\n",
       " 'retrain_arf']"
      ]
     },
     "execution_count": 3,
     "metadata": {},
     "output_type": "execute_result"
    }
   ],
   "source": [
    "funcs = [func for func in dir(Drift_generators) if callable(getattr(Drift_generators, func))\n",
    "         and not func.startswith(\"__\")\n",
    "         and \"retrain\" in func and not \"plot\" in func and not \"perf\" in func]\n",
    "funcs = [x for x in funcs if \"back\" in x]\n",
    "funcs.append(\"retrain_shap_adwin\")\n",
    "funcs.append(\"retrain_adwin_loss\")\n",
    "funcs.append(\"retrain_nothing\")\n",
    "funcs.append(\"retrain_arf\")\n",
    "funcs"
   ]
  },
  {
   "cell_type": "code",
   "execution_count": 4,
   "id": "63c1e2c2",
   "metadata": {},
   "outputs": [],
   "source": [
    "funcs = ['retrain_shap_adwin',\n",
    "            'retrain_adwin_loss',\n",
    "            \"retrain_nothing\"]"
   ]
  },
  {
   "cell_type": "code",
   "execution_count": 5,
   "id": "31536030",
   "metadata": {
    "scrolled": true
   },
   "outputs": [
    {
     "name": "stdout",
     "output_type": "stream",
     "text": [
      "   0 2022-01-27_10:10\n",
      "     shap_adwin\n"
     ]
    },
    {
     "ename": "KeyboardInterrupt",
     "evalue": "",
     "output_type": "error",
     "traceback": [
      "\u001b[0;31m---------------------------------------------------------------------------\u001b[0m",
      "\u001b[0;31mKeyboardInterrupt\u001b[0m                         Traceback (most recent call last)",
      "\u001b[0;32m/tmp/ipykernel_184425/148046513.py\u001b[0m in \u001b[0;36m<module>\u001b[0;34m\u001b[0m\n\u001b[1;32m     16\u001b[0m         \u001b[0mt1\u001b[0m \u001b[0;34m=\u001b[0m \u001b[0mtime\u001b[0m\u001b[0;34m.\u001b[0m\u001b[0mtime\u001b[0m\u001b[0;34m(\u001b[0m\u001b[0;34m)\u001b[0m\u001b[0;34m\u001b[0m\u001b[0;34m\u001b[0m\u001b[0m\n\u001b[1;32m     17\u001b[0m         \u001b[0mprint\u001b[0m\u001b[0;34m(\u001b[0m\u001b[0;34m\"    \"\u001b[0m\u001b[0;34m,\u001b[0m\u001b[0mfunc\u001b[0m\u001b[0;34m[\u001b[0m\u001b[0;36m8\u001b[0m\u001b[0;34m:\u001b[0m\u001b[0;34m]\u001b[0m\u001b[0;34m)\u001b[0m\u001b[0;34m\u001b[0m\u001b[0;34m\u001b[0m\u001b[0m\n\u001b[0;32m---> 18\u001b[0;31m         \u001b[0merror\u001b[0m\u001b[0;34m,\u001b[0m \u001b[0mdetection_indices\u001b[0m \u001b[0;34m=\u001b[0m \u001b[0mgetattr\u001b[0m\u001b[0;34m(\u001b[0m\u001b[0mDrift_generators\u001b[0m\u001b[0;34m,\u001b[0m \u001b[0mfunc\u001b[0m\u001b[0;34m)\u001b[0m\u001b[0;34m(\u001b[0m\u001b[0mD_G\u001b[0m\u001b[0;34m)\u001b[0m\u001b[0;34m\u001b[0m\u001b[0;34m\u001b[0m\u001b[0m\n\u001b[0m\u001b[1;32m     19\u001b[0m         \u001b[0mprint\u001b[0m\u001b[0;34m(\u001b[0m\u001b[0;34m\"      \"\u001b[0m\u001b[0;34m,\u001b[0m\u001b[0mstr\u001b[0m\u001b[0;34m(\u001b[0m\u001b[0mdatetime\u001b[0m\u001b[0;34m.\u001b[0m\u001b[0mtimedelta\u001b[0m\u001b[0;34m(\u001b[0m\u001b[0mseconds\u001b[0m\u001b[0;34m=\u001b[0m\u001b[0mint\u001b[0m\u001b[0;34m(\u001b[0m\u001b[0mtime\u001b[0m\u001b[0;34m.\u001b[0m\u001b[0mtime\u001b[0m\u001b[0;34m(\u001b[0m\u001b[0;34m)\u001b[0m\u001b[0;34m-\u001b[0m\u001b[0mt1\u001b[0m\u001b[0;34m)\u001b[0m\u001b[0;34m)\u001b[0m\u001b[0;34m)\u001b[0m\u001b[0;34m)\u001b[0m\u001b[0;34m\u001b[0m\u001b[0;34m\u001b[0m\u001b[0m\n\u001b[1;32m     20\u001b[0m         \u001b[0mname\u001b[0m \u001b[0;34m=\u001b[0m \u001b[0;34m\"/\"\u001b[0m\u001b[0;34m+\u001b[0m \u001b[0msession_time\u001b[0m\u001b[0;34m\u001b[0m\u001b[0;34m\u001b[0m\u001b[0m\n",
      "\u001b[0;32m~/Documents/paper/AISTATS2021/code/src/drift_generators.py\u001b[0m in \u001b[0;36mretrain_shap_adwin\u001b[0;34m(self, beta_w, beta_d, win_size, return_shap)\u001b[0m\n\u001b[1;32m    847\u001b[0m             \u001b[0;31m# get next sample\u001b[0m\u001b[0;34m\u001b[0m\u001b[0;34m\u001b[0m\u001b[0;34m\u001b[0m\u001b[0m\n\u001b[1;32m    848\u001b[0m             \u001b[0mx\u001b[0m\u001b[0;34m,\u001b[0m \u001b[0mlabel\u001b[0m \u001b[0;34m=\u001b[0m \u001b[0mX_unseen\u001b[0m\u001b[0;34m.\u001b[0m\u001b[0miloc\u001b[0m\u001b[0;34m[\u001b[0m\u001b[0mindex\u001b[0m\u001b[0;34m]\u001b[0m\u001b[0;34m,\u001b[0m \u001b[0my_unseen\u001b[0m\u001b[0;34m.\u001b[0m\u001b[0miloc\u001b[0m\u001b[0;34m[\u001b[0m\u001b[0mindex\u001b[0m\u001b[0;34m]\u001b[0m\u001b[0;34m\u001b[0m\u001b[0;34m\u001b[0m\u001b[0m\n\u001b[0;32m--> 849\u001b[0;31m             \u001b[0merror\u001b[0m \u001b[0;34m=\u001b[0m \u001b[0mint\u001b[0m\u001b[0;34m(\u001b[0m\u001b[0mmodel\u001b[0m\u001b[0;34m.\u001b[0m\u001b[0mpredict\u001b[0m\u001b[0;34m(\u001b[0m\u001b[0;34m[\u001b[0m\u001b[0mx\u001b[0m\u001b[0;34m]\u001b[0m\u001b[0;34m)\u001b[0m \u001b[0;34m==\u001b[0m \u001b[0mlabel\u001b[0m\u001b[0;34m)\u001b[0m\u001b[0;34m\u001b[0m\u001b[0;34m\u001b[0m\u001b[0m\n\u001b[0m\u001b[1;32m    850\u001b[0m             \u001b[0merrors\u001b[0m\u001b[0;34m.\u001b[0m\u001b[0mappend\u001b[0m\u001b[0;34m(\u001b[0m\u001b[0merror\u001b[0m\u001b[0;34m)\u001b[0m\u001b[0;34m\u001b[0m\u001b[0;34m\u001b[0m\u001b[0m\n\u001b[1;32m    851\u001b[0m             shap_values[index] = explainerError.shap_values(\n",
      "\u001b[0;32m~/.local/lib/python3.8/site-packages/lightgbm/sklearn.py\u001b[0m in \u001b[0;36mpredict\u001b[0;34m(self, X, raw_score, start_iteration, num_iteration, pred_leaf, pred_contrib, **kwargs)\u001b[0m\n\u001b[1;32m    905\u001b[0m                 pred_leaf=False, pred_contrib=False, **kwargs):\n\u001b[1;32m    906\u001b[0m         \u001b[0;34m\"\"\"Docstring is inherited from the LGBMModel.\"\"\"\u001b[0m\u001b[0;34m\u001b[0m\u001b[0;34m\u001b[0m\u001b[0m\n\u001b[0;32m--> 907\u001b[0;31m         result = self.predict_proba(X, raw_score, start_iteration, num_iteration,\n\u001b[0m\u001b[1;32m    908\u001b[0m                                     pred_leaf, pred_contrib, **kwargs)\n\u001b[1;32m    909\u001b[0m         \u001b[0;32mif\u001b[0m \u001b[0mcallable\u001b[0m\u001b[0;34m(\u001b[0m\u001b[0mself\u001b[0m\u001b[0;34m.\u001b[0m\u001b[0m_objective\u001b[0m\u001b[0;34m)\u001b[0m \u001b[0;32mor\u001b[0m \u001b[0mraw_score\u001b[0m \u001b[0;32mor\u001b[0m \u001b[0mpred_leaf\u001b[0m \u001b[0;32mor\u001b[0m \u001b[0mpred_contrib\u001b[0m\u001b[0;34m:\u001b[0m\u001b[0;34m\u001b[0m\u001b[0;34m\u001b[0m\u001b[0m\n",
      "\u001b[0;32m~/.local/lib/python3.8/site-packages/lightgbm/sklearn.py\u001b[0m in \u001b[0;36mpredict_proba\u001b[0;34m(self, X, raw_score, start_iteration, num_iteration, pred_leaf, pred_contrib, **kwargs)\u001b[0m\n\u001b[1;32m    918\u001b[0m                       pred_leaf=False, pred_contrib=False, **kwargs):\n\u001b[1;32m    919\u001b[0m         \u001b[0;34m\"\"\"Docstring is set after definition, using a template.\"\"\"\u001b[0m\u001b[0;34m\u001b[0m\u001b[0;34m\u001b[0m\u001b[0m\n\u001b[0;32m--> 920\u001b[0;31m         \u001b[0mresult\u001b[0m \u001b[0;34m=\u001b[0m \u001b[0msuper\u001b[0m\u001b[0;34m(\u001b[0m\u001b[0;34m)\u001b[0m\u001b[0;34m.\u001b[0m\u001b[0mpredict\u001b[0m\u001b[0;34m(\u001b[0m\u001b[0mX\u001b[0m\u001b[0;34m,\u001b[0m \u001b[0mraw_score\u001b[0m\u001b[0;34m,\u001b[0m \u001b[0mstart_iteration\u001b[0m\u001b[0;34m,\u001b[0m \u001b[0mnum_iteration\u001b[0m\u001b[0;34m,\u001b[0m \u001b[0mpred_leaf\u001b[0m\u001b[0;34m,\u001b[0m \u001b[0mpred_contrib\u001b[0m\u001b[0;34m,\u001b[0m \u001b[0;34m**\u001b[0m\u001b[0mkwargs\u001b[0m\u001b[0;34m)\u001b[0m\u001b[0;34m\u001b[0m\u001b[0;34m\u001b[0m\u001b[0m\n\u001b[0m\u001b[1;32m    921\u001b[0m         \u001b[0;32mif\u001b[0m \u001b[0mcallable\u001b[0m\u001b[0;34m(\u001b[0m\u001b[0mself\u001b[0m\u001b[0;34m.\u001b[0m\u001b[0m_objective\u001b[0m\u001b[0;34m)\u001b[0m \u001b[0;32mand\u001b[0m \u001b[0;32mnot\u001b[0m \u001b[0;34m(\u001b[0m\u001b[0mraw_score\u001b[0m \u001b[0;32mor\u001b[0m \u001b[0mpred_leaf\u001b[0m \u001b[0;32mor\u001b[0m \u001b[0mpred_contrib\u001b[0m\u001b[0;34m)\u001b[0m\u001b[0;34m:\u001b[0m\u001b[0;34m\u001b[0m\u001b[0;34m\u001b[0m\u001b[0m\n\u001b[1;32m    922\u001b[0m             _log_warning(\"Cannot compute class probabilities or labels \"\n",
      "\u001b[0;32m~/.local/lib/python3.8/site-packages/lightgbm/sklearn.py\u001b[0m in \u001b[0;36mpredict\u001b[0;34m(self, X, raw_score, start_iteration, num_iteration, pred_leaf, pred_contrib, **kwargs)\u001b[0m\n\u001b[1;32m    724\u001b[0m                              \u001b[0;34m\"input n_features is %s \"\u001b[0m\u001b[0;34m\u001b[0m\u001b[0;34m\u001b[0m\u001b[0m\n\u001b[1;32m    725\u001b[0m                              % (self._n_features, n_features))\n\u001b[0;32m--> 726\u001b[0;31m         return self._Booster.predict(X, raw_score=raw_score, start_iteration=start_iteration, num_iteration=num_iteration,\n\u001b[0m\u001b[1;32m    727\u001b[0m                                      pred_leaf=pred_leaf, pred_contrib=pred_contrib, **kwargs)\n\u001b[1;32m    728\u001b[0m \u001b[0;34m\u001b[0m\u001b[0m\n",
      "\u001b[0;32m~/.local/lib/python3.8/site-packages/lightgbm/basic.py\u001b[0m in \u001b[0;36mpredict\u001b[0;34m(self, data, start_iteration, num_iteration, raw_score, pred_leaf, pred_contrib, data_has_header, is_reshape, **kwargs)\u001b[0m\n\u001b[1;32m   3140\u001b[0m             \u001b[0;32melse\u001b[0m\u001b[0;34m:\u001b[0m\u001b[0;34m\u001b[0m\u001b[0;34m\u001b[0m\u001b[0m\n\u001b[1;32m   3141\u001b[0m                 \u001b[0mnum_iteration\u001b[0m \u001b[0;34m=\u001b[0m \u001b[0;34m-\u001b[0m\u001b[0;36m1\u001b[0m\u001b[0;34m\u001b[0m\u001b[0;34m\u001b[0m\u001b[0m\n\u001b[0;32m-> 3142\u001b[0;31m         return predictor.predict(data, start_iteration, num_iteration,\n\u001b[0m\u001b[1;32m   3143\u001b[0m                                  \u001b[0mraw_score\u001b[0m\u001b[0;34m,\u001b[0m \u001b[0mpred_leaf\u001b[0m\u001b[0;34m,\u001b[0m \u001b[0mpred_contrib\u001b[0m\u001b[0;34m,\u001b[0m\u001b[0;34m\u001b[0m\u001b[0;34m\u001b[0m\u001b[0m\n\u001b[1;32m   3144\u001b[0m                                  data_has_header, is_reshape)\n",
      "\u001b[0;32m~/.local/lib/python3.8/site-packages/lightgbm/basic.py\u001b[0m in \u001b[0;36mpredict\u001b[0;34m(self, data, start_iteration, num_iteration, raw_score, pred_leaf, pred_contrib, data_has_header, is_reshape)\u001b[0m\n\u001b[1;32m    726\u001b[0m             \u001b[0mpreds\u001b[0m\u001b[0;34m,\u001b[0m \u001b[0mnrow\u001b[0m \u001b[0;34m=\u001b[0m \u001b[0mself\u001b[0m\u001b[0;34m.\u001b[0m\u001b[0m__pred_for_csc\u001b[0m\u001b[0;34m(\u001b[0m\u001b[0mdata\u001b[0m\u001b[0;34m,\u001b[0m \u001b[0mstart_iteration\u001b[0m\u001b[0;34m,\u001b[0m \u001b[0mnum_iteration\u001b[0m\u001b[0;34m,\u001b[0m \u001b[0mpredict_type\u001b[0m\u001b[0;34m)\u001b[0m\u001b[0;34m\u001b[0m\u001b[0;34m\u001b[0m\u001b[0m\n\u001b[1;32m    727\u001b[0m         \u001b[0;32melif\u001b[0m \u001b[0misinstance\u001b[0m\u001b[0;34m(\u001b[0m\u001b[0mdata\u001b[0m\u001b[0;34m,\u001b[0m \u001b[0mnp\u001b[0m\u001b[0;34m.\u001b[0m\u001b[0mndarray\u001b[0m\u001b[0;34m)\u001b[0m\u001b[0;34m:\u001b[0m\u001b[0;34m\u001b[0m\u001b[0;34m\u001b[0m\u001b[0m\n\u001b[0;32m--> 728\u001b[0;31m             \u001b[0mpreds\u001b[0m\u001b[0;34m,\u001b[0m \u001b[0mnrow\u001b[0m \u001b[0;34m=\u001b[0m \u001b[0mself\u001b[0m\u001b[0;34m.\u001b[0m\u001b[0m__pred_for_np2d\u001b[0m\u001b[0;34m(\u001b[0m\u001b[0mdata\u001b[0m\u001b[0;34m,\u001b[0m \u001b[0mstart_iteration\u001b[0m\u001b[0;34m,\u001b[0m \u001b[0mnum_iteration\u001b[0m\u001b[0;34m,\u001b[0m \u001b[0mpredict_type\u001b[0m\u001b[0;34m)\u001b[0m\u001b[0;34m\u001b[0m\u001b[0;34m\u001b[0m\u001b[0m\n\u001b[0m\u001b[1;32m    729\u001b[0m         \u001b[0;32melif\u001b[0m \u001b[0misinstance\u001b[0m\u001b[0;34m(\u001b[0m\u001b[0mdata\u001b[0m\u001b[0;34m,\u001b[0m \u001b[0mlist\u001b[0m\u001b[0;34m)\u001b[0m\u001b[0;34m:\u001b[0m\u001b[0;34m\u001b[0m\u001b[0;34m\u001b[0m\u001b[0m\n\u001b[1;32m    730\u001b[0m             \u001b[0;32mtry\u001b[0m\u001b[0;34m:\u001b[0m\u001b[0;34m\u001b[0m\u001b[0;34m\u001b[0m\u001b[0m\n",
      "\u001b[0;32m~/.local/lib/python3.8/site-packages/lightgbm/basic.py\u001b[0m in \u001b[0;36m__pred_for_np2d\u001b[0;34m(self, mat, start_iteration, num_iteration, predict_type)\u001b[0m\n\u001b[1;32m    817\u001b[0m             \u001b[0;32mreturn\u001b[0m \u001b[0mpreds\u001b[0m\u001b[0;34m,\u001b[0m \u001b[0mnrow\u001b[0m\u001b[0;34m\u001b[0m\u001b[0;34m\u001b[0m\u001b[0m\n\u001b[1;32m    818\u001b[0m         \u001b[0;32melse\u001b[0m\u001b[0;34m:\u001b[0m\u001b[0;34m\u001b[0m\u001b[0;34m\u001b[0m\u001b[0m\n\u001b[0;32m--> 819\u001b[0;31m             \u001b[0;32mreturn\u001b[0m \u001b[0minner_predict\u001b[0m\u001b[0;34m(\u001b[0m\u001b[0mmat\u001b[0m\u001b[0;34m,\u001b[0m \u001b[0mstart_iteration\u001b[0m\u001b[0;34m,\u001b[0m \u001b[0mnum_iteration\u001b[0m\u001b[0;34m,\u001b[0m \u001b[0mpredict_type\u001b[0m\u001b[0;34m)\u001b[0m\u001b[0;34m\u001b[0m\u001b[0;34m\u001b[0m\u001b[0m\n\u001b[0m\u001b[1;32m    820\u001b[0m \u001b[0;34m\u001b[0m\u001b[0m\n\u001b[1;32m    821\u001b[0m     def __create_sparse_native(self, cs, out_shape, out_ptr_indptr, out_ptr_indices, out_ptr_data,\n",
      "\u001b[0;32m~/.local/lib/python3.8/site-packages/lightgbm/basic.py\u001b[0m in \u001b[0;36minner_predict\u001b[0;34m(mat, start_iteration, num_iteration, predict_type, preds)\u001b[0m\n\u001b[1;32m    787\u001b[0m                 \u001b[0;32mraise\u001b[0m \u001b[0mValueError\u001b[0m\u001b[0;34m(\u001b[0m\u001b[0;34m\"Wrong length of pre-allocated predict array\"\u001b[0m\u001b[0;34m)\u001b[0m\u001b[0;34m\u001b[0m\u001b[0;34m\u001b[0m\u001b[0m\n\u001b[1;32m    788\u001b[0m             \u001b[0mout_num_preds\u001b[0m \u001b[0;34m=\u001b[0m \u001b[0mctypes\u001b[0m\u001b[0;34m.\u001b[0m\u001b[0mc_int64\u001b[0m\u001b[0;34m(\u001b[0m\u001b[0;36m0\u001b[0m\u001b[0;34m)\u001b[0m\u001b[0;34m\u001b[0m\u001b[0;34m\u001b[0m\u001b[0m\n\u001b[0;32m--> 789\u001b[0;31m             _safe_call(_LIB.LGBM_BoosterPredictForMat(\n\u001b[0m\u001b[1;32m    790\u001b[0m                 \u001b[0mself\u001b[0m\u001b[0;34m.\u001b[0m\u001b[0mhandle\u001b[0m\u001b[0;34m,\u001b[0m\u001b[0;34m\u001b[0m\u001b[0;34m\u001b[0m\u001b[0m\n\u001b[1;32m    791\u001b[0m                 \u001b[0mptr_data\u001b[0m\u001b[0;34m,\u001b[0m\u001b[0;34m\u001b[0m\u001b[0;34m\u001b[0m\u001b[0m\n",
      "\u001b[0;31mKeyboardInterrupt\u001b[0m: "
     ]
    }
   ],
   "source": [
    "n_iter = 50\n",
    "dataset = \"back_and_forth_abrupt_drift\"\n",
    "\n",
    "session_time = strftime(\"%Y-%m-%d_%H:%M\", gmtime())\n",
    "\n",
    "D_G = Drift_generators()\n",
    "for k in range(n_iter):\n",
    "    session_time = strftime(\"%Y-%m-%d_%H:%M\", gmtime())\n",
    "\n",
    "    D_G = Drift_generators(n_samples = int(4500), n_features = 3)\n",
    "    D_G.back_and_forth_abrupt_drift(drift_points = [1800,3000],\n",
    "        circle_centers = [[0.7, 0.7, 0.7], [0.3, 0.3, 0.3], [0.7, 0.7, 0.7]])\n",
    "    \n",
    "    print(\"  \",k, session_time)\n",
    "    for i, func in enumerate(funcs):\n",
    "        t1 = time.time()\n",
    "        print(\"    \",func[8:])\n",
    "        error, detection_indices = getattr(Drift_generators, func)(D_G)\n",
    "        print(\"      \",str(datetime.timedelta(seconds=int(time.time()-t1))))\n",
    "        name = \"/\"+ session_time\n",
    "        path = my_path +dataset+\"/\"+func[8:]\n",
    "        if(not os.path.isdir(path)):\n",
    "            os.mkdir(my_path +dataset+\"/\"+func[8:]);\n",
    "        pickle.dump( (error, detection_indices), open( path+name+\".p\", \"wb\" ))\n",
    "        \n",
    "    while(strftime(\"%Y-%m-%d_%H:%M\", gmtime()) == session_time):\n",
    "        time.sleep(5)"
   ]
  },
  {
   "cell_type": "code",
   "execution_count": null,
   "id": "e273da90",
   "metadata": {
    "scrolled": true
   },
   "outputs": [
    {
     "name": "stdout",
     "output_type": "stream",
     "text": [
      "   0 2021-10-19_13:35\n",
      "     shap_adwin\n",
      "       0:00:27\n",
      "     adwin_loss\n",
      "       0:00:05\n",
      "     nothing\n",
      "       0:00:00\n"
     ]
    }
   ],
   "source": [
    "n_iter = 50\n",
    "dataset = \"brutal_concept_backforth\"\n",
    "\n",
    "session_time = strftime(\"%Y-%m-%d_%H:%M\", gmtime())\n",
    "\n",
    "D_G = Drift_generators()\n",
    "for k in range(n_iter):\n",
    "    session_time = strftime(\"%Y-%m-%d_%H:%M\", gmtime())\n",
    "\n",
    "    D_G = Drift_generators(n_samples = int(7000), n_features = 3)\n",
    "    D_G.back_and_forth_abrupt_drift()\n",
    "    \n",
    "    print(\"  \",k, session_time)\n",
    "    for i, func in enumerate(funcs):\n",
    "        t1 = time.time()\n",
    "        print(\"    \",func[8:])\n",
    "        error, detection_indices = getattr(Drift_generators, func)(D_G)\n",
    "        print(\"      \",str(datetime.timedelta(seconds=int(time.time()-t1))))\n",
    "        name = \"/\"+ session_time\n",
    "        path = my_path +dataset+\"/\"+func[8:]\n",
    "        if(not os.path.isdir(path)):\n",
    "            os.mkdir(my_path +dataset+\"/\"+func[8:]);\n",
    "        pickle.dump( (error, detection_indices), open( path+name+\".p\", \"wb\" ))\n",
    "        \n",
    "    while(strftime(\"%Y-%m-%d_%H:%M\", gmtime()) == session_time):\n",
    "        time.sleep(5)"
   ]
  },
  {
   "cell_type": "markdown",
   "id": "5358cd4f",
   "metadata": {},
   "source": [
    " "
   ]
  },
  {
   "cell_type": "code",
   "execution_count": 22,
   "id": "5515bbd4",
   "metadata": {
    "scrolled": true
   },
   "outputs": [
    {
     "name": "stdout",
     "output_type": "stream",
     "text": [
      "   0 2021-10-19_13:36\n",
      "     shap_adwin\n",
      "       0:00:13\n",
      "     adwin_loss\n",
      "       0:00:04\n",
      "     nothing\n",
      "       0:00:00\n"
     ]
    }
   ],
   "source": [
    "n_iter = 50\n",
    "dataset = \"back_and_forth_abrupt_drift_y\"\n",
    "\n",
    "session_time = strftime(\"%Y-%m-%d_%H:%M\", gmtime())\n",
    "\n",
    "D_G = Drift_generators()\n",
    "for k in range(n_iter):\n",
    "    session_time = strftime(\"%Y-%m-%d_%H:%M\", gmtime())\n",
    "\n",
    "    D_G = Drift_generators(n_samples = int(4500), n_features = 3)\n",
    "    D_G.back_and_forth_abrupt_drift(drift_points = [1800,3000],\n",
    "        circle_centers = [[0.7, 0.7, 0.7], [0.7, 0.3, 0.7], [0.7, 0.7, 0.7]])\n",
    "\n",
    "    print(\"  \",k, session_time)\n",
    "    for i, func in enumerate(funcs):\n",
    "        t1 = time.time()\n",
    "        print(\"    \",func[8:])\n",
    "        error, detection_indices = getattr(Drift_generators, func)(D_G)\n",
    "        print(\"      \",str(datetime.timedelta(seconds=int(time.time()-t1))))\n",
    "        name = \"/\"+ session_time\n",
    "        path = my_path +dataset+\"/\"+func[8:]\n",
    "        if(not os.path.isdir(path)):\n",
    "            os.mkdir(my_path +dataset+\"/\"+func[8:]);\n",
    "        pickle.dump( (error, detection_indices), open( path+name+\".p\", \"wb\" ))\n",
    "        \n",
    "    while(strftime(\"%Y-%m-%d_%H:%M\", gmtime()) == session_time):\n",
    "        time.sleep(5)"
   ]
  },
  {
   "cell_type": "code",
   "execution_count": 23,
   "id": "e4429b4c",
   "metadata": {
    "scrolled": true
   },
   "outputs": [
    {
     "name": "stdout",
     "output_type": "stream",
     "text": [
      "   0 2021-10-19_13:37\n",
      "     shap_adwin\n",
      "       0:02:36\n",
      "     adwin_loss\n",
      "       0:01:56\n",
      "     nothing\n",
      "       0:00:00\n"
     ]
    }
   ],
   "source": [
    "n_iter = 50\n",
    "dataset = \"back_and_forth_abrupt_drift_z\"\n",
    "\n",
    "session_time = strftime(\"%Y-%m-%d_%H:%M\", gmtime())\n",
    "\n",
    "D_G = Drift_generators()\n",
    "for k in range(n_iter):\n",
    "    session_time = strftime(\"%Y-%m-%d_%H:%M\", gmtime())\n",
    "\n",
    "    D_G = Drift_generators(n_samples = int(4500), n_features = 3)\n",
    "    D_G.back_and_forth_abrupt_drift(drift_points = [1800,3000],\n",
    "        circle_centers = [[0.7, 0.7, 0.7], [0.7, 0.7, 0.3], [0.7, 0.7, 0.7]])\n",
    "\n",
    "    print(\"  \",k, session_time)\n",
    "    for i, func in enumerate(funcs):\n",
    "        t1 = time.time()\n",
    "        print(\"    \",func[8:])\n",
    "        error, detection_indices = getattr(Drift_generators, func)(D_G)\n",
    "        print(\"      \",str(datetime.timedelta(seconds=int(time.time()-t1))))\n",
    "        name = \"/\"+ session_time\n",
    "        path = my_path +dataset+\"/\"+func[8:]\n",
    "        if(not os.path.isdir(path)):\n",
    "            os.mkdir(my_path +dataset+\"/\"+func[8:]);\n",
    "        pickle.dump( (error, detection_indices), open( path+name+\".p\", \"wb\" ))\n",
    "        \n",
    "    while(strftime(\"%Y-%m-%d_%H:%M\", gmtime()) == session_time):\n",
    "        time.sleep(5)"
   ]
  },
  {
   "cell_type": "code",
   "execution_count": 24,
   "id": "baed64ec",
   "metadata": {
    "scrolled": true
   },
   "outputs": [
    {
     "name": "stdout",
     "output_type": "stream",
     "text": [
      "   0 2021-10-19_13:41\n",
      "     shap_adwin\n",
      "       0:02:00\n",
      "     adwin_loss\n",
      "       0:00:04\n",
      "     nothing\n",
      "       0:00:00\n"
     ]
    }
   ],
   "source": [
    "n_iter = 50\n",
    "dataset = \"back_and_forth_abrupt_drift_xz\"\n",
    "\n",
    "session_time = strftime(\"%Y-%m-%d_%H:%M\", gmtime())\n",
    "\n",
    "D_G = Drift_generators()\n",
    "for k in range(n_iter):\n",
    "    session_time = strftime(\"%Y-%m-%d_%H:%M\", gmtime())\n",
    "\n",
    "    D_G = Drift_generators(n_samples = int(4500), n_features = 3)\n",
    "    D_G.back_and_forth_abrupt_drift(drift_points = [1800,3000],\n",
    "        circle_centers = [[0.7, 0.7, 0.7], [0.3, 0.7, 0.3], [0.7, 0.7, 0.7]])\n",
    "\n",
    "    print(\"  \",k, session_time)\n",
    "    for i, func in enumerate(funcs):\n",
    "        t1 = time.time()\n",
    "        print(\"    \",func[8:])\n",
    "        error, detection_indices = getattr(Drift_generators, func)(D_G)\n",
    "        print(\"      \",str(datetime.timedelta(seconds=int(time.time()-t1))))\n",
    "        name = \"/\"+ session_time\n",
    "        path = my_path +dataset+\"/\"+func[8:]\n",
    "        if(not os.path.isdir(path)):\n",
    "            os.mkdir(my_path +dataset+\"/\"+func[8:]);\n",
    "        pickle.dump( (error, detection_indices), open( path+name+\".p\", \"wb\" ))\n",
    "        \n",
    "    while(strftime(\"%Y-%m-%d_%H:%M\", gmtime()) == session_time):\n",
    "        time.sleep(5)"
   ]
  },
  {
   "cell_type": "markdown",
   "id": "8ca94c69",
   "metadata": {},
   "source": []
  },
  {
   "cell_type": "code",
   "execution_count": null,
   "id": "9168fb60",
   "metadata": {},
   "outputs": [],
   "source": []
  },
  {
   "cell_type": "code",
   "execution_count": 25,
   "id": "8867010a",
   "metadata": {
    "scrolled": true
   },
   "outputs": [
    {
     "name": "stdout",
     "output_type": "stream",
     "text": [
      "   0 2021-10-19_13:43\n",
      "     shap_adwin\n",
      "       0:03:54\n",
      "     adwin_loss\n",
      "       0:01:16\n",
      "     nothing\n",
      "       0:00:00\n"
     ]
    }
   ],
   "source": [
    "n_iter = 50\n",
    "dataset = \"back_and_forth_smooth_drift\"\n",
    "\n",
    "session_time = strftime(\"%Y-%m-%d_%H:%M\", gmtime())\n",
    "\n",
    "D_G = Drift_generators()\n",
    "for k in range(n_iter):\n",
    "    session_time = strftime(\"%Y-%m-%d_%H:%M\", gmtime())\n",
    "\n",
    "    D_G = Drift_generators(n_samples = int(7000), n_features = 3)\n",
    "    D_G.back_and_forth_smooth_drift()\n",
    "   # \n",
    "    print(\"  \",k, session_time)\n",
    "    for i, func in enumerate(funcs):\n",
    "        t1 = time.time()\n",
    "        print(\"    \",func[8:])\n",
    "        error, detection_indices = getattr(Drift_generators, func)(D_G)\n",
    "        print(\"      \",str(datetime.timedelta(seconds=int(time.time()-t1))))\n",
    "        name = \"/\"+ session_time\n",
    "        path = my_path +dataset+\"/\"+func[8:]\n",
    "        if(not os.path.isdir(path)):\n",
    "            os.mkdir(my_path +dataset+\"/\"+func[8:]);\n",
    "        pickle.dump( (error, detection_indices), open( path+name+\".p\", \"wb\" ))\n",
    "        \n",
    "    while(strftime(\"%Y-%m-%d_%H:%M\", gmtime()) == session_time):\n",
    "        time.sleep(5)"
   ]
  },
  {
   "cell_type": "code",
   "execution_count": 26,
   "id": "a8761946",
   "metadata": {
    "scrolled": true
   },
   "outputs": [
    {
     "name": "stdout",
     "output_type": "stream",
     "text": [
      "   0 2021-10-19_13:48\n",
      "     shap_adwin\n",
      "       0:01:21\n",
      "     adwin_loss\n",
      "       0:00:09\n",
      "     nothing\n",
      "       0:00:00\n"
     ]
    }
   ],
   "source": [
    "n_iter = 50\n",
    "dataset = \"brutal_covar_backforth_0_25\"\n",
    "\n",
    "session_time = strftime(\"%Y-%m-%d_%H:%M\", gmtime())\n",
    "\n",
    "D_G = Drift_generators()\n",
    "for k in range(n_iter):\n",
    "    session_time = strftime(\"%Y-%m-%d_%H:%M\", gmtime())\n",
    "\n",
    "    D_G = Drift_generators(n_samples = int(10**4), n_features = 3)\n",
    "    d_centers = [(0, 0, 0.3, 0.25, 1),(0, 0.3, 0.5, 0, 0.25),(0, 0.5, 1, 0.25, 1)]\n",
    "    D_G.brutal_covariate_drift(d_centers=d_centers)\n",
    "   # \n",
    "    print(\"  \",k, session_time)\n",
    "    for i, func in enumerate(funcs):\n",
    "        t1 = time.time()\n",
    "        print(\"    \",func[8:])\n",
    "        error, detection_indices = getattr(Drift_generators, func)(D_G)\n",
    "        print(\"      \",str(datetime.timedelta(seconds=int(time.time()-t1))))\n",
    "        name = \"/\"+ session_time\n",
    "        path = my_path +dataset+\"/\"+func[8:]\n",
    "        if(not os.path.isdir(path)):\n",
    "            os.mkdir(my_path +dataset+\"/\"+func[8:]);\n",
    "        pickle.dump( (error, detection_indices), open( path+name+\".p\", \"wb\" ))\n",
    "        \n",
    "    while(strftime(\"%Y-%m-%d_%H:%M\", gmtime()) == session_time):\n",
    "        time.sleep(5)"
   ]
  },
  {
   "cell_type": "code",
   "execution_count": 27,
   "id": "5c34d8ea",
   "metadata": {},
   "outputs": [],
   "source": [
    "def generate_dataset(dataset):\n",
    "    if(dataset == \"brutal_covar_backforth_0_25\"):\n",
    "        D_G = Drift_generators(n_samples = int(10**4), n_features = 3)\n",
    "        d_centers = [(0, 0, 0.3, 0.25, 1),(0, 0.3, 0.5, 0, 0.25),(0, 0.5, 1, 0.25, 1)]\n",
    "        D_G.brutal_covariate_drift(d_centers=d_centers)\n",
    "    elif(dataset == \"brutal_concept_backforth\"):\n",
    "        D_G = Drift_generators(n_samples = int(7000), n_features = 3)\n",
    "        D_G.back_and_forth_abrupt_drift()\n",
    "    elif(dataset in [\"sine1_short\",\"sine2_short\",\"stagger_short\"]):\n",
    "        D_G = Drift_generators()\n",
    "        D_G.load_df(dataset)\n",
    "    else: print(\"dataset not recognised\")\n",
    "    return(D_G)\n",
    "        \n",
    "        \n",
    "def run_tests(funcs, n_iter, datasets):\n",
    "    \n",
    "    \n",
    "    for k in range(n_iter):\n",
    "        session_time = strftime(\"%Y-%m-%d_%H:%M\", gmtime())\n",
    "        print(k, session_time)\n",
    "        for dataset in datasets:\n",
    "            D_G = generate_dataset(dataset)\n",
    "            print(\"  \", dataset)\n",
    "            for i, func in enumerate(funcs):\n",
    "                t1 = time.time()\n",
    "                print(\"    \",func[8:])\n",
    "                error, detection_indices = getattr(Drift_generators, func)(D_G)\n",
    "                print(\"      \",str(datetime.timedelta(seconds=int(time.time()-t1))))\n",
    "                name = \"/\"+ session_time\n",
    "                path = my_path +dataset+\"/\"+func[8:]\n",
    "                if(not os.path.isdir(path)):\n",
    "                    os.mkdir(my_path +dataset+\"/\"+func[8:]);\n",
    "                pickle.dump( (error, detection_indices), open( path+name+\".p\", \"wb\" ))\n",
    "\n",
    "        while(strftime(\"%Y-%m-%d_%H:%M\", gmtime()) == session_time):\n",
    "            time.sleep(5)"
   ]
  },
  {
   "cell_type": "code",
   "execution_count": null,
   "id": "bb8c9486",
   "metadata": {},
   "outputs": [],
   "source": [
    "\n"
   ]
  },
  {
   "cell_type": "code",
   "execution_count": 28,
   "id": "d147e93c",
   "metadata": {
    "scrolled": true
   },
   "outputs": [
    {
     "name": "stdout",
     "output_type": "stream",
     "text": [
      "0 2021-10-19_13:50\n",
      "   brutal_covar_backforth_0_25\n",
      "     nothing\n",
      "       0:00:00\n",
      "     shap_adwin\n",
      "       0:04:00\n",
      "   brutal_concept_backforth\n",
      "     nothing\n",
      "       0:00:00\n",
      "     shap_adwin\n",
      "       0:00:35\n",
      "   sine1_short\n",
      "     nothing\n",
      "       0:00:00\n",
      "     shap_adwin\n",
      "       0:00:09\n",
      "   sine2_short\n",
      "     nothing\n",
      "       0:00:00\n",
      "     shap_adwin\n",
      "       0:00:09\n",
      "   stagger_short\n",
      "     nothing\n",
      "       0:00:00\n",
      "     shap_adwin\n",
      "       0:00:13\n"
     ]
    }
   ],
   "source": [
    "funcs = [\"retrain_nothing\",\"retrain_shap_adwin\"]\n",
    "n_iter = 50\n",
    "datasets = [\"brutal_covar_backforth_0_25\",\"brutal_concept_backforth\",\"sine1_short\",\"sine2_short\",\"stagger_short\"]\n",
    "run_tests(funcs, n_iter, datasets)"
   ]
  },
  {
   "cell_type": "code",
   "execution_count": 29,
   "id": "5f8e6db3",
   "metadata": {},
   "outputs": [
    {
     "name": "stdout",
     "output_type": "stream",
     "text": [
      "0 2021-10-19_13:55\n",
      "   sine2_short\n",
      "     shap_adwin_back_best\n",
      "       0:00:09\n",
      "     shap_adwin_back_worse\n",
      "       0:00:07\n",
      "     shap_adwin_smallback\n",
      "       0:00:02\n",
      "     shap_adwin\n",
      "       0:00:07\n"
     ]
    }
   ],
   "source": [
    "funcs = [func for func in dir(Drift_generators) if callable(getattr(Drift_generators, func))\n",
    "         and not func.startswith(\"__\")\n",
    "         and \"retrain\" in func and not \"plot\" in func and not \"perf\" in func]\n",
    "funcs = [x for x in funcs if \"back\" in x]\n",
    "funcs.append(\"retrain_shap_adwin\")\n",
    "funcs.remove(\"retrain_shap_adwin_back_train\")\n",
    "\n",
    "n_iter = 50\n",
    "#datasets = [\"brutal_covar_backforth_0_25\",\"brutal_concept_backforth\",\"sine1_short\",\"sine2_short\",\"stagger_short\"]\n",
    "datasets = [\"sine2_short\"]\n",
    "run_tests(funcs, n_iter, datasets)"
   ]
  },
  {
   "cell_type": "code",
   "execution_count": 31,
   "id": "3660d4a9",
   "metadata": {},
   "outputs": [],
   "source": [
    "funcs = [\"retrain_shap_adwin\"]"
   ]
  },
  {
   "cell_type": "code",
   "execution_count": 33,
   "id": "a3f85ba8",
   "metadata": {
    "scrolled": true
   },
   "outputs": [
    {
     "name": "stdout",
     "output_type": "stream",
     "text": [
      "   0 2021-10-19_13:56\n",
      "     shap_adwin\n",
      "       0:00:21\n"
     ]
    }
   ],
   "source": [
    "n_iter = 50\n",
    "dataset = \"brutal_concept_backforth\"\n",
    "\n",
    "session_time = strftime(\"%Y-%m-%d_%H:%M\", gmtime())\n",
    "\n",
    "D_G = Drift_generators()\n",
    "for k in range(n_iter):\n",
    "    session_time = strftime(\"%Y-%m-%d_%H:%M\", gmtime())\n",
    "\n",
    "    D_G = Drift_generators(n_samples = int(7000), n_features = 3)\n",
    "    D_G.back_and_forth_abrupt_drift()\n",
    "   # \n",
    "    print(\"  \",k, session_time)\n",
    "    for i, func in enumerate(funcs):\n",
    "        t1 = time.time()\n",
    "        print(\"    \",func[8:])\n",
    "        error, detection_indices = getattr(Drift_generators, func)(D_G)\n",
    "        print(\"      \",str(datetime.timedelta(seconds=int(time.time()-t1))))\n",
    "        name = \"/\"+ session_time\n",
    "        path = my_path +dataset+\"/\"+func[8:]\n",
    "        if(not os.path.isdir(path)):\n",
    "            os.mkdir(my_path +dataset+\"/\"+func[8:]);\n",
    "        pickle.dump( (error, detection_indices), open( path+name+\".p\", \"wb\" ))\n",
    "        \n",
    "    while(strftime(\"%Y-%m-%d_%H:%M\", gmtime()) == session_time):\n",
    "        time.sleep(5)"
   ]
  },
  {
   "cell_type": "code",
   "execution_count": 34,
   "id": "5d492011",
   "metadata": {
    "scrolled": true
   },
   "outputs": [
    {
     "name": "stdout",
     "output_type": "stream",
     "text": [
      "------------------------------------------sine2_short------------------------------------------\n",
      "   0 2021-10-19_13:59\n",
      "     shap_adwin\n",
      "       0:00:07\n",
      "------------------------------------------stagger_short------------------------------------------\n",
      "   0 2021-10-19_14:00\n",
      "     shap_adwin\n",
      "       0:00:12\n"
     ]
    }
   ],
   "source": [
    "n_iter = 50\n",
    "for dataset in [\"sine2_short\",\"stagger_short\"]:\n",
    "    print(\"------------------------------------------%s------------------------------------------\"%dataset)\n",
    "\n",
    "    \n",
    "    session_time = strftime(\"%Y-%m-%d_%H:%M\", gmtime())\n",
    "    D_G = Drift_generators()\n",
    "    for k in range(n_iter):\n",
    "        session_time = strftime(\"%Y-%m-%d_%H:%M\", gmtime())\n",
    "\n",
    "        D_G = Drift_generators()\n",
    "        D_G.load_df(dataset)\n",
    "       # \n",
    "        print(\"  \",k, session_time)\n",
    "        for i, func in enumerate(funcs):\n",
    "            t1 = time.time()\n",
    "            print(\"    \",func[8:])\n",
    "            error, detection_indices = getattr(Drift_generators, func)(D_G)\n",
    "            print(\"      \",str(datetime.timedelta(seconds=int(time.time()-t1))))\n",
    "            name = \"/\"+ session_time\n",
    "            path = my_path +dataset+\"/\"+func[8:]\n",
    "            if(not os.path.isdir(path)):\n",
    "                os.mkdir(my_path +dataset+\"/\"+func[8:]);\n",
    "            pickle.dump( (error, detection_indices), open( path+name+\".p\", \"wb\" ))\n",
    "        \n",
    "        while(strftime(\"%Y-%m-%d_%H:%M\", gmtime()) == session_time):\n",
    "            time.sleep(5)"
   ]
  },
  {
   "cell_type": "code",
   "execution_count": 35,
   "id": "e090b788",
   "metadata": {
    "scrolled": true
   },
   "outputs": [
    {
     "name": "stdout",
     "output_type": "stream",
     "text": [
      "   0 2021-10-19_14:01\n",
      "------------------------------------------sine2_short------------------------------------------\n",
      "     shap_adwin\n",
      "       0:00:10\n",
      "------------------------------------------stagger_short------------------------------------------\n",
      "     shap_adwin\n",
      "       0:00:09\n"
     ]
    }
   ],
   "source": [
    "n_iter = 50\n",
    "\n",
    "for i, func in enumerate(funcs):\n",
    "\n",
    "    \n",
    "    session_time = strftime(\"%Y-%m-%d_%H:%M\", gmtime())\n",
    "    D_G = Drift_generators()\n",
    "    for k in range(n_iter):\n",
    "        session_time = strftime(\"%Y-%m-%d_%H:%M\", gmtime())\n",
    "\n",
    "        D_G = Drift_generators()\n",
    "        D_G.load_df(dataset)\n",
    "       # \n",
    "        print(\"  \",k, session_time)\n",
    "        for dataset in [\"sine2_short\",\"stagger_short\"]:\n",
    "            print(\"------------------------------------------%s------------------------------------------\"%dataset)\n",
    "            t1 = time.time()\n",
    "            print(\"    \",func[8:])\n",
    "            error, detection_indices = getattr(Drift_generators, func)(D_G)\n",
    "            print(\"      \",str(datetime.timedelta(seconds=int(time.time()-t1))))\n",
    "            name = \"/\"+ session_time\n",
    "            path = my_path +dataset+\"/\"+func[8:]\n",
    "            if(not os.path.isdir(path)):\n",
    "                os.mkdir(my_path +dataset+\"/\"+func[8:]);\n",
    "            pickle.dump( (error, detection_indices), open( path+name+\".p\", \"wb\" ))\n",
    "        \n",
    "        while(strftime(\"%Y-%m-%d_%H:%M\", gmtime()) == session_time):\n",
    "            time.sleep(5)"
   ]
  },
  {
   "cell_type": "code",
   "execution_count": null,
   "id": "5ef5fe72",
   "metadata": {},
   "outputs": [],
   "source": []
  },
  {
   "cell_type": "code",
   "execution_count": 36,
   "id": "46b41151",
   "metadata": {
    "scrolled": true
   },
   "outputs": [
    {
     "name": "stdout",
     "output_type": "stream",
     "text": [
      "   0 2021-10-19_14:02\n"
     ]
    },
    {
     "ename": "TypeError",
     "evalue": "'module' object is not callable",
     "output_type": "error",
     "traceback": [
      "\u001b[0;31m---------------------------------------------------------------------------\u001b[0m",
      "\u001b[0;31mTypeError\u001b[0m                                 Traceback (most recent call last)",
      "\u001b[0;32m/tmp/ipykernel_23189/1168554919.py\u001b[0m in \u001b[0;36m<module>\u001b[0;34m\u001b[0m\n\u001b[1;32m     19\u001b[0m     \u001b[0mprint\u001b[0m\u001b[0;34m(\u001b[0m\u001b[0;34m\"  \"\u001b[0m\u001b[0;34m,\u001b[0m\u001b[0mk\u001b[0m\u001b[0;34m,\u001b[0m \u001b[0msession_time\u001b[0m\u001b[0;34m)\u001b[0m\u001b[0;34m\u001b[0m\u001b[0;34m\u001b[0m\u001b[0m\n\u001b[1;32m     20\u001b[0m     \u001b[0;32mfor\u001b[0m \u001b[0mi\u001b[0m\u001b[0;34m,\u001b[0m \u001b[0mfunc\u001b[0m \u001b[0;32min\u001b[0m \u001b[0menumerate\u001b[0m\u001b[0;34m(\u001b[0m\u001b[0mfuncs\u001b[0m\u001b[0;34m)\u001b[0m\u001b[0;34m:\u001b[0m\u001b[0;34m\u001b[0m\u001b[0;34m\u001b[0m\u001b[0m\n\u001b[0;32m---> 21\u001b[0;31m         \u001b[0mt1\u001b[0m \u001b[0;34m=\u001b[0m \u001b[0mtime\u001b[0m\u001b[0;34m(\u001b[0m\u001b[0;34m)\u001b[0m\u001b[0;34m\u001b[0m\u001b[0;34m\u001b[0m\u001b[0m\n\u001b[0m\u001b[1;32m     22\u001b[0m         \u001b[0mprint\u001b[0m\u001b[0;34m(\u001b[0m\u001b[0;34m\"    \"\u001b[0m\u001b[0;34m,\u001b[0m\u001b[0mfunc\u001b[0m\u001b[0;34m[\u001b[0m\u001b[0;36m8\u001b[0m\u001b[0;34m:\u001b[0m\u001b[0;34m]\u001b[0m\u001b[0;34m)\u001b[0m\u001b[0;34m\u001b[0m\u001b[0;34m\u001b[0m\u001b[0m\n\u001b[1;32m     23\u001b[0m         \u001b[0merror\u001b[0m\u001b[0;34m,\u001b[0m \u001b[0mdetection_indices\u001b[0m \u001b[0;34m=\u001b[0m \u001b[0mgetattr\u001b[0m\u001b[0;34m(\u001b[0m\u001b[0mDrift_generators\u001b[0m\u001b[0;34m,\u001b[0m \u001b[0mfunc\u001b[0m\u001b[0;34m)\u001b[0m\u001b[0;34m(\u001b[0m\u001b[0mD_G\u001b[0m\u001b[0;34m)\u001b[0m\u001b[0;34m\u001b[0m\u001b[0;34m\u001b[0m\u001b[0m\n",
      "\u001b[0;31mTypeError\u001b[0m: 'module' object is not callable"
     ]
    }
   ],
   "source": [
    "n_iter = 50\n",
    "dataset = \"sine2\"\n",
    "\n",
    "session_time = strftime(\"%Y-%m-%d_%H:%M\", gmtime())\n",
    "\n",
    "D_G = Drift_generators()\n",
    "for k in range(n_iter):\n",
    "    session_time = strftime(\"%Y-%m-%d_%H:%M\", gmtime())\n",
    "    \n",
    "    \n",
    "    #D_G = Drift_generators(n_features = 3)\n",
    "    #d_centers = [(0, 0, 0.3, 0.25, 1),(0, 0.3, 0.5, 0, 0.25),(0, 0.5, 0.9999, 0.25, 1)]\n",
    "    #D_G.brutal_covariate_drift(d_centers=d_centers)\n",
    "    #D_G = Drift_generators(n_samples = int(7000), n_features = 3)\n",
    "    #D_G.back_and_forth_smooth_drift()\n",
    "    D_G = Drift_generators()\n",
    "    D_G.load_df(\"sine2\", nrows=600000)\n",
    "   # \n",
    "    print(\"  \",k, session_time)\n",
    "    for i, func in enumerate(funcs):\n",
    "        t1 = time()\n",
    "        print(\"    \",func[8:])\n",
    "        error, detection_indices = getattr(Drift_generators, func)(D_G)\n",
    "        print(\"      \",str(datetime.timedelta(seconds=int(time()-t1))))\n",
    "        name = \"/\"+ session_time\n",
    "        path = my_path +dataset+\"/\"+func[8:]\n",
    "        if(not os.path.isdir(path)):\n",
    "            os.mkdir(my_path +dataset+\"/\"+func[8:]);\n",
    "        pickle.dump( (error, detection_indices), open( path+name+\".p\", \"wb\" ))"
   ]
  },
  {
   "cell_type": "code",
   "execution_count": null,
   "id": "e0ef6306",
   "metadata": {},
   "outputs": [],
   "source": []
  },
  {
   "cell_type": "code",
   "execution_count": 37,
   "id": "16fe84c4",
   "metadata": {
    "scrolled": true
   },
   "outputs": [
    {
     "name": "stdout",
     "output_type": "stream",
     "text": [
      "   0 2021-10-19_15:13\n"
     ]
    },
    {
     "ename": "TypeError",
     "evalue": "'module' object is not callable",
     "output_type": "error",
     "traceback": [
      "\u001b[0;31m---------------------------------------------------------------------------\u001b[0m",
      "\u001b[0;31mTypeError\u001b[0m                                 Traceback (most recent call last)",
      "\u001b[0;32m/tmp/ipykernel_23189/2338080634.py\u001b[0m in \u001b[0;36m<module>\u001b[0;34m\u001b[0m\n\u001b[1;32m     19\u001b[0m     \u001b[0mprint\u001b[0m\u001b[0;34m(\u001b[0m\u001b[0;34m\"  \"\u001b[0m\u001b[0;34m,\u001b[0m\u001b[0mk\u001b[0m\u001b[0;34m,\u001b[0m \u001b[0msession_time\u001b[0m\u001b[0;34m)\u001b[0m\u001b[0;34m\u001b[0m\u001b[0;34m\u001b[0m\u001b[0m\n\u001b[1;32m     20\u001b[0m     \u001b[0;32mfor\u001b[0m \u001b[0mi\u001b[0m\u001b[0;34m,\u001b[0m \u001b[0mfunc\u001b[0m \u001b[0;32min\u001b[0m \u001b[0menumerate\u001b[0m\u001b[0;34m(\u001b[0m\u001b[0mfuncs\u001b[0m\u001b[0;34m)\u001b[0m\u001b[0;34m:\u001b[0m\u001b[0;34m\u001b[0m\u001b[0;34m\u001b[0m\u001b[0m\n\u001b[0;32m---> 21\u001b[0;31m         \u001b[0mt1\u001b[0m \u001b[0;34m=\u001b[0m \u001b[0mtime\u001b[0m\u001b[0;34m(\u001b[0m\u001b[0;34m)\u001b[0m\u001b[0;34m\u001b[0m\u001b[0;34m\u001b[0m\u001b[0m\n\u001b[0m\u001b[1;32m     22\u001b[0m         \u001b[0mprint\u001b[0m\u001b[0;34m(\u001b[0m\u001b[0;34m\"    \"\u001b[0m\u001b[0;34m,\u001b[0m\u001b[0mfunc\u001b[0m\u001b[0;34m[\u001b[0m\u001b[0;36m8\u001b[0m\u001b[0;34m:\u001b[0m\u001b[0;34m]\u001b[0m\u001b[0;34m)\u001b[0m\u001b[0;34m\u001b[0m\u001b[0;34m\u001b[0m\u001b[0m\n\u001b[1;32m     23\u001b[0m         \u001b[0merror\u001b[0m\u001b[0;34m,\u001b[0m \u001b[0mdetection_indices\u001b[0m \u001b[0;34m=\u001b[0m \u001b[0mgetattr\u001b[0m\u001b[0;34m(\u001b[0m\u001b[0mDrift_generators\u001b[0m\u001b[0;34m,\u001b[0m \u001b[0mfunc\u001b[0m\u001b[0;34m)\u001b[0m\u001b[0;34m(\u001b[0m\u001b[0mD_G\u001b[0m\u001b[0;34m)\u001b[0m\u001b[0;34m\u001b[0m\u001b[0;34m\u001b[0m\u001b[0m\n",
      "\u001b[0;31mTypeError\u001b[0m: 'module' object is not callable"
     ]
    }
   ],
   "source": [
    "n_iter = 50\n",
    "dataset = \"stagger\"\n",
    "\n",
    "session_time = strftime(\"%Y-%m-%d_%H:%M\", gmtime())\n",
    "\n",
    "D_G = Drift_generators()\n",
    "for k in range(n_iter):\n",
    "    session_time = strftime(\"%Y-%m-%d_%H:%M\", gmtime())\n",
    "    \n",
    "    \n",
    "    #D_G = Drift_generators(n_features = 3)\n",
    "    #d_centers = [(0, 0, 0.3, 0.25, 1),(0, 0.3, 0.5, 0, 0.25),(0, 0.5, 0.9999, 0.25, 1)]\n",
    "    #D_G.brutal_covariate_drift(d_centers=d_centers)\n",
    "    #D_G = Drift_generators(n_samples = int(7000), n_features = 3)\n",
    "    #D_G.back_and_forth_smooth_drift()\n",
    "    D_G = Drift_generators()\n",
    "    D_G.load_df(\"stagger\")\n",
    "   # \n",
    "    print(\"  \",k, session_time)\n",
    "    for i, func in enumerate(funcs):\n",
    "        t1 = time()\n",
    "        print(\"    \",func[8:])\n",
    "        error, detection_indices = getattr(Drift_generators, func)(D_G)\n",
    "        print(\"      \",str(datetime.timedelta(seconds=int(time()-t1))))\n",
    "        name = \"/\"+ session_time\n",
    "        path = my_path +dataset+\"/\"+func[8:]\n",
    "        if(not os.path.isdir(path)):\n",
    "            os.mkdir(my_path +dataset+\"/\"+func[8:]);\n",
    "        pickle.dump( (error, detection_indices), open( path+name+\".p\", \"wb\" ))"
   ]
  },
  {
   "cell_type": "code",
   "execution_count": 38,
   "id": "dab8698f",
   "metadata": {
    "scrolled": true
   },
   "outputs": [
    {
     "name": "stdout",
     "output_type": "stream",
     "text": [
      "   0 2021-10-19_15:13\n"
     ]
    },
    {
     "ename": "TypeError",
     "evalue": "'module' object is not callable",
     "output_type": "error",
     "traceback": [
      "\u001b[0;31m---------------------------------------------------------------------------\u001b[0m",
      "\u001b[0;31mTypeError\u001b[0m                                 Traceback (most recent call last)",
      "\u001b[0;32m/tmp/ipykernel_23189/2345977531.py\u001b[0m in \u001b[0;36m<module>\u001b[0;34m\u001b[0m\n\u001b[1;32m     19\u001b[0m     \u001b[0mprint\u001b[0m\u001b[0;34m(\u001b[0m\u001b[0;34m\"  \"\u001b[0m\u001b[0;34m,\u001b[0m\u001b[0mk\u001b[0m\u001b[0;34m,\u001b[0m \u001b[0msession_time\u001b[0m\u001b[0;34m)\u001b[0m\u001b[0;34m\u001b[0m\u001b[0;34m\u001b[0m\u001b[0m\n\u001b[1;32m     20\u001b[0m     \u001b[0;32mfor\u001b[0m \u001b[0mi\u001b[0m\u001b[0;34m,\u001b[0m \u001b[0mfunc\u001b[0m \u001b[0;32min\u001b[0m \u001b[0menumerate\u001b[0m\u001b[0;34m(\u001b[0m\u001b[0mfuncs\u001b[0m\u001b[0;34m)\u001b[0m\u001b[0;34m:\u001b[0m\u001b[0;34m\u001b[0m\u001b[0;34m\u001b[0m\u001b[0m\n\u001b[0;32m---> 21\u001b[0;31m         \u001b[0mt1\u001b[0m \u001b[0;34m=\u001b[0m \u001b[0mtime\u001b[0m\u001b[0;34m(\u001b[0m\u001b[0;34m)\u001b[0m\u001b[0;34m\u001b[0m\u001b[0;34m\u001b[0m\u001b[0m\n\u001b[0m\u001b[1;32m     22\u001b[0m         \u001b[0mprint\u001b[0m\u001b[0;34m(\u001b[0m\u001b[0;34m\"    \"\u001b[0m\u001b[0;34m,\u001b[0m\u001b[0mfunc\u001b[0m\u001b[0;34m[\u001b[0m\u001b[0;36m8\u001b[0m\u001b[0;34m:\u001b[0m\u001b[0;34m]\u001b[0m\u001b[0;34m)\u001b[0m\u001b[0;34m\u001b[0m\u001b[0;34m\u001b[0m\u001b[0m\n\u001b[1;32m     23\u001b[0m         \u001b[0merror\u001b[0m\u001b[0;34m,\u001b[0m \u001b[0mdetection_indices\u001b[0m \u001b[0;34m=\u001b[0m \u001b[0mgetattr\u001b[0m\u001b[0;34m(\u001b[0m\u001b[0mDrift_generators\u001b[0m\u001b[0;34m,\u001b[0m \u001b[0mfunc\u001b[0m\u001b[0;34m)\u001b[0m\u001b[0;34m(\u001b[0m\u001b[0mD_G\u001b[0m\u001b[0;34m)\u001b[0m\u001b[0;34m\u001b[0m\u001b[0;34m\u001b[0m\u001b[0m\n",
      "\u001b[0;31mTypeError\u001b[0m: 'module' object is not callable"
     ]
    }
   ],
   "source": [
    "n_iter = 50\n",
    "dataset = \"sine2_short\"\n",
    "\n",
    "session_time = strftime(\"%Y-%m-%d_%H:%M\", gmtime())\n",
    "\n",
    "D_G = Drift_generators()\n",
    "for k in range(n_iter):\n",
    "    session_time = strftime(\"%Y-%m-%d_%H:%M\", gmtime())\n",
    "    \n",
    "    \n",
    "    #D_G = Drift_generators(n_features = 3)\n",
    "    #d_centers = [(0, 0, 0.3, 0.25, 1),(0, 0.3, 0.5, 0, 0.25),(0, 0.5, 0.9999, 0.25, 1)]\n",
    "    #D_G.brutal_covariate_drift(d_centers=d_centers)\n",
    "    #D_G = Drift_generators(n_samples = int(7000), n_features = 3)\n",
    "    #D_G.back_and_forth_smooth_drift()\n",
    "    D_G = Drift_generators()\n",
    "    D_G.load_df(\"sine2_short\")\n",
    "   # \n",
    "    print(\"  \",k, session_time)\n",
    "    for i, func in enumerate(funcs):\n",
    "        t1 = time()\n",
    "        print(\"    \",func[8:])\n",
    "        error, detection_indices = getattr(Drift_generators, func)(D_G)\n",
    "        print(\"      \",str(datetime.timedelta(seconds=int(time()-t1))))\n",
    "        name = \"/\"+ session_time\n",
    "        path = my_path +dataset+\"/\"+func[8:]\n",
    "        if(not os.path.isdir(path)):\n",
    "            os.mkdir(my_path +dataset+\"/\"+func[8:]);\n",
    "        pickle.dump( (error, detection_indices), open( path+name+\".p\", \"wb\" ))"
   ]
  },
  {
   "cell_type": "code",
   "execution_count": null,
   "id": "beb44b0d",
   "metadata": {},
   "outputs": [],
   "source": []
  },
  {
   "cell_type": "code",
   "execution_count": null,
   "id": "4a87a3de",
   "metadata": {},
   "outputs": [],
   "source": []
  },
  {
   "cell_type": "markdown",
   "id": "81e7b947",
   "metadata": {},
   "source": [
    "# Run with noise"
   ]
  },
  {
   "cell_type": "code",
   "execution_count": 39,
   "id": "2e6619d0",
   "metadata": {},
   "outputs": [],
   "source": [
    "from drift_generators import *\n",
    "from time import gmtime, strftime, time\n",
    "import os\n",
    "import pickle\n",
    "import datetime\n",
    "import time"
   ]
  },
  {
   "cell_type": "code",
   "execution_count": 40,
   "id": "a1fca088",
   "metadata": {},
   "outputs": [],
   "source": [
    "funcs = [func for func in dir(Drift_generators) if callable(getattr(Drift_generators, func))\n",
    "         and not func.startswith(\"__\")\n",
    "         and \"retrain\" in func and not \"plot\" in func and not \"perf\" in func]"
   ]
  },
  {
   "cell_type": "code",
   "execution_count": 41,
   "id": "3d0c9b88",
   "metadata": {
    "scrolled": true
   },
   "outputs": [
    {
     "data": {
      "text/plain": [
       "['retrain_shap_adwin_back_best',\n",
       " 'retrain_shap_adwin_back_train',\n",
       " 'retrain_shap_adwin_back_worse',\n",
       " 'retrain_shap_adwin_smallback',\n",
       " 'retrain_shap_adwin',\n",
       " 'retrain_adwin_loss',\n",
       " 'retrain_nothing',\n",
       " 'retrain_arf']"
      ]
     },
     "execution_count": 41,
     "metadata": {},
     "output_type": "execute_result"
    }
   ],
   "source": [
    "funcs = [func for func in dir(Drift_generators) if callable(getattr(Drift_generators, func))\n",
    "         and not func.startswith(\"__\")\n",
    "         and \"retrain\" in func and not \"plot\" in func and not \"perf\" in func]\n",
    "funcs = [x for x in funcs if \"back\" in x]\n",
    "funcs.append(\"retrain_shap_adwin\")\n",
    "funcs.append(\"retrain_adwin_loss\")\n",
    "funcs.append(\"retrain_nothing\")\n",
    "funcs.append(\"retrain_arf\")\n",
    "funcs"
   ]
  },
  {
   "cell_type": "code",
   "execution_count": 42,
   "id": "b66fbefd",
   "metadata": {},
   "outputs": [],
   "source": [
    "funcs= ['retrain_shap_adwin',\n",
    "         'retrain_adwin_loss',\n",
    "         'retrain_nothing']"
   ]
  },
  {
   "cell_type": "code",
   "execution_count": 43,
   "id": "2f9f5456",
   "metadata": {
    "scrolled": true
   },
   "outputs": [
    {
     "name": "stdout",
     "output_type": "stream",
     "text": [
      "   0 2021-10-19_15:14\n",
      "     shap_adwin\n",
      "       0:00:35\n",
      "     adwin_loss\n",
      "       0:00:07\n",
      "     nothing\n",
      "       0:00:00\n"
     ]
    }
   ],
   "source": [
    "n_iter = 50\n",
    "dataset = \"brutal_covar_backforth_noisy\"\n",
    "\n",
    "session_time = strftime(\"%Y-%m-%d_%H:%M\", gmtime())\n",
    "\n",
    "D_G = Drift_generators()\n",
    "for k in range(n_iter):\n",
    "    session_time = strftime(\"%Y-%m-%d_%H:%M\", gmtime())\n",
    "\n",
    "    D_G = Drift_generators(n_samples = int(7*10**3), n_features = 3)\n",
    "    d_centers = [(0, 0, 0.3, 0.25, 1),(0, 0.3, 0.5, 0, 0.25),(0, 0.5, 1, 0.25, 1)]\n",
    "    D_G.brutal_covariate_drift(d_centers=d_centers)\n",
    "\n",
    "    D_G.add_noise()\n",
    "\n",
    "    print(\"  \",k, session_time)\n",
    "    for i, func in enumerate(funcs):\n",
    "        t1 = time.time()\n",
    "        print(\"    \",func[8:])\n",
    "        error, detection_indices = getattr(Drift_generators, func)(D_G)\n",
    "        print(\"      \",str(datetime.timedelta(seconds=int(time.time()-t1))))\n",
    "        name = \"/\"+ session_time\n",
    "        path = my_path +dataset+\"/\"+func[8:]\n",
    "        if(not os.path.isdir(path)):\n",
    "            os.mkdir(my_path +dataset+\"/\"+func[8:]);\n",
    "        pickle.dump( (error, detection_indices), open( path+name+\".p\", \"wb\" ))\n",
    "        \n",
    "    while(strftime(\"%Y-%m-%d_%H:%M\", gmtime()) == session_time):\n",
    "        time.sleep(5)"
   ]
  },
  {
   "cell_type": "code",
   "execution_count": null,
   "id": "9d6e998c",
   "metadata": {},
   "outputs": [],
   "source": []
  },
  {
   "cell_type": "code",
   "execution_count": null,
   "id": "d9cd8543",
   "metadata": {},
   "outputs": [],
   "source": []
  },
  {
   "cell_type": "code",
   "execution_count": 44,
   "id": "76b2b092",
   "metadata": {},
   "outputs": [
    {
     "name": "stdout",
     "output_type": "stream",
     "text": [
      "   0 2021-10-19_15:15\n",
      "     shap_adwin\n",
      "       0:00:34\n",
      "     adwin_loss\n",
      "       0:00:08\n",
      "     nothing\n",
      "       0:00:00\n"
     ]
    }
   ],
   "source": [
    "n_iter = 50\n",
    "dataset = \"brutal_concept_backforth_noisy\"\n",
    "\n",
    "session_time = strftime(\"%Y-%m-%d_%H:%M\", gmtime())\n",
    "\n",
    "D_G = Drift_generators()\n",
    "for k in range(n_iter):\n",
    "    session_time = strftime(\"%Y-%m-%d_%H:%M\", gmtime())\n",
    "\n",
    "    D_G = Drift_generators(n_samples = int(7000), n_features = 3)\n",
    "    D_G.back_and_forth_abrupt_drift()\n",
    "    D_G.add_noise()\n",
    "\n",
    "    print(\"  \",k, session_time)\n",
    "    for i, func in enumerate(funcs):\n",
    "        t1 = time.time()\n",
    "        print(\"    \",func[8:])\n",
    "        error, detection_indices = getattr(Drift_generators, func)(D_G)\n",
    "        print(\"      \",str(datetime.timedelta(seconds=int(time.time()-t1))))\n",
    "        name = \"/\"+ session_time\n",
    "        path = my_path +dataset+\"/\"+func[8:]\n",
    "        if(not os.path.isdir(path)):\n",
    "            os.mkdir(my_path +dataset+\"/\"+func[8:]);\n",
    "        pickle.dump( (error, detection_indices), open( path+name+\".p\", \"wb\" ))\n",
    "        \n",
    "    while(strftime(\"%Y-%m-%d_%H:%M\", gmtime()) == session_time):\n",
    "        time.sleep(5)"
   ]
  },
  {
   "cell_type": "code",
   "execution_count": 45,
   "id": "29ef6041",
   "metadata": {},
   "outputs": [
    {
     "data": {
      "text/plain": [
       "7000"
      ]
     },
     "execution_count": 45,
     "metadata": {},
     "output_type": "execute_result"
    }
   ],
   "source": [
    "D_G.n"
   ]
  },
  {
   "cell_type": "code",
   "execution_count": 46,
   "id": "18527444",
   "metadata": {},
   "outputs": [],
   "source": [
    "funcs= ['retrain_shap_adwin',\n",
    "         'retrain_adwin_loss',\n",
    "         'retrain_nothing']"
   ]
  },
  {
   "cell_type": "code",
   "execution_count": 47,
   "id": "7d3bc690",
   "metadata": {},
   "outputs": [
    {
     "data": {
      "image/png": "[encoded data removed]",
      "text/plain": [
       "<Figure size 720x576 with 1 Axes>"
      ]
     },
     "metadata": {
      "needs_background": "light"
     },
     "output_type": "display_data"
    }
   ],
   "source": [
    "\n",
    "D_G = Drift_generators(n_samples = int(7000), n_features = 3)\n",
    "circle_centers = [[0.7 for i in range(D_G.n_features)],[0.7 for i in range(D_G.n_features)]]\n",
    "D_G.new_smooth_concept_drift(n_drift = 2, circle_centers = circle_centers, drift_points= [2500,4500])\n",
    "#D_G.smooth_concept_drift\n",
    "D_G.retrain_nothing()\n",
    "D_G.plot_retrain()"
   ]
  },
  {
   "cell_type": "code",
   "execution_count": 48,
   "id": "3deeeb8a",
   "metadata": {},
   "outputs": [
    {
     "data": {
      "text/plain": [
       "['retrain_shap_adwin', 'retrain_adwin_loss', 'retrain_nothing']"
      ]
     },
     "execution_count": 48,
     "metadata": {},
     "output_type": "execute_result"
    }
   ],
   "source": [
    "funcs"
   ]
  },
  {
   "cell_type": "code",
   "execution_count": 49,
   "id": "abebac46",
   "metadata": {
    "scrolled": true
   },
   "outputs": [
    {
     "name": "stdout",
     "output_type": "stream",
     "text": [
      "   0 2021-10-19_15:16\n",
      "     shap_adwin\n",
      "       0:00:38\n",
      "     adwin_loss\n",
      "       0:00:09\n",
      "     nothing\n",
      "       0:00:00\n"
     ]
    }
   ],
   "source": [
    "n_iter = 1\n",
    "dataset = \"smooth_drift_sabilized_noisy\"\n",
    "\n",
    "session_time = strftime(\"%Y-%m-%d_%H:%M\", gmtime())\n",
    "\n",
    "D_G = Drift_generators()\n",
    "for k in range(n_iter):\n",
    "    session_time = strftime(\"%Y-%m-%d_%H:%M\", gmtime())\n",
    "\n",
    "    D_G = Drift_generators(n_samples = int(7000), n_features = 3)\n",
    "    circle_centers = [[0.7 for i in range(D_G.n_features)],[0.7 for i in range(D_G.n_features)]]\n",
    "    D_G.new_smooth_concept_drift(n_drift = 2, circle_centers = circle_centers, drift_points= [2500,4500])\n",
    "    D_G.add_noise()\n",
    "\n",
    "    print(\"  \",k, session_time)\n",
    "    for i, func in enumerate(funcs):\n",
    "        t1 = time.time()\n",
    "        print(\"    \",func[8:])\n",
    "        error, detection_indices = getattr(Drift_generators, func)(D_G)\n",
    "        print(\"      \",str(datetime.timedelta(seconds=int(time.time()-t1))))\n",
    "        name = \"/\"+ session_time\n",
    "        path = my_path +dataset+\"/\"+func[8:]\n",
    "        if(not os.path.isdir(path)):\n",
    "            os.mkdir(my_path +dataset+\"/\"+func[8:]);\n",
    "        pickle.dump( (error, detection_indices), open( path+name+\".p\", \"wb\" ))\n",
    "        \n",
    "    while(strftime(\"%Y-%m-%d_%H:%M\", gmtime()) == session_time):\n",
    "        time.sleep(5)"
   ]
  },
  {
   "cell_type": "code",
   "execution_count": 50,
   "id": "8cf8f00c",
   "metadata": {
    "scrolled": true
   },
   "outputs": [
    {
     "name": "stdout",
     "output_type": "stream",
     "text": [
      "   0 2021-10-19_15:17\n",
      "     shap_adwin\n",
      "       0:00:34\n",
      "     adwin_loss\n",
      "       0:00:09\n",
      "     nothing\n",
      "       0:00:00\n"
     ]
    }
   ],
   "source": [
    "n_iter = 50\n",
    "dataset = \"smooth_drift_sabilized\"\n",
    "\n",
    "session_time = strftime(\"%Y-%m-%d_%H:%M\", gmtime())\n",
    "\n",
    "D_G = Drift_generators()\n",
    "for k in range(n_iter):\n",
    "    session_time = strftime(\"%Y-%m-%d_%H:%M\", gmtime())\n",
    "\n",
    "    D_G = Drift_generators(n_samples = int(7000), n_features = 3)\n",
    "    circle_centers = [[0.7 for i in range(D_G.n_features)],[0.7 for i in range(D_G.n_features)]]\n",
    "    D_G.new_smooth_concept_drift(n_drift = 2, circle_centers = circle_centers, drift_points= [2500,4500])\n",
    "    \n",
    "    print(\"  \",k, session_time)\n",
    "    for i, func in enumerate(funcs):\n",
    "        t1 = time.time()\n",
    "        print(\"    \",func[8:])\n",
    "        error, detection_indices = getattr(Drift_generators, func)(D_G)\n",
    "        print(\"      \",str(datetime.timedelta(seconds=int(time.time()-t1))))\n",
    "        name = \"/\"+ session_time\n",
    "        path = my_path +dataset+\"/\"+func[8:]\n",
    "        if(not os.path.isdir(path)):\n",
    "            os.mkdir(my_path +dataset+\"/\"+func[8:]);\n",
    "        pickle.dump( (error, detection_indices), open( path+name+\".p\", \"wb\" ))\n",
    "        \n",
    "    while(strftime(\"%Y-%m-%d_%H:%M\", gmtime()) == session_time):\n",
    "        time.sleep(5)"
   ]
  },
  {
   "cell_type": "code",
   "execution_count": 51,
   "id": "bbf43b96",
   "metadata": {},
   "outputs": [
    {
     "name": "stdout",
     "output_type": "stream",
     "text": [
      "   0 2021-10-19_15:18\n",
      "     shap_adwin\n",
      "       0:00:33\n",
      "     adwin_loss\n",
      "       0:00:06\n",
      "     nothing\n",
      "       0:00:00\n"
     ]
    }
   ],
   "source": [
    "n_iter = 50\n",
    "dataset = \"smooth_drift\"\n",
    "\n",
    "session_time = strftime(\"%Y-%m-%d_%H:%M\", gmtime())\n",
    "\n",
    "D_G = Drift_generators()\n",
    "for k in range(n_iter):\n",
    "    session_time = strftime(\"%Y-%m-%d_%H:%M\", gmtime())\n",
    "\n",
    "    D_G = Drift_generators(n_samples = int(7000), n_features = 3)\n",
    "    circle_centers = [[0.7 for i in range(D_G.n_features)]]\n",
    "    D_G.new_smooth_concept_drift(n_drift = 1, circle_centers = circle_centers, drift_points= [2500])\n",
    "\n",
    "    print(\"  \",k, session_time)\n",
    "    for i, func in enumerate(funcs):\n",
    "        t1 = time.time()\n",
    "        print(\"    \",func[8:])\n",
    "        error, detection_indices = getattr(Drift_generators, func)(D_G)\n",
    "        print(\"      \",str(datetime.timedelta(seconds=int(time.time()-t1))))\n",
    "        name = \"/\"+ session_time\n",
    "        path = my_path +dataset+\"/\"+func[8:]\n",
    "        if(not os.path.isdir(path)):\n",
    "            os.mkdir(my_path +dataset+\"/\"+func[8:]);\n",
    "        pickle.dump( (error, detection_indices), open( path+name+\".p\", \"wb\" ))\n",
    "        \n",
    "    while(strftime(\"%Y-%m-%d_%H:%M\", gmtime()) == session_time):\n",
    "        time.sleep(5)"
   ]
  },
  {
   "cell_type": "code",
   "execution_count": null,
   "id": "3ee0ee0f",
   "metadata": {},
   "outputs": [],
   "source": []
  },
  {
   "cell_type": "code",
   "execution_count": null,
   "id": "a4ef785b",
   "metadata": {},
   "outputs": [],
   "source": []
  },
  {
   "cell_type": "code",
   "execution_count": null,
   "id": "8c82fae9",
   "metadata": {},
   "outputs": [],
   "source": []
  },
  {
   "cell_type": "code",
   "execution_count": null,
   "id": "2c099e31",
   "metadata": {},
   "outputs": [],
   "source": []
  },
  {
   "cell_type": "markdown",
   "id": "4a7f4084",
   "metadata": {},
   "source": [
    "# Single Drifts"
   ]
  },
  {
   "cell_type": "markdown",
   "id": "d0d5d1ed",
   "metadata": {},
   "source": [
    "## COVAR abrupt stabilized"
   ]
  },
  {
   "cell_type": "code",
   "execution_count": null,
   "id": "0c482f98",
   "metadata": {},
   "outputs": [],
   "source": [
    "my_path = \"/home/bastienzim/Documents/paper/AISTATS2021/code/data/results/\""
   ]
  },
  {
   "cell_type": "code",
   "execution_count": 6,
   "id": "2c68e83a",
   "metadata": {},
   "outputs": [],
   "source": [
    "from drift_generators import *\n",
    "from time import gmtime, strftime, time\n",
    "import os\n",
    "import pickle\n",
    "import datetime\n",
    "import time"
   ]
  },
  {
   "cell_type": "code",
   "execution_count": 7,
   "id": "fde17fd2",
   "metadata": {},
   "outputs": [],
   "source": [
    "funcs= ['retrain_shap_adwin',\n",
    "         'retrain_adwin_loss',\n",
    "         'retrain_nothing']"
   ]
  },
  {
   "cell_type": "code",
   "execution_count": 8,
   "id": "ce963c5e",
   "metadata": {},
   "outputs": [
    {
     "data": {
      "image/png": "[encoded data removed]",
      "text/plain": [
       "<Figure size 720x576 with 1 Axes>"
      ]
     },
     "metadata": {
      "needs_background": "light"
     },
     "output_type": "display_data"
    }
   ],
   "source": [
    "D_G = Drift_generators(n_samples = int(6000), n_features = 3)\n",
    "d_centers = [(0, 0, 0.4, 0.25, 1),(0, 0.4, 1, 0, 0.25)]\n",
    "D_G.brutal_covariate_drift(d_centers=d_centers)\n",
    "\n",
    "D_G.retrain_nothing()\n",
    "D_G.plot_retrain()"
   ]
  },
  {
   "cell_type": "code",
   "execution_count": 9,
   "id": "f5e42160",
   "metadata": {
    "scrolled": false
   },
   "outputs": [
    {
     "name": "stdout",
     "output_type": "stream",
     "text": [
      "   0 2022-01-27_10:13\n",
      "     shap_adwin\n",
      "       0:02:05\n"
     ]
    },
    {
     "ename": "NameError",
     "evalue": "name 'my_path' is not defined",
     "output_type": "error",
     "traceback": [
      "\u001b[0;31m---------------------------------------------------------------------------\u001b[0m",
      "\u001b[0;31mNameError\u001b[0m                                 Traceback (most recent call last)",
      "\u001b[0;32m/tmp/ipykernel_184425/2880074797.py\u001b[0m in \u001b[0;36m<module>\u001b[0;34m\u001b[0m\n\u001b[1;32m     20\u001b[0m         \u001b[0mprint\u001b[0m\u001b[0;34m(\u001b[0m\u001b[0;34m\"      \"\u001b[0m\u001b[0;34m,\u001b[0m\u001b[0mstr\u001b[0m\u001b[0;34m(\u001b[0m\u001b[0mdatetime\u001b[0m\u001b[0;34m.\u001b[0m\u001b[0mtimedelta\u001b[0m\u001b[0;34m(\u001b[0m\u001b[0mseconds\u001b[0m\u001b[0;34m=\u001b[0m\u001b[0mint\u001b[0m\u001b[0;34m(\u001b[0m\u001b[0mtime\u001b[0m\u001b[0;34m.\u001b[0m\u001b[0mtime\u001b[0m\u001b[0;34m(\u001b[0m\u001b[0;34m)\u001b[0m\u001b[0;34m-\u001b[0m\u001b[0mt1\u001b[0m\u001b[0;34m)\u001b[0m\u001b[0;34m)\u001b[0m\u001b[0;34m)\u001b[0m\u001b[0;34m)\u001b[0m\u001b[0;34m\u001b[0m\u001b[0;34m\u001b[0m\u001b[0m\n\u001b[1;32m     21\u001b[0m         \u001b[0mname\u001b[0m \u001b[0;34m=\u001b[0m \u001b[0;34m\"/\"\u001b[0m\u001b[0;34m+\u001b[0m \u001b[0msession_time\u001b[0m\u001b[0;34m\u001b[0m\u001b[0;34m\u001b[0m\u001b[0m\n\u001b[0;32m---> 22\u001b[0;31m         \u001b[0mpath\u001b[0m \u001b[0;34m=\u001b[0m \u001b[0mmy_path\u001b[0m \u001b[0;34m+\u001b[0m\u001b[0mdataset\u001b[0m\u001b[0;34m+\u001b[0m\u001b[0;34m\"/\"\u001b[0m\u001b[0;34m+\u001b[0m\u001b[0mfunc\u001b[0m\u001b[0;34m[\u001b[0m\u001b[0;36m8\u001b[0m\u001b[0;34m:\u001b[0m\u001b[0;34m]\u001b[0m\u001b[0;34m\u001b[0m\u001b[0;34m\u001b[0m\u001b[0m\n\u001b[0m\u001b[1;32m     23\u001b[0m         \u001b[0;32mif\u001b[0m\u001b[0;34m(\u001b[0m\u001b[0;32mnot\u001b[0m \u001b[0mos\u001b[0m\u001b[0;34m.\u001b[0m\u001b[0mpath\u001b[0m\u001b[0;34m.\u001b[0m\u001b[0misdir\u001b[0m\u001b[0;34m(\u001b[0m\u001b[0mpath\u001b[0m\u001b[0;34m)\u001b[0m\u001b[0;34m)\u001b[0m\u001b[0;34m:\u001b[0m\u001b[0;34m\u001b[0m\u001b[0;34m\u001b[0m\u001b[0m\n\u001b[1;32m     24\u001b[0m             \u001b[0mos\u001b[0m\u001b[0;34m.\u001b[0m\u001b[0mmkdir\u001b[0m\u001b[0;34m(\u001b[0m\u001b[0mmy_path\u001b[0m \u001b[0;34m+\u001b[0m\u001b[0mdataset\u001b[0m\u001b[0;34m+\u001b[0m\u001b[0;34m\"/\"\u001b[0m\u001b[0;34m+\u001b[0m\u001b[0mfunc\u001b[0m\u001b[0;34m[\u001b[0m\u001b[0;36m8\u001b[0m\u001b[0;34m:\u001b[0m\u001b[0;34m]\u001b[0m\u001b[0;34m)\u001b[0m\u001b[0;34m;\u001b[0m\u001b[0;34m\u001b[0m\u001b[0;34m\u001b[0m\u001b[0m\n",
      "\u001b[0;31mNameError\u001b[0m: name 'my_path' is not defined"
     ]
    }
   ],
   "source": [
    "n_iter = 50\n",
    "\n",
    "dataset = \"covar_x_drift_stabilized\"\n",
    "session_time = strftime(\"%Y-%m-%d_%H:%M\", gmtime())\n",
    "\n",
    "funcs = ['retrain_shap_adwin', 'retrain_adwin_loss']\n",
    "        \n",
    "for k in range(n_iter):\n",
    "    \n",
    "    session_time = strftime(\"%Y-%m-%d_%H:%M\", gmtime())\n",
    "    D_G = Drift_generators(n_samples = int(6000), n_features = 3)\n",
    "    d_centers = [(0, 0, 0.4, 0.25, 1),(0, 0.4, 1, 0, 0.25)]\n",
    "    D_G.brutal_covariate_drift(d_centers=d_centers)\n",
    "\n",
    "    print(\"  \",k, session_time)\n",
    "    for i, func in enumerate(funcs):\n",
    "        t1 = time.time()\n",
    "        print(\"    \",func[8:])\n",
    "        error, detection_indices = getattr(Drift_generators, func)(D_G)\n",
    "        print(\"      \",str(datetime.timedelta(seconds=int(time.time()-t1))))\n",
    "        name = \"/\"+ session_time\n",
    "        path = my_path +dataset+\"/\"+func[8:]\n",
    "        if(not os.path.isdir(path)):\n",
    "            os.mkdir(my_path +dataset+\"/\"+func[8:]);\n",
    "        pickle.dump( (error, detection_indices), open( path+name+\".p\", \"wb\" ))\n",
    "        \n",
    "    while(strftime(\"%Y-%m-%d_%H:%M\", gmtime()) == session_time):\n",
    "        time.sleep(5)"
   ]
  },
  {
   "cell_type": "code",
   "execution_count": null,
   "id": "517c58dc",
   "metadata": {},
   "outputs": [],
   "source": []
  },
  {
   "cell_type": "markdown",
   "id": "4e1fa3e5",
   "metadata": {},
   "source": [
    "## Concept abrupt stabilized"
   ]
  },
  {
   "cell_type": "code",
   "execution_count": null,
   "id": "ce6653a5",
   "metadata": {},
   "outputs": [],
   "source": [
    "from drift_generators import *\n",
    "from time import gmtime, strftime, time\n",
    "import os\n",
    "import pickle\n",
    "import datetime\n",
    "import time"
   ]
  },
  {
   "cell_type": "code",
   "execution_count": null,
   "id": "bf3cb524",
   "metadata": {},
   "outputs": [],
   "source": [
    "funcs= ['retrain_shap_adwin',\n",
    "         'retrain_adwin_loss']"
   ]
  },
  {
   "cell_type": "code",
   "execution_count": null,
   "id": "e34ab4b6",
   "metadata": {},
   "outputs": [
    {
     "data": {
      "image/png": "[encoded data removed]",
      "text/plain": [
       "<Figure size 720x576 with 1 Axes>"
      ]
     },
     "metadata": {
      "needs_background": "light"
     },
     "output_type": "display_data"
    }
   ],
   "source": [
    "D_G = Drift_generators(n_samples = int(7000), n_features = 3)\n",
    "circle_centers = [[0.7 for i in range(D_G.n_features)]]\n",
    "D_G.brutal_concept_drift(n_drift = 1, circle_centers = circle_centers, drift_points=[2500])\n",
    "\n",
    "D_G.retrain_nothing()\n",
    "D_G.plot_retrain()"
   ]
  },
  {
   "cell_type": "code",
   "execution_count": null,
   "id": "37c77bed",
   "metadata": {},
   "outputs": [
    {
     "name": "stdout",
     "output_type": "stream",
     "text": [
      "   0 2021-10-19_15:20\n",
      "     shap_adwin\n",
      "       0:00:26\n",
      "     adwin_loss\n",
      "       0:00:06\n"
     ]
    }
   ],
   "source": [
    "n_iter = 50\n",
    "\n",
    "dataset = \"concept_abrupt_stab\"\n",
    "session_time = strftime(\"%Y-%m-%d_%H:%M\", gmtime())\n",
    "\n",
    "funcs = ['retrain_shap_adwin', 'retrain_adwin_loss']\n",
    "        \n",
    "for k in range(n_iter):\n",
    "    \n",
    "    session_time = strftime(\"%Y-%m-%d_%H:%M\", gmtime())\n",
    "    D_G = Drift_generators(n_samples = int(7000), n_features = 3)\n",
    "    circle_centers = [[0.7 for i in range(D_G.n_features)]]\n",
    "    D_G.brutal_concept_drift(n_drift = 1, circle_centers = circle_centers, drift_points=[2500])\n",
    "\n",
    "\n",
    "    print(\"  \",k, session_time)\n",
    "    for i, func in enumerate(funcs):\n",
    "        t1 = time.time()\n",
    "        print(\"    \",func[8:])\n",
    "        error, detection_indices = getattr(Drift_generators, func)(D_G)\n",
    "        print(\"      \",str(datetime.timedelta(seconds=int(time.time()-t1))))\n",
    "        name = \"/\"+ session_time\n",
    "        path = my_path +dataset+\"/\"+func[8:]\n",
    "        if(not os.path.isdir(path)):\n",
    "            os.mkdir(my_path +dataset+\"/\"+func[8:]);\n",
    "        pickle.dump( (error, detection_indices), open( path+name+\".p\", \"wb\" ))\n",
    "        \n",
    "    while(strftime(\"%Y-%m-%d_%H:%M\", gmtime()) == session_time):\n",
    "        time.sleep(5)"
   ]
  },
  {
   "cell_type": "markdown",
   "id": "542f0ebc",
   "metadata": {},
   "source": [
    "## Concept smooth XYZ stabilized"
   ]
  },
  {
   "cell_type": "code",
   "execution_count": null,
   "id": "80b11085",
   "metadata": {},
   "outputs": [],
   "source": [
    "from drift_generators import *\n",
    "from time import gmtime, strftime, time\n",
    "import os\n",
    "import pickle\n",
    "import datetime\n",
    "import time"
   ]
  },
  {
   "cell_type": "code",
   "execution_count": null,
   "id": "fb7843b6",
   "metadata": {},
   "outputs": [],
   "source": [
    "funcs= ['retrain_shap_adwin',\n",
    "         'retrain_adwin_loss']"
   ]
  },
  {
   "cell_type": "code",
   "execution_count": null,
   "id": "f6f4577e",
   "metadata": {},
   "outputs": [
    {
     "data": {
      "image/png": "[encoded data removed]",
      "text/plain": [
       "<Figure size 720x576 with 1 Axes>"
      ]
     },
     "metadata": {
      "needs_background": "light"
     },
     "output_type": "display_data"
    }
   ],
   "source": [
    "D_G = Drift_generators(n_samples = int(7000), n_features = 3)\n",
    "circle_centers = [[0.7 for i in range(D_G.n_features)]]\n",
    "D_G.brutal_concept_drift(n_drift = 1, circle_centers = circle_centers, drift_points=[2500])\n",
    "\n",
    "D_G.retrain_nothing()\n",
    "D_G.plot_retrain()"
   ]
  },
  {
   "cell_type": "code",
   "execution_count": null,
   "id": "c074dae4",
   "metadata": {},
   "outputs": [
    {
     "name": "stdout",
     "output_type": "stream",
     "text": [
      "   0 2021-07-05_22:09\n",
      "     shap_adwin\n",
      "       0:00:18\n",
      "     adwin_loss\n",
      "       0:00:05\n",
      "   1 2021-07-05_22:10\n",
      "     shap_adwin\n",
      "       0:00:17\n",
      "     adwin_loss\n",
      "       0:00:05\n",
      "   2 2021-07-05_22:11\n",
      "     shap_adwin\n",
      "       0:00:18\n",
      "     adwin_loss\n",
      "       0:00:05\n",
      "   3 2021-07-05_22:12\n",
      "     shap_adwin\n",
      "       0:00:17\n",
      "     adwin_loss\n",
      "       0:00:05\n",
      "   4 2021-07-05_22:13\n",
      "     shap_adwin\n",
      "       0:00:17\n",
      "     adwin_loss\n",
      "       0:00:05\n",
      "   5 2021-07-05_22:14\n",
      "     shap_adwin\n",
      "       0:00:17\n",
      "     adwin_loss\n",
      "       0:00:04\n",
      "   6 2021-07-05_22:15\n",
      "     shap_adwin\n",
      "       0:00:18\n",
      "     adwin_loss\n",
      "       0:00:04\n",
      "   7 2021-07-05_22:16\n",
      "     shap_adwin\n",
      "       0:00:17\n",
      "     adwin_loss\n",
      "       0:00:05\n",
      "   8 2021-07-05_22:17\n",
      "     shap_adwin\n",
      "       0:00:18\n",
      "     adwin_loss\n",
      "       0:00:04\n",
      "   9 2021-07-05_22:18\n",
      "     shap_adwin\n",
      "       0:00:18\n",
      "     adwin_loss\n",
      "       0:00:05\n",
      "   10 2021-07-05_22:19\n",
      "     shap_adwin\n",
      "       0:00:17\n",
      "     adwin_loss\n",
      "       0:00:04\n",
      "   11 2021-07-05_22:20\n",
      "     shap_adwin\n",
      "       0:00:15\n",
      "     adwin_loss\n",
      "       0:00:05\n",
      "   12 2021-07-05_22:21\n",
      "     shap_adwin\n",
      "       0:00:16\n",
      "     adwin_loss\n",
      "       0:00:04\n",
      "   13 2021-07-05_22:22\n",
      "     shap_adwin\n",
      "       0:00:18\n",
      "     adwin_loss\n",
      "       0:00:04\n",
      "   14 2021-07-05_22:23\n",
      "     shap_adwin\n",
      "       0:00:19\n",
      "     adwin_loss\n",
      "       0:00:04\n",
      "   15 2021-07-05_22:24\n",
      "     shap_adwin\n",
      "       0:00:17\n",
      "     adwin_loss\n",
      "       0:00:05\n",
      "   16 2021-07-05_22:25\n",
      "     shap_adwin\n",
      "       0:00:17\n",
      "     adwin_loss\n",
      "       0:00:04\n",
      "   17 2021-07-05_22:26\n",
      "     shap_adwin\n",
      "       0:00:17\n",
      "     adwin_loss\n",
      "       0:00:04\n",
      "   18 2021-07-05_22:27\n",
      "     shap_adwin\n",
      "       0:00:17\n",
      "     adwin_loss\n",
      "       0:00:04\n",
      "   19 2021-07-05_22:28\n",
      "     shap_adwin\n",
      "       0:00:18\n",
      "     adwin_loss\n",
      "       0:00:04\n"
     ]
    }
   ],
   "source": [
    "n_iter = 50\n",
    "\n",
    "dataset = \"smooth_drift_sabilized\"\n",
    "session_time = strftime(\"%Y-%m-%d_%H:%M\", gmtime())\n",
    "\n",
    "funcs = ['retrain_shap_adwin', 'retrain_adwin_loss']\n",
    "        \n",
    "for k in range(n_iter):\n",
    "    \n",
    "    session_time = strftime(\"%Y-%m-%d_%H:%M\", gmtime())\n",
    "    \n",
    "    D_G = Drift_generators(n_samples = int(7000), n_features = 3)\n",
    "    circle_centers = [[0.7 for i in range(D_G.n_features)],[0.7 for i in range(D_G.n_features)]]\n",
    "    D_G.new_smooth_concept_drift(n_drift = 2, circle_centers = circle_centers, drift_points= [2500,4500])\n",
    "    \n",
    "    print(\"  \",k, session_time)\n",
    "    for i, func in enumerate(funcs):\n",
    "        t1 = time.time()\n",
    "        print(\"    \",func[8:])\n",
    "        error, detection_indices = getattr(Drift_generators, func)(D_G)\n",
    "        print(\"      \",str(datetime.timedelta(seconds=int(time.time()-t1))))\n",
    "        name = \"/\"+ session_time\n",
    "        path = my_path +dataset+\"/\"+func[8:]\n",
    "        if(not os.path.isdir(path)):\n",
    "            os.mkdir(my_path +dataset+\"/\"+func[8:]);\n",
    "        pickle.dump( (error, detection_indices), open( path+name+\".p\", \"wb\" ))\n",
    "        \n",
    "    while(strftime(\"%Y-%m-%d_%H:%M\", gmtime()) == session_time):\n",
    "        time.sleep(5)"
   ]
  },
  {
   "cell_type": "code",
   "execution_count": null,
   "id": "18399626",
   "metadata": {},
   "outputs": [],
   "source": []
  },
  {
   "cell_type": "markdown",
   "id": "8b36f942",
   "metadata": {},
   "source": [
    "## Covar xyz abrupt stabilized"
   ]
  },
  {
   "cell_type": "code",
   "execution_count": null,
   "id": "df2aad35",
   "metadata": {},
   "outputs": [],
   "source": [
    "from drift_generators import *\n",
    "from time import gmtime, strftime, time\n",
    "import os\n",
    "import pickle\n",
    "import datetime\n",
    "import time"
   ]
  },
  {
   "cell_type": "code",
   "execution_count": null,
   "id": "82c2c9be",
   "metadata": {},
   "outputs": [],
   "source": [
    "funcs= ['retrain_shap_adwin',\n",
    "         'retrain_adwin_loss']"
   ]
  },
  {
   "cell_type": "code",
   "execution_count": null,
   "id": "444da630",
   "metadata": {},
   "outputs": [
    {
     "data": {
      "image/png": "[encoded data removed]",
      "text/plain": [
       "<Figure size 720x576 with 1 Axes>"
      ]
     },
     "metadata": {
      "needs_background": "light"
     },
     "output_type": "display_data"
    }
   ],
   "source": [
    "D_G = Drift_generators(n_samples = int(6000), n_features = 3)\n",
    "d_centers = [(0, 0, 0.4, 0.25, 1),(0, 0.4, 1, 0, 0.25),\n",
    "            (1, 0, 0.4, 0.25, 1),(1, 0.4, 1, 0, 0.25),\n",
    "            (2, 0, 0.4, 0.25, 1),(2, 0.4, 1, 0, 0.25),]\n",
    "D_G.brutal_covariate_drift(d_centers=d_centers)\n",
    "\n",
    "D_G.retrain_nothing()\n",
    "D_G.plot_retrain()"
   ]
  },
  {
   "cell_type": "code",
   "execution_count": null,
   "id": "3656819a",
   "metadata": {},
   "outputs": [
    {
     "name": "stdout",
     "output_type": "stream",
     "text": [
      "   0 2021-07-05_22:29\n",
      "     shap_adwin\n",
      "       0:00:12\n",
      "     adwin_loss\n",
      "       0:00:03\n",
      "   1 2021-07-05_22:30\n",
      "     shap_adwin\n",
      "       0:00:12\n",
      "     adwin_loss\n",
      "       0:00:03\n",
      "   2 2021-07-05_22:31\n",
      "     shap_adwin\n",
      "       0:00:13\n",
      "     adwin_loss\n",
      "       0:00:03\n",
      "   3 2021-07-05_22:32\n",
      "     shap_adwin\n",
      "       0:00:12\n",
      "     adwin_loss\n",
      "       0:00:03\n",
      "   4 2021-07-05_22:33\n",
      "     shap_adwin\n",
      "       0:00:13\n",
      "     adwin_loss\n",
      "       0:00:03\n",
      "   5 2021-07-05_22:34\n",
      "     shap_adwin\n",
      "       0:00:12\n",
      "     adwin_loss\n",
      "       0:00:03\n",
      "   6 2021-07-05_22:35\n",
      "     shap_adwin\n",
      "       0:00:12\n",
      "     adwin_loss\n",
      "       0:00:03\n",
      "   7 2021-07-05_22:36\n",
      "     shap_adwin\n",
      "       0:00:13\n",
      "     adwin_loss\n",
      "       0:00:03\n",
      "   8 2021-07-05_22:37\n",
      "     shap_adwin\n",
      "       0:00:11\n",
      "     adwin_loss\n",
      "       0:00:03\n",
      "   9 2021-07-05_22:38\n",
      "     shap_adwin\n",
      "       0:00:12\n",
      "     adwin_loss\n",
      "       0:00:03\n",
      "   10 2021-07-05_22:39\n",
      "     shap_adwin\n",
      "       0:00:14\n",
      "     adwin_loss\n",
      "       0:00:03\n",
      "   11 2021-07-05_22:40\n",
      "     shap_adwin\n",
      "       0:00:13\n",
      "     adwin_loss\n",
      "       0:00:03\n",
      "   12 2021-07-05_22:41\n",
      "     shap_adwin\n",
      "       0:00:13\n",
      "     adwin_loss\n",
      "       0:00:03\n"
     ]
    }
   ],
   "source": [
    "n_iter = 20\n",
    "\n",
    "dataset = \"covar_xyz_drift_stabilized\"\n",
    "session_time = strftime(\"%Y-%m-%d_%H:%M\", gmtime())\n",
    "\n",
    "funcs = ['retrain_shap_adwin', 'retrain_adwin_loss']\n",
    "        \n",
    "for k in range(n_iter):\n",
    "    \n",
    "    session_time = strftime(\"%Y-%m-%d_%H:%M\", gmtime())\n",
    "    D_G = Drift_generators(n_samples = int(6000), n_features = 3)\n",
    "    d_centers = [(0, 0, 0.4, 0.25, 1),(0, 0.4, 1, 0, 0.25),\n",
    "                (1, 0, 0.4, 0.25, 1),(1, 0.4, 1, 0, 0.25),\n",
    "                (2, 0, 0.4, 0.25, 1),(2, 0.4, 1, 0, 0.25),]\n",
    "    D_G.brutal_covariate_drift(d_centers=d_centers)\n",
    "\n",
    "    print(\"  \",k, session_time)\n",
    "    for i, func in enumerate(funcs):\n",
    "        t1 = time.time()\n",
    "        print(\"    \",func[8:])\n",
    "        error, detection_indices = getattr(Drift_generators, func)(D_G)\n",
    "        print(\"      \",str(datetime.timedelta(seconds=int(time.time()-t1))))\n",
    "        name = \"/\"+ session_time\n",
    "        path = my_path +dataset+\"/\"+func[8:]\n",
    "        if(not os.path.isdir(path)):\n",
    "            os.mkdir(my_path +dataset+\"/\"+func[8:]);\n",
    "        pickle.dump( (error, detection_indices), open( path+name+\".p\", \"wb\" ))\n",
    "        \n",
    "    while(strftime(\"%Y-%m-%d_%H:%M\", gmtime()) == session_time):\n",
    "        time.sleep(5)"
   ]
  },
  {
   "cell_type": "code",
   "execution_count": null,
   "id": "f3eea536",
   "metadata": {},
   "outputs": [],
   "source": []
  },
  {
   "cell_type": "code",
   "execution_count": null,
   "id": "8a72d0a6",
   "metadata": {},
   "outputs": [],
   "source": []
  },
  {
   "cell_type": "markdown",
   "id": "6fad49d7",
   "metadata": {},
   "source": [
    "## Concept X abrupt stabilized"
   ]
  },
  {
   "cell_type": "code",
   "execution_count": null,
   "id": "52ec9d2f",
   "metadata": {},
   "outputs": [],
   "source": [
    "from drift_generators import *\n",
    "from time import gmtime, strftime, time\n",
    "import os\n",
    "import pickle\n",
    "import datetime\n",
    "import time"
   ]
  },
  {
   "cell_type": "code",
   "execution_count": null,
   "id": "0455feb3",
   "metadata": {},
   "outputs": [],
   "source": [
    "funcs= ['retrain_shap_adwin',\n",
    "         'retrain_adwin_loss']"
   ]
  },
  {
   "cell_type": "code",
   "execution_count": null,
   "id": "f763cf84",
   "metadata": {},
   "outputs": [
    {
     "data": {
      "image/png": "[encoded data removed]",
      "text/plain": [
       "<Figure size 720x576 with 1 Axes>"
      ]
     },
     "metadata": {
      "needs_background": "light"
     },
     "output_type": "display_data"
    }
   ],
   "source": [
    "D_G = Drift_generators(n_samples = int(7000), n_features = 3)\n",
    "circle_centers = [[0.7]+[0.4 for i in range(1,D_G.n_features)]]\n",
    "D_G.brutal_concept_drift(n_drift = 1, circle_centers = circle_centers, drift_points=[2500])\n",
    "\n",
    "D_G.retrain_nothing()\n",
    "D_G.plot_retrain()"
   ]
  },
  {
   "cell_type": "code",
   "execution_count": null,
   "id": "7145d339",
   "metadata": {
    "scrolled": true
   },
   "outputs": [
    {
     "name": "stdout",
     "output_type": "stream",
     "text": [
      "   0 2021-07-05_22:42\n",
      "     shap_adwin\n",
      "       0:00:16\n",
      "     adwin_loss\n",
      "       0:00:04\n",
      "   1 2021-07-05_22:43\n",
      "     shap_adwin\n",
      "       0:00:17\n",
      "     adwin_loss\n",
      "       0:00:05\n",
      "   2 2021-07-05_22:44\n",
      "     shap_adwin\n",
      "       0:00:18\n",
      "     adwin_loss\n",
      "       0:00:04\n",
      "   3 2021-07-05_22:45\n",
      "     shap_adwin\n",
      "       0:00:18\n",
      "     adwin_loss\n",
      "       0:00:05\n",
      "   4 2021-07-05_22:46\n",
      "     shap_adwin\n",
      "       0:00:16\n",
      "     adwin_loss\n",
      "       0:00:04\n",
      "   5 2021-07-05_22:47\n",
      "     shap_adwin\n",
      "       0:00:17\n",
      "     adwin_loss\n",
      "       0:00:04\n",
      "   6 2021-07-05_22:48\n",
      "     shap_adwin\n",
      "       0:00:17\n",
      "     adwin_loss\n",
      "       0:00:04\n",
      "   7 2021-07-05_22:49\n",
      "     shap_adwin\n",
      "       0:00:17\n",
      "     adwin_loss\n",
      "       0:00:04\n",
      "   8 2021-07-05_22:50\n",
      "     shap_adwin\n",
      "       0:00:18\n",
      "     adwin_loss\n",
      "       0:00:04\n",
      "   9 2021-07-05_22:51\n",
      "     shap_adwin\n",
      "       0:00:16\n",
      "     adwin_loss\n",
      "       0:00:04\n",
      "   10 2021-07-05_22:52\n",
      "     shap_adwin\n",
      "       0:00:17\n",
      "     adwin_loss\n",
      "       0:00:04\n",
      "   11 2021-07-05_22:53\n",
      "     shap_adwin\n",
      "       0:00:16\n",
      "     adwin_loss\n",
      "       0:00:04\n",
      "   12 2021-07-05_22:54\n",
      "     shap_adwin\n",
      "       0:00:17\n",
      "     adwin_loss\n",
      "       0:00:04\n",
      "   13 2021-07-05_22:55\n",
      "     shap_adwin\n",
      "       0:00:16\n",
      "     adwin_loss\n",
      "       0:00:04\n",
      "   14 2021-07-05_22:56\n",
      "     shap_adwin\n",
      "       0:00:17\n",
      "     adwin_loss\n",
      "       0:00:05\n",
      "   15 2021-07-05_22:57\n",
      "     shap_adwin\n",
      "       0:00:18\n",
      "     adwin_loss\n",
      "       0:00:04\n",
      "   16 2021-07-05_22:58\n",
      "     shap_adwin\n",
      "       0:00:17\n",
      "     adwin_loss\n",
      "       0:00:04\n",
      "   17 2021-07-05_22:59\n",
      "     shap_adwin\n",
      "       0:00:17\n",
      "     adwin_loss\n",
      "       0:00:04\n",
      "   18 2021-07-05_23:00\n",
      "     shap_adwin\n",
      "       0:00:17\n",
      "     adwin_loss\n",
      "       0:00:04\n",
      "   19 2021-07-05_23:01\n",
      "     shap_adwin\n",
      "       0:00:19\n",
      "     adwin_loss\n",
      "       0:00:05\n"
     ]
    }
   ],
   "source": [
    "n_iter = 20\n",
    "\n",
    "dataset = \"concept_x_abrupt_stab\"\n",
    "session_time = strftime(\"%Y-%m-%d_%H:%M\", gmtime())\n",
    "\n",
    "funcs = ['retrain_shap_adwin', 'retrain_adwin_loss']\n",
    "        \n",
    "for k in range(n_iter):\n",
    "    \n",
    "    session_time = strftime(\"%Y-%m-%d_%H:%M\", gmtime())\n",
    "    D_G = Drift_generators(n_samples = int(7000), n_features = 3)\n",
    "    circle_centers = [[0.7]+[0.4 for i in range(1,D_G.n_features)]]\n",
    "    D_G.brutal_concept_drift(n_drift = 1, circle_centers = circle_centers, drift_points=[2500])\n",
    "\n",
    "    print(\"  \",k, session_time)\n",
    "    for i, func in enumerate(funcs):\n",
    "        t1 = time.time()\n",
    "        print(\"    \",func[8:])\n",
    "        error, detection_indices = getattr(Drift_generators, func)(D_G)\n",
    "        print(\"      \",str(datetime.timedelta(seconds=int(time.time()-t1))))\n",
    "        name = \"/\"+ session_time\n",
    "        path = my_path +dataset+\"/\"+func[8:]\n",
    "        if(not os.path.isdir(path)):\n",
    "            os.mkdir(my_path +dataset+\"/\"+func[8:]);\n",
    "        pickle.dump( (error, detection_indices), open( path+name+\".p\", \"wb\" ))\n",
    "        \n",
    "    while(strftime(\"%Y-%m-%d_%H:%M\", gmtime()) == session_time):\n",
    "        time.sleep(5)"
   ]
  },
  {
   "cell_type": "markdown",
   "id": "5ca49fd6",
   "metadata": {},
   "source": [
    "## Concept X smooth stabilized"
   ]
  },
  {
   "cell_type": "code",
   "execution_count": null,
   "id": "3ac2dc7d",
   "metadata": {},
   "outputs": [],
   "source": [
    "from drift_generators import *\n",
    "from time import gmtime, strftime, time\n",
    "import os\n",
    "import pickle\n",
    "import datetime\n",
    "import time"
   ]
  },
  {
   "cell_type": "code",
   "execution_count": null,
   "id": "ba7118d7",
   "metadata": {},
   "outputs": [],
   "source": [
    "funcs= ['retrain_shap_adwin',\n",
    "         'retrain_adwin_loss']"
   ]
  },
  {
   "cell_type": "code",
   "execution_count": null,
   "id": "9509331a",
   "metadata": {},
   "outputs": [
    {
     "data": {
      "image/png": "[encoded data removed]",
      "text/plain": [
       "<Figure size 720x576 with 1 Axes>"
      ]
     },
     "metadata": {
      "needs_background": "light"
     },
     "output_type": "display_data"
    }
   ],
   "source": [
    "D_G = Drift_generators(n_samples = int(7000), n_features = 3)\n",
    "\n",
    "circle_centers = [[0.7]+[0.4 for i in range(1,D_G.n_features)], \n",
    "                  [0.7]+[0.4 for i in range(1,D_G.n_features)]]\n",
    "D_G.new_smooth_concept_drift(n_drift = 2, circle_centers = circle_centers, drift_points= [2500,4500])\n",
    "    \n",
    "\n",
    "D_G.retrain_nothing()\n",
    "D_G.plot_retrain()"
   ]
  },
  {
   "cell_type": "code",
   "execution_count": null,
   "id": "9738d13d",
   "metadata": {
    "scrolled": true
   },
   "outputs": [
    {
     "name": "stdout",
     "output_type": "stream",
     "text": [
      "   0 2021-07-05_23:02\n",
      "     shap_adwin\n",
      "       0:00:17\n",
      "     adwin_loss\n",
      "       0:00:04\n",
      "   1 2021-07-05_23:03\n",
      "     shap_adwin\n",
      "       0:00:17\n",
      "     adwin_loss\n",
      "       0:00:05\n",
      "   2 2021-07-05_23:04\n",
      "     shap_adwin\n",
      "       0:00:18\n",
      "     adwin_loss\n",
      "       0:00:04\n",
      "   3 2021-07-05_23:05\n",
      "     shap_adwin\n",
      "       0:00:18\n",
      "     adwin_loss\n",
      "       0:00:04\n",
      "   4 2021-07-05_23:06\n",
      "     shap_adwin\n",
      "       0:00:16\n",
      "     adwin_loss\n",
      "       0:00:04\n",
      "   5 2021-07-05_23:07\n",
      "     shap_adwin\n",
      "       0:00:16\n",
      "     adwin_loss\n",
      "       0:00:04\n",
      "   6 2021-07-05_23:08\n",
      "     shap_adwin\n",
      "       0:00:16\n",
      "     adwin_loss\n",
      "       0:00:04\n",
      "   7 2021-07-05_23:09\n",
      "     shap_adwin\n",
      "       0:00:16\n",
      "     adwin_loss\n",
      "       0:00:04\n",
      "   8 2021-07-05_23:10\n",
      "     shap_adwin\n",
      "       0:00:18\n",
      "     adwin_loss\n",
      "       0:00:05\n",
      "   9 2021-07-05_23:11\n",
      "     shap_adwin\n",
      "       0:00:17\n",
      "     adwin_loss\n",
      "       0:00:04\n",
      "   10 2021-07-05_23:12\n",
      "     shap_adwin\n",
      "       0:00:16\n",
      "     adwin_loss\n",
      "       0:00:04\n",
      "   11 2021-07-05_23:13\n",
      "     shap_adwin\n",
      "       0:00:17\n",
      "     adwin_loss\n",
      "       0:00:04\n",
      "   12 2021-07-05_23:14\n",
      "     shap_adwin\n",
      "       0:00:17\n",
      "     adwin_loss\n",
      "       0:00:05\n",
      "   13 2021-07-05_23:15\n",
      "     shap_adwin\n",
      "       0:00:17\n",
      "     adwin_loss\n",
      "       0:00:05\n",
      "   14 2021-07-05_23:16\n",
      "     shap_adwin\n",
      "       0:00:18\n",
      "     adwin_loss\n",
      "       0:00:04\n",
      "   15 2021-07-05_23:17\n",
      "     shap_adwin\n",
      "       0:00:18\n",
      "     adwin_loss\n",
      "       0:00:04\n",
      "   16 2021-07-05_23:18\n",
      "     shap_adwin\n",
      "       0:00:17\n",
      "     adwin_loss\n",
      "       0:00:04\n",
      "   17 2021-07-05_23:19\n",
      "     shap_adwin\n",
      "       0:00:17\n",
      "     adwin_loss\n",
      "       0:00:05\n",
      "   18 2021-07-05_23:20\n",
      "     shap_adwin\n",
      "       0:00:18\n",
      "     adwin_loss\n",
      "       0:00:05\n",
      "   19 2021-07-05_23:21\n",
      "     shap_adwin\n",
      "       0:00:18\n",
      "     adwin_loss\n",
      "       0:00:04\n"
     ]
    }
   ],
   "source": [
    "n_iter = 20\n",
    "\n",
    "dataset = \"smooth_x_drift_sabilized\"\n",
    "session_time = strftime(\"%Y-%m-%d_%H:%M\", gmtime())\n",
    "\n",
    "funcs = ['retrain_shap_adwin', 'retrain_adwin_loss']\n",
    "        \n",
    "for k in range(n_iter):\n",
    "    \n",
    "    session_time = strftime(\"%Y-%m-%d_%H:%M\", gmtime())\n",
    "    D_G = Drift_generators(n_samples = int(7000), n_features = 3)\n",
    "    circle_centers = [[0.7]+[0.4 for i in range(1,D_G.n_features)], \n",
    "                      [0.7]+[0.4 for i in range(1,D_G.n_features)]]\n",
    "    D_G.new_smooth_concept_drift(n_drift = 2, circle_centers = circle_centers, drift_points= [2500,4500])\n",
    "\n",
    "    print(\"  \",k, session_time)\n",
    "    for i, func in enumerate(funcs):\n",
    "        t1 = time.time()\n",
    "        print(\"    \",func[8:])\n",
    "        error, detection_indices = getattr(Drift_generators, func)(D_G)\n",
    "        print(\"      \",str(datetime.timedelta(seconds=int(time.time()-t1))))\n",
    "        name = \"/\"+ session_time\n",
    "        path = my_path +dataset+\"/\"+func[8:]\n",
    "        if(not os.path.isdir(path)):\n",
    "            os.mkdir(my_path +dataset+\"/\"+func[8:]);\n",
    "        pickle.dump( (error, detection_indices), open( path+name+\".p\", \"wb\" ))\n",
    "        \n",
    "    while(strftime(\"%Y-%m-%d_%H:%M\", gmtime()) == session_time):\n",
    "        time.sleep(5)"
   ]
  },
  {
   "cell_type": "markdown",
   "id": "1536235b",
   "metadata": {},
   "source": [
    "## LOADED DATA - STAGGER"
   ]
  },
  {
   "cell_type": "code",
   "execution_count": null,
   "id": "3b42625f",
   "metadata": {},
   "outputs": [],
   "source": [
    "from drift_generators import *\n",
    "from time import gmtime, strftime, time\n",
    "import os\n",
    "import pickle\n",
    "import datetime\n",
    "import time"
   ]
  },
  {
   "cell_type": "code",
   "execution_count": null,
   "id": "351d46ff",
   "metadata": {},
   "outputs": [],
   "source": [
    "funcs= ['retrain_shap_adwin',\n",
    "         'retrain_adwin_loss']"
   ]
  },
  {
   "cell_type": "code",
   "execution_count": null,
   "id": "438d5c69",
   "metadata": {},
   "outputs": [
    {
     "data": {
      "image/png": "[encoded data removed]",
      "text/plain": [
       "<Figure size 720x576 with 1 Axes>"
      ]
     },
     "metadata": {
      "needs_background": "light"
     },
     "output_type": "display_data"
    }
   ],
   "source": [
    "D_G = Drift_generators()\n",
    "D_G.load_df(\"stagger_short\")\n",
    "D_G.df = D_G.df.iloc[:4000]\n",
    "D_G.drift_points = D_G.drift_points [:-1]\n",
    "D_G.n = 4000\n",
    "D_G.drift_points\n",
    "\n",
    "\n",
    "\n",
    "D_G.retrain_nothing()\n",
    "D_G.plot_retrain()"
   ]
  },
  {
   "cell_type": "code",
   "execution_count": null,
   "id": "c8fbb73d",
   "metadata": {},
   "outputs": [
    {
     "name": "stdout",
     "output_type": "stream",
     "text": [
      "stagger_short\n",
      "   0 2021-07-07_12:41\n",
      "     shap_adwin\n",
      "       0:00:07\n",
      "     adwin_loss\n",
      "       0:00:02\n",
      "sine1_short\n",
      "   0 2021-07-07_12:41\n",
      "     shap_adwin\n",
      "       0:00:07\n",
      "     adwin_loss\n",
      "       0:00:03\n",
      "sine2_short\n",
      "   0 2021-07-07_12:41\n",
      "     shap_adwin\n",
      "       0:00:11\n",
      "     adwin_loss\n",
      "       0:00:04\n",
      "stagger_short\n",
      "   1 2021-07-07_12:42\n",
      "     shap_adwin\n",
      "       0:00:11\n",
      "     adwin_loss\n",
      "       0:00:04\n",
      "sine1_short\n",
      "   1 2021-07-07_12:42\n",
      "     shap_adwin\n",
      "       0:00:10\n",
      "     adwin_loss\n",
      "       0:00:03\n",
      "sine2_short\n",
      "   1 2021-07-07_12:42\n",
      "     shap_adwin\n",
      "       0:00:13\n",
      "     adwin_loss\n",
      "       0:00:03\n",
      "stagger_short\n",
      "   2 2021-07-07_12:42\n",
      "     shap_adwin\n",
      "       0:00:08\n",
      "     adwin_loss\n",
      "       0:00:03\n",
      "sine1_short\n",
      "   2 2021-07-07_12:42\n",
      "     shap_adwin\n",
      "       0:00:09\n",
      "     adwin_loss\n",
      "       0:00:02\n",
      "sine2_short\n",
      "   2 2021-07-07_12:42\n",
      "     shap_adwin\n",
      "       0:00:09\n",
      "     adwin_loss\n",
      "       0:00:02\n",
      "stagger_short\n",
      "   3 2021-07-07_12:43\n",
      "     shap_adwin\n",
      "       0:00:09\n",
      "     adwin_loss\n",
      "       0:00:04\n",
      "sine1_short\n",
      "   3 2021-07-07_12:43\n",
      "     shap_adwin\n",
      "       0:00:10\n",
      "     adwin_loss\n",
      "       0:00:03\n",
      "sine2_short\n",
      "   3 2021-07-07_12:43\n",
      "     shap_adwin\n",
      "       0:00:09\n",
      "     adwin_loss\n",
      "       0:00:03\n",
      "stagger_short\n",
      "   4 2021-07-07_12:44\n",
      "     shap_adwin\n",
      "       0:00:09\n",
      "     adwin_loss\n",
      "       0:00:04\n",
      "sine1_short\n",
      "   4 2021-07-07_12:44\n",
      "     shap_adwin\n",
      "       0:00:11\n",
      "     adwin_loss\n",
      "       0:00:03\n",
      "sine2_short\n",
      "   4 2021-07-07_12:44\n",
      "     shap_adwin\n",
      "       0:00:11\n",
      "     adwin_loss\n",
      "       0:00:04\n",
      "stagger_short\n",
      "   5 2021-07-07_12:44\n",
      "     shap_adwin\n",
      "       0:00:12\n",
      "     adwin_loss\n",
      "       0:00:05\n",
      "sine1_short\n",
      "   5 2021-07-07_12:44\n",
      "     shap_adwin\n",
      "       0:00:10\n",
      "     adwin_loss\n",
      "       0:00:03\n",
      "sine2_short\n",
      "   5 2021-07-07_12:44\n",
      "     shap_adwin\n",
      "       0:00:09\n",
      "     adwin_loss\n",
      "       0:00:02\n",
      "stagger_short\n",
      "   6 2021-07-07_12:45\n",
      "     shap_adwin\n",
      "       0:00:09\n",
      "     adwin_loss\n",
      "       0:00:05\n",
      "sine1_short\n",
      "   6 2021-07-07_12:45\n",
      "     shap_adwin\n",
      "       0:00:11\n",
      "     adwin_loss\n",
      "       0:00:04\n",
      "sine2_short\n",
      "   6 2021-07-07_12:45\n",
      "     shap_adwin\n",
      "       0:00:11\n",
      "     adwin_loss\n",
      "       0:00:03\n",
      "stagger_short\n",
      "   7 2021-07-07_12:46\n",
      "     shap_adwin\n",
      "       0:00:10\n",
      "     adwin_loss\n",
      "       0:00:05\n",
      "sine1_short\n",
      "   7 2021-07-07_12:46\n",
      "     shap_adwin\n",
      "       0:00:10\n",
      "     adwin_loss\n",
      "       0:00:03\n",
      "sine2_short\n",
      "   7 2021-07-07_12:46\n",
      "     shap_adwin\n",
      "       0:00:13\n",
      "     adwin_loss\n",
      "       0:00:03\n",
      "stagger_short\n",
      "   8 2021-07-07_12:47\n",
      "     shap_adwin\n",
      "       0:00:11\n",
      "     adwin_loss\n",
      "       0:00:04\n",
      "sine1_short\n",
      "   8 2021-07-07_12:47\n",
      "     shap_adwin\n",
      "       0:00:10\n",
      "     adwin_loss\n",
      "       0:00:04\n",
      "sine2_short\n",
      "   8 2021-07-07_12:47\n",
      "     shap_adwin\n",
      "       0:00:11\n",
      "     adwin_loss\n",
      "       0:00:03\n",
      "stagger_short\n",
      "   9 2021-07-07_12:48\n",
      "     shap_adwin\n",
      "       0:00:08\n",
      "     adwin_loss\n",
      "       0:00:03\n",
      "sine1_short\n",
      "   9 2021-07-07_12:48\n",
      "     shap_adwin\n",
      "       0:00:13\n",
      "     adwin_loss\n",
      "       0:00:02\n",
      "sine2_short\n",
      "   9 2021-07-07_12:48\n",
      "     shap_adwin\n",
      "       0:00:12\n",
      "     adwin_loss\n",
      "       0:00:03\n",
      "stagger_short\n",
      "   10 2021-07-07_12:48\n",
      "     shap_adwin\n",
      "       0:00:12\n",
      "     adwin_loss\n",
      "       0:00:09\n",
      "sine1_short\n",
      "   10 2021-07-07_12:48\n",
      "     shap_adwin\n",
      "       0:00:10\n",
      "     adwin_loss\n",
      "       0:00:06\n",
      "sine2_short\n",
      "   10 2021-07-07_12:48\n",
      "     shap_adwin\n",
      "       0:00:09\n",
      "     adwin_loss\n",
      "       0:00:03\n",
      "stagger_short\n",
      "   11 2021-07-07_12:49\n",
      "     shap_adwin\n",
      "       0:00:09\n",
      "     adwin_loss\n",
      "       0:00:05\n",
      "sine1_short\n",
      "   11 2021-07-07_12:49\n",
      "     shap_adwin\n",
      "       0:00:10\n",
      "     adwin_loss\n",
      "       0:00:03\n",
      "sine2_short\n",
      "   11 2021-07-07_12:49\n",
      "     shap_adwin\n",
      "       0:00:11\n",
      "     adwin_loss\n",
      "       0:00:03\n",
      "stagger_short\n",
      "   12 2021-07-07_12:50\n",
      "     shap_adwin\n",
      "       0:00:11\n",
      "     adwin_loss\n",
      "       0:00:05\n",
      "sine1_short\n",
      "   12 2021-07-07_12:50\n",
      "     shap_adwin\n",
      "       0:00:11\n",
      "     adwin_loss\n",
      "       0:00:04\n",
      "sine2_short\n",
      "   12 2021-07-07_12:50\n",
      "     shap_adwin\n",
      "       0:00:11\n",
      "     adwin_loss\n",
      "       0:00:03\n",
      "stagger_short\n",
      "   13 2021-07-07_12:51\n",
      "     shap_adwin\n",
      "       0:00:10\n",
      "     adwin_loss\n",
      "       0:00:05\n",
      "sine1_short\n",
      "   13 2021-07-07_12:51\n",
      "     shap_adwin\n",
      "       0:00:11\n",
      "     adwin_loss\n",
      "       0:00:04\n",
      "sine2_short\n",
      "   13 2021-07-07_12:51\n",
      "     shap_adwin\n",
      "       0:00:11\n",
      "     adwin_loss\n",
      "       0:00:03\n",
      "stagger_short\n",
      "   14 2021-07-07_12:51\n",
      "     shap_adwin\n",
      "       0:00:08\n",
      "     adwin_loss\n",
      "       0:00:04\n",
      "sine1_short\n",
      "   14 2021-07-07_12:51\n",
      "     shap_adwin\n",
      "       0:00:11\n",
      "     adwin_loss\n",
      "       0:00:02\n",
      "sine2_short\n",
      "   14 2021-07-07_12:51\n",
      "     shap_adwin\n",
      "       0:00:10\n",
      "     adwin_loss\n",
      "       0:00:04\n",
      "stagger_short\n",
      "   15 2021-07-07_12:52\n",
      "     shap_adwin\n",
      "       0:00:09\n",
      "     adwin_loss\n",
      "       0:00:04\n",
      "sine1_short\n",
      "   15 2021-07-07_12:52\n",
      "     shap_adwin\n",
      "       0:00:13\n",
      "     adwin_loss\n",
      "       0:00:07\n",
      "sine2_short\n",
      "   15 2021-07-07_12:52\n",
      "     shap_adwin\n",
      "       0:00:11\n",
      "     adwin_loss\n",
      "       0:00:03\n",
      "stagger_short\n",
      "   16 2021-07-07_12:53\n",
      "     shap_adwin\n",
      "       0:00:14\n",
      "     adwin_loss\n",
      "       0:00:05\n",
      "sine1_short\n",
      "   16 2021-07-07_12:53\n",
      "     shap_adwin\n",
      "       0:00:15\n",
      "     adwin_loss\n",
      "       0:00:09\n",
      "sine2_short\n",
      "   16 2021-07-07_12:53\n",
      "     shap_adwin\n",
      "       0:00:16\n",
      "     adwin_loss\n",
      "       0:00:03\n",
      "stagger_short\n",
      "   17 2021-07-07_12:54\n",
      "     shap_adwin\n",
      "       0:00:08\n",
      "     adwin_loss\n",
      "       0:00:03\n",
      "sine1_short\n",
      "   17 2021-07-07_12:54\n",
      "     shap_adwin\n",
      "       0:00:09\n",
      "     adwin_loss\n",
      "       0:00:03\n",
      "sine2_short\n",
      "   17 2021-07-07_12:54\n",
      "     shap_adwin\n",
      "       0:00:10\n",
      "     adwin_loss\n",
      "       0:00:04\n",
      "stagger_short\n",
      "   18 2021-07-07_12:55\n",
      "     shap_adwin\n",
      "       0:00:11\n",
      "     adwin_loss\n",
      "       0:00:04\n",
      "sine1_short\n",
      "   18 2021-07-07_12:55\n",
      "     shap_adwin\n",
      "       0:00:11\n",
      "     adwin_loss\n",
      "       0:00:03\n",
      "sine2_short\n",
      "   18 2021-07-07_12:55\n",
      "     shap_adwin\n",
      "       0:00:11\n",
      "     adwin_loss\n",
      "       0:00:03\n",
      "stagger_short\n",
      "   19 2021-07-07_12:55\n",
      "     shap_adwin\n",
      "       0:00:09\n",
      "     adwin_loss\n",
      "       0:00:06\n",
      "sine1_short\n",
      "   19 2021-07-07_12:55\n",
      "     shap_adwin\n",
      "       0:00:11\n",
      "     adwin_loss\n",
      "       0:00:03\n",
      "sine2_short\n",
      "   19 2021-07-07_12:55\n",
      "     shap_adwin\n",
      "       0:00:10\n",
      "     adwin_loss\n",
      "       0:00:03\n"
     ]
    }
   ],
   "source": [
    "n_iter = 20\n",
    "\n",
    "loaded_datasets = [\"stagger_short\", \"sine1_short\", \"sine2_short\"]\n",
    "dataset = \"stagger_short_single\"\n",
    "session_time = strftime(\"%Y-%m-%d_%H:%M\", gmtime())\n",
    "\n",
    "funcs = ['retrain_shap_adwin', 'retrain_adwin_loss']\n",
    "\n",
    "for k in range(n_iter):    \n",
    "    session_time = strftime(\"%Y-%m-%d_%H:%M\", gmtime())\n",
    "    for dataset in loaded_datasets:\n",
    "        print(dataset)\n",
    "        D_G = Drift_generators()\n",
    "        D_G.load_df(dataset)\n",
    "        D_G.df = D_G.df.iloc[:4000]\n",
    "        D_G.drift_points = D_G.drift_points [:-1]\n",
    "        D_G.n = 4000\n",
    "        D_G.drift_points\n",
    "\n",
    "        print(\"  \",k, session_time)\n",
    "        for i, func in enumerate(funcs):\n",
    "            t1 = time.time()\n",
    "            print(\"    \",func[8:])\n",
    "            error, detection_indices = getattr(Drift_generators, func)(D_G)\n",
    "            print(\"      \",str(datetime.timedelta(seconds=int(time.time()-t1))))\n",
    "            name = \"/\"+ session_time\n",
    "            path = my_path +dataset+\"_single/\"+func[8:]\n",
    "            if(not os.path.isdir(path)):\n",
    "                os.mkdir(my_path +dataset+\"_single/\"+func[8:]);\n",
    "            pickle.dump( (error, detection_indices), open( path+name+\".p\", \"wb\" ))\n",
    "        \n",
    "while(strftime(\"%Y-%m-%d_%H:%M\", gmtime()) == session_time):\n",
    "    time.sleep(5)"
   ]
  },
  {
   "cell_type": "code",
   "execution_count": null,
   "id": "ab330be3",
   "metadata": {},
   "outputs": [],
   "source": []
  },
  {
   "cell_type": "markdown",
   "id": "349166fc",
   "metadata": {},
   "source": [
    "# SAME but with NOISE"
   ]
  },
  {
   "cell_type": "code",
   "execution_count": null,
   "id": "b33a8f8a",
   "metadata": {},
   "outputs": [],
   "source": []
  },
  {
   "cell_type": "code",
   "execution_count": null,
   "id": "eb41e3f5",
   "metadata": {},
   "outputs": [],
   "source": [
    "from drift_generators import *\n",
    "from time import gmtime, strftime, time\n",
    "import os\n",
    "import pickle\n",
    "import datetime\n",
    "import time"
   ]
  },
  {
   "cell_type": "code",
   "execution_count": null,
   "id": "e4d29922",
   "metadata": {},
   "outputs": [],
   "source": [
    "funcs= ['retrain_shap_adwin',\n",
    "         'retrain_adwin_loss',\n",
    "         'retrain_nothing']"
   ]
  },
  {
   "cell_type": "code",
   "execution_count": null,
   "id": "b0ce355c",
   "metadata": {},
   "outputs": [],
   "source": [
    "D_G = Drift_generators(n_samples = int(6000), n_features = 3)\n",
    "d_centers = [(0, 0, 0.4, 0.25, 1),(0, 0.4, 1, 0, 0.25)]\n",
    "D_G.brutal_covariate_drift(d_centers=d_centers)\n",
    "\n",
    "D_G.retrain_nothing()\n",
    "D_G.plot_retrain()"
   ]
  },
  {
   "cell_type": "code",
   "execution_count": null,
   "id": "ef2f2fb5",
   "metadata": {
    "scrolled": true
   },
   "outputs": [],
   "source": [
    "n_iter = 40\n",
    "\n",
    "dataset = \"covar_x_drift_stabilized\"\n",
    "session_time = strftime(\"%Y-%m-%d_%H:%M\", gmtime())\n",
    "\n",
    "funcs = ['retrain_shap_adwin', 'retrain_adwin_loss']\n",
    "        \n",
    "for k in range(n_iter):\n",
    "    \n",
    "    session_time = strftime(\"%Y-%m-%d_%H:%M\", gmtime())\n",
    "    D_G = Drift_generators(n_samples = int(6000), n_features = 3)\n",
    "    d_centers = [(0, 0, 0.4, 0.25, 1),(0, 0.4, 1, 0, 0.25)]\n",
    "    D_G.brutal_covariate_drift(d_centers=d_centers)\n",
    "\n",
    "    print(\"  \",k, session_time)\n",
    "    for i, func in enumerate(funcs):\n",
    "        t1 = time.time()\n",
    "        print(\"    \",func[8:])\n",
    "        error, detection_indices = getattr(Drift_generators, func)(D_G)\n",
    "        print(\"      \",str(datetime.timedelta(seconds=int(time.time()-t1))))\n",
    "        name = \"/\"+ session_time\n",
    "        path = my_path +dataset+\"/\"+func[8:]\n",
    "        if(not os.path.isdir(path)):\n",
    "            os.mkdir(my_path +dataset+\"/\"+func[8:]);\n",
    "        pickle.dump( (error, detection_indices), open( path+name+\".p\", \"wb\" ))\n",
    "        \n",
    "    while(strftime(\"%Y-%m-%d_%H:%M\", gmtime()) == session_time):\n",
    "        time.sleep(5)"
   ]
  },
  {
   "cell_type": "code",
   "execution_count": null,
   "id": "b8488d22",
   "metadata": {},
   "outputs": [],
   "source": []
  },
  {
   "cell_type": "markdown",
   "id": "b0ae648b",
   "metadata": {},
   "source": [
    "## Concept abrupt stabilized"
   ]
  },
  {
   "cell_type": "code",
   "execution_count": null,
   "id": "791b7e6c",
   "metadata": {},
   "outputs": [],
   "source": [
    "from drift_generators import *\n",
    "from time import gmtime, strftime, time\n",
    "import os\n",
    "import pickle\n",
    "import datetime\n",
    "import time"
   ]
  },
  {
   "cell_type": "code",
   "execution_count": null,
   "id": "60045886",
   "metadata": {},
   "outputs": [],
   "source": [
    "funcs= ['retrain_shap_adwin',\n",
    "         'retrain_adwin_loss']"
   ]
  },
  {
   "cell_type": "code",
   "execution_count": null,
   "id": "a1a4c090",
   "metadata": {},
   "outputs": [
    {
     "data": {
      "image/png": "[encoded data removed]",
      "text/plain": [
       "<Figure size 720x576 with 1 Axes>"
      ]
     },
     "metadata": {
      "needs_background": "light"
     },
     "output_type": "display_data"
    }
   ],
   "source": [
    "D_G = Drift_generators(n_samples = int(7000), n_features = 3)\n",
    "circle_centers = [[0.7 for i in range(D_G.n_features)]]\n",
    "D_G.brutal_concept_drift(n_drift = 1, circle_centers = circle_centers, drift_points=[2500])\n",
    "D_G.add_noise()\n",
    "\n",
    "\n",
    "D_G.retrain_nothing()\n",
    "D_G.plot_retrain()"
   ]
  },
  {
   "cell_type": "code",
   "execution_count": null,
   "id": "750f7e35",
   "metadata": {
    "scrolled": true
   },
   "outputs": [
    {
     "name": "stdout",
     "output_type": "stream",
     "text": [
      "   0 2021-07-07_09:07\n",
      "     shap_adwin\n",
      "       0:00:39\n",
      "     adwin_loss\n",
      "       0:00:08\n",
      "   1 2021-07-07_09:08\n",
      "     shap_adwin\n",
      "       0:00:44\n",
      "     adwin_loss\n",
      "       0:00:10\n",
      "   2 2021-07-07_09:09\n",
      "     shap_adwin\n",
      "       0:00:38\n",
      "     adwin_loss\n",
      "       0:00:10\n",
      "   3 2021-07-07_09:10\n",
      "     shap_adwin\n",
      "       0:00:44\n",
      "     adwin_loss\n",
      "       0:00:13\n",
      "   4 2021-07-07_09:11\n",
      "     shap_adwin\n",
      "       0:00:42\n",
      "     adwin_loss\n",
      "       0:00:09\n",
      "   5 2021-07-07_09:12\n",
      "     shap_adwin\n",
      "       0:00:34\n",
      "     adwin_loss\n",
      "       0:00:11\n",
      "   6 2021-07-07_09:13\n",
      "     shap_adwin\n",
      "       0:00:31\n",
      "     adwin_loss\n",
      "       0:00:07\n",
      "   7 2021-07-07_09:14\n",
      "     shap_adwin\n",
      "       0:00:31\n",
      "     adwin_loss\n",
      "       0:00:06\n",
      "   8 2021-07-07_09:15\n",
      "     shap_adwin\n",
      "       0:00:29\n",
      "     adwin_loss\n",
      "       0:00:07\n",
      "   9 2021-07-07_09:16\n",
      "     shap_adwin\n",
      "       0:00:32\n",
      "     adwin_loss\n",
      "       0:00:07\n",
      "   10 2021-07-07_09:17\n",
      "     shap_adwin\n",
      "       0:00:34\n",
      "     adwin_loss\n",
      "       0:00:10\n",
      "   11 2021-07-07_09:18\n",
      "     shap_adwin\n",
      "       0:00:35\n",
      "     adwin_loss\n",
      "       0:00:07\n",
      "   12 2021-07-07_09:19\n",
      "     shap_adwin\n",
      "       0:00:35\n",
      "     adwin_loss\n",
      "       0:00:12\n",
      "   13 2021-07-07_09:20\n",
      "     shap_adwin\n",
      "       0:00:52\n",
      "     adwin_loss\n",
      "       0:00:09\n",
      "   14 2021-07-07_09:21\n",
      "     shap_adwin\n",
      "       0:00:44\n",
      "     adwin_loss\n",
      "       0:00:16\n",
      "   15 2021-07-07_09:22\n",
      "     shap_adwin\n",
      "       0:00:42\n",
      "     adwin_loss\n",
      "       0:00:11\n",
      "   16 2021-07-07_09:23\n",
      "     shap_adwin\n",
      "       0:00:44\n",
      "     adwin_loss\n",
      "       0:00:06\n",
      "   17 2021-07-07_09:24\n",
      "     shap_adwin\n",
      "       0:00:45\n",
      "     adwin_loss\n",
      "       0:00:12\n",
      "   18 2021-07-07_09:25\n",
      "     shap_adwin\n",
      "       0:00:32\n",
      "     adwin_loss\n",
      "       0:00:07\n",
      "   19 2021-07-07_09:26\n",
      "     shap_adwin\n",
      "       0:00:34\n",
      "     adwin_loss\n",
      "       0:00:07\n"
     ]
    }
   ],
   "source": [
    "n_iter = 20\n",
    "\n",
    "dataset = \"concept_abrupt_stab\"+\"_noisy\"\n",
    "session_time = strftime(\"%Y-%m-%d_%H:%M\", gmtime())\n",
    "\n",
    "funcs = ['retrain_shap_adwin', 'retrain_adwin_loss']\n",
    "        \n",
    "for k in range(n_iter):\n",
    "    \n",
    "    session_time = strftime(\"%Y-%m-%d_%H:%M\", gmtime())\n",
    "    D_G = Drift_generators(n_samples = int(7000), n_features = 3)\n",
    "    circle_centers = [[0.7 for i in range(D_G.n_features)]]\n",
    "    D_G.brutal_concept_drift(n_drift = 1, circle_centers = circle_centers, drift_points=[2500])\n",
    "    D_G.add_noise()\n",
    "\n",
    "\n",
    "    print(\"  \",k, session_time)\n",
    "    for i, func in enumerate(funcs):\n",
    "        t1 = time.time()\n",
    "        print(\"    \",func[8:])\n",
    "        error, detection_indices = getattr(Drift_generators, func)(D_G)\n",
    "        print(\"      \",str(datetime.timedelta(seconds=int(time.time()-t1))))\n",
    "        name = \"/\"+ session_time\n",
    "        path = my_path +dataset+\"/\"+func[8:]\n",
    "        if(not os.path.isdir(path)):\n",
    "            os.mkdir(my_path +dataset+\"/\"+func[8:]);\n",
    "        pickle.dump( (error, detection_indices), open( path+name+\".p\", \"wb\" ))\n",
    "        \n",
    "    while(strftime(\"%Y-%m-%d_%H:%M\", gmtime()) == session_time):\n",
    "        time.sleep(5)"
   ]
  },
  {
   "cell_type": "markdown",
   "id": "ab24864f",
   "metadata": {},
   "source": [
    "## Concept smooth XYZ stabilized"
   ]
  },
  {
   "cell_type": "code",
   "execution_count": null,
   "id": "5728c7e7",
   "metadata": {},
   "outputs": [],
   "source": [
    "from drift_generators import *\n",
    "from time import gmtime, strftime, time\n",
    "import os\n",
    "import pickle\n",
    "import datetime\n",
    "import time"
   ]
  },
  {
   "cell_type": "code",
   "execution_count": null,
   "id": "b684fbd4",
   "metadata": {},
   "outputs": [],
   "source": [
    "funcs= ['retrain_shap_adwin',\n",
    "         'retrain_adwin_loss']"
   ]
  },
  {
   "cell_type": "code",
   "execution_count": null,
   "id": "76732ff2",
   "metadata": {},
   "outputs": [
    {
     "data": {
      "image/png": "[encoded data removed]",
      "text/plain": [
       "<Figure size 720x576 with 1 Axes>"
      ]
     },
     "metadata": {
      "needs_background": "light"
     },
     "output_type": "display_data"
    }
   ],
   "source": [
    "D_G = Drift_generators(n_samples = int(7000), n_features = 3)\n",
    "circle_centers = [[0.7 for i in range(D_G.n_features)]]\n",
    "D_G.brutal_concept_drift(n_drift = 1, circle_centers = circle_centers, drift_points=[2500])\n",
    "D_G.add_noise()\n",
    "\n",
    "\n",
    "D_G.retrain_nothing()\n",
    "D_G.plot_retrain()"
   ]
  },
  {
   "cell_type": "code",
   "execution_count": null,
   "id": "cf2648f9",
   "metadata": {
    "scrolled": true
   },
   "outputs": [
    {
     "name": "stdout",
     "output_type": "stream",
     "text": [
      "   0 2021-07-07_09:27\n",
      "     shap_adwin\n",
      "       0:00:35\n",
      "     adwin_loss\n",
      "       0:00:06\n",
      "   1 2021-07-07_09:28\n",
      "     shap_adwin\n",
      "       0:00:41\n",
      "     adwin_loss\n",
      "       0:00:06\n",
      "   2 2021-07-07_09:29\n",
      "     shap_adwin\n",
      "       0:00:38\n",
      "     adwin_loss\n",
      "       0:00:09\n",
      "   3 2021-07-07_09:30\n",
      "     shap_adwin\n",
      "       0:00:34\n",
      "     adwin_loss\n",
      "       0:00:11\n",
      "   4 2021-07-07_09:31\n",
      "     shap_adwin\n",
      "       0:00:40\n",
      "     adwin_loss\n",
      "       0:00:08\n",
      "   5 2021-07-07_09:32\n",
      "     shap_adwin\n",
      "       0:00:35\n",
      "     adwin_loss\n",
      "       0:00:08\n",
      "   6 2021-07-07_09:33\n",
      "     shap_adwin\n",
      "       0:00:37\n",
      "     adwin_loss\n",
      "       0:00:12\n",
      "   7 2021-07-07_09:34\n",
      "     shap_adwin\n",
      "       0:00:37\n",
      "     adwin_loss\n",
      "       0:00:08\n",
      "   8 2021-07-07_09:35\n",
      "     shap_adwin\n",
      "       0:00:34\n",
      "     adwin_loss\n",
      "       0:00:08\n",
      "   9 2021-07-07_09:36\n",
      "     shap_adwin\n",
      "       0:00:44\n",
      "     adwin_loss\n",
      "       0:00:12\n",
      "   10 2021-07-07_09:37\n",
      "     shap_adwin\n",
      "       0:00:40\n",
      "     adwin_loss\n",
      "       0:00:13\n",
      "   11 2021-07-07_09:38\n",
      "     shap_adwin\n",
      "       0:00:32\n",
      "     adwin_loss\n",
      "       0:00:06\n",
      "   12 2021-07-07_09:39\n",
      "     shap_adwin\n",
      "       0:00:35\n",
      "     adwin_loss\n",
      "       0:00:06\n",
      "   13 2021-07-07_09:40\n",
      "     shap_adwin\n",
      "       0:00:40\n",
      "     adwin_loss\n",
      "       0:00:10\n",
      "   14 2021-07-07_09:41\n",
      "     shap_adwin\n",
      "       0:00:34\n",
      "     adwin_loss\n",
      "       0:00:06\n",
      "   15 2021-07-07_09:42\n",
      "     shap_adwin\n",
      "       0:00:34\n",
      "     adwin_loss\n",
      "       0:00:08\n",
      "   16 2021-07-07_09:43\n",
      "     shap_adwin\n",
      "       0:00:34\n",
      "     adwin_loss\n",
      "       0:00:10\n",
      "   17 2021-07-07_09:44\n",
      "     shap_adwin\n",
      "       0:01:09\n",
      "     adwin_loss\n",
      "       0:00:07\n",
      "   18 2021-07-07_09:45\n",
      "     shap_adwin\n",
      "       0:01:03\n",
      "     adwin_loss\n",
      "       0:00:08\n",
      "   19 2021-07-07_09:46\n",
      "     shap_adwin\n",
      "       0:00:41\n",
      "     adwin_loss\n",
      "       0:00:09\n"
     ]
    }
   ],
   "source": [
    "n_iter = 20\n",
    "\n",
    "dataset = \"smooth_drift_sabilized\"+\"_noisy\"\n",
    "session_time = strftime(\"%Y-%m-%d_%H:%M\", gmtime())\n",
    "\n",
    "funcs = ['retrain_shap_adwin', 'retrain_adwin_loss']\n",
    "        \n",
    "for k in range(n_iter):\n",
    "    \n",
    "    session_time = strftime(\"%Y-%m-%d_%H:%M\", gmtime())\n",
    "    \n",
    "    D_G = Drift_generators(n_samples = int(7000), n_features = 3)\n",
    "    circle_centers = [[0.7 for i in range(D_G.n_features)],[0.7 for i in range(D_G.n_features)]]\n",
    "    D_G.new_smooth_concept_drift(n_drift = 2, circle_centers = circle_centers, drift_points= [2500,4500])\n",
    "    D_G.add_noise()\n",
    "\n",
    "    \n",
    "    print(\"  \",k, session_time)\n",
    "    for i, func in enumerate(funcs):\n",
    "        t1 = time.time()\n",
    "        print(\"    \",func[8:])\n",
    "        error, detection_indices = getattr(Drift_generators, func)(D_G)\n",
    "        print(\"      \",str(datetime.timedelta(seconds=int(time.time()-t1))))\n",
    "        name = \"/\"+ session_time\n",
    "        path = my_path +dataset+\"/\"+func[8:]\n",
    "        if(not os.path.isdir(path)):\n",
    "            os.mkdir(my_path +dataset+\"/\"+func[8:]);\n",
    "        pickle.dump( (error, detection_indices), open( path+name+\".p\", \"wb\" ))\n",
    "        \n",
    "    while(strftime(\"%Y-%m-%d_%H:%M\", gmtime()) == session_time):\n",
    "        time.sleep(5)"
   ]
  },
  {
   "cell_type": "code",
   "execution_count": null,
   "id": "a4daac2f",
   "metadata": {},
   "outputs": [],
   "source": []
  },
  {
   "cell_type": "markdown",
   "id": "268ba5dc",
   "metadata": {},
   "source": [
    "## Covar xyz abrupt stabilized"
   ]
  },
  {
   "cell_type": "code",
   "execution_count": null,
   "id": "8680174e",
   "metadata": {},
   "outputs": [],
   "source": [
    "from drift_generators import *\n",
    "from time import gmtime, strftime, time\n",
    "import os\n",
    "import pickle\n",
    "import datetime\n",
    "import time"
   ]
  },
  {
   "cell_type": "code",
   "execution_count": null,
   "id": "d14215e9",
   "metadata": {},
   "outputs": [],
   "source": [
    "funcs= ['retrain_shap_adwin',\n",
    "         'retrain_adwin_loss']"
   ]
  },
  {
   "cell_type": "code",
   "execution_count": null,
   "id": "cc0f0499",
   "metadata": {},
   "outputs": [
    {
     "data": {
      "image/png": "[encoded data removed]",
      "text/plain": [
       "<Figure size 720x576 with 1 Axes>"
      ]
     },
     "metadata": {
      "needs_background": "light"
     },
     "output_type": "display_data"
    }
   ],
   "source": [
    "D_G = Drift_generators(n_samples = int(6000), n_features = 3)\n",
    "d_centers = [(0, 0, 0.4, 0.25, 1),(0, 0.4, 1, 0, 0.25),\n",
    "            (1, 0, 0.4, 0.25, 1),(1, 0.4, 1, 0, 0.25),\n",
    "            (2, 0, 0.4, 0.25, 1),(2, 0.4, 1, 0, 0.25),]\n",
    "D_G.brutal_covariate_drift(d_centers=d_centers)\n",
    "D_G.add_noise()\n",
    "\n",
    "\n",
    "D_G.retrain_nothing()\n",
    "D_G.plot_retrain()"
   ]
  },
  {
   "cell_type": "code",
   "execution_count": null,
   "id": "fbf871c7",
   "metadata": {},
   "outputs": [
    {
     "name": "stdout",
     "output_type": "stream",
     "text": [
      "   0 2021-07-07_09:47\n",
      "     shap_adwin\n",
      "       0:00:27\n",
      "     adwin_loss\n",
      "       0:00:06\n",
      "   1 2021-07-07_09:48\n",
      "     shap_adwin\n",
      "       0:00:36\n",
      "     adwin_loss\n",
      "       0:00:06\n",
      "   2 2021-07-07_09:49\n",
      "     shap_adwin\n",
      "       0:00:38\n",
      "     adwin_loss\n",
      "       0:00:07\n",
      "   3 2021-07-07_09:50\n",
      "     shap_adwin\n",
      "       0:00:48\n",
      "     adwin_loss\n",
      "       0:00:48\n",
      "   4 2021-07-07_09:51\n",
      "     shap_adwin\n",
      "       0:00:34\n",
      "     adwin_loss\n",
      "       0:00:10\n",
      "   5 2021-07-07_09:52\n",
      "     shap_adwin\n",
      "       0:01:08\n",
      "     adwin_loss\n",
      "       0:00:11\n",
      "   6 2021-07-07_09:53\n",
      "     shap_adwin\n",
      "       0:01:00\n",
      "     adwin_loss\n",
      "       0:00:08\n",
      "   7 2021-07-07_09:54\n",
      "     shap_adwin\n",
      "       0:00:31\n",
      "     adwin_loss\n",
      "       0:00:09\n",
      "   8 2021-07-07_09:55\n",
      "     shap_adwin\n",
      "       0:01:46\n",
      "     adwin_loss\n",
      "       0:00:12\n",
      "   9 2021-07-07_09:57\n",
      "     shap_adwin\n",
      "       0:00:34\n",
      "     adwin_loss\n",
      "       0:00:08\n",
      "   10 2021-07-07_09:58\n",
      "     shap_adwin\n",
      "       0:00:41\n",
      "     adwin_loss\n",
      "       0:00:10\n",
      "   11 2021-07-07_09:59\n",
      "     shap_adwin\n",
      "       0:00:32\n",
      "     adwin_loss\n",
      "       0:00:09\n",
      "   12 2021-07-07_10:00\n",
      "     shap_adwin\n",
      "       0:01:33\n",
      "     adwin_loss\n",
      "       0:00:05\n"
     ]
    }
   ],
   "source": [
    "n_iter = 13\n",
    "\n",
    "dataset = \"covar_xyz_drift_stabilized\"+\"_noisy\"\n",
    "session_time = strftime(\"%Y-%m-%d_%H:%M\", gmtime())\n",
    "\n",
    "funcs = ['retrain_shap_adwin', 'retrain_adwin_loss']\n",
    "        \n",
    "for k in range(n_iter):\n",
    "    \n",
    "    session_time = strftime(\"%Y-%m-%d_%H:%M\", gmtime())\n",
    "    D_G = Drift_generators(n_samples = int(6000), n_features = 3)\n",
    "    d_centers = [(0, 0, 0.4, 0.25, 1),(0, 0.4, 1, 0, 0.25),\n",
    "                (1, 0, 0.4, 0.25, 1),(1, 0.4, 1, 0, 0.25),\n",
    "                (2, 0, 0.4, 0.25, 1),(2, 0.4, 1, 0, 0.25),]\n",
    "    D_G.brutal_covariate_drift(d_centers=d_centers)\n",
    "    D_G.add_noise()\n",
    "\n",
    "\n",
    "    print(\"  \",k, session_time)\n",
    "    for i, func in enumerate(funcs):\n",
    "        t1 = time.time()\n",
    "        print(\"    \",func[8:])\n",
    "        error, detection_indices = getattr(Drift_generators, func)(D_G)\n",
    "        print(\"      \",str(datetime.timedelta(seconds=int(time.time()-t1))))\n",
    "        name = \"/\"+ session_time\n",
    "        path = my_path +dataset+\"/\"+func[8:]\n",
    "        if(not os.path.isdir(path)):\n",
    "            os.mkdir(my_path +dataset+\"/\"+func[8:]);\n",
    "        pickle.dump( (error, detection_indices), open( path+name+\".p\", \"wb\" ))\n",
    "        \n",
    "    while(strftime(\"%Y-%m-%d_%H:%M\", gmtime()) == session_time):\n",
    "        time.sleep(5)"
   ]
  },
  {
   "cell_type": "code",
   "execution_count": null,
   "id": "a8c2a0f4",
   "metadata": {},
   "outputs": [],
   "source": []
  },
  {
   "cell_type": "code",
   "execution_count": null,
   "id": "220c4ead",
   "metadata": {},
   "outputs": [],
   "source": []
  },
  {
   "cell_type": "markdown",
   "id": "c00067fa",
   "metadata": {},
   "source": [
    "## Concept X abrupt stabilized"
   ]
  },
  {
   "cell_type": "code",
   "execution_count": null,
   "id": "5c5583f4",
   "metadata": {},
   "outputs": [],
   "source": [
    "from drift_generators import *\n",
    "from time import gmtime, strftime, time\n",
    "import os\n",
    "import pickle\n",
    "import datetime\n",
    "import time"
   ]
  },
  {
   "cell_type": "code",
   "execution_count": null,
   "id": "9469507b",
   "metadata": {},
   "outputs": [],
   "source": [
    "funcs= ['retrain_shap_adwin',\n",
    "         'retrain_adwin_loss']"
   ]
  },
  {
   "cell_type": "code",
   "execution_count": null,
   "id": "828a1e42",
   "metadata": {},
   "outputs": [
    {
     "data": {
      "image/png": "[encoded data removed]",
      "text/plain": [
       "<Figure size 720x576 with 1 Axes>"
      ]
     },
     "metadata": {
      "needs_background": "light"
     },
     "output_type": "display_data"
    }
   ],
   "source": [
    "D_G = Drift_generators(n_samples = int(7000), n_features = 3)\n",
    "circle_centers = [[0.7]+[0.4 for i in range(1,D_G.n_features)]]\n",
    "D_G.brutal_concept_drift(n_drift = 1, circle_centers = circle_centers, drift_points=[2500])\n",
    "D_G.add_noise()\n",
    "\n",
    "D_G.retrain_nothing()\n",
    "D_G.plot_retrain()"
   ]
  },
  {
   "cell_type": "code",
   "execution_count": null,
   "id": "6732923f",
   "metadata": {
    "scrolled": true
   },
   "outputs": [
    {
     "name": "stdout",
     "output_type": "stream",
     "text": [
      "   0 2021-07-07_10:01\n",
      "     shap_adwin\n",
      "       0:00:40\n",
      "     adwin_loss\n",
      "       0:00:11\n",
      "   1 2021-07-07_10:02\n",
      "     shap_adwin\n",
      "       0:00:40\n",
      "     adwin_loss\n",
      "       0:00:09\n",
      "   2 2021-07-07_10:03\n",
      "     shap_adwin\n",
      "       0:00:35\n",
      "     adwin_loss\n",
      "       0:00:09\n",
      "   3 2021-07-07_10:04\n",
      "     shap_adwin\n",
      "       0:00:44\n",
      "     adwin_loss\n",
      "       0:00:10\n",
      "   4 2021-07-07_10:05\n",
      "     shap_adwin\n",
      "       0:00:40\n",
      "     adwin_loss\n",
      "       0:00:08\n",
      "   5 2021-07-07_10:06\n",
      "     shap_adwin\n",
      "       0:00:38\n",
      "     adwin_loss\n",
      "       0:00:11\n",
      "   6 2021-07-07_10:07\n",
      "     shap_adwin\n",
      "       0:00:46\n",
      "     adwin_loss\n",
      "       0:00:10\n",
      "   7 2021-07-07_10:08\n",
      "     shap_adwin\n",
      "       0:00:41\n",
      "     adwin_loss\n",
      "       0:00:10\n",
      "   8 2021-07-07_10:09\n",
      "     shap_adwin\n",
      "       0:00:40\n",
      "     adwin_loss\n",
      "       0:00:12\n",
      "   9 2021-07-07_10:10\n",
      "     shap_adwin\n",
      "       0:00:48\n",
      "     adwin_loss\n",
      "       0:00:10\n",
      "   10 2021-07-07_10:11\n",
      "     shap_adwin\n",
      "       0:00:46\n",
      "     adwin_loss\n",
      "       0:00:11\n",
      "   11 2021-07-07_10:12\n",
      "     shap_adwin\n",
      "       0:00:52\n",
      "     adwin_loss\n",
      "       0:00:09\n",
      "   12 2021-07-07_10:13\n",
      "     shap_adwin\n",
      "       0:00:43\n",
      "     adwin_loss\n",
      "       0:00:12\n",
      "   13 2021-07-07_10:14\n",
      "     shap_adwin\n",
      "       0:00:54\n",
      "     adwin_loss\n",
      "       0:00:10\n",
      "   14 2021-07-07_10:15\n",
      "     shap_adwin\n",
      "       0:01:29\n",
      "     adwin_loss\n",
      "       0:00:08\n",
      "   15 2021-07-07_10:16\n",
      "     shap_adwin\n",
      "       0:00:39\n",
      "     adwin_loss\n",
      "       0:00:07\n",
      "   16 2021-07-07_10:17\n",
      "     shap_adwin\n",
      "       0:00:44\n",
      "     adwin_loss\n",
      "       0:00:09\n",
      "   17 2021-07-07_10:18\n",
      "     shap_adwin\n",
      "       0:00:44\n",
      "     adwin_loss\n",
      "       0:00:09\n",
      "   18 2021-07-07_10:19\n",
      "     shap_adwin\n",
      "       0:00:39\n",
      "     adwin_loss\n",
      "       0:00:08\n",
      "   19 2021-07-07_10:20\n",
      "     shap_adwin\n",
      "       0:00:43\n",
      "     adwin_loss\n",
      "       0:00:10\n"
     ]
    }
   ],
   "source": [
    "n_iter = 20\n",
    "\n",
    "dataset = \"concept_x_abrupt_stab\"+\"_noisy\"\n",
    "session_time = strftime(\"%Y-%m-%d_%H:%M\", gmtime())\n",
    "\n",
    "funcs = ['retrain_shap_adwin', 'retrain_adwin_loss']\n",
    "        \n",
    "for k in range(n_iter):\n",
    "    \n",
    "    session_time = strftime(\"%Y-%m-%d_%H:%M\", gmtime())\n",
    "    D_G = Drift_generators(n_samples = int(7000), n_features = 3)\n",
    "    circle_centers = [[0.7]+[0.4 for i in range(1,D_G.n_features)]]\n",
    "    D_G.brutal_concept_drift(n_drift = 1, circle_centers = circle_centers, drift_points=[2500])\n",
    "    D_G.add_noise()\n",
    "    print(\"  \",k, session_time)\n",
    "    for i, func in enumerate(funcs):\n",
    "        t1 = time.time()\n",
    "        print(\"    \",func[8:])\n",
    "        error, detection_indices = getattr(Drift_generators, func)(D_G)\n",
    "        print(\"      \",str(datetime.timedelta(seconds=int(time.time()-t1))))\n",
    "        name = \"/\"+ session_time\n",
    "        path = my_path +dataset+\"/\"+func[8:]\n",
    "        if(not os.path.isdir(path)):\n",
    "            os.mkdir(my_path +dataset+\"/\"+func[8:]);\n",
    "        pickle.dump( (error, detection_indices), open( path+name+\".p\", \"wb\" ))\n",
    "        \n",
    "    while(strftime(\"%Y-%m-%d_%H:%M\", gmtime()) == session_time):\n",
    "        time.sleep(5)"
   ]
  },
  {
   "cell_type": "markdown",
   "id": "7e141d08",
   "metadata": {},
   "source": [
    "## Concept X smooth stabilized"
   ]
  },
  {
   "cell_type": "code",
   "execution_count": null,
   "id": "6a0e2b7c",
   "metadata": {},
   "outputs": [],
   "source": [
    "from drift_generators import *\n",
    "from time import gmtime, strftime, time\n",
    "import os\n",
    "import pickle\n",
    "import datetime\n",
    "import time"
   ]
  },
  {
   "cell_type": "code",
   "execution_count": null,
   "id": "a2514ab6",
   "metadata": {},
   "outputs": [],
   "source": [
    "funcs= ['retrain_shap_adwin',\n",
    "         'retrain_adwin_loss']"
   ]
  },
  {
   "cell_type": "code",
   "execution_count": null,
   "id": "11f1caf7",
   "metadata": {},
   "outputs": [
    {
     "data": {
      "image/png": "[encoded data removed]",
      "text/plain": [
       "<Figure size 720x576 with 1 Axes>"
      ]
     },
     "metadata": {
      "needs_background": "light"
     },
     "output_type": "display_data"
    }
   ],
   "source": [
    "D_G = Drift_generators(n_samples = int(7000), n_features = 3)\n",
    "\n",
    "circle_centers = [[0.7]+[0.4 for i in range(1,D_G.n_features)], \n",
    "                  [0.7]+[0.4 for i in range(1,D_G.n_features)]]\n",
    "D_G.new_smooth_concept_drift(n_drift = 2, circle_centers = circle_centers, drift_points= [2500,4500])\n",
    "D_G.add_noise()\n",
    "    \n",
    "D_G.retrain_nothing()\n",
    "D_G.plot_retrain()"
   ]
  },
  {
   "cell_type": "code",
   "execution_count": null,
   "id": "ffdd224e",
   "metadata": {
    "scrolled": true
   },
   "outputs": [
    {
     "name": "stdout",
     "output_type": "stream",
     "text": [
      "   0 2021-07-07_10:21\n",
      "     shap_adwin\n",
      "       0:00:43\n",
      "     adwin_loss\n",
      "       0:00:10\n",
      "   1 2021-07-07_10:22\n",
      "     shap_adwin\n",
      "       0:00:45\n",
      "     adwin_loss\n",
      "       0:00:09\n",
      "   2 2021-07-07_10:23\n",
      "     shap_adwin\n",
      "       0:00:35\n",
      "     adwin_loss\n",
      "       0:00:05\n",
      "   3 2021-07-07_10:24\n",
      "     shap_adwin\n",
      "       0:00:27\n",
      "     adwin_loss\n",
      "       0:00:05\n",
      "   4 2021-07-07_10:25\n",
      "     shap_adwin\n",
      "       0:00:27\n",
      "     adwin_loss\n",
      "       0:00:05\n",
      "   5 2021-07-07_10:26\n",
      "     shap_adwin\n",
      "       0:00:26\n",
      "     adwin_loss\n",
      "       0:00:05\n",
      "   6 2021-07-07_10:27\n",
      "     shap_adwin\n",
      "       0:00:26\n",
      "     adwin_loss\n",
      "       0:00:05\n",
      "   7 2021-07-07_10:28\n",
      "     shap_adwin\n",
      "       0:00:26\n",
      "     adwin_loss\n",
      "       0:00:05\n",
      "   8 2021-07-07_10:29\n",
      "     shap_adwin\n",
      "       0:00:26\n",
      "     adwin_loss\n",
      "       0:00:05\n",
      "   9 2021-07-07_10:30\n",
      "     shap_adwin\n",
      "       0:00:25\n",
      "     adwin_loss\n",
      "       0:00:05\n",
      "   10 2021-07-07_10:31\n",
      "     shap_adwin\n",
      "       0:00:26\n",
      "     adwin_loss\n",
      "       0:00:05\n",
      "   11 2021-07-07_10:32\n",
      "     shap_adwin\n",
      "       0:00:26\n",
      "     adwin_loss\n",
      "       0:00:05\n",
      "   12 2021-07-07_10:33\n",
      "     shap_adwin\n",
      "       0:00:26\n",
      "     adwin_loss\n",
      "       0:00:05\n",
      "   13 2021-07-07_10:34\n",
      "     shap_adwin\n",
      "       0:00:26\n",
      "     adwin_loss\n",
      "       0:00:05\n",
      "   14 2021-07-07_10:35\n",
      "     shap_adwin\n",
      "       0:00:26\n",
      "     adwin_loss\n",
      "       0:00:05\n",
      "   15 2021-07-07_10:36\n",
      "     shap_adwin\n",
      "       0:00:25\n",
      "     adwin_loss\n",
      "       0:00:05\n",
      "   16 2021-07-07_10:37\n",
      "     shap_adwin\n",
      "       0:00:25\n",
      "     adwin_loss\n",
      "       0:00:05\n",
      "   17 2021-07-07_10:38\n",
      "     shap_adwin\n",
      "       0:00:26\n",
      "     adwin_loss\n",
      "       0:00:05\n",
      "   18 2021-07-07_10:39\n",
      "     shap_adwin\n",
      "       0:00:26\n",
      "     adwin_loss\n",
      "       0:00:05\n",
      "   19 2021-07-07_10:40\n",
      "     shap_adwin\n",
      "       0:00:25\n",
      "     adwin_loss\n",
      "       0:00:05\n",
      "   20 2021-07-07_10:41\n",
      "     shap_adwin\n",
      "       0:00:25\n",
      "     adwin_loss\n",
      "       0:00:05\n",
      "   21 2021-07-07_10:42\n",
      "     shap_adwin\n",
      "       0:00:25\n",
      "     adwin_loss\n",
      "       0:00:05\n",
      "   22 2021-07-07_10:43\n",
      "     shap_adwin\n",
      "       0:00:26\n",
      "     adwin_loss\n",
      "       0:00:05\n",
      "   23 2021-07-07_10:44\n",
      "     shap_adwin\n",
      "       0:00:26\n",
      "     adwin_loss\n",
      "       0:00:05\n",
      "   24 2021-07-07_10:45\n",
      "     shap_adwin\n",
      "       0:00:27\n",
      "     adwin_loss\n",
      "       0:00:05\n",
      "   25 2021-07-07_10:46\n",
      "     shap_adwin\n",
      "       0:00:25\n",
      "     adwin_loss\n",
      "       0:00:05\n",
      "   26 2021-07-07_10:47\n",
      "     shap_adwin\n",
      "       0:00:26\n",
      "     adwin_loss\n",
      "       0:00:05\n",
      "   27 2021-07-07_10:48\n",
      "     shap_adwin\n",
      "       0:00:26\n",
      "     adwin_loss\n",
      "       0:00:05\n",
      "   28 2021-07-07_10:49\n",
      "     shap_adwin\n",
      "       0:00:28\n",
      "     adwin_loss\n",
      "       0:00:05\n",
      "   29 2021-07-07_10:50\n",
      "     shap_adwin\n",
      "       0:00:26\n",
      "     adwin_loss\n",
      "       0:00:05\n",
      "   30 2021-07-07_10:51\n",
      "     shap_adwin\n",
      "       0:00:26\n",
      "     adwin_loss\n",
      "       0:00:05\n",
      "   31 2021-07-07_10:52\n",
      "     shap_adwin\n",
      "       0:00:26\n",
      "     adwin_loss\n",
      "       0:00:06\n",
      "   32 2021-07-07_10:53\n",
      "     shap_adwin\n",
      "       0:00:26\n",
      "     adwin_loss\n",
      "       0:00:05\n",
      "   33 2021-07-07_10:54\n",
      "     shap_adwin\n",
      "       0:00:26\n",
      "     adwin_loss\n",
      "       0:00:05\n",
      "   34 2021-07-07_10:55\n",
      "     shap_adwin\n",
      "       0:00:27\n",
      "     adwin_loss\n",
      "       0:00:05\n",
      "   35 2021-07-07_10:56\n",
      "     shap_adwin\n",
      "       0:00:26\n",
      "     adwin_loss\n",
      "       0:00:06\n",
      "   36 2021-07-07_10:57\n",
      "     shap_adwin\n",
      "       0:00:25\n",
      "     adwin_loss\n",
      "       0:00:05\n",
      "   37 2021-07-07_10:58\n",
      "     shap_adwin\n",
      "       0:00:26\n",
      "     adwin_loss\n",
      "       0:00:05\n",
      "   38 2021-07-07_10:59\n",
      "     shap_adwin\n",
      "       0:00:26\n",
      "     adwin_loss\n",
      "       0:00:05\n",
      "   39 2021-07-07_11:00\n",
      "     shap_adwin\n",
      "       0:00:25\n",
      "     adwin_loss\n",
      "       0:00:05\n"
     ]
    }
   ],
   "source": [
    "n_iter = 40\n",
    "\n",
    "dataset = \"smooth_x_drift_sabilized\"+\"_noisy\"\n",
    "session_time = strftime(\"%Y-%m-%d_%H:%M\", gmtime())\n",
    "\n",
    "funcs = ['retrain_shap_adwin', 'retrain_adwin_loss']\n",
    "        \n",
    "for k in range(n_iter):\n",
    "    \n",
    "    session_time = strftime(\"%Y-%m-%d_%H:%M\", gmtime())\n",
    "    D_G = Drift_generators(n_samples = int(7000), n_features = 3)\n",
    "    circle_centers = [[0.7]+[0.4 for i in range(1,D_G.n_features)], \n",
    "                      [0.7]+[0.4 for i in range(1,D_G.n_features)]]\n",
    "    D_G.new_smooth_concept_drift(n_drift = 2, circle_centers = circle_centers, drift_points= [2500,4500])\n",
    "    D_G.add_noise()\n",
    "    \n",
    "    print(\"  \",k, session_time)\n",
    "    for i, func in enumerate(funcs):\n",
    "        t1 = time.time()\n",
    "        print(\"    \",func[8:])\n",
    "        error, detection_indices = getattr(Drift_generators, func)(D_G)\n",
    "        print(\"      \",str(datetime.timedelta(seconds=int(time.time()-t1))))\n",
    "        name = \"/\"+ session_time\n",
    "        path = my_path +dataset+\"/\"+func[8:]\n",
    "        if(not os.path.isdir(path)):\n",
    "            os.mkdir(my_path +dataset+\"/\"+func[8:]);\n",
    "        pickle.dump( (error, detection_indices), open( path+name+\".p\", \"wb\" ))\n",
    "        \n",
    "    while(strftime(\"%Y-%m-%d_%H:%M\", gmtime()) == session_time):\n",
    "        time.sleep(5)"
   ]
  },
  {
   "cell_type": "code",
   "execution_count": null,
   "id": "6f8c4854",
   "metadata": {},
   "outputs": [],
   "source": []
  },
  {
   "cell_type": "code",
   "execution_count": null,
   "id": "4bb446a5",
   "metadata": {},
   "outputs": [],
   "source": []
  },
  {
   "cell_type": "markdown",
   "id": "4a9291c7",
   "metadata": {},
   "source": [
    "# END NOISE - END SINGLE DRIFT"
   ]
  },
  {
   "cell_type": "code",
   "execution_count": null,
   "id": "048ba2ae",
   "metadata": {},
   "outputs": [],
   "source": []
  },
  {
   "cell_type": "code",
   "execution_count": null,
   "id": "257af9bf",
   "metadata": {},
   "outputs": [],
   "source": []
  },
  {
   "cell_type": "code",
   "execution_count": null,
   "id": "59211b64",
   "metadata": {},
   "outputs": [],
   "source": []
  },
  {
   "cell_type": "code",
   "execution_count": null,
   "id": "f8c17088",
   "metadata": {},
   "outputs": [],
   "source": []
  },
  {
   "cell_type": "code",
   "execution_count": null,
   "id": "f8b643fb",
   "metadata": {},
   "outputs": [],
   "source": []
  },
  {
   "cell_type": "code",
   "execution_count": null,
   "id": "58d00bea",
   "metadata": {},
   "outputs": [],
   "source": []
  },
  {
   "cell_type": "markdown",
   "id": "ebc4901a",
   "metadata": {},
   "source": [
    "## Concept abrupt back and forth"
   ]
  },
  {
   "cell_type": "code",
   "execution_count": null,
   "id": "d1b71c65",
   "metadata": {},
   "outputs": [],
   "source": [
    "from drift_generators import *\n",
    "from time import gmtime, strftime, time\n",
    "import os\n",
    "import pickle\n",
    "import datetime\n",
    "import time"
   ]
  },
  {
   "cell_type": "code",
   "execution_count": null,
   "id": "9223b9cf",
   "metadata": {},
   "outputs": [],
   "source": [
    "funcs= ['retrain_shap_adwin',\n",
    "         'retrain_adwin_loss',\n",
    "         'retrain_nothing']"
   ]
  },
  {
   "cell_type": "code",
   "execution_count": null,
   "id": "b17ed19d",
   "metadata": {},
   "outputs": [],
   "source": [
    "D_G = Drift_generators(n_samples = int(7000), n_features = 3)\n",
    "D_G.back_and_forth_abrupt_drift()\n",
    "\n",
    "D_G.retrain_nothing()\n",
    "D_G.plot_retrain()"
   ]
  },
  {
   "cell_type": "code",
   "execution_count": null,
   "id": "f91a04d7",
   "metadata": {
    "scrolled": true
   },
   "outputs": [
    {
     "name": "stdout",
     "output_type": "stream",
     "text": [
      "   0 2021-07-02_13:15\n",
      "     shap_adwin\n"
     ]
    }
   ],
   "source": [
    "n_iter = 20\n",
    "\n",
    "dataset = \"brutal_concept_backforth\"\n",
    "session_time = strftime(\"%Y-%m-%d_%H:%M\", gmtime())\n",
    "\n",
    "funcs = ['retrain_shap_adwin', 'retrain_adwin_loss']\n",
    "        \n",
    "for k in range(n_iter):\n",
    "    \n",
    "    session_time = strftime(\"%Y-%m-%d_%H:%M\", gmtime())\n",
    "    D_G = Drift_generators(n_samples = int(7000), n_features = 3)\n",
    "    D_G.back_and_forth_abrupt_drift()\n",
    "\n",
    "    print(\"  \",k, session_time)\n",
    "    for i, func in enumerate(funcs):\n",
    "        t1 = time.time()\n",
    "        print(\"    \",func[8:])\n",
    "        error, detection_indices = getattr(Drift_generators, func)(D_G)\n",
    "        print(\"      \",str(datetime.timedelta(seconds=int(time.time()-t1))))\n",
    "        name = \"/\"+ session_time\n",
    "        path = my_path +dataset+\"/\"+func[8:]\n",
    "        if(not os.path.isdir(path)):\n",
    "            os.mkdir(my_path +dataset+\"/\"+func[8:]);\n",
    "        pickle.dump( (error, detection_indices), open( path+name+\".p\", \"wb\" ))\n",
    "        \n",
    "    while(strftime(\"%Y-%m-%d_%H:%M\", gmtime()) == session_time):\n",
    "        time.sleep(5)"
   ]
  },
  {
   "cell_type": "markdown",
   "id": "87c433d4",
   "metadata": {},
   "source": [
    "## Covar abrupt back and forth"
   ]
  },
  {
   "cell_type": "code",
   "execution_count": 29,
   "id": "e5e93fbd",
   "metadata": {},
   "outputs": [],
   "source": [
    "from drift_generators import *\n",
    "from time import gmtime, strftime, time\n",
    "import os\n",
    "import pickle\n",
    "import datetime\n",
    "import time"
   ]
  },
  {
   "cell_type": "code",
   "execution_count": 30,
   "id": "ee9a7290",
   "metadata": {},
   "outputs": [],
   "source": [
    "funcs= ['retrain_shap_adwin',\n",
    "         'retrain_adwin_loss',\n",
    "         'retrain_nothing']"
   ]
  },
  {
   "cell_type": "code",
   "execution_count": 31,
   "id": "8dab9fe8",
   "metadata": {},
   "outputs": [
    {
     "data": {
      "image/png": "[encoded data removed]",
      "text/plain": [
       "<Figure size 720x576 with 1 Axes>"
      ]
     },
     "metadata": {
      "needs_background": "light"
     },
     "output_type": "display_data"
    }
   ],
   "source": [
    "D_G = Drift_generators(n_samples = int(10**4), n_features = 3)\n",
    "d_centers = [(0, 0, 0.3, 0.25, 1),(0, 0.3, 0.5, 0, 0.25),(0, 0.5, 1, 0.25, 1)]\n",
    "D_G.brutal_covariate_drift(d_centers=d_centers)\n",
    "\n",
    "D_G.retrain_nothing()\n",
    "D_G.plot_retrain()"
   ]
  },
  {
   "cell_type": "code",
   "execution_count": null,
   "id": "d93bd6be",
   "metadata": {
    "scrolled": true
   },
   "outputs": [
    {
     "name": "stdout",
     "output_type": "stream",
     "text": [
      "   0 2021-07-02_13:15\n",
      "     shap_adwin\n"
     ]
    }
   ],
   "source": [
    "n_iter = 20\n",
    "\n",
    "dataset = \"brutal_covar_backforth_0_25\"\n",
    "session_time = strftime(\"%Y-%m-%d_%H:%M\", gmtime())\n",
    "\n",
    "funcs = ['retrain_shap_adwin', 'retrain_adwin_loss']\n",
    "        \n",
    "for k in range(n_iter):\n",
    "    \n",
    "    session_time = strftime(\"%Y-%m-%d_%H:%M\", gmtime())\n",
    "    D_G = Drift_generators(n_samples = int(10**4), n_features = 3)\n",
    "    d_centers = [(0, 0, 0.3, 0.25, 1),(0, 0.3, 0.5, 0, 0.25),(0, 0.5, 1, 0.25, 1)]\n",
    "    D_G.brutal_covariate_drift(d_centers=d_centers)\n",
    "\n",
    "    print(\"  \",k, session_time)\n",
    "    for i, func in enumerate(funcs):\n",
    "        t1 = time.time()\n",
    "        print(\"    \",func[8:])\n",
    "        error, detection_indices = getattr(Drift_generators, func)(D_G)\n",
    "        print(\"      \",str(datetime.timedelta(seconds=int(time.time()-t1))))\n",
    "        name = \"/\"+ session_time\n",
    "        path = my_path +dataset+\"/\"+func[8:]\n",
    "        if(not os.path.isdir(path)):\n",
    "            os.mkdir(my_path +dataset+\"/\"+func[8:]);\n",
    "        pickle.dump( (error, detection_indices), open( path+name+\".p\", \"wb\" ))\n",
    "        \n",
    "    while(strftime(\"%Y-%m-%d_%H:%M\", gmtime()) == session_time):\n",
    "        time.sleep(5)"
   ]
  },
  {
   "cell_type": "markdown",
   "id": "1117a502",
   "metadata": {},
   "source": [
    "## Concept smooth back and forth"
   ]
  },
  {
   "cell_type": "code",
   "execution_count": 29,
   "id": "537ee201",
   "metadata": {},
   "outputs": [],
   "source": [
    "from drift_generators import *\n",
    "from time import gmtime, strftime, time\n",
    "import os\n",
    "import pickle\n",
    "import datetime\n",
    "import time"
   ]
  },
  {
   "cell_type": "code",
   "execution_count": 30,
   "id": "aa81aea9",
   "metadata": {},
   "outputs": [],
   "source": [
    "funcs= ['retrain_shap_adwin',\n",
    "         'retrain_adwin_loss',\n",
    "         'retrain_nothing']"
   ]
  },
  {
   "cell_type": "code",
   "execution_count": 31,
   "id": "1cdf7eeb",
   "metadata": {},
   "outputs": [
    {
     "data": {
      "image/png": "[encoded data removed]",
      "text/plain": [
       "<Figure size 720x576 with 1 Axes>"
      ]
     },
     "metadata": {
      "needs_background": "light"
     },
     "output_type": "display_data"
    }
   ],
   "source": [
    "D_G = Drift_generators(n_samples = int(7000), n_features = 3)\n",
    "D_G.back_and_forth_smooth_drift()\n",
    "\n",
    "D_G.retrain_nothing()\n",
    "D_G.plot_retrain()"
   ]
  },
  {
   "cell_type": "code",
   "execution_count": null,
   "id": "1191f39a",
   "metadata": {
    "scrolled": true
   },
   "outputs": [
    {
     "name": "stdout",
     "output_type": "stream",
     "text": [
      "   0 2021-07-02_13:15\n",
      "     shap_adwin\n"
     ]
    }
   ],
   "source": [
    "n_iter = 20\n",
    "\n",
    "dataset = \"back_and_forth_smooth_drift\"\n",
    "session_time = strftime(\"%Y-%m-%d_%H:%M\", gmtime())\n",
    "\n",
    "funcs = ['retrain_shap_adwin', 'retrain_adwin_loss']\n",
    "        \n",
    "for k in range(n_iter):\n",
    "    \n",
    "    session_time = strftime(\"%Y-%m-%d_%H:%M\", gmtime())\n",
    "    D_G = Drift_generators(n_samples = int(7000), n_features = 3)\n",
    "    D_G.back_and_forth_smooth_drift()\n",
    "\n",
    "    print(\"  \",k, session_time)\n",
    "    for i, func in enumerate(funcs):\n",
    "        t1 = time.time()\n",
    "        print(\"    \",func[8:])\n",
    "        error, detection_indices = getattr(Drift_generators, func)(D_G)\n",
    "        print(\"      \",str(datevtime.timedelta(seconds=int(time.time()-t1))))\n",
    "        name = \"/\"+ session_time\n",
    "        path = my_path +dataset+\"/\"+func[8:]\n",
    "        if(not os.path.isdir(path)):\n",
    "            os.mkdir(my_path +dataset+\"/\"+func[8:]);\n",
    "        pickle.dump( (error, detection_indices), open( path+name+\".p\", \"wb\" ))\n",
    "        \n",
    "    while(strftime(\"%Y-%m-%d_%H:%M\", gmtime()) == session_time):\n",
    "        time.sleep(5)"
   ]
  },
  {
   "cell_type": "code",
   "execution_count": null,
   "id": "343a0a72",
   "metadata": {},
   "outputs": [],
   "source": []
  },
  {
   "cell_type": "markdown",
   "id": "af8eef33",
   "metadata": {},
   "source": [
    "# CHANGING DELTA"
   ]
  },
  {
   "cell_type": "code",
   "execution_count": 1,
   "id": "d3e8bfc7",
   "metadata": {},
   "outputs": [],
   "source": [
    "from drift_generators import *\n",
    "from time import gmtime, strftime, time\n",
    "import os\n",
    "import pickle\n",
    "import datetime\n",
    "import time"
   ]
  },
  {
   "cell_type": "code",
   "execution_count": 2,
   "id": "a62240ad",
   "metadata": {},
   "outputs": [],
   "source": [
    "funcs = [func for func in dir(Drift_generators) if callable(getattr(Drift_generators, func))\n",
    "         and not func.startswith(\"__\")\n",
    "         and \"retrain\" in func and not \"plot\" in func and not \"perf\" in func]"
   ]
  },
  {
   "cell_type": "code",
   "execution_count": 4,
   "id": "06c1448f",
   "metadata": {
    "scrolled": true
   },
   "outputs": [
    {
     "data": {
      "text/plain": [
       "['retrain_shap_adwin_back_best',\n",
       " 'retrain_shap_adwin_back_train',\n",
       " 'retrain_shap_adwin_back_worse',\n",
       " 'retrain_shap_adwin_smallback',\n",
       " 'retrain_shap_adwin',\n",
       " 'retrain_adwin_loss',\n",
       " 'retrain_nothing',\n",
       " 'retrain_arf']"
      ]
     },
     "execution_count": 4,
     "metadata": {},
     "output_type": "execute_result"
    }
   ],
   "source": [
    "funcs = [func for func in dir(Drift_generators) if callable(getattr(Drift_generators, func))\n",
    "         and not func.startswith(\"__\")\n",
    "         and \"retrain\" in func and not \"plot\" in func and not \"perf\" in func]\n",
    "funcs = [x for x in funcs if \"back\" in x]\n",
    "funcs.append(\"retrain_shap_adwin\")\n",
    "funcs.append(\"retrain_adwin_loss\")\n",
    "funcs.append(\"retrain_nothing\")\n",
    "funcs.append(\"retrain_arf\")\n",
    "funcs"
   ]
  },
  {
   "cell_type": "code",
   "execution_count": 7,
   "id": "dbb943ee",
   "metadata": {},
   "outputs": [],
   "source": [
    "funcs= ['retrain_shap_adwin',\n",
    "         'retrain_adwin_loss']"
   ]
  },
  {
   "cell_type": "code",
   "execution_count": 8,
   "id": "1ee0c4e6",
   "metadata": {},
   "outputs": [
    {
     "data": {
      "image/png": "[encoded data removed]",
      "text/plain": [
       "<Figure size 720x576 with 1 Axes>"
      ]
     },
     "metadata": {
      "needs_background": "light"
     },
     "output_type": "display_data"
    }
   ],
   "source": [
    "\n",
    "D_G = Drift_generators(n_samples = int(7000), n_features = 3)\n",
    "circle_centers = [[0.7 for i in range(D_G.n_features)],[0.7 for i in range(D_G.n_features)]]\n",
    "D_G.new_smooth_concept_drift(n_drift = 2, circle_centers = circle_centers, drift_points= [2500,4500])\n",
    "#D_G.smooth_concept_drift\n",
    "D_G.retrain_nothing()\n",
    "D_G.plot_retrain()"
   ]
  },
  {
   "cell_type": "code",
   "execution_count": 11,
   "id": "89b75169",
   "metadata": {
    "scrolled": true
   },
   "outputs": [
    {
     "name": "stdout",
     "output_type": "stream",
     "text": [
      "     shap_adwin(0.1)\n",
      "       0:00:43\n",
      "     adwin_loss(0.1)\n",
      "       0:00:11\n",
      "     shap_adwin(0.02)\n",
      "       0:00:47\n",
      "     adwin_loss(0.02)\n",
      "       0:00:12\n",
      "     shap_adwin(0.01)\n",
      "       0:00:37\n",
      "     adwin_loss(0.01)\n",
      "       0:00:10\n",
      "     shap_adwin(0.005)\n",
      "       0:00:46\n",
      "     adwin_loss(0.005)\n",
      "       0:00:11\n",
      "     shap_adwin(0.001)\n",
      "       0:00:44\n",
      "     adwin_loss(0.001)\n",
      "       0:00:10\n",
      "     shap_adwin(0.0001)\n",
      "       0:00:50\n",
      "     adwin_loss(0.0001)\n",
      "       0:00:07\n",
      "     shap_adwin(0.1)\n",
      "       0:00:35\n",
      "     adwin_loss(0.1)\n",
      "       0:00:08\n",
      "     shap_adwin(0.02)\n",
      "       0:00:48\n",
      "     adwin_loss(0.02)\n",
      "       0:00:07\n",
      "     shap_adwin(0.01)\n",
      "       0:00:43\n",
      "     adwin_loss(0.01)\n",
      "       0:00:08\n",
      "     shap_adwin(0.005)\n",
      "       0:00:47\n",
      "     adwin_loss(0.005)\n",
      "       0:00:09\n",
      "     shap_adwin(0.001)\n",
      "       0:00:43\n",
      "     adwin_loss(0.001)\n",
      "       0:00:12\n",
      "     shap_adwin(0.0001)\n",
      "       0:00:40\n",
      "     adwin_loss(0.0001)\n",
      "       0:00:07\n",
      "     shap_adwin(0.1)\n",
      "       0:00:47\n",
      "     adwin_loss(0.1)\n",
      "       0:00:08\n",
      "     shap_adwin(0.02)\n",
      "       0:00:49\n",
      "     adwin_loss(0.02)\n",
      "       0:00:08\n",
      "     shap_adwin(0.01)\n",
      "       0:00:41\n",
      "     adwin_loss(0.01)\n",
      "       0:00:15\n",
      "     shap_adwin(0.005)\n",
      "       0:00:47\n",
      "     adwin_loss(0.005)\n",
      "       0:00:08\n",
      "     shap_adwin(0.001)\n",
      "       0:00:51\n",
      "     adwin_loss(0.001)\n",
      "       0:00:09\n",
      "     shap_adwin(0.0001)\n",
      "       0:00:41\n",
      "     adwin_loss(0.0001)\n",
      "       0:00:11\n",
      "     shap_adwin(0.1)\n",
      "       0:00:57\n",
      "     adwin_loss(0.1)\n",
      "       0:00:16\n",
      "     shap_adwin(0.02)\n",
      "       0:00:40\n",
      "     adwin_loss(0.02)\n",
      "       0:00:13\n",
      "     shap_adwin(0.01)\n",
      "       0:00:45\n",
      "     adwin_loss(0.01)\n",
      "       0:00:11\n",
      "     shap_adwin(0.005)\n",
      "       0:00:55\n",
      "     adwin_loss(0.005)\n",
      "       0:00:13\n",
      "     shap_adwin(0.001)\n",
      "       0:00:40\n",
      "     adwin_loss(0.001)\n",
      "       0:00:07\n",
      "     shap_adwin(0.0001)\n",
      "       0:00:45\n",
      "     adwin_loss(0.0001)\n",
      "       0:00:16\n",
      "     shap_adwin(0.1)\n",
      "       0:00:46\n",
      "     adwin_loss(0.1)\n",
      "       0:00:15\n",
      "     shap_adwin(0.02)\n",
      "       0:00:40\n",
      "     adwin_loss(0.02)\n",
      "       0:00:07\n",
      "     shap_adwin(0.01)\n",
      "       0:00:35\n",
      "     adwin_loss(0.01)\n",
      "       0:00:07\n",
      "     shap_adwin(0.005)\n",
      "       0:00:34\n",
      "     adwin_loss(0.005)\n",
      "       0:00:06\n",
      "     shap_adwin(0.001)\n",
      "       0:00:36\n",
      "     adwin_loss(0.001)\n",
      "       0:00:15\n",
      "     shap_adwin(0.0001)\n",
      "       0:00:50\n",
      "     adwin_loss(0.0001)\n",
      "       0:00:10\n",
      "     shap_adwin(0.1)\n",
      "       0:00:45\n",
      "     adwin_loss(0.1)\n",
      "       0:00:08\n",
      "     shap_adwin(0.02)\n",
      "       0:00:49\n",
      "     adwin_loss(0.02)\n",
      "       0:00:10\n",
      "     shap_adwin(0.01)\n",
      "       0:00:45\n",
      "     adwin_loss(0.01)\n",
      "       0:00:10\n",
      "     shap_adwin(0.005)\n",
      "       0:00:46\n",
      "     adwin_loss(0.005)\n",
      "       0:00:11\n",
      "     shap_adwin(0.001)\n",
      "       0:00:49\n",
      "     adwin_loss(0.001)\n",
      "       0:00:09\n",
      "     shap_adwin(0.0001)\n",
      "       0:00:46\n",
      "     adwin_loss(0.0001)\n",
      "       0:00:12\n",
      "     shap_adwin(0.1)\n",
      "       0:00:41\n",
      "     adwin_loss(0.1)\n",
      "       0:00:14\n",
      "     shap_adwin(0.02)\n",
      "       0:00:37\n",
      "     adwin_loss(0.02)\n",
      "       0:00:07\n",
      "     shap_adwin(0.01)\n",
      "       0:00:57\n",
      "     adwin_loss(0.01)\n",
      "       0:00:11\n",
      "     shap_adwin(0.005)\n",
      "       0:00:47\n",
      "     adwin_loss(0.005)\n",
      "       0:00:07\n",
      "     shap_adwin(0.001)\n",
      "       0:00:49\n",
      "     adwin_loss(0.001)\n",
      "       0:00:13\n",
      "     shap_adwin(0.0001)\n",
      "       0:00:34\n",
      "     adwin_loss(0.0001)\n",
      "       0:00:07\n",
      "     shap_adwin(0.1)\n",
      "       0:00:51\n",
      "     adwin_loss(0.1)\n",
      "       0:00:07\n",
      "     shap_adwin(0.02)\n",
      "       0:00:34\n",
      "     adwin_loss(0.02)\n",
      "       0:00:10\n",
      "     shap_adwin(0.01)\n",
      "       0:00:42\n",
      "     adwin_loss(0.01)\n",
      "       0:00:07\n",
      "     shap_adwin(0.005)\n",
      "       0:00:50\n",
      "     adwin_loss(0.005)\n",
      "       0:00:09\n",
      "     shap_adwin(0.001)\n",
      "       0:00:54\n",
      "     adwin_loss(0.001)\n",
      "       0:00:10\n",
      "     shap_adwin(0.0001)\n",
      "       0:00:50\n",
      "     adwin_loss(0.0001)\n",
      "       0:00:07\n",
      "     shap_adwin(0.1)\n",
      "       0:00:38\n",
      "     adwin_loss(0.1)\n",
      "       0:00:08\n",
      "     shap_adwin(0.02)\n",
      "       0:00:50\n",
      "     adwin_loss(0.02)\n",
      "       0:00:09\n",
      "     shap_adwin(0.01)\n",
      "       0:00:42\n",
      "     adwin_loss(0.01)\n",
      "       0:00:11\n",
      "     shap_adwin(0.005)\n",
      "       0:00:36\n",
      "     adwin_loss(0.005)\n",
      "       0:00:08\n",
      "     shap_adwin(0.001)\n",
      "       0:00:37\n",
      "     adwin_loss(0.001)\n",
      "       0:00:05\n",
      "     shap_adwin(0.0001)\n",
      "       0:00:28\n",
      "     adwin_loss(0.0001)\n",
      "       0:00:05\n",
      "     shap_adwin(0.1)\n",
      "       0:00:28\n",
      "     adwin_loss(0.1)\n",
      "       0:00:05\n",
      "     shap_adwin(0.02)\n",
      "       0:00:28\n",
      "     adwin_loss(0.02)\n",
      "       0:00:05\n",
      "     shap_adwin(0.01)\n",
      "       0:00:29\n",
      "     adwin_loss(0.01)\n",
      "       0:00:05\n",
      "     shap_adwin(0.005)\n",
      "       0:00:28\n",
      "     adwin_loss(0.005)\n",
      "       0:00:05\n",
      "     shap_adwin(0.001)\n",
      "       0:00:28\n",
      "     adwin_loss(0.001)\n",
      "       0:00:05\n",
      "     shap_adwin(0.0001)\n",
      "       0:00:28\n",
      "     adwin_loss(0.0001)\n",
      "       0:00:05\n"
     ]
    }
   ],
   "source": [
    "n_iter = 10\n",
    "\n",
    "dataset = \"smooth_drift_sabilized_noisy\"\n",
    "session_time = strftime(\"%Y-%m-%d_%H:%M\", gmtime())\n",
    "\n",
    "funcs = ['retrain_shap_adwin', 'retrain_adwin_loss']\n",
    "        \n",
    "D_G = Drift_generators()\n",
    "for k in range(n_iter):\n",
    "    \n",
    "    session_time = strftime(\"%Y-%m-%d_%H:%M\", gmtime())\n",
    "    D_G = Drift_generators(n_samples = int(7000), n_features = 3)\n",
    "    circle_centers = [[0.7 for i in range(D_G.n_features)],[0.7 for i in range(D_G.n_features)]]\n",
    "    D_G.new_smooth_concept_drift(n_drift = 2, circle_centers = circle_centers, drift_points= [2500,4500])\n",
    "    D_G.add_noise()\n",
    "    \n",
    "    for beta_d in [0.1, 0.02, 0.01, 0.005, 0.001, 0.0001]:\n",
    "        for func in funcs:        \n",
    "\n",
    "            t1 = time.time()\n",
    "            print(\"    \",func[8:]+\"(\"+str(beta_d)+\")\")\n",
    "            error, detection_indices = getattr(Drift_generators, func)(D_G, beta_d = beta_d)\n",
    "            print(\"      \",str(datetime.timedelta(seconds=int(time.time()-t1))))\n",
    "            \n",
    "            name = \"/\"+ session_time\n",
    "            path = my_path +dataset+\"/\"+func[8:]+\"_\"+str(beta_d)\n",
    "            if(not os.path.isdir(path)):\n",
    "                os.mkdir(my_path +dataset+\"/\"+func[8:]+\"_\"+str(beta_d));\n",
    "            pickle.dump( (error, detection_indices), open( path+name+\".p\", \"wb\" ))\n",
    "\n",
    "    while(strftime(\"%Y-%m-%d_%H:%M\", gmtime()) == session_time):\n",
    "        time.sleep(5)"
   ]
  },
  {
   "cell_type": "markdown",
   "id": "d4919e97",
   "metadata": {},
   "source": [
    "### HERE"
   ]
  },
  {
   "cell_type": "code",
   "execution_count": null,
   "id": "99f4066a",
   "metadata": {},
   "outputs": [],
   "source": []
  },
  {
   "cell_type": "code",
   "execution_count": null,
   "id": "bd209b3e",
   "metadata": {},
   "outputs": [],
   "source": []
  },
  {
   "cell_type": "code",
   "execution_count": 8,
   "id": "a81862bd",
   "metadata": {},
   "outputs": [
    {
     "data": {
      "text/plain": [
       "['retrain_shap_adwin', 'retrain_adwin_loss']"
      ]
     },
     "execution_count": 8,
     "metadata": {},
     "output_type": "execute_result"
    }
   ],
   "source": [
    "funcs"
   ]
  },
  {
   "cell_type": "code",
   "execution_count": 33,
   "id": "347d9927",
   "metadata": {
    "scrolled": true
   },
   "outputs": [
    {
     "name": "stdout",
     "output_type": "stream",
     "text": [
      "   0 2021-06-22_12:31\n",
      "     shap_adwin\n",
      "       0:00:40\n",
      "     adwin_loss\n",
      "       0:00:06\n",
      "     nothing\n",
      "       0:00:00\n",
      "   1 2021-06-22_12:32\n",
      "     shap_adwin\n",
      "       0:00:31\n",
      "     adwin_loss\n",
      "       0:00:06\n",
      "     nothing\n",
      "       0:00:00\n",
      "   2 2021-06-22_12:33\n",
      "     shap_adwin\n",
      "       0:00:33\n",
      "     adwin_loss\n",
      "       0:00:06\n",
      "     nothing\n",
      "       0:00:00\n",
      "   3 2021-06-22_12:34\n",
      "     shap_adwin\n",
      "       0:00:31\n",
      "     adwin_loss\n",
      "       0:00:07\n",
      "     nothing\n",
      "       0:00:00\n",
      "   4 2021-06-22_12:35\n",
      "     shap_adwin\n",
      "       0:00:38\n",
      "     adwin_loss\n",
      "       0:00:06\n",
      "     nothing\n",
      "       0:00:00\n",
      "   5 2021-06-22_12:36\n",
      "     shap_adwin\n",
      "       0:00:40\n",
      "     adwin_loss\n",
      "       0:00:10\n",
      "     nothing\n",
      "       0:00:00\n",
      "   6 2021-06-22_12:37\n",
      "     shap_adwin\n",
      "       0:00:33\n",
      "     adwin_loss\n",
      "       0:00:08\n",
      "     nothing\n",
      "       0:00:00\n",
      "   7 2021-06-22_12:38\n",
      "     shap_adwin\n",
      "       0:00:44\n",
      "     adwin_loss\n",
      "       0:00:07\n",
      "     nothing\n",
      "       0:00:00\n",
      "   8 2021-06-22_12:39\n",
      "     shap_adwin\n",
      "       0:00:50\n",
      "     adwin_loss\n",
      "       0:00:11\n",
      "     nothing\n",
      "       0:00:00\n",
      "   9 2021-06-22_12:40\n",
      "     shap_adwin\n",
      "       0:00:36\n",
      "     adwin_loss\n",
      "       0:00:06\n",
      "     nothing\n",
      "       0:00:00\n",
      "   10 2021-06-22_12:41\n",
      "     shap_adwin\n",
      "       0:00:38\n",
      "     adwin_loss\n",
      "       0:00:07\n",
      "     nothing\n",
      "       0:00:00\n",
      "   11 2021-06-22_12:42\n",
      "     shap_adwin\n",
      "       0:00:32\n",
      "     adwin_loss\n",
      "       0:00:06\n",
      "     nothing\n",
      "       0:00:00\n",
      "   12 2021-06-22_12:43\n",
      "     shap_adwin\n",
      "       0:00:44\n",
      "     adwin_loss\n",
      "       0:00:15\n",
      "     nothing\n",
      "       0:00:00\n",
      "   13 2021-06-22_12:44\n",
      "     shap_adwin\n",
      "       0:00:29\n",
      "     adwin_loss\n",
      "       0:00:05\n",
      "     nothing\n",
      "       0:00:00\n",
      "   14 2021-06-22_12:45\n",
      "     shap_adwin\n",
      "       0:00:25\n",
      "     adwin_loss\n",
      "       0:00:05\n",
      "     nothing\n",
      "       0:00:00\n",
      "   15 2021-06-22_12:46\n",
      "     shap_adwin\n",
      "       0:00:23\n",
      "     adwin_loss\n",
      "       0:00:05\n",
      "     nothing\n",
      "       0:00:00\n",
      "   16 2021-06-22_12:47\n",
      "     shap_adwin\n",
      "       0:00:23\n",
      "     adwin_loss\n",
      "       0:00:05\n",
      "     nothing\n",
      "       0:00:00\n",
      "   17 2021-06-22_12:48\n",
      "     shap_adwin\n",
      "       0:01:30\n",
      "     adwin_loss\n",
      "       0:00:06\n",
      "     nothing\n",
      "       0:00:00\n",
      "   18 2021-06-22_12:49\n",
      "     shap_adwin\n",
      "       0:00:37\n",
      "     adwin_loss\n",
      "       0:00:10\n",
      "     nothing\n",
      "       0:00:00\n",
      "   19 2021-06-22_12:50\n",
      "     shap_adwin\n",
      "       0:00:53\n",
      "     adwin_loss\n",
      "       0:00:08\n",
      "     nothing\n",
      "       0:00:00\n"
     ]
    }
   ],
   "source": [
    "n_iter = 20\n",
    "dataset = \"smooth_drift_sabilized_noisy\"\n",
    "\n",
    "session_time = strftime(\"%Y-%m-%d_%H:%M\", gmtime())\n",
    "\n",
    "D_G = Drift_generators()\n",
    "for k in range(n_iter):\n",
    "    session_time = strftime(\"%Y-%m-%d_%H:%M\", gmtime())\n",
    "\n",
    "    D_G = Drift_generators(n_samples = int(10000), n_features = 3)\n",
    "    circle_centers = [[0.7 for i in range(D_G.n_features)],[0.7 for i in range(D_G.n_features)]]\n",
    "    D_G.new_smooth_concept_drift(n_drift = 2, circle_centers = circle_centers, drift_points= [2500,4500])\n",
    "    D_G.add_noise()\n",
    "\n",
    "    print(\"  \",k, session_time)\n",
    "    for i, func in enumerate(funcs):\n",
    "        t1 = time.time()\n",
    "        print(\"    \",func[8:])\n",
    "        error, detection_indices = getattr(Drift_generators, func)(D_G)\n",
    "        print(\"      \",str(datetime.timedelta(seconds=int(time.time()-t1))))\n",
    "        name = \"/\"+ session_time\n",
    "        path = my_path +dataset+\"/\"+func[8:]\n",
    "        if(not os.path.isdir(path)):\n",
    "            os.mkdir(my_path +dataset+\"/\"+func[8:]);\n",
    "        pickle.dump( (error, detection_indices), open( path+name+\".p\", \"wb\" ))\n",
    "        \n",
    "    while(strftime(\"%Y-%m-%d_%H:%M\", gmtime()) == session_time):\n",
    "        time.sleep(5)"
   ]
  },
  {
   "cell_type": "code",
   "execution_count": 34,
   "id": "350f8113",
   "metadata": {
    "scrolled": true
   },
   "outputs": [
    {
     "name": "stdout",
     "output_type": "stream",
     "text": [
      "   0 2021-06-22_12:51\n",
      "     shap_adwin\n",
      "       0:00:31\n",
      "     adwin_loss\n",
      "       0:00:19\n",
      "     nothing\n",
      "       0:00:00\n",
      "   1 2021-06-22_12:52\n",
      "     shap_adwin\n",
      "       0:00:38\n",
      "     adwin_loss\n",
      "       0:00:08\n",
      "     nothing\n",
      "       0:00:00\n",
      "   2 2021-06-22_12:53\n",
      "     shap_adwin\n",
      "       0:00:46\n",
      "     adwin_loss\n",
      "       0:00:06\n",
      "     nothing\n",
      "       0:00:00\n",
      "   3 2021-06-22_12:54\n",
      "     shap_adwin\n",
      "       0:00:30\n",
      "     adwin_loss\n",
      "       0:00:07\n",
      "     nothing\n",
      "       0:00:00\n",
      "   4 2021-06-22_12:55\n",
      "     shap_adwin\n",
      "       0:00:42\n",
      "     adwin_loss\n",
      "       0:00:08\n",
      "     nothing\n",
      "       0:00:00\n",
      "   5 2021-06-22_12:56\n",
      "     shap_adwin\n",
      "       0:00:28\n",
      "     adwin_loss\n",
      "       0:00:06\n",
      "     nothing\n",
      "       0:00:00\n",
      "   6 2021-06-22_12:57\n",
      "     shap_adwin\n",
      "       0:00:33\n",
      "     adwin_loss\n",
      "       0:00:05\n",
      "     nothing\n",
      "       0:00:00\n",
      "   7 2021-06-22_12:58\n",
      "     shap_adwin\n",
      "       0:01:08\n",
      "     adwin_loss\n",
      "       0:00:10\n",
      "     nothing\n",
      "       0:00:00\n",
      "   8 2021-06-22_12:59\n",
      "     shap_adwin\n",
      "       0:00:29\n",
      "     adwin_loss\n",
      "       0:00:06\n",
      "     nothing\n",
      "       0:00:00\n",
      "   9 2021-06-22_13:00\n",
      "     shap_adwin\n",
      "       0:00:30\n",
      "     adwin_loss\n",
      "       0:00:07\n",
      "     nothing\n",
      "       0:00:00\n",
      "   10 2021-06-22_13:01\n",
      "     shap_adwin\n",
      "       0:00:31\n",
      "     adwin_loss\n",
      "       0:00:09\n",
      "     nothing\n",
      "       0:00:00\n",
      "   11 2021-06-22_13:02\n",
      "     shap_adwin\n",
      "       0:00:37\n",
      "     adwin_loss\n",
      "       0:00:10\n",
      "     nothing\n",
      "       0:00:00\n",
      "   12 2021-06-22_13:03\n",
      "     shap_adwin\n",
      "       0:00:27\n",
      "     adwin_loss\n",
      "       0:00:09\n",
      "     nothing\n",
      "       0:00:00\n",
      "   13 2021-06-22_13:04\n",
      "     shap_adwin\n",
      "       0:00:34\n",
      "     adwin_loss\n",
      "       0:00:09\n",
      "     nothing\n",
      "       0:00:00\n",
      "   14 2021-06-22_13:05\n",
      "     shap_adwin\n",
      "       0:00:31\n",
      "     adwin_loss\n",
      "       0:00:08\n",
      "     nothing\n",
      "       0:00:00\n",
      "   15 2021-06-22_13:06\n",
      "     shap_adwin\n",
      "       0:00:32\n",
      "     adwin_loss\n",
      "       0:00:07\n",
      "     nothing\n",
      "       0:00:00\n",
      "   16 2021-06-22_13:07\n",
      "     shap_adwin\n",
      "       0:00:26\n",
      "     adwin_loss\n",
      "       0:00:05\n",
      "     nothing\n",
      "       0:00:00\n",
      "   17 2021-06-22_13:08\n",
      "     shap_adwin\n",
      "       0:00:19\n",
      "     adwin_loss\n",
      "       0:00:08\n",
      "     nothing\n",
      "       0:00:00\n",
      "   18 2021-06-22_13:09\n",
      "     shap_adwin\n",
      "       0:00:25\n",
      "     adwin_loss\n",
      "       0:00:07\n",
      "     nothing\n",
      "       0:00:00\n",
      "   19 2021-06-22_13:10\n",
      "     shap_adwin\n",
      "       0:00:26\n",
      "     adwin_loss\n",
      "       0:00:08\n",
      "     nothing\n",
      "       0:00:00\n"
     ]
    }
   ],
   "source": [
    "n_iter = 20\n",
    "dataset = \"smooth_drift_sabilized\"\n",
    "\n",
    "session_time = strftime(\"%Y-%m-%d_%H:%M\", gmtime())\n",
    "\n",
    "D_G = Drift_generators()\n",
    "for k in range(n_iter):\n",
    "    session_time = strftime(\"%Y-%m-%d_%H:%M\", gmtime())\n",
    "\n",
    "    D_G = Drift_generators(n_samples = int(7000), n_features = 3)\n",
    "    circle_centers = [[0.7 for i in range(D_G.n_features)],[0.7 for i in range(D_G.n_features)]]\n",
    "    D_G.new_smooth_concept_drift(n_drift = 2, circle_centers = circle_centers, drift_points= [2500,4500])\n",
    "    \n",
    "    print(\"  \",k, session_time)\n",
    "    for i, func in enumerate(funcs):\n",
    "        t1 = time.time()\n",
    "        print(\"    \",func[8:])\n",
    "        error, detection_indices = getattr(Drift_generators, func)(D_G)\n",
    "        print(\"      \",str(datetime.timedelta(seconds=int(time.time()-t1))))\n",
    "        name = \"/\"+ session_time\n",
    "        path = my_path +dataset+\"/\"+func[8:]\n",
    "        if(not os.path.isdir(path)):\n",
    "            os.mkdir(my_path +dataset+\"/\"+func[8:]);\n",
    "        pickle.dump( (error, detection_indices), open( path+name+\".p\", \"wb\" ))\n",
    "        \n",
    "    while(strftime(\"%Y-%m-%d_%H:%M\", gmtime()) == session_time):\n",
    "        time.sleep(5)"
   ]
  },
  {
   "cell_type": "code",
   "execution_count": null,
   "id": "c866345e",
   "metadata": {},
   "outputs": [],
   "source": []
  },
  {
   "cell_type": "code",
   "execution_count": null,
   "id": "965e2264",
   "metadata": {},
   "outputs": [],
   "source": []
  },
  {
   "cell_type": "code",
   "execution_count": null,
   "id": "2676a075",
   "metadata": {},
   "outputs": [],
   "source": []
  },
  {
   "cell_type": "markdown",
   "id": "c9ce3b20",
   "metadata": {},
   "source": [
    "# Old code just in case"
   ]
  },
  {
   "cell_type": "code",
   "execution_count": null,
   "id": "4ef38c61",
   "metadata": {},
   "outputs": [],
   "source": [
    "n_iter = 15\n",
    "dataset = \"brutal_concept_backforth\"\n",
    "\n",
    "session_time = strftime(\"%Y-%m-%d_%H:%M\", gmtime())\n",
    "\n",
    "for k in range(n_iter):\n",
    "    session_time = strftime(\"%Y-%m-%d_%H:%M\", gmtime())\n",
    "    print(\"  \",k, session_time)\n",
    "    D_G = Drift_generators(n_samples = int(7000), n_features = 3)\n",
    "    #d_centers = [(0, 0, 0.3, 0.25, 1),(0, 0.3, 0.5, 0, 0.25),(0, 0.5, 0.9999, 0.25, 1)]\n",
    "    D_G.back_and_forth_abrupt()\n",
    "    for i, func in enumerate(funcs):\n",
    "        t1 = time()\n",
    "        print(\"    \",func[8:])\n",
    "        error, detection_indices = getattr(Drift_generators, func)(D_G)\n",
    "        print(\"      \",str(datetime.timedelta(seconds=int(time()-t1))))\n",
    "        name = \"/\"+ session_time\n",
    "        path = my_path +dataset+\"/\"+func[8:]\n",
    "        if(not os.path.isdir(path)):\n",
    "            os.mkdir(my_path +dataset+\"/\"+func[8:]);\n",
    "        pickle.dump( (error, detection_indices), open( path+name+\".p\", \"wb\" ))"
   ]
  },
  {
   "cell_type": "code",
   "execution_count": null,
   "id": "012d3c85",
   "metadata": {},
   "outputs": [],
   "source": [
    "#D_G.plot_retrain()"
   ]
  }
 ],
 "metadata": {
  "hide_input": false,
  "kernelspec": {
   "display_name": "Python 3 (ipykernel)",
   "language": "python",
   "name": "python3"
  },
  "language_info": {
   "codemirror_mode": {
    "name": "ipython",
    "version": 3
   },
   "file_extension": ".py",
   "mimetype": "text/x-python",
   "name": "python",
   "nbconvert_exporter": "python",
   "pygments_lexer": "ipython3",
   "version": "3.8.10"
  },
  "toc": {
   "base_numbering": 1,
   "nav_menu": {},
   "number_sections": true,
   "sideBar": true,
   "skip_h1_title": false,
   "title_cell": "Table of Contents",
   "title_sidebar": "Contents",
   "toc_cell": true,
   "toc_position": {
    "height": "calc(100% - 180px)",
    "left": "10px",
    "top": "150px",
    "width": "189px"
   },
   "toc_section_display": true,
   "toc_window_display": true
  }
 },
 "nbformat": 4,
 "nbformat_minor": 5
}
