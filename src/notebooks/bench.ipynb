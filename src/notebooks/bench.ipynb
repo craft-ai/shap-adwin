{
 "cells": [
  {
   "cell_type": "code",
   "execution_count": null,
   "metadata": {},
   "outputs": [],
   "source": [
    "import os, sys\n",
    "\n",
    "module_path = os.path.abspath(os.path.join('../../'))\n",
    "\n",
    "if module_path not in sys.path:\n",
    "    sys.path.append(module_path)\n",
    "\n",
    "from src.data_fcts import *\n",
    "from src.retrain_fcts import *\n",
    "\n",
    "from src.bench_fcts import *\n",
    "from ast import literal_eval"
   ]
  },
  {
   "attachments": {},
   "cell_type": "markdown",
   "metadata": {},
   "source": [
    "# List generate df functions"
   ]
  },
  {
   "cell_type": "code",
   "execution_count": null,
   "metadata": {},
   "outputs": [],
   "source": [
    "all_noises = [0, 0.001, 0.01, 0.05, 0.1, 0.5]"
   ]
  },
  {
   "cell_type": "code",
   "execution_count": null,
   "metadata": {},
   "outputs": [],
   "source": [
    "n_samples = 3000\n",
    "n_features = 4"
   ]
  },
  {
   "cell_type": "code",
   "execution_count": null,
   "metadata": {},
   "outputs": [],
   "source": [
    "\n",
    "def generate_smooth_concept_drift(n_samples = n_samples, n_features = n_features):\n",
    "    D_G = Drift_generators(n_samples = n_samples, n_features = n_features)\n",
    "    D_G.smooth_concept_drift(n_drift=1)\n",
    "    return(D_G)\n",
    "\n",
    "def generate_abrupt_concept_drift(n_samples = n_samples, n_features = n_features):\n",
    "    D_G = Drift_generators(n_samples = n_samples, n_features = n_features)\n",
    "    D_G.abrupt_concept_drift(n_drift=1)\n",
    "    return(D_G)\n",
    "\n",
    "def generate_gradual_concept_drift(n_samples = n_samples, n_features = n_features):\n",
    "    D_G = Drift_generators(n_samples = n_samples, n_features = n_features)\n",
    "    D_G.gradual_concept_drift(n_drift=1)\n",
    "    return(D_G)\n",
    "\n",
    "def generate_abrupt_covariate_drift(n_samples = n_samples, n_features = n_features):\n",
    "    D_G = Drift_generators(n_samples = n_samples, n_features = n_features)\n",
    "    d_centers = [(0, 0,\n",
    "    0.3, 0.25, 1),(0, 0.3, 0.5, 0, 0.25),(0, 0.5, 1, 0.25, 1)]\n",
    "    D_G.abrupt_covariate_drift(d_centers=d_centers)\n",
    "    return(D_G)\n",
    "\n",
    "normal_fcts = [generate_smooth_concept_drift, generate_abrupt_concept_drift,\n",
    "               generate_gradual_concept_drift, generate_abrupt_covariate_drift]\n",
    "\n"
   ]
  },
  {
   "cell_type": "code",
   "execution_count": null,
   "metadata": {},
   "outputs": [],
   "source": [
    "\n",
    "generate_drift_fcts = []\n",
    "for noise_rate in all_noises:\n",
    "    # NOISY \n",
    "    def generate_noisy_smooth_concept_drift(n_samples = n_samples, noise_rate=noise_rate):\n",
    "        D_G = Drift_generators(n_samples = n_samples, n_features = n_features)\n",
    "        D_G.smooth_concept_drift(n_drift=1)\n",
    "        D_G.add_noise(noise_rate=noise_rate)\n",
    "        return(D_G)\n",
    "\n",
    "    def generate_noisy_abrupt_concept_drift(n_samples = n_samples, noise_rate=noise_rate):\n",
    "        D_G = Drift_generators(n_samples = n_samples, n_features = n_features)\n",
    "        D_G.abrupt_concept_drift(n_drift=1)\n",
    "        D_G.add_noise(noise_rate=noise_rate)\n",
    "        return(D_G)\n",
    "\n",
    "    def generate_noisy_gradual_concept_drift(n_samples = n_samples, noise_rate=noise_rate):\n",
    "        D_G = Drift_generators(n_samples = n_samples, n_features = n_features)\n",
    "        D_G.gradual_concept_drift(n_drift=1)\n",
    "        D_G.add_noise(noise_rate=noise_rate)\n",
    "        return(D_G)\n",
    "\n",
    "    def generate_noisy_abrupt_covariate_drift(n_samples = n_samples, noise_rate=noise_rate):\n",
    "        D_G = Drift_generators(n_samples = n_samples, n_features = n_features)\n",
    "        d_centers = [(0, 0,\n",
    "                    0.3, 0.25, 1),(0, 0.3, 0.5, 0, 0.25),(0, 0.5, 1, 0.25, 1)]\n",
    "        D_G.abrupt_covariate_drift(d_centers=d_centers)\n",
    "        D_G.add_noise(noise_rate=noise_rate)\n",
    "        return(D_G)\n",
    "\n",
    "\n",
    "\n",
    "            #generate_noisy_smooth_concept_drift\n",
    "    noisy_fcts = [generate_noisy_smooth_concept_drift, generate_noisy_abrupt_concept_drift, generate_noisy_abrupt_covariate_drift,\n",
    "                generate_noisy_gradual_concept_drift],\n",
    "                 #generate_noisy_abrupt_covariate_drift]\n",
    "                #generate_noisy_sine1, generate_noisy_sine2, generate_noisy_stagger]\n",
    "    generate_drift_fcts += noisy_fcts\n"
   ]
  },
  {
   "cell_type": "code",
   "execution_count": null,
   "metadata": {},
   "outputs": [],
   "source": [
    "\n",
    "list_df_generate_fcts_special = []\n",
    "for noise_rate in all_noises:\n",
    "    # NOISY \n",
    "    def generate_noisy_stagger(noise_rate=noise_rate):\n",
    "        D_G = Drift_generators()\n",
    "        D_G.load_df(\"stagger_short\")\n",
    "        D_G.add_noise(noise_rate=noise_rate)\n",
    "        return(D_G)\n",
    "#\n",
    "    def generate_noisy_sine1(noise_rate=noise_rate):\n",
    "        D_G = Drift_generators()\n",
    "        D_G.load_df(\"sine1_short\")plot_detector_noise_scenario\n",
    "        D_G.load_df(\"sine2_short\")\n",
    "        D_G.add_noise(noise_rate=noise_rate)\n",
    "        return(D_G)\n",
    "\n",
    "    noisy_fcts = [generate_noisy_sine1, generate_noisy_sine2],#generate_noisy_stagger\n",
    "    list_df_generate_fcts_special += noisy_fcts\n"
   ]
  },
  {
   "cell_type": "code",
   "execution_count": null,
   "metadata": {},
   "outputs": [],
   "source": [
    "\n",
    "generate_nodrift_fcts = []\n",
    "for noise_rate in all_noises:\n",
    "    # NOISY \n",
    "    def generate_nodrift_df(noise_rate=noise_rate):\n",
    "\n",
    "        D_G = Drift_generators(n_samples = n_samples, n_features = n_features)\n",
    "        D_G.abrupt_concept_drift(drifts=[Drift(is_abrupt=True,\n",
    "                                    start=n_samples-2,\n",
    "                                    characteristic=[0.7-0.3*(0 % 2) for i in range(D_G.n_features)])])\n",
    "        D_G.add_noise(noise_rate=noise_rate)\n",
    "        D_G.drift_name = f\"nodrift_noisy{str(noise_rate)[2:]}\"\n",
    "        \n",
    "        return(D_G)\n",
    "    generate_nodrift_fcts += [generate_nodrift_df]"
   ]
  },
  {
   "cell_type": "code",
   "execution_count": null,
   "metadata": {},
   "outputs": [],
   "source": [
    "all_fcts_selected = [a+b for a,b in zip(list_df_generate_fcts_special, generate_drift_fcts)]\n",
    "all_fcts_selected = [a+[b] for a,b in zip(all_fcts_selected, generate_nodrift_fcts)]"
   ]
  },
  {
   "cell_type": "code",
   "execution_count": null,
   "metadata": {},
   "outputs": [],
   "source": [
    "generate_nodrift_fcts"
   ]
  },
  {
   "cell_type": "code",
   "execution_count": null,
   "metadata": {},
   "outputs": [],
   "source": [
    "all_fcts_selected"
   ]
  },
  {
   "attachments": {},
   "cell_type": "markdown",
   "metadata": {},
   "source": [
    "# Drift detectors funcs"
   ]
  },
  {
   "cell_type": "code",
   "execution_count": null,
   "metadata": {},
   "outputs": [],
   "source": [
    "kswin_funcs = ['retrain_KSWIN',\n",
    "               # 'retrain_KSWIN_loss',\n",
    "                'retrain_KSWIN_shap']\n",
    "adwin_funcs = ['retrain_adwin',\n",
    "                #'retrain_adwin_loss',\n",
    "                #'retrain_adwin_point',\n",
    "                'retrain_adwin_shap',]\n",
    "ph_funcs = ['retrain_PH',\n",
    "               # 'retrain_PH_loss',\n",
    "                'retrain_PH_shap']"
   ]
  },
  {
   "cell_type": "code",
   "execution_count": null,
   "metadata": {},
   "outputs": [],
   "source": [
    "\n",
    "params_retrain_KSWIN = {f:{} for f in kswin_funcs}#VALIDATED !\n",
    "params_retrain_KSWIN[\"retrain_KSWIN\"]  = {\"alpha\":0.01, \"w_size\": 500, \"stat_size\":250, \"stop_first_detect\" :True}\n",
    "params_retrain_KSWIN[\"retrain_KSWIN_shap\"]  = {\"alpha\":0.00001, \"w_size\": 500, \"stat_size\":250, \"stop_first_detect\" :True}\n",
    "\n",
    "params_retrain_ADWIN = {f:{} for f in adwin_funcs}#VALIDATED !\n",
    "params_retrain_ADWIN[\"retrain_adwin\"]  = {\"stop_first_detect\" :True, \"delta_d\":0.1}\n",
    "params_retrain_ADWIN[\"retrain_adwin_shap\"]  = {\"stop_first_detect\" :True, \"delta_d\":0.01}\n",
    "\n",
    "\n",
    "params_retrain_PH = {f:{} for f in ph_funcs}#VALIDATED !\n",
    "params_retrain_PH[\"retrain_PH\"]  = {\"stop_first_detect\" :True, \"delta_d\":0.0001}\n",
    "params_retrain_PH[\"retrain_PH_shap\"]  = {\"stop_first_detect\" :True, \"delta_d\":0.1}"
   ]
  },
  {
   "attachments": {},
   "cell_type": "markdown",
   "metadata": {},
   "source": [
    "# Run experiments\n",
    "\n",
    "103 mins for 50 its on 5ds * 8 detecs"
   ]
  },
  {
   "cell_type": "code",
   "execution_count": null,
   "metadata": {},
   "outputs": [],
   "source": [
    "noise_funcs = kswin_funcs + adwin_funcs + ph_funcs"
   ]
  },
  {
   "cell_type": "code",
   "execution_count": null,
   "metadata": {},
   "outputs": [],
   "source": [
    "n_iter = 50"
   ]
  },
  {
   "cell_type": "code",
   "execution_count": null,
   "metadata": {},
   "outputs": [],
   "source": [
    "list_df_generate_fcts = np.ravel(all_fcts_selected)"
   ]
  },
  {
   "cell_type": "code",
   "execution_count": null,
   "metadata": {},
   "outputs": [],
   "source": [
    "for i, f in enumerate(list_df_generate_fcts[:]):\n",
    "    D_G = f()\n",
    "    print(i, D_G.drift_name, D_G.n, f, D_G.drifts)"
   ]
  },
  {
   "cell_type": "code",
   "execution_count": null,
   "metadata": {},
   "outputs": [],
   "source": [
    "for i,f in enumerate(list_df_generate_fcts[:]):\n",
    "    print(i, f)\n",
    "    eval_DG_model_save(f, kswin_funcs, params_retrain_KSWIN, \"KSWIN\", n_iter=n_iter, path =\"/home/bastienzim/Downloads/\")\n",
    "    print(\"b\")\n",
    "    eval_DG_model_save(f, adwin_funcs, params_retrain_ADWIN, \"ADWIN\", n_iter=n_iter, path =\"/home/bastienzim/Downloads/\")\n",
    "    print(\"c\")\n",
    "    eval_DG_model_save(f, ph_funcs, params_retrain_PH, \"PH\", n_iter=n_iter, path =\"/home/bastienzim/Downloads/\")"
   ]
  },
  {
   "cell_type": "markdown",
   "metadata": {},
   "source": [
    "# Plot noiseless graph"
   ]
  },
  {
   "cell_type": "code",
   "execution_count": null,
   "metadata": {},
   "outputs": [],
   "source": [
    "results_path = \"/home/bastienzim/Downloads/\"\n",
    "results = os.listdir(results_path)\n",
    "metrics_list = ['no', 'false', 'min','mean', 'median', 'median_true', 'max', 'std']"
   ]
  },
  {
   "cell_type": "code",
   "execution_count": null,
   "metadata": {},
   "outputs": [],
   "source": [
    "from src.viz_fcts import *"
   ]
  },
  {
   "cell_type": "code",
   "execution_count": null,
   "metadata": {},
   "outputs": [],
   "source": [
    "results = os.listdir(results_path)\n",
    "metrics_list = ['no', 'false', 'min','mean', 'median', 'median_true', 'max', 'std']\n",
    "for d_name in [\"nodrift\"]:#,\"mooth_concept_drif\", \"abrupt_concept_drif\", #nodrift\n",
    "        #\"abrupt_covariate_drif\"]:#, \"sine2\",\"sine1\",\"stagger\"]:\n",
    "    if(d_name==\"nodrift\"):\n",
    "        single_drift = [f for f in generate_nodrift_fcts if \"nodrift\" in f.__name__]#[:3]\n",
    "    else:\n",
    "        single_drift = [f for f in list_df_generate_fcts if d_name in f.__name__]#[:3]\n",
    "    print(f\"####################{d_name}####################\")\n",
    "    for i,f in enumerate(single_drift[:]):\n",
    "        D_G = f()#generate_abrupt_concept_drift(n_samples=5000)\n",
    "        #print(D_G.noise_rate)\n",
    "        if(D_G.noise_rate==0):\n",
    "            all_df_metrics = get_D_G_metrics(D_G, results, selected_methods = [\"ADWIN\", \"PH\", \"KSWIN\"],\n",
    "                            exp_type=\"noisy\", noisy = True, path=results_path+\"/\")            \n",
    "            #print(all_df_metrics, D_G.noise_rate, )\n",
    "            all_df_metrics.columns = [x+\"_0.0\" for x in all_df_metrics.columns]\n",
    "        else:\n",
    "            all_df_metrics = get_D_G_metrics(D_G, results, selected_methods = [\"ADWIN\", \"PH\", \"KSWIN\"],\n",
    "                            exp_type=\"noisy\", noisy = True, path=results_path+\"/\")\n",
    "        if(i==0):\n",
    "            df_drift_res = all_df_metrics\n",
    "        else:\n",
    "            df_drift_res = pd.concat([df_drift_res, all_df_metrics], axis=1)\n",
    "        #all_df_metrics = all_df_metrics.loc[metrics_list].T.sort_values([\"no\",\"false\",\"median\"]).sort_index()\n",
    "        \n",
    "    df_drift_res = df_drift_res.loc[metrics_list].T.sort_values([\"no\",\"false\",\"median\"]).sort_index()\n",
    "    #df_drift_res = df_drift_res.drop(columns = [\"no\",\"false\"])\n",
    "    df_drift_res = df_drift_res[[\"no\",\"false\"]]\n",
    "    df = df_drift_res.copy()\n",
    "    df['noise_rate'] = [x.split(\"_\")[-1] for x in df.index]\n",
    "    df['algo'] = [\"_\".join(x.split(\"_\")[1:-1]) for x in df.index]\n",
    "\n",
    "    df\n",
    "    break"
   ]
  },
  {
   "cell_type": "code",
   "execution_count": null,
   "metadata": {},
   "outputs": [],
   "source": [
    "ax = plot_evolving_noise_rates(df, True)"
   ]
  },
  {
   "cell_type": "code",
   "execution_count": null,
   "metadata": {},
   "outputs": [],
   "source": []
  }
 ],
 "metadata": {
  "kernelspec": {
   "display_name": "venv",
   "language": "python",
   "name": "python3"
  },
  "language_info": {
   "codemirror_mode": {
    "name": "ipython",
    "version": 3
   },
   "file_extension": ".py",
   "mimetype": "text/x-python",
   "name": "python",
   "nbconvert_exporter": "python",
   "pygments_lexer": "ipython3",
   "version": "3.8.10"
  },
  "orig_nbformat": 4
 },
 "nbformat": 4,
 "nbformat_minor": 2
}
