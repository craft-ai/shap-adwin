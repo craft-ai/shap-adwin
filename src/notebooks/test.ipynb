{
 "cells": [
  {
   "cell_type": "code",
   "execution_count": null,
   "metadata": {},
   "outputs": [],
   "source": [
    "import os, sys\n",
    "\n",
    "module_path = os.path.abspath(os.path.join('../../'))\n",
    "\n",
    "if module_path not in sys.path:\n",
    "    sys.path.append(module_path)\n",
    "\n",
    "from src.data_fcts import *\n",
    "from src.retrain_fcts import *\n",
    "\n",
    "from src.bench_fcts import *\n",
    "from ast import literal_eval"
   ]
  },
  {
   "cell_type": "code",
   "execution_count": null,
   "metadata": {},
   "outputs": [],
   "source": [
    "\n",
    "import os\n",
    "results_root_path = os.environ.get(\"RESULTS_ROOT_PATH\")\n",
    "results_root_path"
   ]
  },
  {
   "cell_type": "markdown",
   "metadata": {},
   "source": [
    "# Fix Gradual Concept Drift"
   ]
  },
  {
   "cell_type": "code",
   "execution_count": null,
   "metadata": {},
   "outputs": [],
   "source": [
    "\n",
    "list_df_generate_fcts_special= []\n",
    "for noise_rate in [0, 0.001, 0.01, 0.05, 0.1, 0.5]:\n",
    "    # NOISY \n",
    "    def generate_noisy_stagger(noise_rate=noise_rate):\n",
    "        D_G = Drift_generators()\n",
    "        D_G.load_df(\"stagger_short\")\n",
    "        D_G.add_noise(noise_rate=noise_rate)\n",
    "        return(D_G)\n",
    "#\n",
    "    def generate_noisy_sine1(noise_rate=noise_rate):\n",
    "        D_G = Drift_generators()\n",
    "        D_G.load_df(\"sine1_short\")\n",
    "        D_G.add_noise(noise_rate=noise_rate)\n",
    "        return(D_G)\n",
    "#\n",
    "    def generate_noisy_sine2(noise_rate=noise_rate):\n",
    "        D_G = Drift_generators()\n",
    "        D_G.load_df(\"sine2_short\")\n",
    "        D_G.add_noise(noise_rate=noise_rate)\n",
    "        return(D_G)\n",
    "    \n",
    "\n",
    "    list_df_generate_fcts_special = [generate_noisy_sine1, generate_noisy_sine2, generate_noisy_stagger]\n",
    "    #list_df_generate_fcts_special += noisy_fcts"
   ]
  },
  {
   "cell_type": "code",
   "execution_count": null,
   "metadata": {},
   "outputs": [],
   "source": []
  },
  {
   "cell_type": "code",
   "execution_count": null,
   "metadata": {},
   "outputs": [],
   "source": []
  },
  {
   "cell_type": "markdown",
   "metadata": {},
   "source": [
    "# HERE old"
   ]
  },
  {
   "cell_type": "code",
   "execution_count": null,
   "metadata": {},
   "outputs": [],
   "source": [
    "from ast import literal_eval\n",
    "from src.bench_fcts import *\n",
    "from src.retrain_fcts import *\n",
    "from src.data_fcts import *\n",
    "import os\n",
    "import sys\n",
    "####################dataset funcs####################\n",
    "n_samples = 6000\n",
    "n_features = 4\n",
    "\n",
    "\n",
    "list_df_generate_fcts= []\n",
    "for noise_rate in [0, 0.001, 0.01, 0.05, 0.1, 0.5]:\n",
    "    # NOISY \n",
    "    def generate_nodrift_df(noise_rate=noise_rate):\n",
    "\n",
    "        D_G = Drift_generators(n_samples = n_samples, n_features = n_features)\n",
    "        D_G.abrupt_concept_drift(drifts=[Drift(is_abrupt=True,\n",
    "                                    start=n_samples-2,\n",
    "                                    characteristic=[0.7-0.3*(0 % 2) for i in range(D_G.n_features)])])\n",
    "        D_G.add_noise(noise_rate=noise_rate)\n",
    "        D_G.drift_name = f\"nodrift_noisy{str(noise_rate)[2:]}\"\n",
    "        \n",
    "        return(D_G)\n",
    "    list_df_generate_fcts += [generate_nodrift_df]\n",
    "\n",
    "####################DETECTOR FCTS####################\n",
    "kswin_funcs = ['retrain_KSWIN_loss',\n",
    "               'retrain_KSWIN_shap']\n",
    "adwin_funcs = ['retrain_adwin',\n",
    "               'retrain_adwin_shap',]\n",
    "ph_funcs = ['retrain_PH',\n",
    "            'retrain_PH_shap']\n",
    "\n",
    "# params_retrain_KSWIN = {f:{\"alpha\":0.00095, \"w_size\":100, \"stat_size\":30, \"stop_first_detect\" :True}\n",
    "#                         for f in kswin_funcs}\n",
    "params_retrain_KSWIN = {f: {\"alpha\": 0.00001, \"w_size\": 100, \"stat_size\": 30, \"stop_first_detect\": True}\n",
    "                        for f in kswin_funcs}\n",
    "# params_retrain_KSWIN[\"retrain_KSWIN_shap\"]  = {\"alpha\":0.00024, \"w_size\":100, \"stat_size\":30, \"stop_first_detect\" :True}\n",
    "\n",
    "params_retrain_ADWIN = {f: {\"stop_first_detect\": True,\n",
    "                            \"delta_d\": 0.001} for f in adwin_funcs}  # old: 1\n",
    "# params_retrain_ADWIN[\"retrain_adwin_shap\"] = {\"stop_first_detect\" :True, \"delta_d\":0.1}\n",
    "\n",
    "# params_retrain_PH = {f:{\"stop_first_detect\" :True, \"delta_d\":0.0001,\n",
    "#                        \"min_instances\":30,\"threshold\":11, \"alpha\": 0.9999} for f in ph_funcs}\n",
    "params_retrain_PH = {f: {\"stop_first_detect\": True, \"delta_d\": 0.002,  # 0005\n",
    "                         \"min_instances\": 30, \"threshold\": 50, \"alpha\": 0.9999} for f in ph_funcs}\n",
    "params_retrain_PH[\"retrain_PH_shap\"] = {\"stop_first_detect\": True, \"delta_d\": 0.0001,\n",
    "                                        \"min_instances\": 30, \"threshold\": 50, \"alpha\": 0.99999}\n",
    "\n",
    "\n"
   ]
  },
  {
   "cell_type": "code",
   "execution_count": null,
   "metadata": {},
   "outputs": [],
   "source": []
  },
  {
   "cell_type": "code",
   "execution_count": null,
   "metadata": {},
   "outputs": [],
   "source": [
    "\n",
    "specific_name = \"TEST\"\n",
    "n_iter = 2\n",
    "for i,f in enumerate(list_df_generate_fcts[:1]):\n",
    "    print(i, f)\n",
    "    eval_DG_model_save(f, kswin_funcs, params_retrain_KSWIN, f\"KSWIN {specific_name}\", n_iter=n_iter)\n",
    "    eval_DG_model_save(f, adwin_funcs, params_retrain_ADWIN, f\"ADWIN {specific_name}\", n_iter=n_iter)\n",
    "    eval_DG_model_save(f, ph_funcs, params_retrain_PH, f\"PH {specific_name}\", n_iter=n_iter)"
   ]
  },
  {
   "cell_type": "code",
   "execution_count": null,
   "metadata": {},
   "outputs": [],
   "source": []
  }
 ],
 "metadata": {
  "kernelspec": {
   "display_name": "venv",
   "language": "python",
   "name": "python3"
  },
  "language_info": {
   "codemirror_mode": {
    "name": "ipython",
    "version": 3
   },
   "file_extension": ".py",
   "mimetype": "text/x-python",
   "name": "python",
   "nbconvert_exporter": "python",
   "pygments_lexer": "ipython3",
   "version": "3.8.10"
  },
  "orig_nbformat": 4
 },
 "nbformat": 4,
 "nbformat_minor": 2
}
