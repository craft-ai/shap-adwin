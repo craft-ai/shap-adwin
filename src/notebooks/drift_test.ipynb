{
 "cells": [
  {
   "cell_type": "code",
   "execution_count": null,
   "metadata": {},
   "outputs": [],
   "source": [
    "import os, sys\n",
    "\n",
    "module_path = os.path.abspath(os.path.join('../../'))\n",
    "\n",
    "if module_path not in sys.path:\n",
    "    sys.path.append(module_path)\n",
    "\n",
    "from src.data_fcts import *\n",
    "from src.retrain_fcts import *\n",
    "\n",
    "from src.bench_fcts import *\n",
    "from ast import literal_eval"
   ]
  },
  {
   "cell_type": "code",
   "execution_count": null,
   "metadata": {},
   "outputs": [],
   "source": [
    "\n",
    "import matplotlib.pyplot as plt\n",
    "import seaborn as sns\n"
   ]
  },
  {
   "attachments": {},
   "cell_type": "markdown",
   "metadata": {},
   "source": [
    "# Test add noise"
   ]
  },
  {
   "cell_type": "code",
   "execution_count": null,
   "metadata": {},
   "outputs": [],
   "source": [
    "#X, y = D_G.get_x_y(ind_start=0, ind_end=D_G.n)"
   ]
  },
  {
   "cell_type": "code",
   "execution_count": null,
   "metadata": {},
   "outputs": [],
   "source": [
    "n_samples = 100\n",
    "D_G = Drift_generators(n_samples = n_samples, n_features = 3)\n",
    "d_centers = [(0, 0,\n",
    "            0.3, 0.25, 1),(0, 0.3, 0.5, 0, 0.25),(0, 0.5, 1, 0.25, 1)]\n",
    "D_G.abrupt_covariate_drift(d_centers=d_centers)\n",
    "D_G.add_noise(noise_rate=0.05)"
   ]
  },
  {
   "cell_type": "code",
   "execution_count": null,
   "metadata": {},
   "outputs": [],
   "source": [
    "X, y = D_G.get_x_y(ind_start=0, ind_end=D_G.n)\n",
    "noisy_inds = y.sample(int(D_G.n*0.1)).index\n",
    "#D_G.df.loc[noisy_inds, D_G.objective_col] = y[noisy_inds].apply(lambda x: np.random.choice([a for a in y.unique() if a != x]))"
   ]
  },
  {
   "cell_type": "code",
   "execution_count": null,
   "metadata": {},
   "outputs": [],
   "source": [
    "list(y[noisy_inds].apply(lambda x: np.random.choice([a for a in y.unique() if a != x])).values)"
   ]
  },
  {
   "cell_type": "code",
   "execution_count": null,
   "metadata": {},
   "outputs": [],
   "source": [
    "D_G.df.loc[noisy_inds, D_G.objective_col] = list(y[noisy_inds].apply(lambda x: np.random.choice([a for a in y.unique() if a != x])).values)"
   ]
  },
  {
   "cell_type": "code",
   "execution_count": null,
   "metadata": {},
   "outputs": [],
   "source": [
    "n_samples = 5000\n",
    "D_G = Drift_generators(n_samples = n_samples, n_features = 3)\n",
    "\n",
    "D_G.gradual_concept_drift(n_drift=1)\n",
    "#D_G.add_noise(noise_rate=)\n",
    "D_G.plot_drift(sample_frac= 1);"
   ]
  },
  {
   "cell_type": "code",
   "execution_count": null,
   "metadata": {},
   "outputs": [],
   "source": [
    "D_G.drift_name"
   ]
  },
  {
   "cell_type": "code",
   "execution_count": null,
   "metadata": {},
   "outputs": [],
   "source": [
    "\n",
    "D_G.add_noise(noise_rate=0.001)\n",
    "D_G.plot_drift(sample_frac= 1);"
   ]
  },
  {
   "cell_type": "code",
   "execution_count": null,
   "metadata": {},
   "outputs": [],
   "source": [
    "D_G.drift_name"
   ]
  },
  {
   "cell_type": "code",
   "execution_count": null,
   "metadata": {},
   "outputs": [],
   "source": []
  },
  {
   "cell_type": "code",
   "execution_count": null,
   "metadata": {},
   "outputs": [],
   "source": []
  },
  {
   "attachments": {},
   "cell_type": "markdown",
   "metadata": {},
   "source": [
    "# Test Gradual concept Drift"
   ]
  },
  {
   "cell_type": "code",
   "execution_count": null,
   "metadata": {},
   "outputs": [],
   "source": [
    "n_samples = 5000\n",
    "D_G = Drift_generators(n_samples = n_samples, n_features = 3)\n",
    "\n",
    "D_G.gradual_concept_drift(n_drift=1)\n",
    "D_G.plot_drift(sample_frac= 1);"
   ]
  },
  {
   "cell_type": "code",
   "execution_count": null,
   "metadata": {},
   "outputs": [],
   "source": [
    "D_G.drifts"
   ]
  },
  {
   "attachments": {},
   "cell_type": "markdown",
   "metadata": {},
   "source": [
    "# Test Smooth Concept Drift"
   ]
  },
  {
   "cell_type": "code",
   "execution_count": null,
   "metadata": {},
   "outputs": [],
   "source": [
    "n_samples = 10000\n",
    "D_G = Drift_generators(n_samples = n_samples, n_features = 3)\n",
    "D_G.smooth_concept_drift(n_drift=6)\n",
    "D_G.plot_drift();"
   ]
  },
  {
   "cell_type": "code",
   "execution_count": null,
   "metadata": {},
   "outputs": [],
   "source": [
    "D_G.drifts"
   ]
  },
  {
   "cell_type": "code",
   "execution_count": null,
   "metadata": {},
   "outputs": [],
   "source": [
    "D_G = Drift_generators(n_samples = n_samples, n_features = 2)\n",
    "D_G.smooth_concept_drift(n_drift=1)\n",
    "D_G.plot_circles()"
   ]
  },
  {
   "attachments": {},
   "cell_type": "markdown",
   "metadata": {},
   "source": [
    "# Abrupt Concept Drift"
   ]
  },
  {
   "cell_type": "code",
   "execution_count": null,
   "metadata": {},
   "outputs": [],
   "source": [
    "n_samples = 10000\n",
    "D_G = Drift_generators(n_samples = n_samples, n_features = 3)\n",
    "D_G.abrupt_concept_drift(n_drift=6)\n",
    "D_G.plot_drift();"
   ]
  },
  {
   "cell_type": "code",
   "execution_count": null,
   "metadata": {},
   "outputs": [],
   "source": [
    "D_G.plot_circles()"
   ]
  },
  {
   "attachments": {},
   "cell_type": "markdown",
   "metadata": {},
   "source": [
    "# Abrupt covariate Drift"
   ]
  },
  {
   "cell_type": "code",
   "execution_count": null,
   "metadata": {},
   "outputs": [],
   "source": [
    "D_G = Drift_generators(n_samples = int(10**4), n_features = 3)\n",
    "\n",
    "d_centers = [(0, 0, 0.3, 0.25, 1),(0, 0.3, 0.5, 0, 0.25),(0, 0.5, 1, 0.25, 1)]\n",
    "D_G.abrupt_covariate_drift(d_centers=d_centers)"
   ]
  },
  {
   "cell_type": "code",
   "execution_count": null,
   "metadata": {},
   "outputs": [],
   "source": [
    "D_G.drifts,"
   ]
  },
  {
   "cell_type": "code",
   "execution_count": null,
   "metadata": {},
   "outputs": [],
   "source": [
    "D_G.plot_drift();"
   ]
  },
  {
   "cell_type": "code",
   "execution_count": null,
   "metadata": {},
   "outputs": [],
   "source": [
    "D_G.drifts"
   ]
  },
  {
   "attachments": {},
   "cell_type": "markdown",
   "metadata": {},
   "source": [
    "brutal_concept_drift\n",
    "brutal_covariate_drift\n",
    "new_smooth_concept_drift\n",
    "smooth_concept_drift#Seems not relevant anymore\n",
    "\n",
    "cyclic_abrupt_concept_drift\n",
    "back_and_forth_abrupt_drift\n",
    "back_and_forth_smooth_drift\n",
    "#add_noise"
   ]
  },
  {
   "cell_type": "code",
   "execution_count": null,
   "metadata": {},
   "outputs": [],
   "source": [
    "feat_cols = [0,1,2]"
   ]
  },
  {
   "cell_type": "code",
   "execution_count": null,
   "metadata": {},
   "outputs": [],
   "source": [
    "n_samples = 1000\n",
    "D_G = Drift_generators(n_samples = n_samples, n_features = 3)\n",
    "D_G.cyclic_abrupt_concept_drift(n_drift=2)#, drift_points=[int(n_samples*1/2)], \n",
    "        #circle_centers=[[0.4 for i in range(D_G.n_features)],[0.6 for i in range(D_G.n_features)]])# = None, circle_centers = None):\n",
    "\n",
    "df = D_G.df\n",
    "\n",
    "fig, ax = plt.subplots(nrows=2, ncols=len(df.columns)-1, figsize= [20,5])\n",
    "for class_val in range(2):\n",
    "    bef = df[df.loc[:,\"class\"]==class_val].loc[0:D_G.drift_points[0], feat_cols]#before Drift\n",
    "    aft = df[df.loc[:,\"class\"]==class_val].loc[D_G.drift_points[0]:, feat_cols]#After Drift\n",
    "    for feat in range(len(df.columns)-1):\n",
    "        sns.regplot(x=np.arange(len(bef)), y=bef.loc[:,feat], label='Before', ax =ax[class_val, feat])\n",
    "        sns.regplot(x=np.arange(len(aft)), y=aft.loc[:,feat], label='After', ax =ax[class_val, feat])\n",
    "        ax[class_val, feat].legend()\n",
    "        ax[class_val, feat].set_title(f\"col : {feat}\")\n",
    "        ax[class_val, feat].set_xlabel(\"positive class instances\")\n",
    "        ax[class_val, feat].set_ylabel(f\"feat:{feat} value\")\n",
    "plt.suptitle(f\"Drift_points: {D_G.drift_points}\")\n",
    "plt.show()\n"
   ]
  },
  {
   "cell_type": "code",
   "execution_count": null,
   "metadata": {},
   "outputs": [],
   "source": [
    "n_samples = 1000\n",
    "D_G = Drift_generators(n_samples = n_samples, n_features = 3)\n",
    "D_G.cyclic_abrupt_concept_drift(n_drift=3)#, drift_points=[int(n_samples*1/2)], \n",
    "        #circle_centers=[[0.4 for i in range(D_G.n_features)],[0.6 for i in range(D_G.n_features)]])# = None, circle_centers = None):\n",
    "\n",
    "df = D_G.df\n",
    "\n",
    "fig, ax = plt.subplots(nrows=2, ncols=len(df.columns)-1, figsize= [20,5])\n",
    "for class_val in range(2):\n",
    "    bef = df[df.loc[:,\"class\"]==class_val].loc[0:D_G.drift_points[0], feat_cols]#before Drift\n",
    "    aft = df[df.loc[:,\"class\"]==class_val].loc[D_G.drift_points[0]:, feat_cols]#After Drift\n",
    "    for feat in range(len(df.columns)-1):\n",
    "        sns.regplot(x=np.arange(len(bef)), y=bef.loc[:,feat], label='Before', ax =ax[class_val, feat])\n",
    "        sns.regplot(x=np.arange(len(aft)), y=aft.loc[:,feat], label='After', ax =ax[class_val, feat])\n",
    "        ax[class_val, feat].legend()\n",
    "        ax[class_val, feat].set_title(f\"col : {feat}\")\n",
    "        ax[class_val, feat].set_xlabel(\"positive class instances\")\n",
    "        ax[class_val, feat].set_ylabel(f\"feat:{feat} value\")\n",
    "plt.suptitle(f\"Drift_points: {D_G.drift_points}\")\n",
    "plt.show()\n"
   ]
  },
  {
   "cell_type": "code",
   "execution_count": null,
   "metadata": {},
   "outputs": [],
   "source": []
  }
 ],
 "metadata": {
  "kernelspec": {
   "display_name": "Python 3",
   "language": "python",
   "name": "python3"
  },
  "language_info": {
   "codemirror_mode": {
    "name": "ipython",
    "version": 3
   },
   "file_extension": ".py",
   "mimetype": "text/x-python",
   "name": "python",
   "nbconvert_exporter": "python",
   "pygments_lexer": "ipython3",
   "version": "3.8.10"
  },
  "orig_nbformat": 4
 },
 "nbformat": 4,
 "nbformat_minor": 2
}
