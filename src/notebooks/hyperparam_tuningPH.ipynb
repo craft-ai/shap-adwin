{
 "cells": [
  {
   "cell_type": "code",
   "execution_count": null,
   "metadata": {},
   "outputs": [],
   "source": [
    "import os, sys\n",
    "\n",
    "module_path = os.path.abspath(os.path.join('../../'))\n",
    "\n",
    "if module_path not in sys.path:\n",
    "    sys.path.append(module_path)\n",
    "\n",
    "from src.data_fcts import *\n",
    "from src.retrain_fcts import *\n",
    "\n",
    "from src.bench_fcts import *\n",
    "from src.viz_fcts import plot_detector_param_noise, plot_detector_noise_scenario, plot_detector_param_noise_scenario_specific\n",
    "from ast import literal_eval"
   ]
  },
  {
   "cell_type": "code",
   "execution_count": null,
   "metadata": {},
   "outputs": [],
   "source": [
    "all_noises = [0, 0.001, 0.01, 0.05, 0.1, 0.5]"
   ]
  },
  {
   "cell_type": "code",
   "execution_count": null,
   "metadata": {},
   "outputs": [],
   "source": [
    "\n",
    "generate_nodrift_fcts = []\n",
    "for noise_rate in all_noises:\n",
    "    # NOISY \n",
    "    def generate_nodrift_df(noise_rate=noise_rate):\n",
    "\n",
    "        D_G = Drift_generators(n_samples = n_samples, n_features = n_features)\n",
    "        D_G.abrupt_concept_drift(drifts=[Drift(is_abrupt=True,\n",
    "                                    start=n_samples-2,\n",
    "                                    characteristic=[0.7-0.3*(0 % 2) for i in range(D_G.n_features)])])\n",
    "        D_G.add_noise(noise_rate=noise_rate)\n",
    "        D_G.drift_name = f\"nodrift_noisy{str(noise_rate)[2:]}\"\n",
    "        \n",
    "        return(D_G)\n",
    "    generate_nodrift_fcts += [generate_nodrift_df]"
   ]
  },
  {
   "cell_type": "code",
   "execution_count": null,
   "metadata": {},
   "outputs": [],
   "source": [
    "n_samples = 3000\n",
    "n_features = 4"
   ]
  },
  {
   "cell_type": "code",
   "execution_count": null,
   "metadata": {},
   "outputs": [],
   "source": [
    "\n",
    "generate_drift_fcts = []\n",
    "for noise_rate in all_noises:\n",
    "    # NOISY \n",
    "    def generate_noisy_smooth_concept_drift(n_samples = n_samples, noise_rate=noise_rate):\n",
    "        D_G = Drift_generators(n_samples = n_samples, n_features = n_features)\n",
    "        D_G.smooth_concept_drift(n_drift=1)\n",
    "        D_G.add_noise(noise_rate=noise_rate)\n",
    "        return(D_G)\n",
    "\n",
    "    def generate_noisy_abrupt_concept_drift(n_samples = n_samples, noise_rate=noise_rate):\n",
    "        D_G = Drift_generators(n_samples = n_samples, n_features = n_features)\n",
    "        D_G.abrupt_concept_drift(n_drift=1)\n",
    "        D_G.add_noise(noise_rate=noise_rate)\n",
    "        return(D_G)\n",
    "\n",
    "    def generate_noisy_gradual_concept_drift(n_samples = n_samples, noise_rate=noise_rate):\n",
    "        D_G = Drift_generators(n_samples = n_samples, n_features = n_features)\n",
    "        D_G.gradual_concept_drift(n_drift=1)\n",
    "        D_G.add_noise(noise_rate=noise_rate)\n",
    "        return(D_G)\n",
    "\n",
    "    def generate_noisy_abrupt_covariate_drift(n_samples = n_samples, noise_rate=noise_rate):\n",
    "        D_G = Drift_generators(n_samples = n_samples, n_features = n_features)\n",
    "        d_centers = [(0, 0,\n",
    "                    0.3, 0.25, 1),(0, 0.3, 0.5, 0, 0.25),(0, 0.5, 1, 0.25, 1)]\n",
    "        D_G.abrupt_covariate_drift(d_centers=d_centers)\n",
    "        D_G.add_noise(noise_rate=noise_rate)\n",
    "        return(D_G)\n",
    "\n",
    "\n",
    "\n",
    "            #generate_noisy_smooth_concept_drift\n",
    "    noisy_fcts = [generate_noisy_smooth_concept_drift, generate_noisy_abrupt_concept_drift, generate_noisy_abrupt_covariate_drift,\n",
    "                generate_noisy_gradual_concept_drift],\n",
    "                 #generate_noisy_abrupt_covariate_drift]\n",
    "                #generate_noisy_sine1, generate_noisy_sine2, generate_noisy_stagger]\n",
    "    generate_drift_fcts += noisy_fcts\n"
   ]
  },
  {
   "cell_type": "code",
   "execution_count": null,
   "metadata": {},
   "outputs": [],
   "source": [
    "\n",
    "list_df_generate_fcts_special = []\n",
    "for noise_rate in all_noises:\n",
    "    # NOISY \n",
    "    def generate_noisy_stagger(noise_rate=noise_rate):\n",
    "        D_G = Drift_generators()\n",
    "        D_G.load_df(\"stagger_short\")\n",
    "        D_G.add_noise(noise_rate=noise_rate)\n",
    "        return(D_G)\n",
    "#\n",
    "    def generate_noisy_sine1(noise_rate=noise_rate):\n",
    "        D_G = Drift_generators()\n",
    "        D_G.load_df(\"sine1_short\")\n",
    "        D_G.add_noise(noise_rate=noise_rate)\n",
    "        return(D_G)\n",
    "#\n",
    "    def generate_noisy_sine2(noise_rate=noise_rate):\n",
    "        D_G = Drift_generators()\n",
    "        D_G.load_df(\"sine2_short\")\n",
    "        D_G.add_noise(noise_rate=noise_rate)\n",
    "        return(D_G)\n",
    "\n",
    "    noisy_fcts = [generate_noisy_stagger, generate_noisy_sine1, generate_noisy_sine2],\n",
    "    list_df_generate_fcts_special += noisy_fcts\n"
   ]
  },
  {
   "cell_type": "code",
   "execution_count": null,
   "metadata": {},
   "outputs": [],
   "source": [
    "all_fcts_selected = [a+b for a,b in zip(list_df_generate_fcts_special, generate_drift_fcts)]\n",
    "all_fcts_selected = [a+[b] for a,b in zip(all_fcts_selected, generate_nodrift_fcts)]"
   ]
  },
  {
   "cell_type": "markdown",
   "metadata": {},
   "source": [
    "# Display all funcs"
   ]
  },
  {
   "cell_type": "code",
   "execution_count": null,
   "metadata": {},
   "outputs": [],
   "source": [
    "all_fcts_selected[0]"
   ]
  },
  {
   "cell_type": "markdown",
   "metadata": {},
   "source": [
    "# RUN results"
   ]
  },
  {
   "cell_type": "code",
   "execution_count": null,
   "metadata": {},
   "outputs": [],
   "source": [
    "delta_d_list = [1, 0.8, 0.5, 0.25, 0.1,0.01, 0.001, 0.0001]\n",
    "all_functions = all_fcts_selected\n",
    "all_noise_rates = all_noises\n",
    "df_perf_detector = bench_hyperparams_detector(\n",
    "    \"retrain_PH\",\n",
    "    \"delta_d\",\n",
    "    delta_d_list,\n",
    "    all_functions,\n",
    "    all_noise_rates,\n",
    "    save=True,\n",
    "    path = os.environ.get(\"RESULTS_ROOT_PATH\")+\"detectors_param/PH_delta_d.csv\"\n",
    ")"
   ]
  },
  {
   "cell_type": "code",
   "execution_count": null,
   "metadata": {},
   "outputs": [],
   "source": [
    "delta_d_list = [1, 0.8, 0.5, 0.25, 0.1,0.01, 0.001, 0.0001]\n",
    "all_functions = all_fcts_selected\n",
    "all_noise_rates = all_noises\n",
    "df_perf_detector = bench_hyperparams_detector(\n",
    "    \"retrain_PH_shap\",\n",
    "    \"delta_d\",\n",
    "    delta_d_list,\n",
    "    all_functions,\n",
    "    all_noise_rates,\n",
    "    save=True,\n",
    "    path = os.environ.get(\"RESULTS_ROOT_PATH\")+\"detectors_param/PH_shap_delta_d.csv\"\n",
    ")"
   ]
  },
  {
   "cell_type": "markdown",
   "metadata": {},
   "source": [
    "# Display Results\n",
    "## PH "
   ]
  },
  {
   "cell_type": "code",
   "execution_count": null,
   "metadata": {},
   "outputs": [],
   "source": [
    "root_path = os.environ.get(\"RESULTS_ROOT_PATH\")+\"detectors_param/\"\n",
    "name = \"retrain_PH_delta_d.csv\"\n",
    "df_perf_detector = pd.read_csv(root_path+name).drop(columns = ['Unnamed: 0'])\n",
    "\n",
    "df_perf_detector.loc[:,\"drift_type\"] = df_perf_detector.drift_name.apply(lambda name: \"\".join([x for x in name if not x.isdigit()]).replace(\"_noisy\",\"\"))\n",
    "df_perf_detector = df_perf_detector.reset_index()"
   ]
  },
  {
   "cell_type": "code",
   "execution_count": null,
   "metadata": {},
   "outputs": [],
   "source": [
    "param_name = \"delta_d\"\n",
    "detector_name = \"PH\""
   ]
  },
  {
   "cell_type": "code",
   "execution_count": null,
   "metadata": {},
   "outputs": [],
   "source": [
    "df_perf_detector.groupby([\"noise_rate\", \"delta_d\"]).mean().head(3)"
   ]
  },
  {
   "cell_type": "code",
   "execution_count": null,
   "metadata": {},
   "outputs": [],
   "source": [
    "ax = plot_detector_param_noise(df_perf_detector, param_name, detector_name, n_samples)"
   ]
  },
  {
   "cell_type": "markdown",
   "metadata": {},
   "source": [
    "### Highlight scenarios which underperform"
   ]
  },
  {
   "cell_type": "code",
   "execution_count": null,
   "metadata": {},
   "outputs": [],
   "source": [
    "ax = plot_detector_noise_scenario(df_perf_detector, param_name, detector_name, n_samples)"
   ]
  },
  {
   "cell_type": "markdown",
   "metadata": {},
   "source": [
    "__Please select some param values__"
   ]
  },
  {
   "cell_type": "code",
   "execution_count": null,
   "metadata": {},
   "outputs": [],
   "source": [
    "selected_delta_ds = [0.001]"
   ]
  },
  {
   "cell_type": "code",
   "execution_count": null,
   "metadata": {},
   "outputs": [],
   "source": [
    "ax = plot_detector_param_noise_scenario_specific(df_perf_detector, param_name, detector_name, n_samples, selected_param_values=selected_delta_ds)"
   ]
  },
  {
   "cell_type": "markdown",
   "metadata": {},
   "source": [
    "## Shap PH   "
   ]
  },
  {
   "cell_type": "code",
   "execution_count": null,
   "metadata": {},
   "outputs": [],
   "source": [
    "root_path = os.environ.get(\"RESULTS_ROOT_PATH\")+\"detectors_param/\"\n",
    "name = \"retrain_PH_shap_delta_d.csv\"\n",
    "df_perf_detector = pd.read_csv(root_path+name).drop(columns = ['Unnamed: 0'])\n",
    "\n",
    "df_perf_detector.loc[:,\"drift_type\"] = df_perf_detector.drift_name.apply(lambda name: \"\".join([x for x in name if not x.isdigit()]).replace(\"_noisy\",\"\"))\n",
    "df_perf_detector = df_perf_detector.reset_index()"
   ]
  },
  {
   "cell_type": "code",
   "execution_count": null,
   "metadata": {},
   "outputs": [],
   "source": [
    "param_name = \"delta_d\"\n",
    "detector_name = \"SHAP PH\""
   ]
  },
  {
   "cell_type": "code",
   "execution_count": null,
   "metadata": {},
   "outputs": [],
   "source": [
    "df_perf_detector.groupby([\"noise_rate\", \"delta_d\"]).mean().head(3)"
   ]
  },
  {
   "cell_type": "code",
   "execution_count": null,
   "metadata": {},
   "outputs": [],
   "source": [
    "ax = plot_detector_param_noise(df_perf_detector, param_name, detector_name, n_samples)"
   ]
  },
  {
   "cell_type": "markdown",
   "metadata": {},
   "source": [
    "### Highlight scenarios which underperform"
   ]
  },
  {
   "cell_type": "code",
   "execution_count": null,
   "metadata": {},
   "outputs": [],
   "source": [
    "ax = plot_detector_noise_scenario(df_perf_detector, param_name, detector_name, n_samples)"
   ]
  },
  {
   "cell_type": "markdown",
   "metadata": {},
   "source": [
    "__Please select some param values__"
   ]
  },
  {
   "cell_type": "code",
   "execution_count": null,
   "metadata": {},
   "outputs": [],
   "source": [
    "selected_delta_ds = [0.1]\n"
   ]
  },
  {
   "cell_type": "code",
   "execution_count": null,
   "metadata": {},
   "outputs": [],
   "source": [
    "ax = plot_detector_param_noise_scenario_specific(df_perf_detector, param_name, detector_name, n_samples, selected_param_values=selected_delta_ds)"
   ]
  },
  {
   "cell_type": "code",
   "execution_count": null,
   "metadata": {},
   "outputs": [],
   "source": []
  }
 ],
 "metadata": {
  "kernelspec": {
   "display_name": "Python 3 (ipykernel)",
   "language": "python",
   "name": "python3"
  },
  "language_info": {
   "codemirror_mode": {
    "name": "ipython",
    "version": 3
   },
   "file_extension": ".py",
   "mimetype": "text/x-python",
   "name": "python",
   "nbconvert_exporter": "python",
   "pygments_lexer": "ipython3",
   "version": "3.8.10"
  }
 },
 "nbformat": 4,
 "nbformat_minor": 2
}
