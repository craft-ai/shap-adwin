{
 "cells": [
  {
   "cell_type": "markdown",
   "id": "254e5fd1",
   "metadata": {
    "toc": true
   },
   "source": [
    "<h1>Table of Contents<span class=\"tocSkip\"></span></h1>\n",
    "<div class=\"toc\"><ul class=\"toc-item\"><li><span><a href=\"#Prepare-Datasets\" data-toc-modified-id=\"Prepare-Datasets-1\"><span class=\"toc-item-num\">1&nbsp;&nbsp;</span>Prepare Datasets</a></span><ul class=\"toc-item\"><li><span><a href=\"#LED-to-CSV\" data-toc-modified-id=\"LED-to-CSV-1.1\"><span class=\"toc-item-num\">1.1&nbsp;&nbsp;</span>LED to CSV</a></span></li><li><span><a href=\"#pokerHands-to-CSV\" data-toc-modified-id=\"pokerHands-to-CSV-1.2\"><span class=\"toc-item-num\">1.2&nbsp;&nbsp;</span>pokerHands to CSV</a></span><ul class=\"toc-item\"><li><span><a href=\"#test-compatibility\" data-toc-modified-id=\"test-compatibility-1.2.1\"><span class=\"toc-item-num\">1.2.1&nbsp;&nbsp;</span>test compatibility</a></span></li></ul></li><li><span><a href=\"#Covertype-to-csv\" data-toc-modified-id=\"Covertype-to-csv-1.3\"><span class=\"toc-item-num\">1.3&nbsp;&nbsp;</span>Covertype to csv</a></span></li><li><span><a href=\"#Elec-to-csv\" data-toc-modified-id=\"Elec-to-csv-1.4\"><span class=\"toc-item-num\">1.4&nbsp;&nbsp;</span>Elec to csv</a></span></li><li><span><a href=\"#SINE-1-to-CSV\" data-toc-modified-id=\"SINE-1-to-CSV-1.5\"><span class=\"toc-item-num\">1.5&nbsp;&nbsp;</span>SINE 1 to CSV</a></span><ul class=\"toc-item\"><li><span><a href=\"#Create-short-Sine-1-dataset\" data-toc-modified-id=\"Create-short-Sine-1-dataset-1.5.1\"><span class=\"toc-item-num\">1.5.1&nbsp;&nbsp;</span>Create short Sine 1 dataset</a></span></li></ul></li><li><span><a href=\"#SINE-2-to-CSV\" data-toc-modified-id=\"SINE-2-to-CSV-1.6\"><span class=\"toc-item-num\">1.6&nbsp;&nbsp;</span>SINE 2 to CSV</a></span><ul class=\"toc-item\"><li><span><a href=\"#Create-short-Sine-2-dataset\" data-toc-modified-id=\"Create-short-Sine-2-dataset-1.6.1\"><span class=\"toc-item-num\">1.6.1&nbsp;&nbsp;</span>Create short Sine 2 dataset</a></span></li></ul></li><li><span><a href=\"#stagger-to-CSV\" data-toc-modified-id=\"stagger-to-CSV-1.7\"><span class=\"toc-item-num\">1.7&nbsp;&nbsp;</span>stagger to CSV</a></span><ul class=\"toc-item\"><li><span><a href=\"#Create-short-stagger-dataset\" data-toc-modified-id=\"Create-short-stagger-dataset-1.7.1\"><span class=\"toc-item-num\">1.7.1&nbsp;&nbsp;</span>Create short stagger dataset</a></span></li></ul></li></ul></li><li><span><a href=\"#TEST\" data-toc-modified-id=\"TEST-2\"><span class=\"toc-item-num\">2&nbsp;&nbsp;</span>TEST</a></span><ul class=\"toc-item\"><li><span><a href=\"#RUN-THE-RETRAINING-ALGORITHMS\" data-toc-modified-id=\"RUN-THE-RETRAINING-ALGORITHMS-2.1\"><span class=\"toc-item-num\">2.1&nbsp;&nbsp;</span>RUN THE RETRAINING ALGORITHMS</a></span></li><li><span><a href=\"#Load\" data-toc-modified-id=\"Load-2.2\"><span class=\"toc-item-num\">2.2&nbsp;&nbsp;</span>Load</a></span></li><li><span><a href=\"#Display-results\" data-toc-modified-id=\"Display-results-2.3\"><span class=\"toc-item-num\">2.3&nbsp;&nbsp;</span>Display results</a></span><ul class=\"toc-item\"><li><span><a href=\"#Top-perf-results\" data-toc-modified-id=\"Top-perf-results-2.3.1\"><span class=\"toc-item-num\">2.3.1&nbsp;&nbsp;</span>Top perf results</a></span></li><li><span><a href=\"#compare-shap\" data-toc-modified-id=\"compare-shap-2.3.2\"><span class=\"toc-item-num\">2.3.2&nbsp;&nbsp;</span>compare shap</a></span></li></ul></li><li><span><a href=\"#A-single-retrain-algo-results\" data-toc-modified-id=\"A-single-retrain-algo-results-2.4\"><span class=\"toc-item-num\">2.4&nbsp;&nbsp;</span>A single retrain algo results</a></span></li></ul></li><li><span><a href=\"#OTHER-TEST\" data-toc-modified-id=\"OTHER-TEST-3\"><span class=\"toc-item-num\">3&nbsp;&nbsp;</span>OTHER TEST</a></span></li></ul></div>"
   ]
  },
  {
   "cell_type": "code",
   "execution_count": null,
   "id": "5cc1d5b8",
   "metadata": {},
   "outputs": [],
   "source": [
    "import pandas as pd\n",
    "from scipy.io import arff"
   ]
  },
  {
   "cell_type": "code",
   "execution_count": null,
   "id": "5703023b",
   "metadata": {},
   "outputs": [],
   "source": [
    "! ls ../../data/"
   ]
  },
  {
   "cell_type": "code",
   "execution_count": null,
   "id": "21cdde2f",
   "metadata": {},
   "outputs": [],
   "source": [
    "\n",
    "\n",
    "#data = arff.loadarff('yeast-train.arff')\n",
    "#df = pd.DataFrame(data[0])"
   ]
  },
  {
   "cell_type": "markdown",
   "id": "9e319f35",
   "metadata": {},
   "source": [
    "# Prepare Datasets"
   ]
  },
  {
   "cell_type": "code",
   "execution_count": null,
   "id": "59fcfd0b",
   "metadata": {},
   "outputs": [],
   "source": []
  },
  {
   "cell_type": "markdown",
   "id": "590afa4b",
   "metadata": {},
   "source": [
    "## LED to CSV"
   ]
  },
  {
   "cell_type": "code",
   "execution_count": null,
   "id": "ed2c159f",
   "metadata": {},
   "outputs": [],
   "source": []
  },
  {
   "cell_type": "code",
   "execution_count": null,
   "id": "55dbcd28",
   "metadata": {},
   "outputs": [],
   "source": [
    "led_df = arff.loadarff('../data/led/led_w_500_n_0.1_101.arff')\n"
   ]
  },
  {
   "cell_type": "code",
   "execution_count": null,
   "id": "1000cf89",
   "metadata": {},
   "outputs": [],
   "source": [
    "led_df = pd.DataFrame(led_df[0])\n",
    "led_df"
   ]
  },
  {
   "cell_type": "code",
   "execution_count": null,
   "id": "c41e208d",
   "metadata": {},
   "outputs": [],
   "source": [
    "for x in led_df:\n",
    "    #print(led_df[x].unique())\n",
    "    led_df[x] = led_df[x].apply(lambda x: int(x))"
   ]
  },
  {
   "cell_type": "code",
   "execution_count": null,
   "id": "9dd28699",
   "metadata": {
    "scrolled": true
   },
   "outputs": [],
   "source": [
    "for x in led_df:\n",
    "    print(led_df[x].unique())"
   ]
  },
  {
   "cell_type": "code",
   "execution_count": null,
   "id": "45d7bbe9",
   "metadata": {},
   "outputs": [],
   "source": [
    "led_df.to_csv(\"../data/led.csv\")"
   ]
  },
  {
   "cell_type": "code",
   "execution_count": null,
   "id": "7f713e9b",
   "metadata": {},
   "outputs": [],
   "source": [
    "led_df"
   ]
  },
  {
   "cell_type": "markdown",
   "id": "d524e2d3",
   "metadata": {},
   "source": [
    "## pokerHands to CSV\n",
    "the 10 first columns are the 5 cards with color + rank\n",
    "\n",
    "0: Nothing in hand; not a recognized poker hand \n",
    "1: One pair; one pair of equal ranks within five cards\n",
    "2: Two pairs; two pairs of equal ranks within five cards\n",
    "3: Three of a kind; three equal ranks within five cards\n",
    "4: Straight; five cards, sequentially ranked with no gaps\n",
    "5: Flush; five cards with the same suit\n",
    "6: Full house; pair + different rank three of a kind\n",
    "7: Four of a kind; four equal ranks within five cards\n",
    "8: Straight flush; straight + flush\n",
    "9: Royal flush; {Ace, King, Queen, Jack, Ten} + flush"
   ]
  },
  {
   "cell_type": "code",
   "execution_count": null,
   "id": "8db4b182",
   "metadata": {},
   "outputs": [],
   "source": [
    "! ls ../data/\n"
   ]
  },
  {
   "cell_type": "code",
   "execution_count": null,
   "id": "ce780a8d",
   "metadata": {},
   "outputs": [],
   "source": [
    "poker_df = pd.DataFrame(arff.loadarff('../data/poker-lsn.arff')[0])"
   ]
  },
  {
   "cell_type": "code",
   "execution_count": null,
   "id": "d0a14b10",
   "metadata": {},
   "outputs": [],
   "source": [
    "for x in poker_df:\n",
    "    #print(led_df[x].unique())\n",
    "    poker_df[x] = poker_df[x].apply(lambda x: int(x))"
   ]
  },
  {
   "cell_type": "code",
   "execution_count": null,
   "id": "f3f2469c",
   "metadata": {},
   "outputs": [],
   "source": [
    "poker_df"
   ]
  },
  {
   "cell_type": "code",
   "execution_count": null,
   "id": "875800fc",
   "metadata": {},
   "outputs": [],
   "source": [
    "poker_df.to_csv(\"../data/poker_df.csv\")"
   ]
  },
  {
   "cell_type": "markdown",
   "id": "222aa42a",
   "metadata": {},
   "source": [
    "### test compatibility"
   ]
  },
  {
   "cell_type": "code",
   "execution_count": null,
   "id": "2abd393b",
   "metadata": {},
   "outputs": [],
   "source": [
    "from drift_generators import *"
   ]
  },
  {
   "cell_type": "code",
   "execution_count": null,
   "id": "be937dc5",
   "metadata": {},
   "outputs": [],
   "source": [
    "D_G = Drift_generators()\n",
    "df = pd.read_csv(\"../data/poker_df.csv\")"
   ]
  },
  {
   "cell_type": "code",
   "execution_count": null,
   "id": "20237a85",
   "metadata": {},
   "outputs": [],
   "source": [
    "D_G.load_df(df)"
   ]
  },
  {
   "cell_type": "code",
   "execution_count": null,
   "id": "33e4ff7b",
   "metadata": {},
   "outputs": [],
   "source": [
    "D_G.df"
   ]
  },
  {
   "cell_type": "code",
   "execution_count": null,
   "id": "97f77aea",
   "metadata": {},
   "outputs": [],
   "source": [
    "D_G.retrain_nothing()"
   ]
  },
  {
   "cell_type": "code",
   "execution_count": null,
   "id": "ade0715d",
   "metadata": {},
   "outputs": [],
   "source": [
    "D_G.plot_retrain(w_size = 10000)"
   ]
  },
  {
   "cell_type": "code",
   "execution_count": null,
   "id": "b437da58",
   "metadata": {},
   "outputs": [],
   "source": [
    "D_G.plot_retrain(w_size = 2000)"
   ]
  },
  {
   "cell_type": "markdown",
   "id": "66121ab8",
   "metadata": {},
   "source": [
    "## Covertype to csv"
   ]
  },
  {
   "cell_type": "code",
   "execution_count": null,
   "id": "fe46a040",
   "metadata": {},
   "outputs": [],
   "source": [
    "!ls ../data\n"
   ]
  },
  {
   "cell_type": "code",
   "execution_count": null,
   "id": "20c4912f",
   "metadata": {},
   "outputs": [],
   "source": [
    "data = arff.loadarff('../data/covtypeNorm.arff')\n",
    "df = pd.DataFrame(data[0])"
   ]
  },
  {
   "cell_type": "code",
   "execution_count": null,
   "id": "9a0d8694",
   "metadata": {},
   "outputs": [],
   "source": [
    "for x in df:\n",
    "    #print(df[x].dtypes)\n",
    "    if(df[x].dtypes == 'object'):\n",
    "        #print(df[x].unique())\n",
    "        df[x] = df[x].apply(lambda x: int(x))"
   ]
  },
  {
   "cell_type": "code",
   "execution_count": null,
   "id": "14154699",
   "metadata": {},
   "outputs": [],
   "source": [
    "df.to_csv(\"../data/covtype.csv\",index = False)"
   ]
  },
  {
   "cell_type": "code",
   "execution_count": null,
   "id": "b7818eac",
   "metadata": {},
   "outputs": [],
   "source": [
    "df"
   ]
  },
  {
   "cell_type": "code",
   "execution_count": null,
   "id": "8739213a",
   "metadata": {},
   "outputs": [],
   "source": [
    "from drift_generators import *"
   ]
  },
  {
   "cell_type": "code",
   "execution_count": null,
   "id": "af5e3216",
   "metadata": {},
   "outputs": [],
   "source": [
    "D_G = Drift_generators()\n",
    "df = pd.read_csv(\"../data/covtype.csv\", nrows=50000)"
   ]
  },
  {
   "cell_type": "code",
   "execution_count": null,
   "id": "c333bb69",
   "metadata": {},
   "outputs": [],
   "source": [
    "D_G.load_df(df)"
   ]
  },
  {
   "cell_type": "code",
   "execution_count": null,
   "id": "48efd368",
   "metadata": {},
   "outputs": [],
   "source": [
    "D_G.df"
   ]
  },
  {
   "cell_type": "code",
   "execution_count": null,
   "id": "0313a68b",
   "metadata": {},
   "outputs": [],
   "source": [
    "errors, retrain_indices = D_G.retrain_nothing()"
   ]
  },
  {
   "cell_type": "code",
   "execution_count": null,
   "id": "ed5f707b",
   "metadata": {},
   "outputs": [],
   "source": [
    "D_G.plot_retrain()"
   ]
  },
  {
   "cell_type": "code",
   "execution_count": null,
   "id": "7b0efb5a",
   "metadata": {},
   "outputs": [],
   "source": []
  },
  {
   "cell_type": "code",
   "execution_count": null,
   "id": "8b9f36f9",
   "metadata": {},
   "outputs": [],
   "source": []
  },
  {
   "cell_type": "markdown",
   "id": "6cbfb365",
   "metadata": {},
   "source": [
    "## Elec to csv"
   ]
  },
  {
   "cell_type": "code",
   "execution_count": null,
   "id": "cb367c87",
   "metadata": {},
   "outputs": [],
   "source": [
    "!ls ../data\n"
   ]
  },
  {
   "cell_type": "code",
   "execution_count": null,
   "id": "141b420e",
   "metadata": {},
   "outputs": [],
   "source": [
    "data = arff.loadarff('../data/elecNormNew.arff')\n",
    "df = pd.DataFrame(data[0])"
   ]
  },
  {
   "cell_type": "code",
   "execution_count": null,
   "id": "0d7d033e",
   "metadata": {},
   "outputs": [],
   "source": [
    "df"
   ]
  },
  {
   "cell_type": "code",
   "execution_count": null,
   "id": "722faf1c",
   "metadata": {},
   "outputs": [],
   "source": [
    "for x in df:\n",
    "    #print(df[x].dtypes)\n",
    "    if(df[x].dtypes == 'object'):\n",
    "        print(df[x].unique())\n",
    "        df[x] = df[x].apply(lambda x: 1 if \"UP\" in str(x) else 0)"
   ]
  },
  {
   "cell_type": "code",
   "execution_count": null,
   "id": "b2eaace6",
   "metadata": {},
   "outputs": [],
   "source": [
    "df.to_csv(\"../data/elec.csv\",index = False)"
   ]
  },
  {
   "cell_type": "code",
   "execution_count": null,
   "id": "492732ed",
   "metadata": {},
   "outputs": [],
   "source": [
    "df"
   ]
  },
  {
   "cell_type": "code",
   "execution_count": null,
   "id": "e175c7e8",
   "metadata": {},
   "outputs": [],
   "source": [
    "from drift_generators import *"
   ]
  },
  {
   "cell_type": "code",
   "execution_count": null,
   "id": "b78f8319",
   "metadata": {},
   "outputs": [],
   "source": [
    "D_G = Drift_generators()\n",
    "df = pd.read_csv(\"../data/elec.csv\", nrows=10000)"
   ]
  },
  {
   "cell_type": "code",
   "execution_count": null,
   "id": "f922279e",
   "metadata": {},
   "outputs": [],
   "source": [
    "#D_G.load_df(df)\n",
    "D_G.load_df(\"elec\", nrows= 7000)"
   ]
  },
  {
   "cell_type": "code",
   "execution_count": null,
   "id": "8f5554a2",
   "metadata": {},
   "outputs": [],
   "source": [
    "D_G.df"
   ]
  },
  {
   "cell_type": "code",
   "execution_count": null,
   "id": "aed3d097",
   "metadata": {},
   "outputs": [],
   "source": [
    "errors, retrain_indices = D_G.retrain_nothing()"
   ]
  },
  {
   "cell_type": "code",
   "execution_count": null,
   "id": "98b244e1",
   "metadata": {},
   "outputs": [],
   "source": [
    "%%time\n",
    "D_G.plot_retrain()"
   ]
  },
  {
   "cell_type": "code",
   "execution_count": null,
   "id": "54fa95e5",
   "metadata": {},
   "outputs": [],
   "source": [
    "%%time\n",
    "w_size = 3000\n",
    "detection_indices = []\n",
    "fig, ax = plt.subplots(nrows = 1, ncols =1, figsize = [10,8])\n",
    "\n",
    "n_seen = D_G.n_train+D_G.n_test#number of sample used initially\n",
    "#compute traveling mean\n",
    "err_mean = [np.mean(D_G.errors[max(0,i-w_size):i]) for i in range(1,len(D_G.errors))]\n",
    "#plot error mean\n",
    "ax.plot(np.arange(n_seen, n_seen+len(err_mean)), err_mean, label = \"Mean error\")\n",
    "ymax, ymin = max(err_mean[int(len(err_mean)*0.1):]),min(err_mean[int(len(err_mean)*0.1):])\n",
    "ax.set_ylim(ymax=ymax+0.1*(ymax-ymin),ymin=ymin-0.1*(ymax-ymin))\n",
    "#plot detection lines\n",
    "ymin, ymax = ax.get_ylim()\n",
    "for detect in detection_indices:\n",
    "    ax.vlines(ymin=ymin, ymax=ymax, x = detect+n_seen, color = 'orange', label = \"detection\")\n",
    "for d in D_G.drift_points:\n",
    "    ax.vlines(ymin=ymin, ymax = ymax, x = d,\n",
    "                color = 'crimson', label = 'drift')\n",
    "#ymin, ymax = ax.get_ylim()\n",
    "#plot training-test zone\n",
    "ax.axvspan(xmin=0, xmax=n_seen, alpha =0.5, color = 'g', label=\"train-test\")\n",
    "ax.set_title(D_G.drift_name+\"\\nmean error\")\n",
    "#LEGEND\n",
    "handles, labels = ax.get_legend_handles_labels()\n",
    "unique = [(h, l) for i, (h, l) in enumerate(zip(handles, labels)) if l not in labels[:i]]\n",
    "ax.legend(*zip(*unique))\n",
    "plt.show()\n"
   ]
  },
  {
   "cell_type": "markdown",
   "id": "bc4934a5",
   "metadata": {},
   "source": [
    "## SINE 1 to CSV"
   ]
  },
  {
   "cell_type": "code",
   "execution_count": null,
   "id": "2b5c34cd",
   "metadata": {},
   "outputs": [],
   "source": [
    "!ls ../data"
   ]
  },
  {
   "cell_type": "code",
   "execution_count": null,
   "id": "5f9480b5",
   "metadata": {},
   "outputs": [],
   "source": [
    "data = arff.loadarff('../data/sine1/sine1_w_50_n_0.1_101.arff')\n",
    "df = pd.DataFrame(data[0])"
   ]
  },
  {
   "cell_type": "code",
   "execution_count": null,
   "id": "6b255356",
   "metadata": {},
   "outputs": [],
   "source": [
    "df"
   ]
  },
  {
   "cell_type": "code",
   "execution_count": null,
   "id": "60dcfc99",
   "metadata": {},
   "outputs": [],
   "source": [
    "for x in df:\n",
    "    #print(df[x].dtypes)\n",
    "    if(df[x].dtypes == 'object'):\n",
    "        print(df[x].unique())\n",
    "        print(df[x].apply(lambda x: 1 if \"p\" in str(x) else 0).unique())\n",
    "        df[x] = df[x].apply(lambda x: 1 if \"p\" in str(x) else 0)"
   ]
  },
  {
   "cell_type": "code",
   "execution_count": null,
   "id": "efae7582",
   "metadata": {},
   "outputs": [],
   "source": [
    "df.to_csv(\"../data/sine1.csv\",index = False)"
   ]
  },
  {
   "cell_type": "code",
   "execution_count": null,
   "id": "5c61f0f3",
   "metadata": {},
   "outputs": [],
   "source": [
    "df"
   ]
  },
  {
   "cell_type": "code",
   "execution_count": null,
   "id": "a02a28a5",
   "metadata": {},
   "outputs": [],
   "source": [
    "from drift_generators import *"
   ]
  },
  {
   "cell_type": "code",
   "execution_count": null,
   "id": "2d008756",
   "metadata": {},
   "outputs": [],
   "source": [
    "D_G = Drift_generators()\n",
    "#df = pd.read_csv(\"../data/sine1.csv\")#, nrows=50000)"
   ]
  },
  {
   "cell_type": "code",
   "execution_count": null,
   "id": "ff319785",
   "metadata": {},
   "outputs": [],
   "source": [
    "#D_G.load_df(df)\n",
    "D_G.load_df(\"sine1\", nrows= 7000)"
   ]
  },
  {
   "cell_type": "code",
   "execution_count": null,
   "id": "94a47c15",
   "metadata": {},
   "outputs": [],
   "source": [
    "D_G.df"
   ]
  },
  {
   "cell_type": "code",
   "execution_count": null,
   "id": "bbca4986",
   "metadata": {},
   "outputs": [],
   "source": [
    "D_G.load_df(\"sine1\")\n",
    "errors, retrain_indices = D_G.retrain_nothing()"
   ]
  },
  {
   "cell_type": "code",
   "execution_count": null,
   "id": "c4622f09",
   "metadata": {},
   "outputs": [],
   "source": [
    "D_G.n"
   ]
  },
  {
   "cell_type": "code",
   "execution_count": null,
   "id": "576b74bd",
   "metadata": {},
   "outputs": [],
   "source": [
    "%%time\n",
    "D_G.plot_retrain()"
   ]
  },
  {
   "cell_type": "code",
   "execution_count": null,
   "id": "28c8c087",
   "metadata": {},
   "outputs": [],
   "source": [
    "# compute drift points"
   ]
  },
  {
   "cell_type": "code",
   "execution_count": null,
   "id": "45c72feb",
   "metadata": {},
   "outputs": [],
   "source": [
    "D_G.df"
   ]
  },
  {
   "cell_type": "code",
   "execution_count": null,
   "id": "f86e8ac1",
   "metadata": {},
   "outputs": [],
   "source": [
    "D_G = Drift_generators()\n",
    "D_G.load_df(\"sine1\")"
   ]
  },
  {
   "cell_type": "code",
   "execution_count": null,
   "id": "f052d588",
   "metadata": {},
   "outputs": [],
   "source": [
    "D_G.df.columns = ['x','y','class']"
   ]
  },
  {
   "cell_type": "code",
   "execution_count": null,
   "id": "838e6647",
   "metadata": {},
   "outputs": [],
   "source": [
    "#D_G.df.loc[:,\"above\"] = D_G.df.loc[:,['y','sin']].apply(lambda row: row.sin)\n",
    "D_G.df['above'] = D_G.df.x.apply(lambda x: np.sin(x))<=D_G.df.y\n",
    "D_G.df['above'] = D_G.df['above'].astype(int)"
   ]
  },
  {
   "cell_type": "code",
   "execution_count": null,
   "id": "86c5db0f",
   "metadata": {},
   "outputs": [],
   "source": [
    "D_G.df['isDrift'] = D_G.df['above'] == D_G.df['class']\n",
    "D_G.df['isDrift'] = D_G.df['isDrift'].astype(int)"
   ]
  },
  {
   "cell_type": "raw",
   "id": "dab1fd15",
   "metadata": {},
   "source": [
    "drift_points = [20020,40030]"
   ]
  },
  {
   "cell_type": "code",
   "execution_count": null,
   "id": "a5ceac4b",
   "metadata": {},
   "outputs": [],
   "source": [
    "plt.figure(figsize = [18,5])\n",
    "plt.scatter(np.arange(D_G.n), D_G.df.iloc[:]['isDrift'].values, alpha = 0.05, marker=\"|\")\n",
    "plt.show()"
   ]
  },
  {
   "cell_type": "markdown",
   "id": "ab56c06b",
   "metadata": {},
   "source": [
    "### Create short Sine 1 dataset"
   ]
  },
  {
   "cell_type": "code",
   "execution_count": null,
   "id": "dec293cb",
   "metadata": {},
   "outputs": [],
   "source": [
    "D_G = Drift_generators()\n",
    "D_G.load_df(\"sine1\")\n",
    "drift_points = [20020,40030]"
   ]
  },
  {
   "cell_type": "code",
   "execution_count": null,
   "id": "ea75dd78",
   "metadata": {},
   "outputs": [],
   "source": [
    "#D_G.df"
   ]
  },
  {
   "cell_type": "code",
   "execution_count": null,
   "id": "a321c57d",
   "metadata": {},
   "outputs": [],
   "source": [
    "n = 1000\n",
    "df = pd.DataFrame(columns = [0,1,'class'], index=np.arange(3*n))\n",
    "df.loc[:n] = D_G.df.iloc[:drift_points[0]].sample(n+1).values\n",
    "df.loc[n:2*n] = D_G.df.iloc[drift_points[0]:drift_points[1]].sample(n+1).values\n",
    "df.loc[2*n:3*n] = D_G.df.iloc[drift_points[1]:].sample(n).values"
   ]
  },
  {
   "cell_type": "code",
   "execution_count": null,
   "id": "a14fcba0",
   "metadata": {},
   "outputs": [],
   "source": [
    "df.to_csv(\"../data/sine1_short.csv\",index = False)"
   ]
  },
  {
   "cell_type": "code",
   "execution_count": null,
   "id": "2748b62e",
   "metadata": {},
   "outputs": [],
   "source": [
    "#D_G.load_df(df)\n",
    "D_G.load_df(\"sine1_short\")"
   ]
  },
  {
   "cell_type": "code",
   "execution_count": null,
   "id": "7e0a7d5b",
   "metadata": {},
   "outputs": [],
   "source": [
    "errors, retrain_indices = D_G.retrain_nothing()"
   ]
  },
  {
   "cell_type": "code",
   "execution_count": null,
   "id": "f323bcbc",
   "metadata": {},
   "outputs": [],
   "source": [
    "%%time\n",
    "D_G.plot_retrain()"
   ]
  },
  {
   "cell_type": "markdown",
   "id": "b6a41c55",
   "metadata": {},
   "source": [
    "## SINE 2 to CSV"
   ]
  },
  {
   "cell_type": "code",
   "execution_count": null,
   "id": "5b8f2355",
   "metadata": {},
   "outputs": [],
   "source": [
    "!ls ../data\n"
   ]
  },
  {
   "cell_type": "code",
   "execution_count": null,
   "id": "1c23ec15",
   "metadata": {},
   "outputs": [],
   "source": [
    "data = arff.loadarff('../data/sine2_w_50_n_0.1/sine2_w_50_n_0.1_101.arff')\n",
    "df = pd.DataFrame(data[0])"
   ]
  },
  {
   "cell_type": "code",
   "execution_count": null,
   "id": "834ad2c9",
   "metadata": {},
   "outputs": [],
   "source": [
    "df"
   ]
  },
  {
   "cell_type": "code",
   "execution_count": null,
   "id": "8454e690",
   "metadata": {},
   "outputs": [],
   "source": [
    "for x in df:\n",
    "    #print(df[x].dtypes)\n",
    "    if(df[x].dtypes == 'object'):\n",
    "        print(df[x].unique())\n",
    "        print(df[x].apply(lambda x: 1 if \"p\" in str(x) else 0).unique())\n",
    "        df[x] = df[x].apply(lambda x: 1 if \"p\" in str(x) else 0)"
   ]
  },
  {
   "cell_type": "code",
   "execution_count": null,
   "id": "cd1d774a",
   "metadata": {},
   "outputs": [],
   "source": [
    "df.to_csv(\"../data/sine2.csv\",index = False)"
   ]
  },
  {
   "cell_type": "code",
   "execution_count": null,
   "id": "082b71ca",
   "metadata": {},
   "outputs": [],
   "source": [
    "df"
   ]
  },
  {
   "cell_type": "code",
   "execution_count": null,
   "id": "4817c249",
   "metadata": {},
   "outputs": [],
   "source": [
    "from drift_generators import *"
   ]
  },
  {
   "cell_type": "code",
   "execution_count": null,
   "id": "aa9a7f33",
   "metadata": {},
   "outputs": [],
   "source": [
    "D_G = Drift_generators()\n",
    "#df = pd.read_csv(\"../data/sine1.csv\")#, nrows=50000)"
   ]
  },
  {
   "cell_type": "code",
   "execution_count": null,
   "id": "441c93b7",
   "metadata": {},
   "outputs": [],
   "source": [
    "#D_G.load_df(df)\n",
    "D_G.load_df(\"sine2\")"
   ]
  },
  {
   "cell_type": "code",
   "execution_count": null,
   "id": "26662b0c",
   "metadata": {},
   "outputs": [],
   "source": [
    "D_G.df"
   ]
  },
  {
   "cell_type": "code",
   "execution_count": null,
   "id": "d1045832",
   "metadata": {},
   "outputs": [],
   "source": [
    "D_G.n"
   ]
  },
  {
   "cell_type": "code",
   "execution_count": null,
   "id": "9d9ef879",
   "metadata": {},
   "outputs": [],
   "source": [
    "%%time\n",
    "D_G.retrain_nothing()\n",
    "D_G.plot_retrain()"
   ]
  },
  {
   "cell_type": "code",
   "execution_count": null,
   "id": "a50cf0f2",
   "metadata": {},
   "outputs": [],
   "source": [
    "D_G.df.columns = ['x','y','class']"
   ]
  },
  {
   "cell_type": "code",
   "execution_count": null,
   "id": "7368b7cc",
   "metadata": {},
   "outputs": [],
   "source": [
    "#D_G.df.loc[:,\"above\"] = D_G.df.loc[:,['y','sin']].apply(lambda row: row.sin)\n",
    "#                                      0.5 + 0.3 * sin(3 * π * x)\n",
    "D_G.df['above'] = D_G.df.x.apply(lambda x: 0.5+0.3*np.sin(3*np.pi*x))<=D_G.df.y\n",
    "D_G.df['above'] = D_G.df['above'].astype(int)"
   ]
  },
  {
   "cell_type": "code",
   "execution_count": null,
   "id": "a66aded3",
   "metadata": {},
   "outputs": [],
   "source": [
    "D_G.df['isDrift'] = D_G.df['above'] == D_G.df['class']\n",
    "D_G.df['isDrift'] = D_G.df['isDrift'].astype(int)"
   ]
  },
  {
   "cell_type": "raw",
   "id": "f2ef7a15",
   "metadata": {},
   "source": [
    "drift_points = [20020,40030]"
   ]
  },
  {
   "cell_type": "code",
   "execution_count": null,
   "id": "e124f248",
   "metadata": {},
   "outputs": [],
   "source": [
    "plt.figure(figsize = [18,5])\n",
    "plt.scatter(np.arange(D_G.n), D_G.df.iloc[:]['isDrift'].values, alpha = 0.05, marker=\"|\")\n",
    "plt.show()"
   ]
  },
  {
   "cell_type": "markdown",
   "id": "34e07fd4",
   "metadata": {},
   "source": [
    "### Create short Sine 2 dataset"
   ]
  },
  {
   "cell_type": "code",
   "execution_count": null,
   "id": "e78dae5e",
   "metadata": {},
   "outputs": [],
   "source": [
    "D_G = Drift_generators()\n",
    "D_G.load_df(\"sine2\")"
   ]
  },
  {
   "cell_type": "code",
   "execution_count": null,
   "id": "472cc771",
   "metadata": {},
   "outputs": [],
   "source": [
    "drift_points = [20020,40030]"
   ]
  },
  {
   "cell_type": "code",
   "execution_count": null,
   "id": "a139f4ac",
   "metadata": {},
   "outputs": [],
   "source": [
    "#D_G.df"
   ]
  },
  {
   "cell_type": "code",
   "execution_count": null,
   "id": "828a7143",
   "metadata": {},
   "outputs": [],
   "source": [
    "n = 1000\n",
    "df = pd.DataFrame(columns = [0,1,'class'], index=np.arange(3*n))\n",
    "df.loc[:n] = D_G.df.iloc[:drift_points[0]].sample(n+1).values\n",
    "df.loc[n:2*n] = D_G.df.iloc[drift_points[0]:drift_points[1]].sample(n+1).values\n",
    "df.loc[2*n:3*n] = D_G.df.iloc[drift_points[1]:].sample(n).values"
   ]
  },
  {
   "cell_type": "code",
   "execution_count": null,
   "id": "6beb7ad8",
   "metadata": {},
   "outputs": [],
   "source": [
    "df.to_csv(\"../data/sine2_short.csv\",index = False)"
   ]
  },
  {
   "cell_type": "code",
   "execution_count": null,
   "id": "8a2c0e8f",
   "metadata": {},
   "outputs": [],
   "source": [
    "#D_G.load_df(df)\n",
    "D_G.load_df(\"sine2_short\")"
   ]
  },
  {
   "cell_type": "code",
   "execution_count": null,
   "id": "720860c4",
   "metadata": {},
   "outputs": [],
   "source": [
    "errors, retrain_indices = D_G.retrain_nothing()"
   ]
  },
  {
   "cell_type": "code",
   "execution_count": null,
   "id": "e7740bee",
   "metadata": {},
   "outputs": [],
   "source": [
    "%%time\n",
    "D_G.plot_retrain()"
   ]
  },
  {
   "cell_type": "markdown",
   "id": "908c4838",
   "metadata": {},
   "source": [
    "## stagger to CSV"
   ]
  },
  {
   "cell_type": "code",
   "execution_count": null,
   "id": "32002ac6",
   "metadata": {},
   "outputs": [],
   "source": [
    "!ls ../data\n"
   ]
  },
  {
   "cell_type": "code",
   "execution_count": null,
   "id": "4183515f",
   "metadata": {},
   "outputs": [],
   "source": [
    "data = arff.loadarff('../data/stagger_w_50_n_0.1/stagger_w_50_n_0.1_101.arff')\n",
    "df = pd.DataFrame(data[0])"
   ]
  },
  {
   "cell_type": "code",
   "execution_count": null,
   "id": "4dbffa02",
   "metadata": {},
   "outputs": [],
   "source": [
    "df.head(3), len(df)"
   ]
  },
  {
   "cell_type": "code",
   "execution_count": null,
   "id": "c99bba55",
   "metadata": {},
   "outputs": [],
   "source": [
    "dict_size = {\"b'small'\":0,\"b'medium'\":1, \"b'large'\":2}\n",
    "dict_color = {\"b'red'\":0,\"b'green'\":1}\n",
    "dict_shape = {\"b'circular'\":1,\"b'non-circular'\":0}\n",
    "dict_class = {\"b'n'\":0,\"b'p'\":1}\n",
    "[dict_size, dict_color, dict_shape, dict_class];"
   ]
  },
  {
   "cell_type": "code",
   "execution_count": null,
   "id": "b2f08c7e",
   "metadata": {},
   "outputs": [],
   "source": [
    "dicts = [dict_size, dict_color, dict_shape, dict_class]\n",
    "for i,x in enumerate(df):\n",
    "    #print(x,dicts[i])\n",
    "    if(df[x].dtypes == 'object'):\n",
    "        df[x] = df[x].apply(lambda x: str(x)).map(dicts[i])"
   ]
  },
  {
   "cell_type": "code",
   "execution_count": null,
   "id": "28b0d46b",
   "metadata": {},
   "outputs": [],
   "source": []
  },
  {
   "cell_type": "code",
   "execution_count": null,
   "id": "18a623df",
   "metadata": {},
   "outputs": [],
   "source": [
    "df.to_csv(\"../data/stagger.csv\",index = False)"
   ]
  },
  {
   "cell_type": "code",
   "execution_count": null,
   "id": "25336bda",
   "metadata": {},
   "outputs": [],
   "source": [
    "df.head(3)"
   ]
  },
  {
   "cell_type": "code",
   "execution_count": null,
   "id": "947300bb",
   "metadata": {},
   "outputs": [],
   "source": [
    "from drift_generators import *"
   ]
  },
  {
   "cell_type": "code",
   "execution_count": null,
   "id": "d6772ed3",
   "metadata": {},
   "outputs": [],
   "source": [
    "D_G = Drift_generators()\n",
    "#df = pd.read_csv(\"../data/sine1.csv\")#, nrows=50000)"
   ]
  },
  {
   "cell_type": "code",
   "execution_count": null,
   "id": "0c42be83",
   "metadata": {},
   "outputs": [],
   "source": [
    "#D_G.load_df(df)\n",
    "D_G.load_df(\"stagger\", nrows = 100000)"
   ]
  },
  {
   "cell_type": "code",
   "execution_count": null,
   "id": "cd594fa9",
   "metadata": {},
   "outputs": [],
   "source": [
    "D_G.df.head(3)"
   ]
  },
  {
   "cell_type": "code",
   "execution_count": null,
   "id": "a4ece128",
   "metadata": {},
   "outputs": [],
   "source": [
    "D_G.n"
   ]
  },
  {
   "cell_type": "code",
   "execution_count": null,
   "id": "53306b08",
   "metadata": {},
   "outputs": [],
   "source": [
    "%%time\n",
    "D_G.retrain_nothing()\n",
    "D_G.plot_retrain()"
   ]
  },
  {
   "cell_type": "markdown",
   "id": "ee215bb4",
   "metadata": {},
   "source": [
    "This dataset contains three nominal attributes, namely size = {small, medium, large}, color={red, green}, and shape={circular, non-circular}. Before the first drift point, instances are labeled positive if (color = red) ∧ (size = small). After this point and before the second drift, instances are classified positive if (color = green) v (shape = circular), and finally after this second drift point, instances are classified positive only if (size = medium) v (size = large)."
   ]
  },
  {
   "cell_type": "code",
   "execution_count": null,
   "id": "120fbeea",
   "metadata": {},
   "outputs": [],
   "source": [
    "D_G.df.columns = ['x','y','z','class']"
   ]
  },
  {
   "cell_type": "code",
   "execution_count": null,
   "id": "a0336d06",
   "metadata": {},
   "outputs": [],
   "source": [
    "D_G.df['fct'] = D_G.df.apply(axis = 1, func = lambda row : 0 if(row.x == 0 and row.y == 0) else 1)\n",
    "D_G.df['fct1'] = D_G.df.apply(axis = 1, func = lambda row : 0 if(row.y == 1 or row.z == 1) else 1)\n",
    "D_G.df['fct2'] = D_G.df.apply(axis = 1, func = lambda row : 0 if(row.x == 1 or row.x == 2) else 1)"
   ]
  },
  {
   "cell_type": "code",
   "execution_count": null,
   "id": "c600319d",
   "metadata": {},
   "outputs": [],
   "source": [
    "plt.figure(figsize = [18,1])\n",
    "plt.scatter(np.arange(D_G.n), D_G.df.iloc[:]['fct'].values, alpha = 0.005, marker=\"|\")\n",
    "plt.show()"
   ]
  },
  {
   "cell_type": "code",
   "execution_count": null,
   "id": "4acfab1c",
   "metadata": {},
   "outputs": [],
   "source": [
    "plt.figure(figsize = [18,1])\n",
    "plt.scatter(np.arange(D_G.n), D_G.df.iloc[:]['fct1'].values, alpha = 0.01, marker=\"|\")\n",
    "plt.show()"
   ]
  },
  {
   "cell_type": "code",
   "execution_count": null,
   "id": "293bbd49",
   "metadata": {},
   "outputs": [],
   "source": [
    "plt.figure(figsize = [18,1])\n",
    "plt.scatter(np.arange(D_G.n), D_G.df.iloc[:]['fct2'].values, alpha = 0.01, marker=\"|\")\n",
    "plt.show()"
   ]
  },
  {
   "cell_type": "code",
   "execution_count": null,
   "id": "28b25a09",
   "metadata": {},
   "outputs": [],
   "source": [
    "plt.figure(figsize = [18,1])\n",
    "w = 3000\n",
    "n = 33400\n",
    "plt.scatter(np.arange(n-int(w/2),n+int(w/2)), D_G.df.iloc[n-int(w/2):n+int(w/2)]['fct'].values, alpha = 0.9, marker=\"|\")\n",
    "plt.vlines(ymax=1,ymin=0,x =n, color = \"red\")\n",
    "plt.show()"
   ]
  },
  {
   "cell_type": "code",
   "execution_count": null,
   "id": "02bc09ac",
   "metadata": {},
   "outputs": [],
   "source": [
    "plt.figure(figsize = [18,1])\n",
    "w = 10000\n",
    "n = 66700\n",
    "plt.scatter(np.arange(n-int(w/2),n+int(w/2)), D_G.df.iloc[n-int(w/2):n+int(w/2)]['fct1'].values,\n",
    "            alpha = 0.1, marker=\"|\")\n",
    "plt.vlines(ymax=1,ymin=0,x =n, color = \"red\")\n",
    "plt.show()"
   ]
  },
  {
   "cell_type": "code",
   "execution_count": null,
   "id": "8bd7a94e",
   "metadata": {},
   "outputs": [],
   "source": [
    "drift_points = [33400,66700]"
   ]
  },
  {
   "cell_type": "markdown",
   "id": "601dc02e",
   "metadata": {},
   "source": [
    "### Create short stagger dataset"
   ]
  },
  {
   "cell_type": "code",
   "execution_count": null,
   "id": "391d908d",
   "metadata": {},
   "outputs": [],
   "source": [
    "D_G = Drift_generators()\n",
    "D_G.load_df(\"stagger\", nrows = 100000)"
   ]
  },
  {
   "cell_type": "code",
   "execution_count": null,
   "id": "ba842f7f",
   "metadata": {},
   "outputs": [],
   "source": [
    "drift_points = [33400,66700]"
   ]
  },
  {
   "cell_type": "code",
   "execution_count": null,
   "id": "d6b8050b",
   "metadata": {},
   "outputs": [],
   "source": [
    "n = 2000\n",
    "df = pd.DataFrame(columns = [0,1,2,'class'], index=np.arange(3*n))\n",
    "df.loc[:n] = D_G.df.iloc[:drift_points[0]].sample(n+1).values\n",
    "df.loc[n:2*n] = D_G.df.iloc[drift_points[0]:drift_points[1]].sample(n+1).values\n",
    "df.loc[2*n:3*n] = D_G.df.iloc[drift_points[1]:].sample(n).values"
   ]
  },
  {
   "cell_type": "code",
   "execution_count": null,
   "id": "32ad46df",
   "metadata": {},
   "outputs": [],
   "source": [
    "df.to_csv(\"../data/stagger_short.csv\",index = False)"
   ]
  },
  {
   "cell_type": "code",
   "execution_count": null,
   "id": "4718e57d",
   "metadata": {},
   "outputs": [],
   "source": [
    "#D_G.load_df(df)\n",
    "D_G.load_df(\"stagger_short\")"
   ]
  },
  {
   "cell_type": "code",
   "execution_count": null,
   "id": "04156abe",
   "metadata": {},
   "outputs": [],
   "source": [
    "errors, retrain_indices = D_G.retrain_nothing()"
   ]
  },
  {
   "cell_type": "code",
   "execution_count": null,
   "id": "3c860dff",
   "metadata": {},
   "outputs": [],
   "source": [
    "%%time\n",
    "D_G.plot_retrain()"
   ]
  },
  {
   "cell_type": "markdown",
   "id": "b104c082",
   "metadata": {},
   "source": [
    "# TEST"
   ]
  },
  {
   "cell_type": "code",
   "execution_count": null,
   "id": "eb1e07f9",
   "metadata": {},
   "outputs": [],
   "source": [
    "from drift_generators import *\n",
    "from time import gmtime, strftime, time\n",
    "import os\n",
    "import pickle\n",
    "import datetime"
   ]
  },
  {
   "cell_type": "code",
   "execution_count": null,
   "id": "aa2f2c87",
   "metadata": {},
   "outputs": [],
   "source": [
    "funcs = [func for func in dir(Drift_generators) if callable(getattr(Drift_generators, func))\n",
    "         and not func.startswith(\"__\")\n",
    "         and \"retrain\" in func and not \"plot\" in func and not \"perf\" in func]\n",
    "#funcs"
   ]
  },
  {
   "cell_type": "code",
   "execution_count": null,
   "id": "08dd3ab8",
   "metadata": {},
   "outputs": [],
   "source": [
    "funcs = funcs[9:]"
   ]
  },
  {
   "cell_type": "code",
   "execution_count": null,
   "id": "f92a9475",
   "metadata": {},
   "outputs": [],
   "source": [
    "funcs = [x for x in funcs  if \"adwin\" in x]"
   ]
  },
  {
   "cell_type": "code",
   "execution_count": null,
   "id": "6e6126b8",
   "metadata": {},
   "outputs": [],
   "source": [
    "funcs = ['retrain_arf', 'retrain_shap_KSWIN', 'retrain_shap_PH', 'retrain_adwin_loss',\n",
    " 'retrain_shap_adwin_stack', 'retrain_shap_adwin']\n",
    "funcs = [\"retrain_nothing\",'retrain_adwin_loss','retrain_shap_KSWIN', 'retrain_shap_PH', \n",
    " 'retrain_shap_adwin_stack', 'retrain_shap_adwin',\"retrain_periodic\",\"retrain_arf\"]\n",
    "funcs = ['retrain_adwin',\n",
    " 'retrain_adwin_loss',\n",
    " 'retrain_adwin_stack_train',\n",
    " 'retrain_shap_adwin',\n",
    " 'retrain_shap_adwin_back_train',\n",
    " 'retrain_shap_adwin_smallback',\n",
    " 'retrain_shap_adwin_stack', \"retrain_arf\", \"retrain_nothing\"]\n",
    "funcs = ['retrain_adwin_loss', 'retrain_shap_adwin_experimental', 'retrain_shap_adwin','retrain_nothing']"
   ]
  },
  {
   "cell_type": "code",
   "execution_count": null,
   "id": "c73d75fe",
   "metadata": {},
   "outputs": [],
   "source": [
    "#potential top candidates\n",
    "funcs = ['retrain_arf',\n",
    " 'retrain_basic_shap',\n",
    " 'retrain_feat_model_increase',\n",
    " 'retrain_KSWIN']"
   ]
  },
  {
   "cell_type": "code",
   "execution_count": null,
   "id": "66d81e31",
   "metadata": {},
   "outputs": [],
   "source": [
    "funcs.remove(\"retrain_feat_drift\")\n",
    "funcs.remove(\"retrain_shap_adwin_experimental\")\n",
    "funcs.remove(\"retrain_basic_shap\")\n"
   ]
  },
  {
   "cell_type": "markdown",
   "id": "8530efd4",
   "metadata": {},
   "source": [
    "## RUN THE RETRAINING ALGORITHMS"
   ]
  },
  {
   "cell_type": "code",
   "execution_count": null,
   "id": "08aeadde",
   "metadata": {
    "scrolled": true
   },
   "outputs": [],
   "source": [
    "n_iter = 1\n",
    "dataset = \"elec\"\n",
    "nrows = 60000\n",
    "\n",
    "#error_list = [[] for x in range(n_iter)]\n",
    "#detections = [[] for x in range(n_iter)]\n",
    "\n",
    "session_time = strftime(\"%Y-%m-%d_%H:%M\", gmtime())\n",
    "\n",
    "D_G = Drift_generators()\n",
    "for k in range(n_iter):\n",
    "    session_time = strftime(\"%Y-%m-%d_%H:%M\", gmtime())\n",
    "    print(\"  \",k, session_time)\n",
    "    for i, func in enumerate(funcs):\n",
    "        t1 = time()\n",
    "        print(\"    \",func[8:])\n",
    "        D_G = Drift_generators()\n",
    "        D_G.load_df(dataset, nrows= nrows)\n",
    "        error, detection_indices = getattr(Drift_generators, func)(D_G)\n",
    "        #error_list[k].append(error)\n",
    "        #detections[k].append(detection_indices)\n",
    "        print(\"      \",str(datetime.timedelta(seconds=int(time()-t1))))\n",
    "        name = \"/\"+ session_time\n",
    "        path = \"/home/bastien/Documents/labs/data/results/\"+dataset+\"/\"+func[8:]\n",
    "        if(not os.path.isdir(path)):\n",
    "            os.mkdir(\"/home/bastien/Documents/labs/data/results/\"+dataset+\"/\"+func[8:]);\n",
    "        pickle.dump( (error, detection_indices), open( path+name+\".p\", \"wb\" ))"
   ]
  },
  {
   "cell_type": "code",
   "execution_count": null,
   "id": "dd9044da",
   "metadata": {},
   "outputs": [],
   "source": [
    "#save results\n",
    "for k in range(n_iter):\n",
    "    for i, (err, func) in enumerate(zip(error_list[k], funcs)):\n",
    "        name = \"/\"+strftime(\"%Y-%m-%d_%H:%M\", gmtime())\n",
    "        path = \"/home/bastien/Documents/labs/data/results/\"+dataset+\"/\"+func[8:]\n",
    "        if(not os.path.isdir(path)):\n",
    "            os.mkdir(\"/home/bastien/Documents/labs/data/results/\"+dataset+\"/\"+func[8:]);\n",
    "        pickle.dump( (err, detections[k][i]), open( path+name+\".p\", \"wb\" ))"
   ]
  },
  {
   "cell_type": "markdown",
   "id": "065e9a6d",
   "metadata": {},
   "source": [
    "## Load"
   ]
  },
  {
   "cell_type": "code",
   "execution_count": null,
   "id": "a1efebc1",
   "metadata": {},
   "outputs": [],
   "source": [
    "from drift_generators import *\n",
    "from time import gmtime, strftime\n",
    "import os\n",
    "import pickle\n",
    "from os import listdir\n",
    "from os.path import isfile, join"
   ]
  },
  {
   "cell_type": "code",
   "execution_count": null,
   "id": "31b477d1",
   "metadata": {},
   "outputs": [],
   "source": [
    "funcs = [func for func in dir(Drift_generators) if callable(getattr(Drift_generators, func))\n",
    "         and not func.startswith(\"__\")\n",
    "         and \"retrain\" in func and not \"plot\" in func and not \"perf\" in func]\n",
    "#funcs"
   ]
  },
  {
   "cell_type": "code",
   "execution_count": null,
   "id": "583fe8e5",
   "metadata": {},
   "outputs": [],
   "source": [
    "funcs = [\"retrain_nothing\",'retrain_adwin_loss','retrain_shap_KSWIN', \n",
    " 'retrain_shap_adwin_stack', 'retrain_shap_adwin', 'retrain_arf']"
   ]
  },
  {
   "cell_type": "code",
   "execution_count": null,
   "id": "3f6da7e7",
   "metadata": {},
   "outputs": [],
   "source": [
    "funcs = ['retrain_adwin',\n",
    " 'retrain_adwin_loss',\n",
    " 'retrain_adwin_stack_train',\n",
    " 'retrain_shap_adwin',\n",
    " 'retrain_shap_adwin_back_train',\n",
    " 'retrain_shap_adwin_smallback',\n",
    " 'retrain_shap_adwin_stack', \"retrain_arf\", \"retrain_nothing\"]"
   ]
  },
  {
   "cell_type": "code",
   "execution_count": null,
   "id": "5c389e66",
   "metadata": {},
   "outputs": [],
   "source": [
    "funcs.remove(\"retrain_feat_drift\")"
   ]
  },
  {
   "cell_type": "code",
   "execution_count": null,
   "id": "57ee9245",
   "metadata": {},
   "outputs": [],
   "source": [
    "funcs"
   ]
  },
  {
   "cell_type": "code",
   "execution_count": null,
   "id": "c6e87ad1",
   "metadata": {},
   "outputs": [],
   "source": [
    "[x for x in funcs if \"back\" in x]"
   ]
  },
  {
   "cell_type": "code",
   "execution_count": null,
   "id": "31da93ec",
   "metadata": {},
   "outputs": [],
   "source": [
    "# load\n",
    "dataset = \"elec\"\n",
    "n_load = 1\n",
    "n_iter = n_load\n",
    "error_list = [[[] for i in range(len(funcs))] for k in range(n_load)]\n",
    "detections = [[[] for i in range(len(funcs))] for k in range(n_load)]\n",
    "\n",
    "for i,func in enumerate(funcs):\n",
    "    #name = \"/\"+strftime(\"%Y-%m-%d_%H:%M\", gmtime())\n",
    "    path = \"/home/bastien/Documents/labs/data/results/\"+dataset+\"/\"+func[8:]\n",
    "    files = np.sort([f for f in os.listdir(path) if isfile(join(path, f))])[-n_load:]\n",
    "    for k,f in enumerate(files):\n",
    "        err, detec = pickle.load(open(path+\"/\"+f, 'rb'))\n",
    "        error_list[k][i] = err\n",
    "        detections[k][i] = detec"
   ]
  },
  {
   "cell_type": "code",
   "execution_count": null,
   "id": "c22a83ef",
   "metadata": {},
   "outputs": [],
   "source": [
    "dataset = \"elec\"\n",
    "nrows = 60000\n",
    "D_G = Drift_generators()\n",
    "D_G.load_df(dataset, nrows = nrows)"
   ]
  },
  {
   "cell_type": "markdown",
   "id": "f6083686",
   "metadata": {},
   "source": [
    "## Display results"
   ]
  },
  {
   "cell_type": "code",
   "execution_count": null,
   "id": "b96e6edb",
   "metadata": {
    "scrolled": false
   },
   "outputs": [],
   "source": [
    "fig, ax = plt.subplots(nrows = len(funcs), ncols = 1, figsize = [20,4*len(funcs)])\n",
    "w_size = 500\n",
    "n_seen = D_G.n_train+D_G.n_test\n",
    "\n",
    "##colors = ['#%06X' % np.random.randint(0, 0xFFFFFF) for x in range(len(funcs))]#'r', 'g', 'b', 'y', 'purple',\"cyan\",\"lime\"]\n",
    "#dict_colors = dict(zip(funcs,colors))\n",
    "\n",
    "for k in range(n_load):\n",
    "    for i, (err, label) in enumerate(zip(error_list[k], funcs)):\n",
    "        #print(i,len(err), label)\n",
    "        error_mean = [np.mean(err[max(0,i-w_size):i]) for i in range(1,len(err))]\n",
    "        ax[i].plot(np.arange(n_seen, n_seen+len(error_mean)), error_mean)\n",
    "        ymin, ymax = 0.6, 1#max(error_mean[int(len(error_mean)*0.1):]),min(error_mean[int(len(error_mean)*0.1):])\n",
    "        ax[i].set_ylim(ymin, ymax)\n",
    "        for d in detections[k][i]:\n",
    "            ax[i].vlines(ymin=ymin, ymax=ymax, x = d + n_seen, color = 'orange', alpha = 0.5)\n",
    "        ax[i].set_title(label[8:]+\"\\nerror: %.2f - %d detections\"%(np.mean(err),\n",
    "                        len(detections[k][i])), fontsize = 20)\n",
    "    \n",
    "plt.legend()\n",
    "plt.show()"
   ]
  },
  {
   "cell_type": "code",
   "execution_count": null,
   "id": "de0b2b41",
   "metadata": {},
   "outputs": [],
   "source": [
    "fig, ax = plt.subplots(nrows=1, ncols = 1, figsize = [18,5])\n",
    "w_size = 500\n",
    "results = []\n",
    "for i, (err, label) in enumerate(zip(error_list[k], funcs)):\n",
    "    errors_i = [error_list[k][i] for k in range(n_iter) if len(error_list[k][i])>0]\n",
    "    mean_err = np.mean(errors_i ,axis = 0)\n",
    "    mean_detec=np.mean([len(detections[k][i]) for k in range(n_iter) if len(error_list[k][i])>0])\n",
    "    error_mean = [np.mean(mean_err[max(0,i-w_size):i]) for i in range(1,len(mean_err))]\n",
    "    ax.plot(np.arange(len(error_mean)),error_mean, label = \"%.3f \"%np.mean(mean_err)+label[8:])\n",
    "    results.append((np.mean(mean_err),label))\\\n",
    "\n",
    "results = [(np.mean(x[0]),x[1]) for x in results]\n",
    "results = sorted(results)[::-1]\n",
    "\n",
    "ax.set_ylim(0.61,0.99)\n",
    "ax.legend()\n",
    "plt.show()"
   ]
  },
  {
   "cell_type": "markdown",
   "id": "df4a8813",
   "metadata": {},
   "source": [
    "### Top perf results"
   ]
  },
  {
   "cell_type": "code",
   "execution_count": null,
   "id": "7d0f460f",
   "metadata": {},
   "outputs": [],
   "source": [
    "results = [(np.mean(x[0]),x[1]) for x in results]\n",
    "results = sorted(results)[::-1]\n",
    "for (mean_err,label) in   results:  \n",
    "    print(\"   %.3f  \"%(np.mean(mean_err)),label[8:])"
   ]
  },
  {
   "cell_type": "code",
   "execution_count": null,
   "id": "2cadc2e6",
   "metadata": {},
   "outputs": [],
   "source": [
    "fig, ax = plt.subplots(nrows=1, ncols = 1, figsize = [18,10])\n",
    "w_size = 2000\n",
    "for i, (err, label) in enumerate(zip(error_list[k], funcs)):\n",
    "    if(label in [x[1] for x in results][:4]):\n",
    "        errors_i = [error_list[k][i] for k in range(n_iter)]\n",
    "        mean_err = np.mean([x for x in errors_i if len(x)>0],axis = 0)\n",
    "        error_mean = [np.mean(mean_err[max(0,i-w_size):i]) for i in range(1,len(mean_err))]\n",
    "        ax.plot(np.arange(len(error_mean)),error_mean, label = \"%.3f \"%np.mean(mean_err)+label[8:])\n",
    "        \n",
    "ax.set_ylim(0.61,0.99)\n",
    "ax.legend()\n",
    "plt.show()"
   ]
  },
  {
   "cell_type": "markdown",
   "id": "e65613f2",
   "metadata": {},
   "source": [
    "### compare shap\n",
    "What it tends to show is that all alternatives of detector shap are equivalent"
   ]
  },
  {
   "cell_type": "code",
   "execution_count": null,
   "id": "51b4a253",
   "metadata": {},
   "outputs": [],
   "source": [
    "fig, ax = plt.subplots(nrows=1, ncols = 1, figsize = [18,10])\n",
    "w_size = 2000\n",
    "for i, (err, label) in enumerate(zip(error_list[k], funcs)):\n",
    "    if(\"shap\" in label):\n",
    "        errors_i = [error_list[k][i] for k in range(n_iter)]\n",
    "        mean_err = np.mean([x for x in errors_i if len(x)>0],axis = 0)\n",
    "        error_mean = [np.mean(mean_err[max(0,i-w_size):i]) for i in range(1,len(mean_err))]\n",
    "        ax.plot(np.arange(len(error_mean)),error_mean, label = \"%.3f \"%np.mean(mean_err)+label[8:])\n",
    "        \n",
    "ax.set_ylim(0.61,0.99)\n",
    "ax.legend()\n",
    "plt.show()"
   ]
  },
  {
   "cell_type": "code",
   "execution_count": null,
   "id": "03c67628",
   "metadata": {},
   "outputs": [],
   "source": [
    "fig, ax = plt.subplots(nrows=1, ncols = 1, figsize = [18,10])\n",
    "w_size = 2000\n",
    "for i, (err, label) in enumerate(zip(error_list[k], funcs)):\n",
    "    if(\"shap\" in label and not \"basic\" in label):\n",
    "        errors_i = [error_list[k][i] for k in range(n_iter)]\n",
    "        mean_err = np.mean([x for x in errors_i if len(x)>0],axis = 0)\n",
    "        error_mean = [np.mean(mean_err[max(0,i-w_size):i]) for i in range(1,len(mean_err))]\n",
    "        ax.plot(np.arange(len(error_mean)),error_mean, label = \"%.3f \"%np.mean(mean_err)+label[8:])\n",
    "        \n",
    "ax.set_ylim(0.61,0.90)\n",
    "ax.legend()\n",
    "plt.show()"
   ]
  },
  {
   "cell_type": "code",
   "execution_count": null,
   "id": "e88d9442",
   "metadata": {},
   "outputs": [],
   "source": [
    "fig, ax = plt.subplots(nrows=1, ncols = 1, figsize = [18,10])\n",
    "w_size = 7000\n",
    "for i, (err, label) in enumerate(zip(error_list[k], funcs)):\n",
    "    if(\"shap\" in label and \"adwin\" in label and \"experimental\" not in label):\n",
    "        errors_i = [error_list[k][i] for k in range(n_iter)]\n",
    "        mean_err = np.mean([x for x in errors_i if len(x)>0],axis = 0)\n",
    "        error_mean = [np.mean(mean_err[max(0,i-w_size):i]) for i in range(1,len(mean_err))]\n",
    "        ax.plot(np.arange(len(error_mean)),error_mean, label = \"%.3f \"%np.mean(mean_err)+label[8:])\n",
    "        \n",
    "ax.set_ylim(0.61,0.90)\n",
    "ax.legend(fontsize = 20)\n",
    "plt.show()"
   ]
  },
  {
   "cell_type": "markdown",
   "id": "81fd62c0",
   "metadata": {},
   "source": [
    "## A single retrain algo results\n"
   ]
  },
  {
   "cell_type": "code",
   "execution_count": null,
   "id": "b1dbe6aa",
   "metadata": {},
   "outputs": [],
   "source": [
    "from drift_generators import *\n",
    "from time import gmtime, strftime\n",
    "import os\n",
    "import pickle\n",
    "from os import listdir\n",
    "from os.path import isfile, join"
   ]
  },
  {
   "cell_type": "code",
   "execution_count": null,
   "id": "01624850",
   "metadata": {},
   "outputs": [],
   "source": [
    "funcs = [func for func in dir(Drift_generators) if callable(getattr(Drift_generators, func))\n",
    "         and not func.startswith(\"__\")\n",
    "         and \"retrain\" in func and not \"plot\" in func and not \"perf\" in func]\n",
    "#funcs"
   ]
  },
  {
   "cell_type": "code",
   "execution_count": null,
   "id": "804a8222",
   "metadata": {},
   "outputs": [],
   "source": [
    "funcs = [\"retrain_basic_shap\"]"
   ]
  },
  {
   "cell_type": "code",
   "execution_count": null,
   "id": "b70ebd06",
   "metadata": {},
   "outputs": [],
   "source": [
    "# load\n",
    "dataset = \"elec\"\n",
    "n_load = 2\n",
    "n_iter = n_load\n",
    "error_list = [[[] for i in range(len(funcs))] for k in range(n_load)]\n",
    "detections = [[[] for i in range(len(funcs))] for k in range(n_load)]\n",
    "\n",
    "for i,func in enumerate(funcs):\n",
    "    #name = \"/\"+strftime(\"%Y-%m-%d_%H:%M\", gmtime())\n",
    "    path = \"/home/bastien/Documents/labs/data/results/\"+dataset+\"/\"+func[8:]\n",
    "    files = np.sort([f for f in os.listdir(path) if isfile(join(path, f))])[-n_load:]\n",
    "    for k,f in enumerate(files):\n",
    "        err, detec = pickle.load(open(path+\"/\"+f, 'rb'))\n",
    "        error_list[k][i] = err\n",
    "        detections[k][i] = detec"
   ]
  },
  {
   "cell_type": "code",
   "execution_count": null,
   "id": "23da410a",
   "metadata": {},
   "outputs": [],
   "source": [
    "np.shape(error_list)"
   ]
  },
  {
   "cell_type": "code",
   "execution_count": null,
   "id": "4b84177e",
   "metadata": {},
   "outputs": [],
   "source": [
    "fig, ax = plt.subplots(nrows = n_load, ncols =1, figsize =[20,8*n_load])\n",
    "w_size = 200\n",
    "for i in range(n_load):\n",
    "    err = error_list[i][0]\n",
    "    error_mean = [np.mean(err[max(0,i-w_size):i]) for i in range(1,len(err))]\n",
    "    ax[i].plot(np.arange(n_seen, n_seen+len(error_mean)), error_mean)\n",
    "    ymin, ymax = min(error_mean[int(len(error_mean)*0.1):]), max(error_mean[int(len(error_mean)*0.1):])\n",
    "    ax[i].set_ylim(ymin, ymax)\n",
    "    for d in detections[i][0]:\n",
    "        ax[i].vlines(ymin=ymin, ymax=ymax, x = d + n_seen, color = 'orange', label = \"detection\", alpha=0.5)\n",
    "    ax[i].set_title(\"error: %.2f - %d detections\"%(np.mean(err), len(detections[i][0])))\n",
    "plt.suptitle(funcs[0])\n",
    "plt.show()"
   ]
  },
  {
   "cell_type": "code",
   "execution_count": null,
   "id": "2d1427d6",
   "metadata": {},
   "outputs": [],
   "source": []
  },
  {
   "cell_type": "markdown",
   "id": "a7b5bfab",
   "metadata": {},
   "source": [
    "# OTHER TEST"
   ]
  },
  {
   "cell_type": "code",
   "execution_count": null,
   "id": "8add6f44",
   "metadata": {},
   "outputs": [],
   "source": [
    "v"
   ]
  },
  {
   "cell_type": "code",
   "execution_count": null,
   "id": "b945f4b4",
   "metadata": {},
   "outputs": [],
   "source": [
    "from drift_generators import *\n",
    "from time import gmtime, strftime, time\n",
    "import os\n",
    "import pickle\n",
    "import datetime"
   ]
  },
  {
   "cell_type": "code",
   "execution_count": null,
   "id": "6b8fb771",
   "metadata": {},
   "outputs": [],
   "source": [
    "funcs = [func for func in dir(Drift_generators) if callable(getattr(Drift_generators, func))\n",
    "         and not func.startswith(\"__\")\n",
    "         and \"retrain\" in func and not \"plot\" in func and not \"perf\" in func]\n",
    "#funcs"
   ]
  },
  {
   "cell_type": "code",
   "execution_count": null,
   "id": "00b31632",
   "metadata": {},
   "outputs": [],
   "source": [
    "funcs = ['retrain_arf', 'retrain_shap_KSWIN', 'retrain_shap_PH', 'retrain_adwin_loss',\n",
    " 'retrain_shap_adwin_stack', 'retrain_shap_adwin']\n",
    "funcs = [\"retrain_nothing\",'retrain_adwin_loss', \n",
    " 'retrain_shap_adwin_stack', 'retrain_shap_adwin']"
   ]
  },
  {
   "cell_type": "code",
   "execution_count": null,
   "id": "cca50849",
   "metadata": {
    "scrolled": true
   },
   "outputs": [],
   "source": [
    "n_iter = 1\n",
    "dataset = \"poker_df\"\n",
    "nrows = 4000\n",
    "\n",
    "error_list = [[] for x in range(n_iter)]\n",
    "detections = [[] for x in range(n_iter)]\n",
    "\n",
    "D_G = Drift_generators()\n",
    "for k in range(n_iter):\n",
    "    print(\"  \",k)\n",
    "    for i, func in enumerate(funcs):\n",
    "        t1 = time()\n",
    "        print(\"    \",func[8:])\n",
    "        D_G = Drift_generators()\n",
    "        D_G.load_df(dataset, nrows= nrows)\n",
    "        error, detection_indices = getattr(Drift_generators, func)(D_G)\n",
    "        error_list[k].append(error)\n",
    "        detections[k].append(detection_indices)\n",
    "        print(\"      \",str(datetime.timedelta(seconds=int(time()-t1))))"
   ]
  },
  {
   "cell_type": "code",
   "execution_count": null,
   "id": "f2938168",
   "metadata": {},
   "outputs": [],
   "source": [
    "#save results\n",
    "for k in range(n_iter):\n",
    "    for i, (err, func) in enumerate(zip(error_list[k], funcs)):\n",
    "        name = \"/\"+strftime(\"%Y-%m-%d_%H:%M\", gmtime())\n",
    "        path = \"/home/bastien/Documents/labs/data/results/\"+dataset+\"/\"+func[8:]\n",
    "        if(not os.path.isdir(path)):\n",
    "            os.mkdir(\"/home/bastien/Documents/labs/data/results/\"+dataset+\"/\"+func[8:]);\n",
    "        pickle.dump( (err, detections[k][i]), open( path+name+\".p\", \"wb\" ))"
   ]
  },
  {
   "cell_type": "code",
   "execution_count": null,
   "id": "08f60942",
   "metadata": {},
   "outputs": [],
   "source": [
    "fig, ax = plt.subplots(nrows = len(funcs)+1, ncols = 1, figsize = [20,4*len(funcs)])\n",
    "w_size = 500\n",
    "n_seen = D_G.n_train+D_G.n_test\n",
    "\n",
    "colors = ['r', 'g', 'b', 'y', 'purple','palegoldenrod',\"cyan\",\"palegreen\"]\n",
    "dict_colors = dict(zip(funcs,colors))\n",
    "n_iter = 1\n",
    "\n",
    "for k in range(n_iter):\n",
    "    for i, (err, label) in enumerate(zip(error_list[k], funcs)):\n",
    "        #print(i,len(err), label)\n",
    "        error_mean = [np.mean(err[max(0,i-w_size):i]) for i in range(1,len(err))]\n",
    "        ax[i].plot(np.arange(n_seen, n_seen+len(error_mean)), error_mean)\n",
    "        ymax, ymin = max(error_mean[int(len(error_mean)*0.1):]),min(error_mean[int(len(error_mean)*0.1):])\n",
    "        ax[i].set_ylim(ymin, ymax)\n",
    "        for d in detections[k][i]:\n",
    "            ax[i].vlines(ymin=ymin, ymax=ymax, x = d + n_seen, color = 'orange', label = \"detection\")\n",
    "        for d in D_G.drift_points:\n",
    "            ax[i].vlines(ymin=ymin, ymax = ymax, x = d, color = 'crimson', label = 'drift')\n",
    "        color = dict_colors[label]\n",
    "        ax[len(funcs)].plot(np.arange(n_seen, n_seen+len(error_mean)),\n",
    "                            error_mean, label = label, color= color)\n",
    "\n",
    "\n",
    "for i,x in enumerate(funcs):\n",
    "    ax[i].set_title(x[8:])\n",
    "    \n",
    "\n",
    "handles, labels = plt.gca().get_legend_handles_labels()\n",
    "by_label = dict(zip(labels, handles))\n",
    "plt.legend(by_label.values(), by_label.keys())\n",
    "    \n",
    "\n",
    "handles, labels = ax[len(funcs)].get_legend_handles_labels()\n",
    "by_label = dict(zip(labels, handles))\n",
    "ax[len(funcs)].legend(by_label.values(), by_label.keys())\n",
    "\n",
    "ax[len(funcs)].set_ylim(0.5,0.95)\n",
    "#plt.legend()\n",
    "plt.show()"
   ]
  }
 ],
 "metadata": {
  "hide_input": false,
  "kernelspec": {
   "display_name": "Python 3 (ipykernel)",
   "language": "python",
   "name": "python3"
  },
  "language_info": {
   "codemirror_mode": {
    "name": "ipython",
    "version": 3
   },
   "file_extension": ".py",
   "mimetype": "text/x-python",
   "name": "python",
   "nbconvert_exporter": "python",
   "pygments_lexer": "ipython3",
   "version": "3.8.10"
  },
  "toc": {
   "base_numbering": 1,
   "nav_menu": {},
   "number_sections": true,
   "sideBar": true,
   "skip_h1_title": false,
   "title_cell": "Table of Contents",
   "title_sidebar": "Contents",
   "toc_cell": true,
   "toc_position": {
    "height": "calc(100% - 180px)",
    "left": "10px",
    "top": "150px",
    "width": "235px"
   },
   "toc_section_display": true,
   "toc_window_display": true
  }
 },
 "nbformat": 4,
 "nbformat_minor": 5
}
