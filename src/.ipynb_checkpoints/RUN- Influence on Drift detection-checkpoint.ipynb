{
 "cells": [
  {
   "cell_type": "markdown",
   "id": "endangered-patrol",
   "metadata": {
    "toc": true
   },
   "source": [
    "<h1>Table of Contents<span class=\"tocSkip\"></span></h1>\n",
    "<div class=\"toc\"><ul class=\"toc-item\"><li><span><a href=\"#Run-experiments\" data-toc-modified-id=\"Run-experiments-1\"><span class=\"toc-item-num\">1&nbsp;&nbsp;</span>Run experiments</a></span></li><li><span><a href=\"#HERE-ITS-CLEAN\" data-toc-modified-id=\"HERE-ITS-CLEAN-2\"><span class=\"toc-item-num\">2&nbsp;&nbsp;</span>HERE ITS CLEAN</a></span></li><li><span><a href=\"#Run-with-noise\" data-toc-modified-id=\"Run-with-noise-3\"><span class=\"toc-item-num\">3&nbsp;&nbsp;</span>Run with noise</a></span></li><li><span><a href=\"#Single-Drifts\" data-toc-modified-id=\"Single-Drifts-4\"><span class=\"toc-item-num\">4&nbsp;&nbsp;</span>Single Drifts</a></span><ul class=\"toc-item\"><li><span><a href=\"#COVAR-abrupt-stabilized\" data-toc-modified-id=\"COVAR-abrupt-stabilized-4.1\"><span class=\"toc-item-num\">4.1&nbsp;&nbsp;</span>COVAR abrupt stabilized</a></span></li><li><span><a href=\"#Concept-abrupt-stabilized\" data-toc-modified-id=\"Concept-abrupt-stabilized-4.2\"><span class=\"toc-item-num\">4.2&nbsp;&nbsp;</span>Concept abrupt stabilized</a></span></li><li><span><a href=\"#Concept-smooth-XYZ-stabilized\" data-toc-modified-id=\"Concept-smooth-XYZ-stabilized-4.3\"><span class=\"toc-item-num\">4.3&nbsp;&nbsp;</span>Concept smooth XYZ stabilized</a></span></li><li><span><a href=\"#Covar-xyz-abrupt-stabilized\" data-toc-modified-id=\"Covar-xyz-abrupt-stabilized-4.4\"><span class=\"toc-item-num\">4.4&nbsp;&nbsp;</span>Covar xyz abrupt stabilized</a></span></li><li><span><a href=\"#Concept-X-abrupt-stabilized\" data-toc-modified-id=\"Concept-X-abrupt-stabilized-4.5\"><span class=\"toc-item-num\">4.5&nbsp;&nbsp;</span>Concept X abrupt stabilized</a></span></li><li><span><a href=\"#Concept-X-smooth-stabilized\" data-toc-modified-id=\"Concept-X-smooth-stabilized-4.6\"><span class=\"toc-item-num\">4.6&nbsp;&nbsp;</span>Concept X smooth stabilized</a></span></li><li><span><a href=\"#LOADED-DATA---STAGGER\" data-toc-modified-id=\"LOADED-DATA---STAGGER-4.7\"><span class=\"toc-item-num\">4.7&nbsp;&nbsp;</span>LOADED DATA - STAGGER</a></span></li></ul></li><li><span><a href=\"#SAME-but-with-NOISE\" data-toc-modified-id=\"SAME-but-with-NOISE-5\"><span class=\"toc-item-num\">5&nbsp;&nbsp;</span>SAME but with NOISE</a></span><ul class=\"toc-item\"><li><span><a href=\"#Concept-abrupt-stabilized\" data-toc-modified-id=\"Concept-abrupt-stabilized-5.1\"><span class=\"toc-item-num\">5.1&nbsp;&nbsp;</span>Concept abrupt stabilized</a></span></li><li><span><a href=\"#Concept-smooth-XYZ-stabilized\" data-toc-modified-id=\"Concept-smooth-XYZ-stabilized-5.2\"><span class=\"toc-item-num\">5.2&nbsp;&nbsp;</span>Concept smooth XYZ stabilized</a></span></li><li><span><a href=\"#Covar-xyz-abrupt-stabilized\" data-toc-modified-id=\"Covar-xyz-abrupt-stabilized-5.3\"><span class=\"toc-item-num\">5.3&nbsp;&nbsp;</span>Covar xyz abrupt stabilized</a></span></li><li><span><a href=\"#Concept-X-abrupt-stabilized\" data-toc-modified-id=\"Concept-X-abrupt-stabilized-5.4\"><span class=\"toc-item-num\">5.4&nbsp;&nbsp;</span>Concept X abrupt stabilized</a></span></li><li><span><a href=\"#Concept-X-smooth-stabilized\" data-toc-modified-id=\"Concept-X-smooth-stabilized-5.5\"><span class=\"toc-item-num\">5.5&nbsp;&nbsp;</span>Concept X smooth stabilized</a></span></li></ul></li><li><span><a href=\"#END-NOISE---END-SINGLE-DRIFT\" data-toc-modified-id=\"END-NOISE---END-SINGLE-DRIFT-6\"><span class=\"toc-item-num\">6&nbsp;&nbsp;</span>END NOISE - END SINGLE DRIFT</a></span><ul class=\"toc-item\"><li><span><a href=\"#Concept-abrupt-back-and-forth\" data-toc-modified-id=\"Concept-abrupt-back-and-forth-6.1\"><span class=\"toc-item-num\">6.1&nbsp;&nbsp;</span>Concept abrupt back and forth</a></span></li><li><span><a href=\"#Covar-abrupt-back-and-forth\" data-toc-modified-id=\"Covar-abrupt-back-and-forth-6.2\"><span class=\"toc-item-num\">6.2&nbsp;&nbsp;</span>Covar abrupt back and forth</a></span></li><li><span><a href=\"#Concept-smooth-back-and-forth\" data-toc-modified-id=\"Concept-smooth-back-and-forth-6.3\"><span class=\"toc-item-num\">6.3&nbsp;&nbsp;</span>Concept smooth back and forth</a></span></li></ul></li><li><span><a href=\"#CHANGING-DELTA\" data-toc-modified-id=\"CHANGING-DELTA-7\"><span class=\"toc-item-num\">7&nbsp;&nbsp;</span>CHANGING DELTA</a></span><ul class=\"toc-item\"><li><ul class=\"toc-item\"><li><span><a href=\"#HERE\" data-toc-modified-id=\"HERE-7.0.1\"><span class=\"toc-item-num\">7.0.1&nbsp;&nbsp;</span>HERE</a></span></li></ul></li></ul></li><li><span><a href=\"#Old-code-just-in-case\" data-toc-modified-id=\"Old-code-just-in-case-8\"><span class=\"toc-item-num\">8&nbsp;&nbsp;</span>Old code just in case</a></span></li></ul></div>"
   ]
  },
  {
   "cell_type": "markdown",
   "id": "moral-plymouth",
   "metadata": {},
   "source": [
    "# Run experiments"
   ]
  },
  {
   "cell_type": "code",
   "execution_count": 1,
   "id": "automated-closer",
   "metadata": {},
   "outputs": [
    {
     "name": "stderr",
     "output_type": "stream",
     "text": [
      "2021-10-19 15:34:19.014771: W tensorflow/stream_executor/platform/default/dso_loader.cc:64] Could not load dynamic library 'libcudart.so.11.0'; dlerror: libcudart.so.11.0: cannot open shared object file: No such file or directory\n",
      "2021-10-19 15:34:19.014791: I tensorflow/stream_executor/cuda/cudart_stub.cc:29] Ignore above cudart dlerror if you do not have a GPU set up on your machine.\n"
     ]
    }
   ],
   "source": [
    "from drift_generators import *\n",
    "from time import gmtime, strftime, time\n",
    "import os\n",
    "import pickle\n",
    "import datetime\n",
    "import time"
   ]
  },
  {
   "cell_type": "code",
   "execution_count": 3,
   "id": "3021c6db",
   "metadata": {},
   "outputs": [],
   "source": [
    "\n",
    "#circle_centers = [[0.7 for i in range(self.n_features)], self.default_decision, self.default_decision]\n",
    "D_G = Drift_generators(n_samples = 12000, n_features = 3)\n",
    "D_G.new_smooth_concept_drift(n_drift=1, drift_points=[5000,9000], \n",
    "        circle_centers=[[0.5 for i in range(D_G.n_features)],[0.7 for i in range(D_G.n_features)]])# = None, circle_centers = None):"
   ]
  },
  {
   "cell_type": "code",
   "execution_count": 4,
   "id": "piano-coordination",
   "metadata": {},
   "outputs": [],
   "source": [
    "D_G.df.loc[5000:, 'class'] =\\\n",
    "        D_G.df.loc[5000:].drop(columns=['class']).apply(lambda data: D_G.is_in_hypersphere(data.values, [0.625, 0.5, 0.5]), axis=1)\n"
   ]
  },
  {
   "cell_type": "code",
   "execution_count": 5,
   "id": "existing-agent",
   "metadata": {},
   "outputs": [
    {
     "name": "stdout",
     "output_type": "stream",
     "text": [
      "[[0.5, 0.5, 0.5], [0.7, 0.7, 0.7]]\n"
     ]
    },
    {
     "data": {
      "text/plain": [
       "([5000, 9000], 1200)"
      ]
     },
     "execution_count": 5,
     "metadata": {},
     "output_type": "execute_result"
    }
   ],
   "source": [
    "print(D_G.circle_centers)\n",
    "D_G.drift_points, D_G.n_train+D_G.n_test"
   ]
  },
  {
   "cell_type": "code",
   "execution_count": null,
   "id": "psychological-surveillance",
   "metadata": {},
   "outputs": [],
   "source": []
  },
  {
   "cell_type": "code",
   "execution_count": 6,
   "id": "floating-learning",
   "metadata": {},
   "outputs": [],
   "source": [
    "D_G = Drift_generators(n_samples = 12000, n_features = 3)"
   ]
  },
  {
   "cell_type": "code",
   "execution_count": 7,
   "id": "useful-stage",
   "metadata": {},
   "outputs": [],
   "source": [
    "D_G.retrain_nothing();"
   ]
  },
  {
   "cell_type": "code",
   "execution_count": 8,
   "id": "upset-writing",
   "metadata": {},
   "outputs": [
    {
     "name": "stderr",
     "output_type": "stream",
     "text": [
      "Attempting to set identical bottom == top == 1.0 results in singular transformations; automatically expanding.\n"
     ]
    },
    {
     "data": {
      "image/png": "[encoded data removed]",
      "text/plain": [
       "<Figure size 720x576 with 1 Axes>"
      ]
     },
     "metadata": {
      "needs_background": "light"
     },
     "output_type": "display_data"
    }
   ],
   "source": [
    "D_G.plot_retrain()"
   ]
  },
  {
   "cell_type": "code",
   "execution_count": null,
   "id": "challenging-canadian",
   "metadata": {},
   "outputs": [],
   "source": []
  },
  {
   "cell_type": "code",
   "execution_count": null,
   "id": "boxed-class",
   "metadata": {},
   "outputs": [],
   "source": []
  },
  {
   "cell_type": "code",
   "execution_count": 9,
   "id": "mathematical-output",
   "metadata": {},
   "outputs": [],
   "source": [
    "from drift_generators import *\n",
    "from time import gmtime, strftime, time\n",
    "import os\n",
    "import pickle\n",
    "import datetime\n",
    "import time"
   ]
  },
  {
   "cell_type": "code",
   "execution_count": 10,
   "id": "usual-identifier",
   "metadata": {},
   "outputs": [],
   "source": [
    "D_G = Drift_generators(n_samples = int(4500), n_features = 3)\n",
    "D_G.back_and_forth_abrupt_drift(drift_points = [1800,3000],\n",
    "    circle_centers = [[0.7, 0.7, 0.7], [0.3, 0.7, 0.7], [0.7, 0.7, 0.7]])#(circle_centers = [[0.7, 0.7, 0.7], [0.3, 0.7, 0.7], [0.7, 0.7, 0.7]])"
   ]
  },
  {
   "cell_type": "code",
   "execution_count": 11,
   "id": "mechanical-fleet",
   "metadata": {},
   "outputs": [
    {
     "data": {
      "text/plain": [
       "[1800, 3000]"
      ]
     },
     "execution_count": 11,
     "metadata": {},
     "output_type": "execute_result"
    }
   ],
   "source": [
    "D_G.drift_points"
   ]
  },
  {
   "cell_type": "code",
   "execution_count": 12,
   "id": "western-collins",
   "metadata": {},
   "outputs": [
    {
     "data": {
      "text/plain": [
       "[0.7, 0.7, 0.7]"
      ]
     },
     "execution_count": 12,
     "metadata": {},
     "output_type": "execute_result"
    }
   ],
   "source": [
    "D_G.default_decision"
   ]
  },
  {
   "cell_type": "code",
   "execution_count": 13,
   "id": "imperial-struggle",
   "metadata": {},
   "outputs": [
    {
     "data": {
      "text/plain": [
       "[[0.7, 0.7, 0.7], [0.3, 0.7, 0.7], [0.7, 0.7, 0.7]]"
      ]
     },
     "execution_count": 13,
     "metadata": {},
     "output_type": "execute_result"
    }
   ],
   "source": [
    "D_G.circle_centers"
   ]
  },
  {
   "cell_type": "code",
   "execution_count": 14,
   "id": "wound-calendar",
   "metadata": {},
   "outputs": [
    {
     "data": {
      "image/png": "[encoded data removed]",
      "text/plain": [
       "<Figure size 720x576 with 1 Axes>"
      ]
     },
     "metadata": {
      "needs_background": "light"
     },
     "output_type": "display_data"
    }
   ],
   "source": [
    "D_G.retrain_nothing()\n",
    "D_G.plot_retrain()"
   ]
  },
  {
   "cell_type": "code",
   "execution_count": null,
   "id": "outstanding-device",
   "metadata": {},
   "outputs": [],
   "source": []
  },
  {
   "cell_type": "code",
   "execution_count": null,
   "id": "medical-mixer",
   "metadata": {},
   "outputs": [],
   "source": []
  },
  {
   "cell_type": "markdown",
   "id": "attractive-ranch",
   "metadata": {},
   "source": [
    "# HERE ITS CLEAN"
   ]
  },
  {
   "cell_type": "code",
   "execution_count": 15,
   "id": "dangerous-message",
   "metadata": {},
   "outputs": [],
   "source": [
    "from drift_generators import *\n",
    "from time import gmtime, strftime, time\n",
    "import os\n",
    "import pickle\n",
    "import datetime\n",
    "import time"
   ]
  },
  {
   "cell_type": "code",
   "execution_count": 16,
   "id": "prospective-testing",
   "metadata": {},
   "outputs": [],
   "source": [
    "funcs = [func for func in dir(Drift_generators) if callable(getattr(Drift_generators, func))\n",
    "         and not func.startswith(\"__\")\n",
    "         and \"retrain\" in func and not \"plot\" in func and not \"perf\" in func]"
   ]
  },
  {
   "cell_type": "code",
   "execution_count": 17,
   "id": "fourth-silicon",
   "metadata": {
    "scrolled": true
   },
   "outputs": [
    {
     "data": {
      "text/plain": [
       "['retrain_shap_adwin_back_best',\n",
       " 'retrain_shap_adwin_back_train',\n",
       " 'retrain_shap_adwin_back_worse',\n",
       " 'retrain_shap_adwin_smallback',\n",
       " 'retrain_shap_adwin',\n",
       " 'retrain_adwin_loss',\n",
       " 'retrain_nothing',\n",
       " 'retrain_arf']"
      ]
     },
     "execution_count": 17,
     "metadata": {},
     "output_type": "execute_result"
    }
   ],
   "source": [
    "funcs = [func for func in dir(Drift_generators) if callable(getattr(Drift_generators, func))\n",
    "         and not func.startswith(\"__\")\n",
    "         and \"retrain\" in func and not \"plot\" in func and not \"perf\" in func]\n",
    "funcs = [x for x in funcs if \"back\" in x]\n",
    "funcs.append(\"retrain_shap_adwin\")\n",
    "funcs.append(\"retrain_adwin_loss\")\n",
    "funcs.append(\"retrain_nothing\")\n",
    "funcs.append(\"retrain_arf\")\n",
    "funcs"
   ]
  },
  {
   "cell_type": "code",
   "execution_count": 18,
   "id": "civilian-spending",
   "metadata": {},
   "outputs": [],
   "source": [
    "funcs = ['retrain_shap_adwin',\n",
    "            'retrain_adwin_loss',\n",
    "            \"retrain_nothing\"]"
   ]
  },
  {
   "cell_type": "code",
   "execution_count": 20,
   "id": "alone-elder",
   "metadata": {
    "scrolled": true
   },
   "outputs": [
    {
     "name": "stdout",
     "output_type": "stream",
     "text": [
      "   0 2021-10-19_13:34\n",
      "     shap_adwin\n",
      "       0:00:14\n",
      "     adwin_loss\n",
      "       0:00:04\n",
      "     nothing\n",
      "       0:00:00\n"
     ]
    }
   ],
   "source": [
    "n_iter = 1\n",
    "dataset = \"back_and_forth_abrupt_drift\"\n",
    "\n",
    "session_time = strftime(\"%Y-%m-%d_%H:%M\", gmtime())\n",
    "\n",
    "D_G = Drift_generators()\n",
    "for k in range(n_iter):\n",
    "    session_time = strftime(\"%Y-%m-%d_%H:%M\", gmtime())\n",
    "\n",
    "    D_G = Drift_generators(n_samples = int(4500), n_features = 3)\n",
    "    D_G.back_and_forth_abrupt_drift(drift_points = [1800,3000],\n",
    "        circle_centers = [[0.7, 0.7, 0.7], [0.3, 0.3, 0.3], [0.7, 0.7, 0.7]])\n",
    "    \n",
    "    print(\"  \",k, session_time)\n",
    "    for i, func in enumerate(funcs):\n",
    "        t1 = time.time()\n",
    "        print(\"    \",func[8:])\n",
    "        error, detection_indices = getattr(Drift_generators, func)(D_G)\n",
    "        print(\"      \",str(datetime.timedelta(seconds=int(time.time()-t1))))\n",
    "        name = \"/\"+ session_time\n",
    "        path = \"/home/TOTO/Documents/labs/data/results/\"+dataset+\"/\"+func[8:]\n",
    "        if(not os.path.isdir(path)):\n",
    "            os.mkdir(\"/home/TOTO/Documents/labs/data/results/\"+dataset+\"/\"+func[8:]);\n",
    "        pickle.dump( (error, detection_indices), open( path+name+\".p\", \"wb\" ))\n",
    "        \n",
    "    while(strftime(\"%Y-%m-%d_%H:%M\", gmtime()) == session_time):\n",
    "        time.sleep(5)"
   ]
  },
  {
   "cell_type": "code",
   "execution_count": 21,
   "id": "described-bargain",
   "metadata": {
    "scrolled": true
   },
   "outputs": [
    {
     "name": "stdout",
     "output_type": "stream",
     "text": [
      "   0 2021-10-19_13:35\n",
      "     shap_adwin\n",
      "       0:00:27\n",
      "     adwin_loss\n",
      "       0:00:05\n",
      "     nothing\n",
      "       0:00:00\n"
     ]
    }
   ],
   "source": [
    "n_iter = 1\n",
    "dataset = \"brutal_concept_backforth\"\n",
    "\n",
    "session_time = strftime(\"%Y-%m-%d_%H:%M\", gmtime())\n",
    "\n",
    "D_G = Drift_generators()\n",
    "for k in range(n_iter):\n",
    "    session_time = strftime(\"%Y-%m-%d_%H:%M\", gmtime())\n",
    "\n",
    "    D_G = Drift_generators(n_samples = int(7000), n_features = 3)\n",
    "    D_G.back_and_forth_abrupt_drift()\n",
    "    \n",
    "    print(\"  \",k, session_time)\n",
    "    for i, func in enumerate(funcs):\n",
    "        t1 = time.time()\n",
    "        print(\"    \",func[8:])\n",
    "        error, detection_indices = getattr(Drift_generators, func)(D_G)\n",
    "        print(\"      \",str(datetime.timedelta(seconds=int(time.time()-t1))))\n",
    "        name = \"/\"+ session_time\n",
    "        path = \"/home/TOTO/Documents/labs/data/results/\"+dataset+\"/\"+func[8:]\n",
    "        if(not os.path.isdir(path)):\n",
    "            os.mkdir(\"/home/TOTO/Documents/labs/data/results/\"+dataset+\"/\"+func[8:]);\n",
    "        pickle.dump( (error, detection_indices), open( path+name+\".p\", \"wb\" ))\n",
    "        \n",
    "    while(strftime(\"%Y-%m-%d_%H:%M\", gmtime()) == session_time):\n",
    "        time.sleep(5)"
   ]
  },
  {
   "cell_type": "markdown",
   "id": "modified-material",
   "metadata": {},
   "source": [
    " "
   ]
  },
  {
   "cell_type": "code",
   "execution_count": 22,
   "id": "therapeutic-vatican",
   "metadata": {
    "scrolled": true
   },
   "outputs": [
    {
     "name": "stdout",
     "output_type": "stream",
     "text": [
      "   0 2021-10-19_13:36\n",
      "     shap_adwin\n",
      "       0:00:13\n",
      "     adwin_loss\n",
      "       0:00:04\n",
      "     nothing\n",
      "       0:00:00\n"
     ]
    }
   ],
   "source": [
    "n_iter = 1\n",
    "dataset = \"back_and_forth_abrupt_drift_y\"\n",
    "\n",
    "session_time = strftime(\"%Y-%m-%d_%H:%M\", gmtime())\n",
    "\n",
    "D_G = Drift_generators()\n",
    "for k in range(n_iter):\n",
    "    session_time = strftime(\"%Y-%m-%d_%H:%M\", gmtime())\n",
    "\n",
    "    D_G = Drift_generators(n_samples = int(4500), n_features = 3)\n",
    "    D_G.back_and_forth_abrupt_drift(drift_points = [1800,3000],\n",
    "        circle_centers = [[0.7, 0.7, 0.7], [0.7, 0.3, 0.7], [0.7, 0.7, 0.7]])\n",
    "\n",
    "    print(\"  \",k, session_time)\n",
    "    for i, func in enumerate(funcs):\n",
    "        t1 = time.time()\n",
    "        print(\"    \",func[8:])\n",
    "        error, detection_indices = getattr(Drift_generators, func)(D_G)\n",
    "        print(\"      \",str(datetime.timedelta(seconds=int(time.time()-t1))))\n",
    "        name = \"/\"+ session_time\n",
    "        path = \"/home/TOTO/Documents/labs/data/results/\"+dataset+\"/\"+func[8:]\n",
    "        if(not os.path.isdir(path)):\n",
    "            os.mkdir(\"/home/TOTO/Documents/labs/data/results/\"+dataset+\"/\"+func[8:]);\n",
    "        pickle.dump( (error, detection_indices), open( path+name+\".p\", \"wb\" ))\n",
    "        \n",
    "    while(strftime(\"%Y-%m-%d_%H:%M\", gmtime()) == session_time):\n",
    "        time.sleep(5)"
   ]
  },
  {
   "cell_type": "code",
   "execution_count": 23,
   "id": "novel-psychiatry",
   "metadata": {
    "scrolled": true
   },
   "outputs": [
    {
     "name": "stdout",
     "output_type": "stream",
     "text": [
      "   0 2021-10-19_13:37\n",
      "     shap_adwin\n",
      "       0:02:36\n",
      "     adwin_loss\n",
      "       0:01:56\n",
      "     nothing\n",
      "       0:00:00\n"
     ]
    }
   ],
   "source": [
    "n_iter = 1\n",
    "dataset = \"back_and_forth_abrupt_drift_z\"\n",
    "\n",
    "session_time = strftime(\"%Y-%m-%d_%H:%M\", gmtime())\n",
    "\n",
    "D_G = Drift_generators()\n",
    "for k in range(n_iter):\n",
    "    session_time = strftime(\"%Y-%m-%d_%H:%M\", gmtime())\n",
    "\n",
    "    D_G = Drift_generators(n_samples = int(4500), n_features = 3)\n",
    "    D_G.back_and_forth_abrupt_drift(drift_points = [1800,3000],\n",
    "        circle_centers = [[0.7, 0.7, 0.7], [0.7, 0.7, 0.3], [0.7, 0.7, 0.7]])\n",
    "\n",
    "    print(\"  \",k, session_time)\n",
    "    for i, func in enumerate(funcs):\n",
    "        t1 = time.time()\n",
    "        print(\"    \",func[8:])\n",
    "        error, detection_indices = getattr(Drift_generators, func)(D_G)\n",
    "        print(\"      \",str(datetime.timedelta(seconds=int(time.time()-t1))))\n",
    "        name = \"/\"+ session_time\n",
    "        path = \"/home/TOTO/Documents/labs/data/results/\"+dataset+\"/\"+func[8:]\n",
    "        if(not os.path.isdir(path)):\n",
    "            os.mkdir(\"/home/TOTO/Documents/labs/data/results/\"+dataset+\"/\"+func[8:]);\n",
    "        pickle.dump( (error, detection_indices), open( path+name+\".p\", \"wb\" ))\n",
    "        \n",
    "    while(strftime(\"%Y-%m-%d_%H:%M\", gmtime()) == session_time):\n",
    "        time.sleep(5)"
   ]
  },
  {
   "cell_type": "code",
   "execution_count": 24,
   "id": "marked-progress",
   "metadata": {
    "scrolled": true
   },
   "outputs": [
    {
     "name": "stdout",
     "output_type": "stream",
     "text": [
      "   0 2021-10-19_13:41\n",
      "     shap_adwin\n",
      "       0:02:00\n",
      "     adwin_loss\n",
      "       0:00:04\n",
      "     nothing\n",
      "       0:00:00\n"
     ]
    }
   ],
   "source": [
    "n_iter = 1\n",
    "dataset = \"back_and_forth_abrupt_drift_xz\"\n",
    "\n",
    "session_time = strftime(\"%Y-%m-%d_%H:%M\", gmtime())\n",
    "\n",
    "D_G = Drift_generators()\n",
    "for k in range(n_iter):\n",
    "    session_time = strftime(\"%Y-%m-%d_%H:%M\", gmtime())\n",
    "\n",
    "    D_G = Drift_generators(n_samples = int(4500), n_features = 3)\n",
    "    D_G.back_and_forth_abrupt_drift(drift_points = [1800,3000],\n",
    "        circle_centers = [[0.7, 0.7, 0.7], [0.3, 0.7, 0.3], [0.7, 0.7, 0.7]])\n",
    "\n",
    "    print(\"  \",k, session_time)\n",
    "    for i, func in enumerate(funcs):\n",
    "        t1 = time.time()\n",
    "        print(\"    \",func[8:])\n",
    "        error, detection_indices = getattr(Drift_generators, func)(D_G)\n",
    "        print(\"      \",str(datetime.timedelta(seconds=int(time.time()-t1))))\n",
    "        name = \"/\"+ session_time\n",
    "        path = \"/home/TOTO/Documents/labs/data/results/\"+dataset+\"/\"+func[8:]\n",
    "        if(not os.path.isdir(path)):\n",
    "            os.mkdir(\"/home/TOTO/Documents/labs/data/results/\"+dataset+\"/\"+func[8:]);\n",
    "        pickle.dump( (error, detection_indices), open( path+name+\".p\", \"wb\" ))\n",
    "        \n",
    "    while(strftime(\"%Y-%m-%d_%H:%M\", gmtime()) == session_time):\n",
    "        time.sleep(5)"
   ]
  },
  {
   "cell_type": "markdown",
   "id": "instant-large",
   "metadata": {},
   "source": []
  },
  {
   "cell_type": "code",
   "execution_count": null,
   "id": "express-cartoon",
   "metadata": {},
   "outputs": [],
   "source": []
  },
  {
   "cell_type": "code",
   "execution_count": 25,
   "id": "dental-blend",
   "metadata": {
    "scrolled": true
   },
   "outputs": [
    {
     "name": "stdout",
     "output_type": "stream",
     "text": [
      "   0 2021-10-19_13:43\n",
      "     shap_adwin\n",
      "       0:03:54\n",
      "     adwin_loss\n",
      "       0:01:16\n",
      "     nothing\n",
      "       0:00:00\n"
     ]
    }
   ],
   "source": [
    "n_iter = 1\n",
    "dataset = \"back_and_forth_smooth_drift\"\n",
    "\n",
    "session_time = strftime(\"%Y-%m-%d_%H:%M\", gmtime())\n",
    "\n",
    "D_G = Drift_generators()\n",
    "for k in range(n_iter):\n",
    "    session_time = strftime(\"%Y-%m-%d_%H:%M\", gmtime())\n",
    "\n",
    "    D_G = Drift_generators(n_samples = int(7000), n_features = 3)\n",
    "    D_G.back_and_forth_smooth_drift()\n",
    "   # \n",
    "    print(\"  \",k, session_time)\n",
    "    for i, func in enumerate(funcs):\n",
    "        t1 = time.time()\n",
    "        print(\"    \",func[8:])\n",
    "        error, detection_indices = getattr(Drift_generators, func)(D_G)\n",
    "        print(\"      \",str(datetime.timedelta(seconds=int(time.time()-t1))))\n",
    "        name = \"/\"+ session_time\n",
    "        path = \"/home/TOTO/Documents/labs/data/results/\"+dataset+\"/\"+func[8:]\n",
    "        if(not os.path.isdir(path)):\n",
    "            os.mkdir(\"/home/TOTO/Documents/labs/data/results/\"+dataset+\"/\"+func[8:]);\n",
    "        pickle.dump( (error, detection_indices), open( path+name+\".p\", \"wb\" ))\n",
    "        \n",
    "    while(strftime(\"%Y-%m-%d_%H:%M\", gmtime()) == session_time):\n",
    "        time.sleep(5)"
   ]
  },
  {
   "cell_type": "code",
   "execution_count": 26,
   "id": "reported-young",
   "metadata": {
    "scrolled": true
   },
   "outputs": [
    {
     "name": "stdout",
     "output_type": "stream",
     "text": [
      "   0 2021-10-19_13:48\n",
      "     shap_adwin\n",
      "       0:01:21\n",
      "     adwin_loss\n",
      "       0:00:09\n",
      "     nothing\n",
      "       0:00:00\n"
     ]
    }
   ],
   "source": [
    "n_iter = 1\n",
    "dataset = \"brutal_covar_backforth_0_25\"\n",
    "\n",
    "session_time = strftime(\"%Y-%m-%d_%H:%M\", gmtime())\n",
    "\n",
    "D_G = Drift_generators()\n",
    "for k in range(n_iter):\n",
    "    session_time = strftime(\"%Y-%m-%d_%H:%M\", gmtime())\n",
    "\n",
    "    D_G = Drift_generators(n_samples = int(10**4), n_features = 3)\n",
    "    d_centers = [(0, 0, 0.3, 0.25, 1),(0, 0.3, 0.5, 0, 0.25),(0, 0.5, 1, 0.25, 1)]\n",
    "    D_G.brutal_covariate_drift(d_centers=d_centers)\n",
    "   # \n",
    "    print(\"  \",k, session_time)\n",
    "    for i, func in enumerate(funcs):\n",
    "        t1 = time.time()\n",
    "        print(\"    \",func[8:])\n",
    "        error, detection_indices = getattr(Drift_generators, func)(D_G)\n",
    "        print(\"      \",str(datetime.timedelta(seconds=int(time.time()-t1))))\n",
    "        name = \"/\"+ session_time\n",
    "        path = \"/home/TOTO/Documents/labs/data/results/\"+dataset+\"/\"+func[8:]\n",
    "        if(not os.path.isdir(path)):\n",
    "            os.mkdir(\"/home/TOTO/Documents/labs/data/results/\"+dataset+\"/\"+func[8:]);\n",
    "        pickle.dump( (error, detection_indices), open( path+name+\".p\", \"wb\" ))\n",
    "        \n",
    "    while(strftime(\"%Y-%m-%d_%H:%M\", gmtime()) == session_time):\n",
    "        time.sleep(5)"
   ]
  },
  {
   "cell_type": "code",
   "execution_count": 27,
   "id": "statutory-driving",
   "metadata": {},
   "outputs": [],
   "source": [
    "def generate_dataset(dataset):\n",
    "    if(dataset == \"brutal_covar_backforth_0_25\"):\n",
    "        D_G = Drift_generators(n_samples = int(10**4), n_features = 3)\n",
    "        d_centers = [(0, 0, 0.3, 0.25, 1),(0, 0.3, 0.5, 0, 0.25),(0, 0.5, 1, 0.25, 1)]\n",
    "        D_G.brutal_covariate_drift(d_centers=d_centers)\n",
    "    elif(dataset == \"brutal_concept_backforth\"):\n",
    "        D_G = Drift_generators(n_samples = int(7000), n_features = 3)\n",
    "        D_G.back_and_forth_abrupt_drift()\n",
    "    elif(dataset in [\"sine1_short\",\"sine2_short\",\"stagger_short\"]):\n",
    "        D_G = Drift_generators()\n",
    "        D_G.load_df(dataset)\n",
    "    else: print(\"dataset not recognised\")\n",
    "    return(D_G)\n",
    "        \n",
    "        \n",
    "def run_tests(funcs, n_iter, datasets):\n",
    "    \n",
    "    \n",
    "    for k in range(n_iter):\n",
    "        session_time = strftime(\"%Y-%m-%d_%H:%M\", gmtime())\n",
    "        print(k, session_time)\n",
    "        for dataset in datasets:\n",
    "            D_G = generate_dataset(dataset)\n",
    "            print(\"  \", dataset)\n",
    "            for i, func in enumerate(funcs):\n",
    "                t1 = time.time()\n",
    "                print(\"    \",func[8:])\n",
    "                error, detection_indices = getattr(Drift_generators, func)(D_G)\n",
    "                print(\"      \",str(datetime.timedelta(seconds=int(time.time()-t1))))\n",
    "                name = \"/\"+ session_time\n",
    "                path = \"/home/TOTO/Documents/labs/data/results/\"+dataset+\"/\"+func[8:]\n",
    "                if(not os.path.isdir(path)):\n",
    "                    os.mkdir(\"/home/TOTO/Documents/labs/data/results/\"+dataset+\"/\"+func[8:]);\n",
    "                pickle.dump( (error, detection_indices), open( path+name+\".p\", \"wb\" ))\n",
    "\n",
    "        while(strftime(\"%Y-%m-%d_%H:%M\", gmtime()) == session_time):\n",
    "            time.sleep(5)"
   ]
  },
  {
   "cell_type": "code",
   "execution_count": null,
   "id": "colonial-apollo",
   "metadata": {},
   "outputs": [],
   "source": [
    "\n"
   ]
  },
  {
   "cell_type": "code",
   "execution_count": 28,
   "id": "automated-client",
   "metadata": {
    "scrolled": true
   },
   "outputs": [
    {
     "name": "stdout",
     "output_type": "stream",
     "text": [
      "0 2021-10-19_13:50\n",
      "   brutal_covar_backforth_0_25\n",
      "     nothing\n",
      "       0:00:00\n",
      "     shap_adwin\n",
      "       0:04:00\n",
      "   brutal_concept_backforth\n",
      "     nothing\n",
      "       0:00:00\n",
      "     shap_adwin\n",
      "       0:00:35\n",
      "   sine1_short\n",
      "     nothing\n",
      "       0:00:00\n",
      "     shap_adwin\n",
      "       0:00:09\n",
      "   sine2_short\n",
      "     nothing\n",
      "       0:00:00\n",
      "     shap_adwin\n",
      "       0:00:09\n",
      "   stagger_short\n",
      "     nothing\n",
      "       0:00:00\n",
      "     shap_adwin\n",
      "       0:00:13\n"
     ]
    }
   ],
   "source": [
    "funcs = [\"retrain_nothing\",\"retrain_shap_adwin\"]\n",
    "n_iter = 1\n",
    "datasets = [\"brutal_covar_backforth_0_25\",\"brutal_concept_backforth\",\"sine1_short\",\"sine2_short\",\"stagger_short\"]\n",
    "run_tests(funcs, n_iter, datasets)"
   ]
  },
  {
   "cell_type": "code",
   "execution_count": 29,
   "id": "dangerous-relative",
   "metadata": {},
   "outputs": [
    {
     "name": "stdout",
     "output_type": "stream",
     "text": [
      "0 2021-10-19_13:55\n",
      "   sine2_short\n",
      "     shap_adwin_back_best\n",
      "       0:00:09\n",
      "     shap_adwin_back_worse\n",
      "       0:00:07\n",
      "     shap_adwin_smallback\n",
      "       0:00:02\n",
      "     shap_adwin\n",
      "       0:00:07\n"
     ]
    }
   ],
   "source": [
    "funcs = [func for func in dir(Drift_generators) if callable(getattr(Drift_generators, func))\n",
    "         and not func.startswith(\"__\")\n",
    "         and \"retrain\" in func and not \"plot\" in func and not \"perf\" in func]\n",
    "funcs = [x for x in funcs if \"back\" in x]\n",
    "funcs.append(\"retrain_shap_adwin\")\n",
    "funcs.remove(\"retrain_shap_adwin_back_train\")\n",
    "\n",
    "n_iter = 1\n",
    "#datasets = [\"brutal_covar_backforth_0_25\",\"brutal_concept_backforth\",\"sine1_short\",\"sine2_short\",\"stagger_short\"]\n",
    "datasets = [\"sine2_short\"]\n",
    "run_tests(funcs, n_iter, datasets)"
   ]
  },
  {
   "cell_type": "code",
   "execution_count": 31,
   "id": "attempted-lodge",
   "metadata": {},
   "outputs": [],
   "source": [
    "funcs = [\"retrain_shap_adwin\"]"
   ]
  },
  {
   "cell_type": "code",
   "execution_count": 33,
   "id": "ordered-selling",
   "metadata": {
    "scrolled": true
   },
   "outputs": [
    {
     "name": "stdout",
     "output_type": "stream",
     "text": [
      "   0 2021-10-19_13:56\n",
      "     shap_adwin\n",
      "       0:00:21\n"
     ]
    }
   ],
   "source": [
    "n_iter = 1\n",
    "dataset = \"brutal_concept_backforth\"\n",
    "\n",
    "session_time = strftime(\"%Y-%m-%d_%H:%M\", gmtime())\n",
    "\n",
    "D_G = Drift_generators()\n",
    "for k in range(n_iter):\n",
    "    session_time = strftime(\"%Y-%m-%d_%H:%M\", gmtime())\n",
    "\n",
    "    D_G = Drift_generators(n_samples = int(7000), n_features = 3)\n",
    "    D_G.back_and_forth_abrupt_drift()\n",
    "   # \n",
    "    print(\"  \",k, session_time)\n",
    "    for i, func in enumerate(funcs):\n",
    "        t1 = time.time()\n",
    "        print(\"    \",func[8:])\n",
    "        error, detection_indices = getattr(Drift_generators, func)(D_G)\n",
    "        print(\"      \",str(datetime.timedelta(seconds=int(time.time()-t1))))\n",
    "        name = \"/\"+ session_time\n",
    "        path = \"/home/TOTO/Documents/labs/data/results/\"+dataset+\"/\"+func[8:]\n",
    "        if(not os.path.isdir(path)):\n",
    "            os.mkdir(\"/home/TOTO/Documents/labs/data/results/\"+dataset+\"/\"+func[8:]);\n",
    "        pickle.dump( (error, detection_indices), open( path+name+\".p\", \"wb\" ))\n",
    "        \n",
    "    while(strftime(\"%Y-%m-%d_%H:%M\", gmtime()) == session_time):\n",
    "        time.sleep(5)"
   ]
  },
  {
   "cell_type": "code",
   "execution_count": 34,
   "id": "expired-solomon",
   "metadata": {
    "scrolled": true
   },
   "outputs": [
    {
     "name": "stdout",
     "output_type": "stream",
     "text": [
      "------------------------------------------sine2_short------------------------------------------\n",
      "   0 2021-10-19_13:59\n",
      "     shap_adwin\n",
      "       0:00:07\n",
      "------------------------------------------stagger_short------------------------------------------\n",
      "   0 2021-10-19_14:00\n",
      "     shap_adwin\n",
      "       0:00:12\n"
     ]
    }
   ],
   "source": [
    "n_iter = 1\n",
    "for dataset in [\"sine2_short\",\"stagger_short\"]:\n",
    "    print(\"------------------------------------------%s------------------------------------------\"%dataset)\n",
    "\n",
    "    \n",
    "    session_time = strftime(\"%Y-%m-%d_%H:%M\", gmtime())\n",
    "    D_G = Drift_generators()\n",
    "    for k in range(n_iter):\n",
    "        session_time = strftime(\"%Y-%m-%d_%H:%M\", gmtime())\n",
    "\n",
    "        D_G = Drift_generators()\n",
    "        D_G.load_df(dataset)\n",
    "       # \n",
    "        print(\"  \",k, session_time)\n",
    "        for i, func in enumerate(funcs):\n",
    "            t1 = time.time()\n",
    "            print(\"    \",func[8:])\n",
    "            error, detection_indices = getattr(Drift_generators, func)(D_G)\n",
    "            print(\"      \",str(datetime.timedelta(seconds=int(time.time()-t1))))\n",
    "            name = \"/\"+ session_time\n",
    "            path = \"/home/TOTO/Documents/labs/data/results/\"+dataset+\"/\"+func[8:]\n",
    "            if(not os.path.isdir(path)):\n",
    "                os.mkdir(\"/home/TOTO/Documents/labs/data/results/\"+dataset+\"/\"+func[8:]);\n",
    "            pickle.dump( (error, detection_indices), open( path+name+\".p\", \"wb\" ))\n",
    "        \n",
    "        while(strftime(\"%Y-%m-%d_%H:%M\", gmtime()) == session_time):\n",
    "            time.sleep(5)"
   ]
  },
  {
   "cell_type": "code",
   "execution_count": 35,
   "id": "rural-guinea",
   "metadata": {
    "scrolled": true
   },
   "outputs": [
    {
     "name": "stdout",
     "output_type": "stream",
     "text": [
      "   0 2021-10-19_14:01\n",
      "------------------------------------------sine2_short------------------------------------------\n",
      "     shap_adwin\n",
      "       0:00:10\n",
      "------------------------------------------stagger_short------------------------------------------\n",
      "     shap_adwin\n",
      "       0:00:09\n"
     ]
    }
   ],
   "source": [
    "n_iter = 1\n",
    "\n",
    "for i, func in enumerate(funcs):\n",
    "\n",
    "    \n",
    "    session_time = strftime(\"%Y-%m-%d_%H:%M\", gmtime())\n",
    "    D_G = Drift_generators()\n",
    "    for k in range(n_iter):\n",
    "        session_time = strftime(\"%Y-%m-%d_%H:%M\", gmtime())\n",
    "\n",
    "        D_G = Drift_generators()\n",
    "        D_G.load_df(dataset)\n",
    "       # \n",
    "        print(\"  \",k, session_time)\n",
    "        for dataset in [\"sine2_short\",\"stagger_short\"]:\n",
    "            print(\"------------------------------------------%s------------------------------------------\"%dataset)\n",
    "            t1 = time.time()\n",
    "            print(\"    \",func[8:])\n",
    "            error, detection_indices = getattr(Drift_generators, func)(D_G)\n",
    "            print(\"      \",str(datetime.timedelta(seconds=int(time.time()-t1))))\n",
    "            name = \"/\"+ session_time\n",
    "            path = \"/home/TOTO/Documents/labs/data/results/\"+dataset+\"/\"+func[8:]\n",
    "            if(not os.path.isdir(path)):\n",
    "                os.mkdir(\"/home/TOTO/Documents/labs/data/results/\"+dataset+\"/\"+func[8:]);\n",
    "            pickle.dump( (error, detection_indices), open( path+name+\".p\", \"wb\" ))\n",
    "        \n",
    "        while(strftime(\"%Y-%m-%d_%H:%M\", gmtime()) == session_time):\n",
    "            time.sleep(5)"
   ]
  },
  {
   "cell_type": "code",
   "execution_count": null,
   "id": "express-wound",
   "metadata": {},
   "outputs": [],
   "source": []
  },
  {
   "cell_type": "code",
   "execution_count": 36,
   "id": "mechanical-circus",
   "metadata": {
    "scrolled": true
   },
   "outputs": [
    {
     "name": "stdout",
     "output_type": "stream",
     "text": [
      "   0 2021-10-19_14:02\n"
     ]
    },
    {
     "ename": "TypeError",
     "evalue": "'module' object is not callable",
     "output_type": "error",
     "traceback": [
      "\u001b[0;31m---------------------------------------------------------------------------\u001b[0m",
      "\u001b[0;31mTypeError\u001b[0m                                 Traceback (most recent call last)",
      "\u001b[0;32m/tmp/ipykernel_23189/1168554919.py\u001b[0m in \u001b[0;36m<module>\u001b[0;34m\u001b[0m\n\u001b[1;32m     19\u001b[0m     \u001b[0mprint\u001b[0m\u001b[0;34m(\u001b[0m\u001b[0;34m\"  \"\u001b[0m\u001b[0;34m,\u001b[0m\u001b[0mk\u001b[0m\u001b[0;34m,\u001b[0m \u001b[0msession_time\u001b[0m\u001b[0;34m)\u001b[0m\u001b[0;34m\u001b[0m\u001b[0;34m\u001b[0m\u001b[0m\n\u001b[1;32m     20\u001b[0m     \u001b[0;32mfor\u001b[0m \u001b[0mi\u001b[0m\u001b[0;34m,\u001b[0m \u001b[0mfunc\u001b[0m \u001b[0;32min\u001b[0m \u001b[0menumerate\u001b[0m\u001b[0;34m(\u001b[0m\u001b[0mfuncs\u001b[0m\u001b[0;34m)\u001b[0m\u001b[0;34m:\u001b[0m\u001b[0;34m\u001b[0m\u001b[0;34m\u001b[0m\u001b[0m\n\u001b[0;32m---> 21\u001b[0;31m         \u001b[0mt1\u001b[0m \u001b[0;34m=\u001b[0m \u001b[0mtime\u001b[0m\u001b[0;34m(\u001b[0m\u001b[0;34m)\u001b[0m\u001b[0;34m\u001b[0m\u001b[0;34m\u001b[0m\u001b[0m\n\u001b[0m\u001b[1;32m     22\u001b[0m         \u001b[0mprint\u001b[0m\u001b[0;34m(\u001b[0m\u001b[0;34m\"    \"\u001b[0m\u001b[0;34m,\u001b[0m\u001b[0mfunc\u001b[0m\u001b[0;34m[\u001b[0m\u001b[0;36m8\u001b[0m\u001b[0;34m:\u001b[0m\u001b[0;34m]\u001b[0m\u001b[0;34m)\u001b[0m\u001b[0;34m\u001b[0m\u001b[0;34m\u001b[0m\u001b[0m\n\u001b[1;32m     23\u001b[0m         \u001b[0merror\u001b[0m\u001b[0;34m,\u001b[0m \u001b[0mdetection_indices\u001b[0m \u001b[0;34m=\u001b[0m \u001b[0mgetattr\u001b[0m\u001b[0;34m(\u001b[0m\u001b[0mDrift_generators\u001b[0m\u001b[0;34m,\u001b[0m \u001b[0mfunc\u001b[0m\u001b[0;34m)\u001b[0m\u001b[0;34m(\u001b[0m\u001b[0mD_G\u001b[0m\u001b[0;34m)\u001b[0m\u001b[0;34m\u001b[0m\u001b[0;34m\u001b[0m\u001b[0m\n",
      "\u001b[0;31mTypeError\u001b[0m: 'module' object is not callable"
     ]
    }
   ],
   "source": [
    "n_iter = 1\n",
    "dataset = \"sine2\"\n",
    "\n",
    "session_time = strftime(\"%Y-%m-%d_%H:%M\", gmtime())\n",
    "\n",
    "D_G = Drift_generators()\n",
    "for k in range(n_iter):\n",
    "    session_time = strftime(\"%Y-%m-%d_%H:%M\", gmtime())\n",
    "    \n",
    "    \n",
    "    #D_G = Drift_generators(n_features = 3)\n",
    "    #d_centers = [(0, 0, 0.3, 0.25, 1),(0, 0.3, 0.5, 0, 0.25),(0, 0.5, 0.9999, 0.25, 1)]\n",
    "    #D_G.brutal_covariate_drift(d_centers=d_centers)\n",
    "    #D_G = Drift_generators(n_samples = int(7000), n_features = 3)\n",
    "    #D_G.back_and_forth_smooth_drift()\n",
    "    D_G = Drift_generators()\n",
    "    D_G.load_df(\"sine2\", nrows=600000)\n",
    "   # \n",
    "    print(\"  \",k, session_time)\n",
    "    for i, func in enumerate(funcs):\n",
    "        t1 = time()\n",
    "        print(\"    \",func[8:])\n",
    "        error, detection_indices = getattr(Drift_generators, func)(D_G)\n",
    "        print(\"      \",str(datetime.timedelta(seconds=int(time()-t1))))\n",
    "        name = \"/\"+ session_time\n",
    "        path = \"/home/TOTO/Documents/labs/data/results/\"+dataset+\"/\"+func[8:]\n",
    "        if(not os.path.isdir(path)):\n",
    "            os.mkdir(\"/home/TOTO/Documents/labs/data/results/\"+dataset+\"/\"+func[8:]);\n",
    "        pickle.dump( (error, detection_indices), open( path+name+\".p\", \"wb\" ))"
   ]
  },
  {
   "cell_type": "code",
   "execution_count": null,
   "id": "relative-spirit",
   "metadata": {},
   "outputs": [],
   "source": []
  },
  {
   "cell_type": "code",
   "execution_count": 37,
   "id": "joint-display",
   "metadata": {
    "scrolled": true
   },
   "outputs": [
    {
     "name": "stdout",
     "output_type": "stream",
     "text": [
      "   0 2021-10-19_15:13\n"
     ]
    },
    {
     "ename": "TypeError",
     "evalue": "'module' object is not callable",
     "output_type": "error",
     "traceback": [
      "\u001b[0;31m---------------------------------------------------------------------------\u001b[0m",
      "\u001b[0;31mTypeError\u001b[0m                                 Traceback (most recent call last)",
      "\u001b[0;32m/tmp/ipykernel_23189/2338080634.py\u001b[0m in \u001b[0;36m<module>\u001b[0;34m\u001b[0m\n\u001b[1;32m     19\u001b[0m     \u001b[0mprint\u001b[0m\u001b[0;34m(\u001b[0m\u001b[0;34m\"  \"\u001b[0m\u001b[0;34m,\u001b[0m\u001b[0mk\u001b[0m\u001b[0;34m,\u001b[0m \u001b[0msession_time\u001b[0m\u001b[0;34m)\u001b[0m\u001b[0;34m\u001b[0m\u001b[0;34m\u001b[0m\u001b[0m\n\u001b[1;32m     20\u001b[0m     \u001b[0;32mfor\u001b[0m \u001b[0mi\u001b[0m\u001b[0;34m,\u001b[0m \u001b[0mfunc\u001b[0m \u001b[0;32min\u001b[0m \u001b[0menumerate\u001b[0m\u001b[0;34m(\u001b[0m\u001b[0mfuncs\u001b[0m\u001b[0;34m)\u001b[0m\u001b[0;34m:\u001b[0m\u001b[0;34m\u001b[0m\u001b[0;34m\u001b[0m\u001b[0m\n\u001b[0;32m---> 21\u001b[0;31m         \u001b[0mt1\u001b[0m \u001b[0;34m=\u001b[0m \u001b[0mtime\u001b[0m\u001b[0;34m(\u001b[0m\u001b[0;34m)\u001b[0m\u001b[0;34m\u001b[0m\u001b[0;34m\u001b[0m\u001b[0m\n\u001b[0m\u001b[1;32m     22\u001b[0m         \u001b[0mprint\u001b[0m\u001b[0;34m(\u001b[0m\u001b[0;34m\"    \"\u001b[0m\u001b[0;34m,\u001b[0m\u001b[0mfunc\u001b[0m\u001b[0;34m[\u001b[0m\u001b[0;36m8\u001b[0m\u001b[0;34m:\u001b[0m\u001b[0;34m]\u001b[0m\u001b[0;34m)\u001b[0m\u001b[0;34m\u001b[0m\u001b[0;34m\u001b[0m\u001b[0m\n\u001b[1;32m     23\u001b[0m         \u001b[0merror\u001b[0m\u001b[0;34m,\u001b[0m \u001b[0mdetection_indices\u001b[0m \u001b[0;34m=\u001b[0m \u001b[0mgetattr\u001b[0m\u001b[0;34m(\u001b[0m\u001b[0mDrift_generators\u001b[0m\u001b[0;34m,\u001b[0m \u001b[0mfunc\u001b[0m\u001b[0;34m)\u001b[0m\u001b[0;34m(\u001b[0m\u001b[0mD_G\u001b[0m\u001b[0;34m)\u001b[0m\u001b[0;34m\u001b[0m\u001b[0;34m\u001b[0m\u001b[0m\n",
      "\u001b[0;31mTypeError\u001b[0m: 'module' object is not callable"
     ]
    }
   ],
   "source": [
    "n_iter = 1\n",
    "dataset = \"stagger\"\n",
    "\n",
    "session_time = strftime(\"%Y-%m-%d_%H:%M\", gmtime())\n",
    "\n",
    "D_G = Drift_generators()\n",
    "for k in range(n_iter):\n",
    "    session_time = strftime(\"%Y-%m-%d_%H:%M\", gmtime())\n",
    "    \n",
    "    \n",
    "    #D_G = Drift_generators(n_features = 3)\n",
    "    #d_centers = [(0, 0, 0.3, 0.25, 1),(0, 0.3, 0.5, 0, 0.25),(0, 0.5, 0.9999, 0.25, 1)]\n",
    "    #D_G.brutal_covariate_drift(d_centers=d_centers)\n",
    "    #D_G = Drift_generators(n_samples = int(7000), n_features = 3)\n",
    "    #D_G.back_and_forth_smooth_drift()\n",
    "    D_G = Drift_generators()\n",
    "    D_G.load_df(\"stagger\")\n",
    "   # \n",
    "    print(\"  \",k, session_time)\n",
    "    for i, func in enumerate(funcs):\n",
    "        t1 = time()\n",
    "        print(\"    \",func[8:])\n",
    "        error, detection_indices = getattr(Drift_generators, func)(D_G)\n",
    "        print(\"      \",str(datetime.timedelta(seconds=int(time()-t1))))\n",
    "        name = \"/\"+ session_time\n",
    "        path = \"/home/TOTO/Documents/labs/data/results/\"+dataset+\"/\"+func[8:]\n",
    "        if(not os.path.isdir(path)):\n",
    "            os.mkdir(\"/home/TOTO/Documents/labs/data/results/\"+dataset+\"/\"+func[8:]);\n",
    "        pickle.dump( (error, detection_indices), open( path+name+\".p\", \"wb\" ))"
   ]
  },
  {
   "cell_type": "code",
   "execution_count": 38,
   "id": "liked-mumbai",
   "metadata": {
    "scrolled": true
   },
   "outputs": [
    {
     "name": "stdout",
     "output_type": "stream",
     "text": [
      "   0 2021-10-19_15:13\n"
     ]
    },
    {
     "ename": "TypeError",
     "evalue": "'module' object is not callable",
     "output_type": "error",
     "traceback": [
      "\u001b[0;31m---------------------------------------------------------------------------\u001b[0m",
      "\u001b[0;31mTypeError\u001b[0m                                 Traceback (most recent call last)",
      "\u001b[0;32m/tmp/ipykernel_23189/2345977531.py\u001b[0m in \u001b[0;36m<module>\u001b[0;34m\u001b[0m\n\u001b[1;32m     19\u001b[0m     \u001b[0mprint\u001b[0m\u001b[0;34m(\u001b[0m\u001b[0;34m\"  \"\u001b[0m\u001b[0;34m,\u001b[0m\u001b[0mk\u001b[0m\u001b[0;34m,\u001b[0m \u001b[0msession_time\u001b[0m\u001b[0;34m)\u001b[0m\u001b[0;34m\u001b[0m\u001b[0;34m\u001b[0m\u001b[0m\n\u001b[1;32m     20\u001b[0m     \u001b[0;32mfor\u001b[0m \u001b[0mi\u001b[0m\u001b[0;34m,\u001b[0m \u001b[0mfunc\u001b[0m \u001b[0;32min\u001b[0m \u001b[0menumerate\u001b[0m\u001b[0;34m(\u001b[0m\u001b[0mfuncs\u001b[0m\u001b[0;34m)\u001b[0m\u001b[0;34m:\u001b[0m\u001b[0;34m\u001b[0m\u001b[0;34m\u001b[0m\u001b[0m\n\u001b[0;32m---> 21\u001b[0;31m         \u001b[0mt1\u001b[0m \u001b[0;34m=\u001b[0m \u001b[0mtime\u001b[0m\u001b[0;34m(\u001b[0m\u001b[0;34m)\u001b[0m\u001b[0;34m\u001b[0m\u001b[0;34m\u001b[0m\u001b[0m\n\u001b[0m\u001b[1;32m     22\u001b[0m         \u001b[0mprint\u001b[0m\u001b[0;34m(\u001b[0m\u001b[0;34m\"    \"\u001b[0m\u001b[0;34m,\u001b[0m\u001b[0mfunc\u001b[0m\u001b[0;34m[\u001b[0m\u001b[0;36m8\u001b[0m\u001b[0;34m:\u001b[0m\u001b[0;34m]\u001b[0m\u001b[0;34m)\u001b[0m\u001b[0;34m\u001b[0m\u001b[0;34m\u001b[0m\u001b[0m\n\u001b[1;32m     23\u001b[0m         \u001b[0merror\u001b[0m\u001b[0;34m,\u001b[0m \u001b[0mdetection_indices\u001b[0m \u001b[0;34m=\u001b[0m \u001b[0mgetattr\u001b[0m\u001b[0;34m(\u001b[0m\u001b[0mDrift_generators\u001b[0m\u001b[0;34m,\u001b[0m \u001b[0mfunc\u001b[0m\u001b[0;34m)\u001b[0m\u001b[0;34m(\u001b[0m\u001b[0mD_G\u001b[0m\u001b[0;34m)\u001b[0m\u001b[0;34m\u001b[0m\u001b[0;34m\u001b[0m\u001b[0m\n",
      "\u001b[0;31mTypeError\u001b[0m: 'module' object is not callable"
     ]
    }
   ],
   "source": [
    "n_iter = 1\n",
    "dataset = \"sine2_short\"\n",
    "\n",
    "session_time = strftime(\"%Y-%m-%d_%H:%M\", gmtime())\n",
    "\n",
    "D_G = Drift_generators()\n",
    "for k in range(n_iter):\n",
    "    session_time = strftime(\"%Y-%m-%d_%H:%M\", gmtime())\n",
    "    \n",
    "    \n",
    "    #D_G = Drift_generators(n_features = 3)\n",
    "    #d_centers = [(0, 0, 0.3, 0.25, 1),(0, 0.3, 0.5, 0, 0.25),(0, 0.5, 0.9999, 0.25, 1)]\n",
    "    #D_G.brutal_covariate_drift(d_centers=d_centers)\n",
    "    #D_G = Drift_generators(n_samples = int(7000), n_features = 3)\n",
    "    #D_G.back_and_forth_smooth_drift()\n",
    "    D_G = Drift_generators()\n",
    "    D_G.load_df(\"sine2_short\")\n",
    "   # \n",
    "    print(\"  \",k, session_time)\n",
    "    for i, func in enumerate(funcs):\n",
    "        t1 = time()\n",
    "        print(\"    \",func[8:])\n",
    "        error, detection_indices = getattr(Drift_generators, func)(D_G)\n",
    "        print(\"      \",str(datetime.timedelta(seconds=int(time()-t1))))\n",
    "        name = \"/\"+ session_time\n",
    "        path = \"/home/TOTO/Documents/labs/data/results/\"+dataset+\"/\"+func[8:]\n",
    "        if(not os.path.isdir(path)):\n",
    "            os.mkdir(\"/home/TOTO/Documents/labs/data/results/\"+dataset+\"/\"+func[8:]);\n",
    "        pickle.dump( (error, detection_indices), open( path+name+\".p\", \"wb\" ))"
   ]
  },
  {
   "cell_type": "code",
   "execution_count": null,
   "id": "composite-preference",
   "metadata": {},
   "outputs": [],
   "source": []
  },
  {
   "cell_type": "code",
   "execution_count": null,
   "id": "bibliographic-afghanistan",
   "metadata": {},
   "outputs": [],
   "source": []
  },
  {
   "cell_type": "markdown",
   "id": "private-seeking",
   "metadata": {},
   "source": [
    "# Run with noise"
   ]
  },
  {
   "cell_type": "code",
   "execution_count": 39,
   "id": "maritime-cabin",
   "metadata": {},
   "outputs": [],
   "source": [
    "from drift_generators import *\n",
    "from time import gmtime, strftime, time\n",
    "import os\n",
    "import pickle\n",
    "import datetime\n",
    "import time"
   ]
  },
  {
   "cell_type": "code",
   "execution_count": 40,
   "id": "governmental-territory",
   "metadata": {},
   "outputs": [],
   "source": [
    "funcs = [func for func in dir(Drift_generators) if callable(getattr(Drift_generators, func))\n",
    "         and not func.startswith(\"__\")\n",
    "         and \"retrain\" in func and not \"plot\" in func and not \"perf\" in func]"
   ]
  },
  {
   "cell_type": "code",
   "execution_count": 41,
   "id": "hindu-bumper",
   "metadata": {
    "scrolled": true
   },
   "outputs": [
    {
     "data": {
      "text/plain": [
       "['retrain_shap_adwin_back_best',\n",
       " 'retrain_shap_adwin_back_train',\n",
       " 'retrain_shap_adwin_back_worse',\n",
       " 'retrain_shap_adwin_smallback',\n",
       " 'retrain_shap_adwin',\n",
       " 'retrain_adwin_loss',\n",
       " 'retrain_nothing',\n",
       " 'retrain_arf']"
      ]
     },
     "execution_count": 41,
     "metadata": {},
     "output_type": "execute_result"
    }
   ],
   "source": [
    "funcs = [func for func in dir(Drift_generators) if callable(getattr(Drift_generators, func))\n",
    "         and not func.startswith(\"__\")\n",
    "         and \"retrain\" in func and not \"plot\" in func and not \"perf\" in func]\n",
    "funcs = [x for x in funcs if \"back\" in x]\n",
    "funcs.append(\"retrain_shap_adwin\")\n",
    "funcs.append(\"retrain_adwin_loss\")\n",
    "funcs.append(\"retrain_nothing\")\n",
    "funcs.append(\"retrain_arf\")\n",
    "funcs"
   ]
  },
  {
   "cell_type": "code",
   "execution_count": 42,
   "id": "needed-brazil",
   "metadata": {},
   "outputs": [],
   "source": [
    "funcs= ['retrain_shap_adwin',\n",
    "         'retrain_adwin_loss',\n",
    "         'retrain_nothing']"
   ]
  },
  {
   "cell_type": "code",
   "execution_count": 43,
   "id": "weighted-nothing",
   "metadata": {
    "scrolled": true
   },
   "outputs": [
    {
     "name": "stdout",
     "output_type": "stream",
     "text": [
      "   0 2021-10-19_15:14\n",
      "     shap_adwin\n",
      "       0:00:35\n",
      "     adwin_loss\n",
      "       0:00:07\n",
      "     nothing\n",
      "       0:00:00\n"
     ]
    }
   ],
   "source": [
    "n_iter = 1\n",
    "dataset = \"brutal_covar_backforth_noisy\"\n",
    "\n",
    "session_time = strftime(\"%Y-%m-%d_%H:%M\", gmtime())\n",
    "\n",
    "D_G = Drift_generators()\n",
    "for k in range(n_iter):\n",
    "    session_time = strftime(\"%Y-%m-%d_%H:%M\", gmtime())\n",
    "\n",
    "    D_G = Drift_generators(n_samples = int(7*10**3), n_features = 3)\n",
    "    d_centers = [(0, 0, 0.3, 0.25, 1),(0, 0.3, 0.5, 0, 0.25),(0, 0.5, 1, 0.25, 1)]\n",
    "    D_G.brutal_covariate_drift(d_centers=d_centers)\n",
    "\n",
    "    D_G.add_noise()\n",
    "\n",
    "    print(\"  \",k, session_time)\n",
    "    for i, func in enumerate(funcs):\n",
    "        t1 = time.time()\n",
    "        print(\"    \",func[8:])\n",
    "        error, detection_indices = getattr(Drift_generators, func)(D_G)\n",
    "        print(\"      \",str(datetime.timedelta(seconds=int(time.time()-t1))))\n",
    "        name = \"/\"+ session_time\n",
    "        path = \"/home/TOTO/Documents/labs/data/results/\"+dataset+\"/\"+func[8:]\n",
    "        if(not os.path.isdir(path)):\n",
    "            os.mkdir(\"/home/TOTO/Documents/labs/data/results/\"+dataset+\"/\"+func[8:]);\n",
    "        pickle.dump( (error, detection_indices), open( path+name+\".p\", \"wb\" ))\n",
    "        \n",
    "    while(strftime(\"%Y-%m-%d_%H:%M\", gmtime()) == session_time):\n",
    "        time.sleep(5)"
   ]
  },
  {
   "cell_type": "code",
   "execution_count": null,
   "id": "sixth-uncle",
   "metadata": {},
   "outputs": [],
   "source": []
  },
  {
   "cell_type": "code",
   "execution_count": null,
   "id": "according-courtesy",
   "metadata": {},
   "outputs": [],
   "source": []
  },
  {
   "cell_type": "code",
   "execution_count": 44,
   "id": "productive-heading",
   "metadata": {},
   "outputs": [
    {
     "name": "stdout",
     "output_type": "stream",
     "text": [
      "   0 2021-10-19_15:15\n",
      "     shap_adwin\n",
      "       0:00:34\n",
      "     adwin_loss\n",
      "       0:00:08\n",
      "     nothing\n",
      "       0:00:00\n"
     ]
    }
   ],
   "source": [
    "n_iter = 1\n",
    "dataset = \"brutal_concept_backforth_noisy\"\n",
    "\n",
    "session_time = strftime(\"%Y-%m-%d_%H:%M\", gmtime())\n",
    "\n",
    "D_G = Drift_generators()\n",
    "for k in range(n_iter):\n",
    "    session_time = strftime(\"%Y-%m-%d_%H:%M\", gmtime())\n",
    "\n",
    "    D_G = Drift_generators(n_samples = int(7000), n_features = 3)\n",
    "    D_G.back_and_forth_abrupt_drift()\n",
    "    D_G.add_noise()\n",
    "\n",
    "    print(\"  \",k, session_time)\n",
    "    for i, func in enumerate(funcs):\n",
    "        t1 = time.time()\n",
    "        print(\"    \",func[8:])\n",
    "        error, detection_indices = getattr(Drift_generators, func)(D_G)\n",
    "        print(\"      \",str(datetime.timedelta(seconds=int(time.time()-t1))))\n",
    "        name = \"/\"+ session_time\n",
    "        path = \"/home/TOTO/Documents/labs/data/results/\"+dataset+\"/\"+func[8:]\n",
    "        if(not os.path.isdir(path)):\n",
    "            os.mkdir(\"/home/TOTO/Documents/labs/data/results/\"+dataset+\"/\"+func[8:]);\n",
    "        pickle.dump( (error, detection_indices), open( path+name+\".p\", \"wb\" ))\n",
    "        \n",
    "    while(strftime(\"%Y-%m-%d_%H:%M\", gmtime()) == session_time):\n",
    "        time.sleep(5)"
   ]
  },
  {
   "cell_type": "code",
   "execution_count": 45,
   "id": "changing-sphere",
   "metadata": {},
   "outputs": [
    {
     "data": {
      "text/plain": [
       "7000"
      ]
     },
     "execution_count": 45,
     "metadata": {},
     "output_type": "execute_result"
    }
   ],
   "source": [
    "D_G.n"
   ]
  },
  {
   "cell_type": "code",
   "execution_count": 46,
   "id": "everyday-narrative",
   "metadata": {},
   "outputs": [],
   "source": [
    "funcs= ['retrain_shap_adwin',\n",
    "         'retrain_adwin_loss',\n",
    "         'retrain_nothing']"
   ]
  },
  {
   "cell_type": "code",
   "execution_count": 47,
   "id": "lightweight-pipeline",
   "metadata": {},
   "outputs": [
    {
     "data": {
      "image/png": "[encoded data removed]",
      "text/plain": [
       "<Figure size 720x576 with 1 Axes>"
      ]
     },
     "metadata": {
      "needs_background": "light"
     },
     "output_type": "display_data"
    }
   ],
   "source": [
    "\n",
    "D_G = Drift_generators(n_samples = int(7000), n_features = 3)\n",
    "circle_centers = [[0.7 for i in range(D_G.n_features)],[0.7 for i in range(D_G.n_features)]]\n",
    "D_G.new_smooth_concept_drift(n_drift = 2, circle_centers = circle_centers, drift_points= [2500,4500])\n",
    "#D_G.smooth_concept_drift\n",
    "D_G.retrain_nothing()\n",
    "D_G.plot_retrain()"
   ]
  },
  {
   "cell_type": "code",
   "execution_count": 48,
   "id": "adapted-thunder",
   "metadata": {},
   "outputs": [
    {
     "data": {
      "text/plain": [
       "['retrain_shap_adwin', 'retrain_adwin_loss', 'retrain_nothing']"
      ]
     },
     "execution_count": 48,
     "metadata": {},
     "output_type": "execute_result"
    }
   ],
   "source": [
    "funcs"
   ]
  },
  {
   "cell_type": "code",
   "execution_count": 49,
   "id": "cognitive-neighborhood",
   "metadata": {
    "scrolled": true
   },
   "outputs": [
    {
     "name": "stdout",
     "output_type": "stream",
     "text": [
      "   0 2021-10-19_15:16\n",
      "     shap_adwin\n",
      "       0:00:38\n",
      "     adwin_loss\n",
      "       0:00:09\n",
      "     nothing\n",
      "       0:00:00\n"
     ]
    }
   ],
   "source": [
    "n_iter = 1\n",
    "dataset = \"smooth_drift_sabilized_noisy\"\n",
    "\n",
    "session_time = strftime(\"%Y-%m-%d_%H:%M\", gmtime())\n",
    "\n",
    "D_G = Drift_generators()\n",
    "for k in range(n_iter):\n",
    "    session_time = strftime(\"%Y-%m-%d_%H:%M\", gmtime())\n",
    "\n",
    "    D_G = Drift_generators(n_samples = int(7000), n_features = 3)\n",
    "    circle_centers = [[0.7 for i in range(D_G.n_features)],[0.7 for i in range(D_G.n_features)]]\n",
    "    D_G.new_smooth_concept_drift(n_drift = 2, circle_centers = circle_centers, drift_points= [2500,4500])\n",
    "    D_G.add_noise()\n",
    "\n",
    "    print(\"  \",k, session_time)\n",
    "    for i, func in enumerate(funcs):\n",
    "        t1 = time.time()\n",
    "        print(\"    \",func[8:])\n",
    "        error, detection_indices = getattr(Drift_generators, func)(D_G)\n",
    "        print(\"      \",str(datetime.timedelta(seconds=int(time.time()-t1))))\n",
    "        name = \"/\"+ session_time\n",
    "        path = \"/home/TOTO/Documents/labs/data/results/\"+dataset+\"/\"+func[8:]\n",
    "        if(not os.path.isdir(path)):\n",
    "            os.mkdir(\"/home/TOTO/Documents/labs/data/results/\"+dataset+\"/\"+func[8:]);\n",
    "        pickle.dump( (error, detection_indices), open( path+name+\".p\", \"wb\" ))\n",
    "        \n",
    "    while(strftime(\"%Y-%m-%d_%H:%M\", gmtime()) == session_time):\n",
    "        time.sleep(5)"
   ]
  },
  {
   "cell_type": "code",
   "execution_count": 50,
   "id": "exceptional-pollution",
   "metadata": {
    "scrolled": true
   },
   "outputs": [
    {
     "name": "stdout",
     "output_type": "stream",
     "text": [
      "   0 2021-10-19_15:17\n",
      "     shap_adwin\n",
      "       0:00:34\n",
      "     adwin_loss\n",
      "       0:00:09\n",
      "     nothing\n",
      "       0:00:00\n"
     ]
    }
   ],
   "source": [
    "n_iter = 1\n",
    "dataset = \"smooth_drift_sabilized\"\n",
    "\n",
    "session_time = strftime(\"%Y-%m-%d_%H:%M\", gmtime())\n",
    "\n",
    "D_G = Drift_generators()\n",
    "for k in range(n_iter):\n",
    "    session_time = strftime(\"%Y-%m-%d_%H:%M\", gmtime())\n",
    "\n",
    "    D_G = Drift_generators(n_samples = int(7000), n_features = 3)\n",
    "    circle_centers = [[0.7 for i in range(D_G.n_features)],[0.7 for i in range(D_G.n_features)]]\n",
    "    D_G.new_smooth_concept_drift(n_drift = 2, circle_centers = circle_centers, drift_points= [2500,4500])\n",
    "    \n",
    "    print(\"  \",k, session_time)\n",
    "    for i, func in enumerate(funcs):\n",
    "        t1 = time.time()\n",
    "        print(\"    \",func[8:])\n",
    "        error, detection_indices = getattr(Drift_generators, func)(D_G)\n",
    "        print(\"      \",str(datetime.timedelta(seconds=int(time.time()-t1))))\n",
    "        name = \"/\"+ session_time\n",
    "        path = \"/home/TOTO/Documents/labs/data/results/\"+dataset+\"/\"+func[8:]\n",
    "        if(not os.path.isdir(path)):\n",
    "            os.mkdir(\"/home/TOTO/Documents/labs/data/results/\"+dataset+\"/\"+func[8:]);\n",
    "        pickle.dump( (error, detection_indices), open( path+name+\".p\", \"wb\" ))\n",
    "        \n",
    "    while(strftime(\"%Y-%m-%d_%H:%M\", gmtime()) == session_time):\n",
    "        time.sleep(5)"
   ]
  },
  {
   "cell_type": "code",
   "execution_count": 51,
   "id": "decent-terrace",
   "metadata": {},
   "outputs": [
    {
     "name": "stdout",
     "output_type": "stream",
     "text": [
      "   0 2021-10-19_15:18\n",
      "     shap_adwin\n",
      "       0:00:33\n",
      "     adwin_loss\n",
      "       0:00:06\n",
      "     nothing\n",
      "       0:00:00\n"
     ]
    }
   ],
   "source": [
    "n_iter = 1\n",
    "dataset = \"smooth_drift\"\n",
    "\n",
    "session_time = strftime(\"%Y-%m-%d_%H:%M\", gmtime())\n",
    "\n",
    "D_G = Drift_generators()\n",
    "for k in range(n_iter):\n",
    "    session_time = strftime(\"%Y-%m-%d_%H:%M\", gmtime())\n",
    "\n",
    "    D_G = Drift_generators(n_samples = int(7000), n_features = 3)\n",
    "    circle_centers = [[0.7 for i in range(D_G.n_features)]]\n",
    "    D_G.new_smooth_concept_drift(n_drift = 1, circle_centers = circle_centers, drift_points= [2500])\n",
    "\n",
    "    print(\"  \",k, session_time)\n",
    "    for i, func in enumerate(funcs):\n",
    "        t1 = time.time()\n",
    "        print(\"    \",func[8:])\n",
    "        error, detection_indices = getattr(Drift_generators, func)(D_G)\n",
    "        print(\"      \",str(datetime.timedelta(seconds=int(time.time()-t1))))\n",
    "        name = \"/\"+ session_time\n",
    "        path = \"/home/TOTO/Documents/labs/data/results/\"+dataset+\"/\"+func[8:]\n",
    "        if(not os.path.isdir(path)):\n",
    "            os.mkdir(\"/home/TOTO/Documents/labs/data/results/\"+dataset+\"/\"+func[8:]);\n",
    "        pickle.dump( (error, detection_indices), open( path+name+\".p\", \"wb\" ))\n",
    "        \n",
    "    while(strftime(\"%Y-%m-%d_%H:%M\", gmtime()) == session_time):\n",
    "        time.sleep(5)"
   ]
  },
  {
   "cell_type": "code",
   "execution_count": null,
   "id": "billion-candy",
   "metadata": {},
   "outputs": [],
   "source": []
  },
  {
   "cell_type": "code",
   "execution_count": null,
   "id": "waiting-integration",
   "metadata": {},
   "outputs": [],
   "source": []
  },
  {
   "cell_type": "code",
   "execution_count": null,
   "id": "becoming-leone",
   "metadata": {},
   "outputs": [],
   "source": []
  },
  {
   "cell_type": "code",
   "execution_count": null,
   "id": "detailed-chair",
   "metadata": {},
   "outputs": [],
   "source": []
  },
  {
   "cell_type": "markdown",
   "id": "artificial-gossip",
   "metadata": {},
   "source": [
    "# Single Drifts"
   ]
  },
  {
   "cell_type": "markdown",
   "id": "apart-discount",
   "metadata": {},
   "source": [
    "## COVAR abrupt stabilized"
   ]
  },
  {
   "cell_type": "code",
   "execution_count": 52,
   "id": "frequent-blanket",
   "metadata": {},
   "outputs": [],
   "source": [
    "from drift_generators import *\n",
    "from time import gmtime, strftime, time\n",
    "import os\n",
    "import pickle\n",
    "import datetime\n",
    "import time"
   ]
  },
  {
   "cell_type": "code",
   "execution_count": 53,
   "id": "polar-devices",
   "metadata": {},
   "outputs": [],
   "source": [
    "funcs= ['retrain_shap_adwin',\n",
    "         'retrain_adwin_loss',\n",
    "         'retrain_nothing']"
   ]
  },
  {
   "cell_type": "code",
   "execution_count": 54,
   "id": "illegal-cancer",
   "metadata": {},
   "outputs": [
    {
     "data": {
      "image/png": "[encoded data removed]",
      "text/plain": [
       "<Figure size 720x576 with 1 Axes>"
      ]
     },
     "metadata": {
      "needs_background": "light"
     },
     "output_type": "display_data"
    }
   ],
   "source": [
    "D_G = Drift_generators(n_samples = int(6000), n_features = 3)\n",
    "d_centers = [(0, 0, 0.4, 0.25, 1),(0, 0.4, 1, 0, 0.25)]\n",
    "D_G.brutal_covariate_drift(d_centers=d_centers)\n",
    "\n",
    "D_G.retrain_nothing()\n",
    "D_G.plot_retrain()"
   ]
  },
  {
   "cell_type": "code",
   "execution_count": 55,
   "id": "senior-compilation",
   "metadata": {
    "scrolled": false
   },
   "outputs": [
    {
     "name": "stdout",
     "output_type": "stream",
     "text": [
      "   0 2021-10-19_15:19\n",
      "     shap_adwin\n",
      "       0:00:21\n",
      "     adwin_loss\n",
      "       0:00:06\n"
     ]
    }
   ],
   "source": [
    "n_iter = 1#20\n",
    "\n",
    "dataset = \"covar_x_drift_stabilized\"\n",
    "session_time = strftime(\"%Y-%m-%d_%H:%M\", gmtime())\n",
    "\n",
    "funcs = ['retrain_shap_adwin', 'retrain_adwin_loss']\n",
    "        \n",
    "for k in range(n_iter):\n",
    "    \n",
    "    session_time = strftime(\"%Y-%m-%d_%H:%M\", gmtime())\n",
    "    D_G = Drift_generators(n_samples = int(6000), n_features = 3)\n",
    "    d_centers = [(0, 0, 0.4, 0.25, 1),(0, 0.4, 1, 0, 0.25)]\n",
    "    D_G.brutal_covariate_drift(d_centers=d_centers)\n",
    "\n",
    "    print(\"  \",k, session_time)\n",
    "    for i, func in enumerate(funcs):\n",
    "        t1 = time.time()\n",
    "        print(\"    \",func[8:])\n",
    "        error, detection_indices = getattr(Drift_generators, func)(D_G)\n",
    "        print(\"      \",str(datetime.timedelta(seconds=int(time.time()-t1))))\n",
    "        name = \"/\"+ session_time\n",
    "        path = \"/home/TOTO/Documents/labs/data/results/\"+dataset+\"/\"+func[8:]\n",
    "        if(not os.path.isdir(path)):\n",
    "            os.mkdir(\"/home/TOTO/Documents/labs/data/results/\"+dataset+\"/\"+func[8:]);\n",
    "        pickle.dump( (error, detection_indices), open( path+name+\".p\", \"wb\" ))\n",
    "        \n",
    "    while(strftime(\"%Y-%m-%d_%H:%M\", gmtime()) == session_time):\n",
    "        time.sleep(5)"
   ]
  },
  {
   "cell_type": "code",
   "execution_count": null,
   "id": "broadband-collective",
   "metadata": {},
   "outputs": [],
   "source": []
  },
  {
   "cell_type": "markdown",
   "id": "systematic-assist",
   "metadata": {},
   "source": [
    "## Concept abrupt stabilized"
   ]
  },
  {
   "cell_type": "code",
   "execution_count": 56,
   "id": "brazilian-climate",
   "metadata": {},
   "outputs": [],
   "source": [
    "from drift_generators import *\n",
    "from time import gmtime, strftime, time\n",
    "import os\n",
    "import pickle\n",
    "import datetime\n",
    "import time"
   ]
  },
  {
   "cell_type": "code",
   "execution_count": 57,
   "id": "demonstrated-cleaner",
   "metadata": {},
   "outputs": [],
   "source": [
    "funcs= ['retrain_shap_adwin',\n",
    "         'retrain_adwin_loss']"
   ]
  },
  {
   "cell_type": "code",
   "execution_count": 58,
   "id": "motivated-chosen",
   "metadata": {},
   "outputs": [
    {
     "data": {
      "image/png": "[encoded data removed]",
      "text/plain": [
       "<Figure size 720x576 with 1 Axes>"
      ]
     },
     "metadata": {
      "needs_background": "light"
     },
     "output_type": "display_data"
    }
   ],
   "source": [
    "D_G = Drift_generators(n_samples = int(7000), n_features = 3)\n",
    "circle_centers = [[0.7 for i in range(D_G.n_features)]]\n",
    "D_G.brutal_concept_drift(n_drift = 1, circle_centers = circle_centers, drift_points=[2500])\n",
    "\n",
    "D_G.retrain_nothing()\n",
    "D_G.plot_retrain()"
   ]
  },
  {
   "cell_type": "code",
   "execution_count": 59,
   "id": "following-recipient",
   "metadata": {},
   "outputs": [
    {
     "name": "stdout",
     "output_type": "stream",
     "text": [
      "   0 2021-10-19_15:20\n",
      "     shap_adwin\n",
      "       0:00:26\n",
      "     adwin_loss\n",
      "       0:00:06\n"
     ]
    }
   ],
   "source": [
    "n_iter = 1 #20\n",
    "\n",
    "dataset = \"concept_abrupt_stab\"\n",
    "session_time = strftime(\"%Y-%m-%d_%H:%M\", gmtime())\n",
    "\n",
    "funcs = ['retrain_shap_adwin', 'retrain_adwin_loss']\n",
    "        \n",
    "for k in range(n_iter):\n",
    "    \n",
    "    session_time = strftime(\"%Y-%m-%d_%H:%M\", gmtime())\n",
    "    D_G = Drift_generators(n_samples = int(7000), n_features = 3)\n",
    "    circle_centers = [[0.7 for i in range(D_G.n_features)]]\n",
    "    D_G.brutal_concept_drift(n_drift = 1, circle_centers = circle_centers, drift_points=[2500])\n",
    "\n",
    "\n",
    "    print(\"  \",k, session_time)\n",
    "    for i, func in enumerate(funcs):\n",
    "        t1 = time.time()\n",
    "        print(\"    \",func[8:])\n",
    "        error, detection_indices = getattr(Drift_generators, func)(D_G)\n",
    "        print(\"      \",str(datetime.timedelta(seconds=int(time.time()-t1))))\n",
    "        name = \"/\"+ session_time\n",
    "        path = \"/home/TOTO/Documents/labs/data/results/\"+dataset+\"/\"+func[8:]\n",
    "        if(not os.path.isdir(path)):\n",
    "            os.mkdir(\"/home/TOTO/Documents/labs/data/results/\"+dataset+\"/\"+func[8:]);\n",
    "        pickle.dump( (error, detection_indices), open( path+name+\".p\", \"wb\" ))\n",
    "        \n",
    "    while(strftime(\"%Y-%m-%d_%H:%M\", gmtime()) == session_time):\n",
    "        time.sleep(5)"
   ]
  },
  {
   "cell_type": "markdown",
   "id": "registered-tennessee",
   "metadata": {},
   "source": [
    "## Concept smooth XYZ stabilized"
   ]
  },
  {
   "cell_type": "code",
   "execution_count": 9,
   "id": "respected-agent",
   "metadata": {},
   "outputs": [],
   "source": [
    "from drift_generators import *\n",
    "from time import gmtime, strftime, time\n",
    "import os\n",
    "import pickle\n",
    "import datetime\n",
    "import time"
   ]
  },
  {
   "cell_type": "code",
   "execution_count": 10,
   "id": "intimate-finding",
   "metadata": {},
   "outputs": [],
   "source": [
    "funcs= ['retrain_shap_adwin',\n",
    "         'retrain_adwin_loss']"
   ]
  },
  {
   "cell_type": "code",
   "execution_count": 11,
   "id": "defined-romance",
   "metadata": {},
   "outputs": [
    {
     "data": {
      "image/png": "[encoded data removed]",
      "text/plain": [
       "<Figure size 720x576 with 1 Axes>"
      ]
     },
     "metadata": {
      "needs_background": "light"
     },
     "output_type": "display_data"
    }
   ],
   "source": [
    "D_G = Drift_generators(n_samples = int(7000), n_features = 3)\n",
    "circle_centers = [[0.7 for i in range(D_G.n_features)]]\n",
    "D_G.brutal_concept_drift(n_drift = 1, circle_centers = circle_centers, drift_points=[2500])\n",
    "\n",
    "D_G.retrain_nothing()\n",
    "D_G.plot_retrain()"
   ]
  },
  {
   "cell_type": "code",
   "execution_count": 12,
   "id": "moving-conducting",
   "metadata": {},
   "outputs": [
    {
     "name": "stdout",
     "output_type": "stream",
     "text": [
      "   0 2021-07-05_22:09\n",
      "     shap_adwin\n",
      "       0:00:18\n",
      "     adwin_loss\n",
      "       0:00:05\n",
      "   1 2021-07-05_22:10\n",
      "     shap_adwin\n",
      "       0:00:17\n",
      "     adwin_loss\n",
      "       0:00:05\n",
      "   2 2021-07-05_22:11\n",
      "     shap_adwin\n",
      "       0:00:18\n",
      "     adwin_loss\n",
      "       0:00:05\n",
      "   3 2021-07-05_22:12\n",
      "     shap_adwin\n",
      "       0:00:17\n",
      "     adwin_loss\n",
      "       0:00:05\n",
      "   4 2021-07-05_22:13\n",
      "     shap_adwin\n",
      "       0:00:17\n",
      "     adwin_loss\n",
      "       0:00:05\n",
      "   5 2021-07-05_22:14\n",
      "     shap_adwin\n",
      "       0:00:17\n",
      "     adwin_loss\n",
      "       0:00:04\n",
      "   6 2021-07-05_22:15\n",
      "     shap_adwin\n",
      "       0:00:18\n",
      "     adwin_loss\n",
      "       0:00:04\n",
      "   7 2021-07-05_22:16\n",
      "     shap_adwin\n",
      "       0:00:17\n",
      "     adwin_loss\n",
      "       0:00:05\n",
      "   8 2021-07-05_22:17\n",
      "     shap_adwin\n",
      "       0:00:18\n",
      "     adwin_loss\n",
      "       0:00:04\n",
      "   9 2021-07-05_22:18\n",
      "     shap_adwin\n",
      "       0:00:18\n",
      "     adwin_loss\n",
      "       0:00:05\n",
      "   10 2021-07-05_22:19\n",
      "     shap_adwin\n",
      "       0:00:17\n",
      "     adwin_loss\n",
      "       0:00:04\n",
      "   11 2021-07-05_22:20\n",
      "     shap_adwin\n",
      "       0:00:15\n",
      "     adwin_loss\n",
      "       0:00:05\n",
      "   12 2021-07-05_22:21\n",
      "     shap_adwin\n",
      "       0:00:16\n",
      "     adwin_loss\n",
      "       0:00:04\n",
      "   13 2021-07-05_22:22\n",
      "     shap_adwin\n",
      "       0:00:18\n",
      "     adwin_loss\n",
      "       0:00:04\n",
      "   14 2021-07-05_22:23\n",
      "     shap_adwin\n",
      "       0:00:19\n",
      "     adwin_loss\n",
      "       0:00:04\n",
      "   15 2021-07-05_22:24\n",
      "     shap_adwin\n",
      "       0:00:17\n",
      "     adwin_loss\n",
      "       0:00:05\n",
      "   16 2021-07-05_22:25\n",
      "     shap_adwin\n",
      "       0:00:17\n",
      "     adwin_loss\n",
      "       0:00:04\n",
      "   17 2021-07-05_22:26\n",
      "     shap_adwin\n",
      "       0:00:17\n",
      "     adwin_loss\n",
      "       0:00:04\n",
      "   18 2021-07-05_22:27\n",
      "     shap_adwin\n",
      "       0:00:17\n",
      "     adwin_loss\n",
      "       0:00:04\n",
      "   19 2021-07-05_22:28\n",
      "     shap_adwin\n",
      "       0:00:18\n",
      "     adwin_loss\n",
      "       0:00:04\n"
     ]
    }
   ],
   "source": [
    "n_iter = 20\n",
    "\n",
    "dataset = \"smooth_drift_sabilized\"\n",
    "session_time = strftime(\"%Y-%m-%d_%H:%M\", gmtime())\n",
    "\n",
    "funcs = ['retrain_shap_adwin', 'retrain_adwin_loss']\n",
    "        \n",
    "for k in range(n_iter):\n",
    "    \n",
    "    session_time = strftime(\"%Y-%m-%d_%H:%M\", gmtime())\n",
    "    \n",
    "    D_G = Drift_generators(n_samples = int(7000), n_features = 3)\n",
    "    circle_centers = [[0.7 for i in range(D_G.n_features)],[0.7 for i in range(D_G.n_features)]]\n",
    "    D_G.new_smooth_concept_drift(n_drift = 2, circle_centers = circle_centers, drift_points= [2500,4500])\n",
    "    \n",
    "    print(\"  \",k, session_time)\n",
    "    for i, func in enumerate(funcs):\n",
    "        t1 = time.time()\n",
    "        print(\"    \",func[8:])\n",
    "        error, detection_indices = getattr(Drift_generators, func)(D_G)\n",
    "        print(\"      \",str(datetime.timedelta(seconds=int(time.time()-t1))))\n",
    "        name = \"/\"+ session_time\n",
    "        path = \"/home/TOTO/Documents/labs/data/results/\"+dataset+\"/\"+func[8:]\n",
    "        if(not os.path.isdir(path)):\n",
    "            os.mkdir(\"/home/TOTO/Documents/labs/data/results/\"+dataset+\"/\"+func[8:]);\n",
    "        pickle.dump( (error, detection_indices), open( path+name+\".p\", \"wb\" ))\n",
    "        \n",
    "    while(strftime(\"%Y-%m-%d_%H:%M\", gmtime()) == session_time):\n",
    "        time.sleep(5)"
   ]
  },
  {
   "cell_type": "code",
   "execution_count": null,
   "id": "small-calibration",
   "metadata": {},
   "outputs": [],
   "source": []
  },
  {
   "cell_type": "markdown",
   "id": "fewer-pioneer",
   "metadata": {},
   "source": [
    "## Covar xyz abrupt stabilized"
   ]
  },
  {
   "cell_type": "code",
   "execution_count": 13,
   "id": "moved-arctic",
   "metadata": {},
   "outputs": [],
   "source": [
    "from drift_generators import *\n",
    "from time import gmtime, strftime, time\n",
    "import os\n",
    "import pickle\n",
    "import datetime\n",
    "import time"
   ]
  },
  {
   "cell_type": "code",
   "execution_count": 14,
   "id": "subjective-wonder",
   "metadata": {},
   "outputs": [],
   "source": [
    "funcs= ['retrain_shap_adwin',\n",
    "         'retrain_adwin_loss']"
   ]
  },
  {
   "cell_type": "code",
   "execution_count": 15,
   "id": "democratic-petite",
   "metadata": {},
   "outputs": [
    {
     "data": {
      "image/png": "[encoded data removed]",
      "text/plain": [
       "<Figure size 720x576 with 1 Axes>"
      ]
     },
     "metadata": {
      "needs_background": "light"
     },
     "output_type": "display_data"
    }
   ],
   "source": [
    "D_G = Drift_generators(n_samples = int(6000), n_features = 3)\n",
    "d_centers = [(0, 0, 0.4, 0.25, 1),(0, 0.4, 1, 0, 0.25),\n",
    "            (1, 0, 0.4, 0.25, 1),(1, 0.4, 1, 0, 0.25),\n",
    "            (2, 0, 0.4, 0.25, 1),(2, 0.4, 1, 0, 0.25),]\n",
    "D_G.brutal_covariate_drift(d_centers=d_centers)\n",
    "\n",
    "D_G.retrain_nothing()\n",
    "D_G.plot_retrain()"
   ]
  },
  {
   "cell_type": "code",
   "execution_count": 16,
   "id": "comfortable-waters",
   "metadata": {},
   "outputs": [
    {
     "name": "stdout",
     "output_type": "stream",
     "text": [
      "   0 2021-07-05_22:29\n",
      "     shap_adwin\n",
      "       0:00:12\n",
      "     adwin_loss\n",
      "       0:00:03\n",
      "   1 2021-07-05_22:30\n",
      "     shap_adwin\n",
      "       0:00:12\n",
      "     adwin_loss\n",
      "       0:00:03\n",
      "   2 2021-07-05_22:31\n",
      "     shap_adwin\n",
      "       0:00:13\n",
      "     adwin_loss\n",
      "       0:00:03\n",
      "   3 2021-07-05_22:32\n",
      "     shap_adwin\n",
      "       0:00:12\n",
      "     adwin_loss\n",
      "       0:00:03\n",
      "   4 2021-07-05_22:33\n",
      "     shap_adwin\n",
      "       0:00:13\n",
      "     adwin_loss\n",
      "       0:00:03\n",
      "   5 2021-07-05_22:34\n",
      "     shap_adwin\n",
      "       0:00:12\n",
      "     adwin_loss\n",
      "       0:00:03\n",
      "   6 2021-07-05_22:35\n",
      "     shap_adwin\n",
      "       0:00:12\n",
      "     adwin_loss\n",
      "       0:00:03\n",
      "   7 2021-07-05_22:36\n",
      "     shap_adwin\n",
      "       0:00:13\n",
      "     adwin_loss\n",
      "       0:00:03\n",
      "   8 2021-07-05_22:37\n",
      "     shap_adwin\n",
      "       0:00:11\n",
      "     adwin_loss\n",
      "       0:00:03\n",
      "   9 2021-07-05_22:38\n",
      "     shap_adwin\n",
      "       0:00:12\n",
      "     adwin_loss\n",
      "       0:00:03\n",
      "   10 2021-07-05_22:39\n",
      "     shap_adwin\n",
      "       0:00:14\n",
      "     adwin_loss\n",
      "       0:00:03\n",
      "   11 2021-07-05_22:40\n",
      "     shap_adwin\n",
      "       0:00:13\n",
      "     adwin_loss\n",
      "       0:00:03\n",
      "   12 2021-07-05_22:41\n",
      "     shap_adwin\n",
      "       0:00:13\n",
      "     adwin_loss\n",
      "       0:00:03\n"
     ]
    }
   ],
   "source": [
    "n_iter = 13\n",
    "\n",
    "dataset = \"covar_xyz_drift_stabilized\"\n",
    "session_time = strftime(\"%Y-%m-%d_%H:%M\", gmtime())\n",
    "\n",
    "funcs = ['retrain_shap_adwin', 'retrain_adwin_loss']\n",
    "        \n",
    "for k in range(n_iter):\n",
    "    \n",
    "    session_time = strftime(\"%Y-%m-%d_%H:%M\", gmtime())\n",
    "    D_G = Drift_generators(n_samples = int(6000), n_features = 3)\n",
    "    d_centers = [(0, 0, 0.4, 0.25, 1),(0, 0.4, 1, 0, 0.25),\n",
    "                (1, 0, 0.4, 0.25, 1),(1, 0.4, 1, 0, 0.25),\n",
    "                (2, 0, 0.4, 0.25, 1),(2, 0.4, 1, 0, 0.25),]\n",
    "    D_G.brutal_covariate_drift(d_centers=d_centers)\n",
    "\n",
    "    print(\"  \",k, session_time)\n",
    "    for i, func in enumerate(funcs):\n",
    "        t1 = time.time()\n",
    "        print(\"    \",func[8:])\n",
    "        error, detection_indices = getattr(Drift_generators, func)(D_G)\n",
    "        print(\"      \",str(datetime.timedelta(seconds=int(time.time()-t1))))\n",
    "        name = \"/\"+ session_time\n",
    "        path = \"/home/TOTO/Documents/labs/data/results/\"+dataset+\"/\"+func[8:]\n",
    "        if(not os.path.isdir(path)):\n",
    "            os.mkdir(\"/home/TOTO/Documents/labs/data/results/\"+dataset+\"/\"+func[8:]);\n",
    "        pickle.dump( (error, detection_indices), open( path+name+\".p\", \"wb\" ))\n",
    "        \n",
    "    while(strftime(\"%Y-%m-%d_%H:%M\", gmtime()) == session_time):\n",
    "        time.sleep(5)"
   ]
  },
  {
   "cell_type": "code",
   "execution_count": null,
   "id": "union-investing",
   "metadata": {},
   "outputs": [],
   "source": []
  },
  {
   "cell_type": "code",
   "execution_count": null,
   "id": "inside-argument",
   "metadata": {},
   "outputs": [],
   "source": []
  },
  {
   "cell_type": "markdown",
   "id": "obvious-dallas",
   "metadata": {},
   "source": [
    "## Concept X abrupt stabilized"
   ]
  },
  {
   "cell_type": "code",
   "execution_count": 17,
   "id": "existing-eclipse",
   "metadata": {},
   "outputs": [],
   "source": [
    "from drift_generators import *\n",
    "from time import gmtime, strftime, time\n",
    "import os\n",
    "import pickle\n",
    "import datetime\n",
    "import time"
   ]
  },
  {
   "cell_type": "code",
   "execution_count": 18,
   "id": "running-burst",
   "metadata": {},
   "outputs": [],
   "source": [
    "funcs= ['retrain_shap_adwin',\n",
    "         'retrain_adwin_loss']"
   ]
  },
  {
   "cell_type": "code",
   "execution_count": 19,
   "id": "boolean-reference",
   "metadata": {},
   "outputs": [
    {
     "data": {
      "image/png": "[encoded data removed]",
      "text/plain": [
       "<Figure size 720x576 with 1 Axes>"
      ]
     },
     "metadata": {
      "needs_background": "light"
     },
     "output_type": "display_data"
    }
   ],
   "source": [
    "D_G = Drift_generators(n_samples = int(7000), n_features = 3)\n",
    "circle_centers = [[0.7]+[0.4 for i in range(1,D_G.n_features)]]\n",
    "D_G.brutal_concept_drift(n_drift = 1, circle_centers = circle_centers, drift_points=[2500])\n",
    "\n",
    "D_G.retrain_nothing()\n",
    "D_G.plot_retrain()"
   ]
  },
  {
   "cell_type": "code",
   "execution_count": 20,
   "id": "afraid-assessment",
   "metadata": {
    "scrolled": true
   },
   "outputs": [
    {
     "name": "stdout",
     "output_type": "stream",
     "text": [
      "   0 2021-07-05_22:42\n",
      "     shap_adwin\n",
      "       0:00:16\n",
      "     adwin_loss\n",
      "       0:00:04\n",
      "   1 2021-07-05_22:43\n",
      "     shap_adwin\n",
      "       0:00:17\n",
      "     adwin_loss\n",
      "       0:00:05\n",
      "   2 2021-07-05_22:44\n",
      "     shap_adwin\n",
      "       0:00:18\n",
      "     adwin_loss\n",
      "       0:00:04\n",
      "   3 2021-07-05_22:45\n",
      "     shap_adwin\n",
      "       0:00:18\n",
      "     adwin_loss\n",
      "       0:00:05\n",
      "   4 2021-07-05_22:46\n",
      "     shap_adwin\n",
      "       0:00:16\n",
      "     adwin_loss\n",
      "       0:00:04\n",
      "   5 2021-07-05_22:47\n",
      "     shap_adwin\n",
      "       0:00:17\n",
      "     adwin_loss\n",
      "       0:00:04\n",
      "   6 2021-07-05_22:48\n",
      "     shap_adwin\n",
      "       0:00:17\n",
      "     adwin_loss\n",
      "       0:00:04\n",
      "   7 2021-07-05_22:49\n",
      "     shap_adwin\n",
      "       0:00:17\n",
      "     adwin_loss\n",
      "       0:00:04\n",
      "   8 2021-07-05_22:50\n",
      "     shap_adwin\n",
      "       0:00:18\n",
      "     adwin_loss\n",
      "       0:00:04\n",
      "   9 2021-07-05_22:51\n",
      "     shap_adwin\n",
      "       0:00:16\n",
      "     adwin_loss\n",
      "       0:00:04\n",
      "   10 2021-07-05_22:52\n",
      "     shap_adwin\n",
      "       0:00:17\n",
      "     adwin_loss\n",
      "       0:00:04\n",
      "   11 2021-07-05_22:53\n",
      "     shap_adwin\n",
      "       0:00:16\n",
      "     adwin_loss\n",
      "       0:00:04\n",
      "   12 2021-07-05_22:54\n",
      "     shap_adwin\n",
      "       0:00:17\n",
      "     adwin_loss\n",
      "       0:00:04\n",
      "   13 2021-07-05_22:55\n",
      "     shap_adwin\n",
      "       0:00:16\n",
      "     adwin_loss\n",
      "       0:00:04\n",
      "   14 2021-07-05_22:56\n",
      "     shap_adwin\n",
      "       0:00:17\n",
      "     adwin_loss\n",
      "       0:00:05\n",
      "   15 2021-07-05_22:57\n",
      "     shap_adwin\n",
      "       0:00:18\n",
      "     adwin_loss\n",
      "       0:00:04\n",
      "   16 2021-07-05_22:58\n",
      "     shap_adwin\n",
      "       0:00:17\n",
      "     adwin_loss\n",
      "       0:00:04\n",
      "   17 2021-07-05_22:59\n",
      "     shap_adwin\n",
      "       0:00:17\n",
      "     adwin_loss\n",
      "       0:00:04\n",
      "   18 2021-07-05_23:00\n",
      "     shap_adwin\n",
      "       0:00:17\n",
      "     adwin_loss\n",
      "       0:00:04\n",
      "   19 2021-07-05_23:01\n",
      "     shap_adwin\n",
      "       0:00:19\n",
      "     adwin_loss\n",
      "       0:00:05\n"
     ]
    }
   ],
   "source": [
    "n_iter = 20\n",
    "\n",
    "dataset = \"concept_x_abrupt_stab\"\n",
    "session_time = strftime(\"%Y-%m-%d_%H:%M\", gmtime())\n",
    "\n",
    "funcs = ['retrain_shap_adwin', 'retrain_adwin_loss']\n",
    "        \n",
    "for k in range(n_iter):\n",
    "    \n",
    "    session_time = strftime(\"%Y-%m-%d_%H:%M\", gmtime())\n",
    "    D_G = Drift_generators(n_samples = int(7000), n_features = 3)\n",
    "    circle_centers = [[0.7]+[0.4 for i in range(1,D_G.n_features)]]\n",
    "    D_G.brutal_concept_drift(n_drift = 1, circle_centers = circle_centers, drift_points=[2500])\n",
    "\n",
    "    print(\"  \",k, session_time)\n",
    "    for i, func in enumerate(funcs):\n",
    "        t1 = time.time()\n",
    "        print(\"    \",func[8:])\n",
    "        error, detection_indices = getattr(Drift_generators, func)(D_G)\n",
    "        print(\"      \",str(datetime.timedelta(seconds=int(time.time()-t1))))\n",
    "        name = \"/\"+ session_time\n",
    "        path = \"/home/TOTO/Documents/labs/data/results/\"+dataset+\"/\"+func[8:]\n",
    "        if(not os.path.isdir(path)):\n",
    "            os.mkdir(\"/home/TOTO/Documents/labs/data/results/\"+dataset+\"/\"+func[8:]);\n",
    "        pickle.dump( (error, detection_indices), open( path+name+\".p\", \"wb\" ))\n",
    "        \n",
    "    while(strftime(\"%Y-%m-%d_%H:%M\", gmtime()) == session_time):\n",
    "        time.sleep(5)"
   ]
  },
  {
   "cell_type": "markdown",
   "id": "armed-difficulty",
   "metadata": {},
   "source": [
    "## Concept X smooth stabilized"
   ]
  },
  {
   "cell_type": "code",
   "execution_count": 21,
   "id": "advance-animal",
   "metadata": {},
   "outputs": [],
   "source": [
    "from drift_generators import *\n",
    "from time import gmtime, strftime, time\n",
    "import os\n",
    "import pickle\n",
    "import datetime\n",
    "import time"
   ]
  },
  {
   "cell_type": "code",
   "execution_count": 22,
   "id": "loving-detector",
   "metadata": {},
   "outputs": [],
   "source": [
    "funcs= ['retrain_shap_adwin',\n",
    "         'retrain_adwin_loss']"
   ]
  },
  {
   "cell_type": "code",
   "execution_count": 23,
   "id": "brief-laugh",
   "metadata": {},
   "outputs": [
    {
     "data": {
      "image/png": "[encoded data removed]",
      "text/plain": [
       "<Figure size 720x576 with 1 Axes>"
      ]
     },
     "metadata": {
      "needs_background": "light"
     },
     "output_type": "display_data"
    }
   ],
   "source": [
    "D_G = Drift_generators(n_samples = int(7000), n_features = 3)\n",
    "\n",
    "circle_centers = [[0.7]+[0.4 for i in range(1,D_G.n_features)], \n",
    "                  [0.7]+[0.4 for i in range(1,D_G.n_features)]]\n",
    "D_G.new_smooth_concept_drift(n_drift = 2, circle_centers = circle_centers, drift_points= [2500,4500])\n",
    "    \n",
    "\n",
    "D_G.retrain_nothing()\n",
    "D_G.plot_retrain()"
   ]
  },
  {
   "cell_type": "code",
   "execution_count": 24,
   "id": "roman-shopping",
   "metadata": {
    "scrolled": true
   },
   "outputs": [
    {
     "name": "stdout",
     "output_type": "stream",
     "text": [
      "   0 2021-07-05_23:02\n",
      "     shap_adwin\n",
      "       0:00:17\n",
      "     adwin_loss\n",
      "       0:00:04\n",
      "   1 2021-07-05_23:03\n",
      "     shap_adwin\n",
      "       0:00:17\n",
      "     adwin_loss\n",
      "       0:00:05\n",
      "   2 2021-07-05_23:04\n",
      "     shap_adwin\n",
      "       0:00:18\n",
      "     adwin_loss\n",
      "       0:00:04\n",
      "   3 2021-07-05_23:05\n",
      "     shap_adwin\n",
      "       0:00:18\n",
      "     adwin_loss\n",
      "       0:00:04\n",
      "   4 2021-07-05_23:06\n",
      "     shap_adwin\n",
      "       0:00:16\n",
      "     adwin_loss\n",
      "       0:00:04\n",
      "   5 2021-07-05_23:07\n",
      "     shap_adwin\n",
      "       0:00:16\n",
      "     adwin_loss\n",
      "       0:00:04\n",
      "   6 2021-07-05_23:08\n",
      "     shap_adwin\n",
      "       0:00:16\n",
      "     adwin_loss\n",
      "       0:00:04\n",
      "   7 2021-07-05_23:09\n",
      "     shap_adwin\n",
      "       0:00:16\n",
      "     adwin_loss\n",
      "       0:00:04\n",
      "   8 2021-07-05_23:10\n",
      "     shap_adwin\n",
      "       0:00:18\n",
      "     adwin_loss\n",
      "       0:00:05\n",
      "   9 2021-07-05_23:11\n",
      "     shap_adwin\n",
      "       0:00:17\n",
      "     adwin_loss\n",
      "       0:00:04\n",
      "   10 2021-07-05_23:12\n",
      "     shap_adwin\n",
      "       0:00:16\n",
      "     adwin_loss\n",
      "       0:00:04\n",
      "   11 2021-07-05_23:13\n",
      "     shap_adwin\n",
      "       0:00:17\n",
      "     adwin_loss\n",
      "       0:00:04\n",
      "   12 2021-07-05_23:14\n",
      "     shap_adwin\n",
      "       0:00:17\n",
      "     adwin_loss\n",
      "       0:00:05\n",
      "   13 2021-07-05_23:15\n",
      "     shap_adwin\n",
      "       0:00:17\n",
      "     adwin_loss\n",
      "       0:00:05\n",
      "   14 2021-07-05_23:16\n",
      "     shap_adwin\n",
      "       0:00:18\n",
      "     adwin_loss\n",
      "       0:00:04\n",
      "   15 2021-07-05_23:17\n",
      "     shap_adwin\n",
      "       0:00:18\n",
      "     adwin_loss\n",
      "       0:00:04\n",
      "   16 2021-07-05_23:18\n",
      "     shap_adwin\n",
      "       0:00:17\n",
      "     adwin_loss\n",
      "       0:00:04\n",
      "   17 2021-07-05_23:19\n",
      "     shap_adwin\n",
      "       0:00:17\n",
      "     adwin_loss\n",
      "       0:00:05\n",
      "   18 2021-07-05_23:20\n",
      "     shap_adwin\n",
      "       0:00:18\n",
      "     adwin_loss\n",
      "       0:00:05\n",
      "   19 2021-07-05_23:21\n",
      "     shap_adwin\n",
      "       0:00:18\n",
      "     adwin_loss\n",
      "       0:00:04\n"
     ]
    }
   ],
   "source": [
    "n_iter = 20\n",
    "\n",
    "dataset = \"smooth_x_drift_sabilized\"\n",
    "session_time = strftime(\"%Y-%m-%d_%H:%M\", gmtime())\n",
    "\n",
    "funcs = ['retrain_shap_adwin', 'retrain_adwin_loss']\n",
    "        \n",
    "for k in range(n_iter):\n",
    "    \n",
    "    session_time = strftime(\"%Y-%m-%d_%H:%M\", gmtime())\n",
    "    D_G = Drift_generators(n_samples = int(7000), n_features = 3)\n",
    "    circle_centers = [[0.7]+[0.4 for i in range(1,D_G.n_features)], \n",
    "                      [0.7]+[0.4 for i in range(1,D_G.n_features)]]\n",
    "    D_G.new_smooth_concept_drift(n_drift = 2, circle_centers = circle_centers, drift_points= [2500,4500])\n",
    "\n",
    "    print(\"  \",k, session_time)\n",
    "    for i, func in enumerate(funcs):\n",
    "        t1 = time.time()\n",
    "        print(\"    \",func[8:])\n",
    "        error, detection_indices = getattr(Drift_generators, func)(D_G)\n",
    "        print(\"      \",str(datetime.timedelta(seconds=int(time.time()-t1))))\n",
    "        name = \"/\"+ session_time\n",
    "        path = \"/home/TOTO/Documents/labs/data/results/\"+dataset+\"/\"+func[8:]\n",
    "        if(not os.path.isdir(path)):\n",
    "            os.mkdir(\"/home/TOTO/Documents/labs/data/results/\"+dataset+\"/\"+func[8:]);\n",
    "        pickle.dump( (error, detection_indices), open( path+name+\".p\", \"wb\" ))\n",
    "        \n",
    "    while(strftime(\"%Y-%m-%d_%H:%M\", gmtime()) == session_time):\n",
    "        time.sleep(5)"
   ]
  },
  {
   "cell_type": "markdown",
   "id": "portuguese-bacteria",
   "metadata": {},
   "source": [
    "## LOADED DATA - STAGGER"
   ]
  },
  {
   "cell_type": "code",
   "execution_count": 22,
   "id": "level-visiting",
   "metadata": {},
   "outputs": [],
   "source": [
    "from drift_generators import *\n",
    "from time import gmtime, strftime, time\n",
    "import os\n",
    "import pickle\n",
    "import datetime\n",
    "import time"
   ]
  },
  {
   "cell_type": "code",
   "execution_count": 23,
   "id": "moral-semester",
   "metadata": {},
   "outputs": [],
   "source": [
    "funcs= ['retrain_shap_adwin',\n",
    "         'retrain_adwin_loss']"
   ]
  },
  {
   "cell_type": "code",
   "execution_count": 24,
   "id": "deluxe-entrance",
   "metadata": {},
   "outputs": [
    {
     "data": {
      "image/png": "[encoded data removed]",
      "text/plain": [
       "<Figure size 720x576 with 1 Axes>"
      ]
     },
     "metadata": {
      "needs_background": "light"
     },
     "output_type": "display_data"
    }
   ],
   "source": [
    "D_G = Drift_generators()\n",
    "D_G.load_df(\"stagger_short\")\n",
    "D_G.df = D_G.df.iloc[:4000]\n",
    "D_G.drift_points = D_G.drift_points [:-1]\n",
    "D_G.n = 4000\n",
    "D_G.drift_points\n",
    "\n",
    "\n",
    "\n",
    "D_G.retrain_nothing()\n",
    "D_G.plot_retrain()"
   ]
  },
  {
   "cell_type": "code",
   "execution_count": 31,
   "id": "funny-novelty",
   "metadata": {},
   "outputs": [
    {
     "name": "stdout",
     "output_type": "stream",
     "text": [
      "stagger_short\n",
      "   0 2021-07-07_12:41\n",
      "     shap_adwin\n",
      "       0:00:07\n",
      "     adwin_loss\n",
      "       0:00:02\n",
      "sine1_short\n",
      "   0 2021-07-07_12:41\n",
      "     shap_adwin\n",
      "       0:00:07\n",
      "     adwin_loss\n",
      "       0:00:03\n",
      "sine2_short\n",
      "   0 2021-07-07_12:41\n",
      "     shap_adwin\n",
      "       0:00:11\n",
      "     adwin_loss\n",
      "       0:00:04\n",
      "stagger_short\n",
      "   1 2021-07-07_12:42\n",
      "     shap_adwin\n",
      "       0:00:11\n",
      "     adwin_loss\n",
      "       0:00:04\n",
      "sine1_short\n",
      "   1 2021-07-07_12:42\n",
      "     shap_adwin\n",
      "       0:00:10\n",
      "     adwin_loss\n",
      "       0:00:03\n",
      "sine2_short\n",
      "   1 2021-07-07_12:42\n",
      "     shap_adwin\n",
      "       0:00:13\n",
      "     adwin_loss\n",
      "       0:00:03\n",
      "stagger_short\n",
      "   2 2021-07-07_12:42\n",
      "     shap_adwin\n",
      "       0:00:08\n",
      "     adwin_loss\n",
      "       0:00:03\n",
      "sine1_short\n",
      "   2 2021-07-07_12:42\n",
      "     shap_adwin\n",
      "       0:00:09\n",
      "     adwin_loss\n",
      "       0:00:02\n",
      "sine2_short\n",
      "   2 2021-07-07_12:42\n",
      "     shap_adwin\n",
      "       0:00:09\n",
      "     adwin_loss\n",
      "       0:00:02\n",
      "stagger_short\n",
      "   3 2021-07-07_12:43\n",
      "     shap_adwin\n",
      "       0:00:09\n",
      "     adwin_loss\n",
      "       0:00:04\n",
      "sine1_short\n",
      "   3 2021-07-07_12:43\n",
      "     shap_adwin\n",
      "       0:00:10\n",
      "     adwin_loss\n",
      "       0:00:03\n",
      "sine2_short\n",
      "   3 2021-07-07_12:43\n",
      "     shap_adwin\n",
      "       0:00:09\n",
      "     adwin_loss\n",
      "       0:00:03\n",
      "stagger_short\n",
      "   4 2021-07-07_12:44\n",
      "     shap_adwin\n",
      "       0:00:09\n",
      "     adwin_loss\n",
      "       0:00:04\n",
      "sine1_short\n",
      "   4 2021-07-07_12:44\n",
      "     shap_adwin\n",
      "       0:00:11\n",
      "     adwin_loss\n",
      "       0:00:03\n",
      "sine2_short\n",
      "   4 2021-07-07_12:44\n",
      "     shap_adwin\n",
      "       0:00:11\n",
      "     adwin_loss\n",
      "       0:00:04\n",
      "stagger_short\n",
      "   5 2021-07-07_12:44\n",
      "     shap_adwin\n",
      "       0:00:12\n",
      "     adwin_loss\n",
      "       0:00:05\n",
      "sine1_short\n",
      "   5 2021-07-07_12:44\n",
      "     shap_adwin\n",
      "       0:00:10\n",
      "     adwin_loss\n",
      "       0:00:03\n",
      "sine2_short\n",
      "   5 2021-07-07_12:44\n",
      "     shap_adwin\n",
      "       0:00:09\n",
      "     adwin_loss\n",
      "       0:00:02\n",
      "stagger_short\n",
      "   6 2021-07-07_12:45\n",
      "     shap_adwin\n",
      "       0:00:09\n",
      "     adwin_loss\n",
      "       0:00:05\n",
      "sine1_short\n",
      "   6 2021-07-07_12:45\n",
      "     shap_adwin\n",
      "       0:00:11\n",
      "     adwin_loss\n",
      "       0:00:04\n",
      "sine2_short\n",
      "   6 2021-07-07_12:45\n",
      "     shap_adwin\n",
      "       0:00:11\n",
      "     adwin_loss\n",
      "       0:00:03\n",
      "stagger_short\n",
      "   7 2021-07-07_12:46\n",
      "     shap_adwin\n",
      "       0:00:10\n",
      "     adwin_loss\n",
      "       0:00:05\n",
      "sine1_short\n",
      "   7 2021-07-07_12:46\n",
      "     shap_adwin\n",
      "       0:00:10\n",
      "     adwin_loss\n",
      "       0:00:03\n",
      "sine2_short\n",
      "   7 2021-07-07_12:46\n",
      "     shap_adwin\n",
      "       0:00:13\n",
      "     adwin_loss\n",
      "       0:00:03\n",
      "stagger_short\n",
      "   8 2021-07-07_12:47\n",
      "     shap_adwin\n",
      "       0:00:11\n",
      "     adwin_loss\n",
      "       0:00:04\n",
      "sine1_short\n",
      "   8 2021-07-07_12:47\n",
      "     shap_adwin\n",
      "       0:00:10\n",
      "     adwin_loss\n",
      "       0:00:04\n",
      "sine2_short\n",
      "   8 2021-07-07_12:47\n",
      "     shap_adwin\n",
      "       0:00:11\n",
      "     adwin_loss\n",
      "       0:00:03\n",
      "stagger_short\n",
      "   9 2021-07-07_12:48\n",
      "     shap_adwin\n",
      "       0:00:08\n",
      "     adwin_loss\n",
      "       0:00:03\n",
      "sine1_short\n",
      "   9 2021-07-07_12:48\n",
      "     shap_adwin\n",
      "       0:00:13\n",
      "     adwin_loss\n",
      "       0:00:02\n",
      "sine2_short\n",
      "   9 2021-07-07_12:48\n",
      "     shap_adwin\n",
      "       0:00:12\n",
      "     adwin_loss\n",
      "       0:00:03\n",
      "stagger_short\n",
      "   10 2021-07-07_12:48\n",
      "     shap_adwin\n",
      "       0:00:12\n",
      "     adwin_loss\n",
      "       0:00:09\n",
      "sine1_short\n",
      "   10 2021-07-07_12:48\n",
      "     shap_adwin\n",
      "       0:00:10\n",
      "     adwin_loss\n",
      "       0:00:06\n",
      "sine2_short\n",
      "   10 2021-07-07_12:48\n",
      "     shap_adwin\n",
      "       0:00:09\n",
      "     adwin_loss\n",
      "       0:00:03\n",
      "stagger_short\n",
      "   11 2021-07-07_12:49\n",
      "     shap_adwin\n",
      "       0:00:09\n",
      "     adwin_loss\n",
      "       0:00:05\n",
      "sine1_short\n",
      "   11 2021-07-07_12:49\n",
      "     shap_adwin\n",
      "       0:00:10\n",
      "     adwin_loss\n",
      "       0:00:03\n",
      "sine2_short\n",
      "   11 2021-07-07_12:49\n",
      "     shap_adwin\n",
      "       0:00:11\n",
      "     adwin_loss\n",
      "       0:00:03\n",
      "stagger_short\n",
      "   12 2021-07-07_12:50\n",
      "     shap_adwin\n",
      "       0:00:11\n",
      "     adwin_loss\n",
      "       0:00:05\n",
      "sine1_short\n",
      "   12 2021-07-07_12:50\n",
      "     shap_adwin\n",
      "       0:00:11\n",
      "     adwin_loss\n",
      "       0:00:04\n",
      "sine2_short\n",
      "   12 2021-07-07_12:50\n",
      "     shap_adwin\n",
      "       0:00:11\n",
      "     adwin_loss\n",
      "       0:00:03\n",
      "stagger_short\n",
      "   13 2021-07-07_12:51\n",
      "     shap_adwin\n",
      "       0:00:10\n",
      "     adwin_loss\n",
      "       0:00:05\n",
      "sine1_short\n",
      "   13 2021-07-07_12:51\n",
      "     shap_adwin\n",
      "       0:00:11\n",
      "     adwin_loss\n",
      "       0:00:04\n",
      "sine2_short\n",
      "   13 2021-07-07_12:51\n",
      "     shap_adwin\n",
      "       0:00:11\n",
      "     adwin_loss\n",
      "       0:00:03\n",
      "stagger_short\n",
      "   14 2021-07-07_12:51\n",
      "     shap_adwin\n",
      "       0:00:08\n",
      "     adwin_loss\n",
      "       0:00:04\n",
      "sine1_short\n",
      "   14 2021-07-07_12:51\n",
      "     shap_adwin\n",
      "       0:00:11\n",
      "     adwin_loss\n",
      "       0:00:02\n",
      "sine2_short\n",
      "   14 2021-07-07_12:51\n",
      "     shap_adwin\n",
      "       0:00:10\n",
      "     adwin_loss\n",
      "       0:00:04\n",
      "stagger_short\n",
      "   15 2021-07-07_12:52\n",
      "     shap_adwin\n",
      "       0:00:09\n",
      "     adwin_loss\n",
      "       0:00:04\n",
      "sine1_short\n",
      "   15 2021-07-07_12:52\n",
      "     shap_adwin\n",
      "       0:00:13\n",
      "     adwin_loss\n",
      "       0:00:07\n",
      "sine2_short\n",
      "   15 2021-07-07_12:52\n",
      "     shap_adwin\n",
      "       0:00:11\n",
      "     adwin_loss\n",
      "       0:00:03\n",
      "stagger_short\n",
      "   16 2021-07-07_12:53\n",
      "     shap_adwin\n",
      "       0:00:14\n",
      "     adwin_loss\n",
      "       0:00:05\n",
      "sine1_short\n",
      "   16 2021-07-07_12:53\n",
      "     shap_adwin\n",
      "       0:00:15\n",
      "     adwin_loss\n",
      "       0:00:09\n",
      "sine2_short\n",
      "   16 2021-07-07_12:53\n",
      "     shap_adwin\n",
      "       0:00:16\n",
      "     adwin_loss\n",
      "       0:00:03\n",
      "stagger_short\n",
      "   17 2021-07-07_12:54\n",
      "     shap_adwin\n",
      "       0:00:08\n",
      "     adwin_loss\n",
      "       0:00:03\n",
      "sine1_short\n",
      "   17 2021-07-07_12:54\n",
      "     shap_adwin\n",
      "       0:00:09\n",
      "     adwin_loss\n",
      "       0:00:03\n",
      "sine2_short\n",
      "   17 2021-07-07_12:54\n",
      "     shap_adwin\n",
      "       0:00:10\n",
      "     adwin_loss\n",
      "       0:00:04\n",
      "stagger_short\n",
      "   18 2021-07-07_12:55\n",
      "     shap_adwin\n",
      "       0:00:11\n",
      "     adwin_loss\n",
      "       0:00:04\n",
      "sine1_short\n",
      "   18 2021-07-07_12:55\n",
      "     shap_adwin\n",
      "       0:00:11\n",
      "     adwin_loss\n",
      "       0:00:03\n",
      "sine2_short\n",
      "   18 2021-07-07_12:55\n",
      "     shap_adwin\n",
      "       0:00:11\n",
      "     adwin_loss\n",
      "       0:00:03\n",
      "stagger_short\n",
      "   19 2021-07-07_12:55\n",
      "     shap_adwin\n",
      "       0:00:09\n",
      "     adwin_loss\n",
      "       0:00:06\n",
      "sine1_short\n",
      "   19 2021-07-07_12:55\n",
      "     shap_adwin\n",
      "       0:00:11\n",
      "     adwin_loss\n",
      "       0:00:03\n",
      "sine2_short\n",
      "   19 2021-07-07_12:55\n",
      "     shap_adwin\n",
      "       0:00:10\n",
      "     adwin_loss\n",
      "       0:00:03\n"
     ]
    }
   ],
   "source": [
    "n_iter = 20\n",
    "\n",
    "loaded_datasets = [\"stagger_short\", \"sine1_short\", \"sine2_short\"]\n",
    "dataset = \"stagger_short_single\"\n",
    "session_time = strftime(\"%Y-%m-%d_%H:%M\", gmtime())\n",
    "\n",
    "funcs = ['retrain_shap_adwin', 'retrain_adwin_loss']\n",
    "\n",
    "for k in range(n_iter):    \n",
    "    session_time = strftime(\"%Y-%m-%d_%H:%M\", gmtime())\n",
    "    for dataset in loaded_datasets:\n",
    "        print(dataset)\n",
    "        D_G = Drift_generators()\n",
    "        D_G.load_df(dataset)\n",
    "        D_G.df = D_G.df.iloc[:4000]\n",
    "        D_G.drift_points = D_G.drift_points [:-1]\n",
    "        D_G.n = 4000\n",
    "        D_G.drift_points\n",
    "\n",
    "        print(\"  \",k, session_time)\n",
    "        for i, func in enumerate(funcs):\n",
    "            t1 = time.time()\n",
    "            print(\"    \",func[8:])\n",
    "            error, detection_indices = getattr(Drift_generators, func)(D_G)\n",
    "            print(\"      \",str(datetime.timedelta(seconds=int(time.time()-t1))))\n",
    "            name = \"/\"+ session_time\n",
    "            path = \"/home/TOTO/Documents/labs/data/results/\"+dataset+\"_single/\"+func[8:]\n",
    "            if(not os.path.isdir(path)):\n",
    "                os.mkdir(\"/home/TOTO/Documents/labs/data/results/\"+dataset+\"_single/\"+func[8:]);\n",
    "            pickle.dump( (error, detection_indices), open( path+name+\".p\", \"wb\" ))\n",
    "        \n",
    "while(strftime(\"%Y-%m-%d_%H:%M\", gmtime()) == session_time):\n",
    "    time.sleep(5)"
   ]
  },
  {
   "cell_type": "code",
   "execution_count": null,
   "id": "plain-flight",
   "metadata": {},
   "outputs": [],
   "source": []
  },
  {
   "cell_type": "markdown",
   "id": "herbal-affiliation",
   "metadata": {},
   "source": [
    "# SAME but with NOISE"
   ]
  },
  {
   "cell_type": "code",
   "execution_count": null,
   "id": "ultimate-cheat",
   "metadata": {},
   "outputs": [],
   "source": []
  },
  {
   "cell_type": "code",
   "execution_count": null,
   "id": "satisfactory-omega",
   "metadata": {},
   "outputs": [],
   "source": [
    "from drift_generators import *\n",
    "from time import gmtime, strftime, time\n",
    "import os\n",
    "import pickle\n",
    "import datetime\n",
    "import time"
   ]
  },
  {
   "cell_type": "code",
   "execution_count": null,
   "id": "efficient-spencer",
   "metadata": {},
   "outputs": [],
   "source": [
    "funcs= ['retrain_shap_adwin',\n",
    "         'retrain_adwin_loss',\n",
    "         'retrain_nothing']"
   ]
  },
  {
   "cell_type": "code",
   "execution_count": null,
   "id": "immune-pakistan",
   "metadata": {},
   "outputs": [],
   "source": [
    "D_G = Drift_generators(n_samples = int(6000), n_features = 3)\n",
    "d_centers = [(0, 0, 0.4, 0.25, 1),(0, 0.4, 1, 0, 0.25)]\n",
    "D_G.brutal_covariate_drift(d_centers=d_centers)\n",
    "\n",
    "D_G.retrain_nothing()\n",
    "D_G.plot_retrain()"
   ]
  },
  {
   "cell_type": "code",
   "execution_count": null,
   "id": "working-watch",
   "metadata": {
    "scrolled": true
   },
   "outputs": [],
   "source": [
    "n_iter = 1\n",
    "\n",
    "dataset = \"covar_x_drift_stabilized\"\n",
    "session_time = strftime(\"%Y-%m-%d_%H:%M\", gmtime())\n",
    "\n",
    "funcs = ['retrain_shap_adwin', 'retrain_adwin_loss']\n",
    "        \n",
    "for k in range(n_iter):\n",
    "    \n",
    "    session_time = strftime(\"%Y-%m-%d_%H:%M\", gmtime())\n",
    "    D_G = Drift_generators(n_samples = int(6000), n_features = 3)\n",
    "    d_centers = [(0, 0, 0.4, 0.25, 1),(0, 0.4, 1, 0, 0.25)]\n",
    "    D_G.brutal_covariate_drift(d_centers=d_centers)\n",
    "\n",
    "    print(\"  \",k, session_time)\n",
    "    for i, func in enumerate(funcs):\n",
    "        t1 = time.time()\n",
    "        print(\"    \",func[8:])\n",
    "        error, detection_indices = getattr(Drift_generators, func)(D_G)\n",
    "        print(\"      \",str(datetime.timedelta(seconds=int(time.time()-t1))))\n",
    "        name = \"/\"+ session_time\n",
    "        path = \"/home/TOTO/Documents/labs/data/results/\"+dataset+\"/\"+func[8:]\n",
    "        if(not os.path.isdir(path)):\n",
    "            os.mkdir(\"/home/TOTO/Documents/labs/data/results/\"+dataset+\"/\"+func[8:]);\n",
    "        pickle.dump( (error, detection_indices), open( path+name+\".p\", \"wb\" ))\n",
    "        \n",
    "    while(strftime(\"%Y-%m-%d_%H:%M\", gmtime()) == session_time):\n",
    "        time.sleep(5)"
   ]
  },
  {
   "cell_type": "code",
   "execution_count": null,
   "id": "universal-brand",
   "metadata": {},
   "outputs": [],
   "source": []
  },
  {
   "cell_type": "markdown",
   "id": "ahead-baker",
   "metadata": {},
   "source": [
    "## Concept abrupt stabilized"
   ]
  },
  {
   "cell_type": "code",
   "execution_count": 5,
   "id": "systematic-register",
   "metadata": {},
   "outputs": [],
   "source": [
    "from drift_generators import *\n",
    "from time import gmtime, strftime, time\n",
    "import os\n",
    "import pickle\n",
    "import datetime\n",
    "import time"
   ]
  },
  {
   "cell_type": "code",
   "execution_count": 6,
   "id": "interior-blogger",
   "metadata": {},
   "outputs": [],
   "source": [
    "funcs= ['retrain_shap_adwin',\n",
    "         'retrain_adwin_loss']"
   ]
  },
  {
   "cell_type": "code",
   "execution_count": 7,
   "id": "australian-outreach",
   "metadata": {},
   "outputs": [
    {
     "data": {
      "image/png": "[encoded data removed]",
      "text/plain": [
       "<Figure size 720x576 with 1 Axes>"
      ]
     },
     "metadata": {
      "needs_background": "light"
     },
     "output_type": "display_data"
    }
   ],
   "source": [
    "D_G = Drift_generators(n_samples = int(7000), n_features = 3)\n",
    "circle_centers = [[0.7 for i in range(D_G.n_features)]]\n",
    "D_G.brutal_concept_drift(n_drift = 1, circle_centers = circle_centers, drift_points=[2500])\n",
    "D_G.add_noise()\n",
    "\n",
    "\n",
    "D_G.retrain_nothing()\n",
    "D_G.plot_retrain()"
   ]
  },
  {
   "cell_type": "code",
   "execution_count": 8,
   "id": "under-floor",
   "metadata": {
    "scrolled": true
   },
   "outputs": [
    {
     "name": "stdout",
     "output_type": "stream",
     "text": [
      "   0 2021-07-07_09:07\n",
      "     shap_adwin\n",
      "       0:00:39\n",
      "     adwin_loss\n",
      "       0:00:08\n",
      "   1 2021-07-07_09:08\n",
      "     shap_adwin\n",
      "       0:00:44\n",
      "     adwin_loss\n",
      "       0:00:10\n",
      "   2 2021-07-07_09:09\n",
      "     shap_adwin\n",
      "       0:00:38\n",
      "     adwin_loss\n",
      "       0:00:10\n",
      "   3 2021-07-07_09:10\n",
      "     shap_adwin\n",
      "       0:00:44\n",
      "     adwin_loss\n",
      "       0:00:13\n",
      "   4 2021-07-07_09:11\n",
      "     shap_adwin\n",
      "       0:00:42\n",
      "     adwin_loss\n",
      "       0:00:09\n",
      "   5 2021-07-07_09:12\n",
      "     shap_adwin\n",
      "       0:00:34\n",
      "     adwin_loss\n",
      "       0:00:11\n",
      "   6 2021-07-07_09:13\n",
      "     shap_adwin\n",
      "       0:00:31\n",
      "     adwin_loss\n",
      "       0:00:07\n",
      "   7 2021-07-07_09:14\n",
      "     shap_adwin\n",
      "       0:00:31\n",
      "     adwin_loss\n",
      "       0:00:06\n",
      "   8 2021-07-07_09:15\n",
      "     shap_adwin\n",
      "       0:00:29\n",
      "     adwin_loss\n",
      "       0:00:07\n",
      "   9 2021-07-07_09:16\n",
      "     shap_adwin\n",
      "       0:00:32\n",
      "     adwin_loss\n",
      "       0:00:07\n",
      "   10 2021-07-07_09:17\n",
      "     shap_adwin\n",
      "       0:00:34\n",
      "     adwin_loss\n",
      "       0:00:10\n",
      "   11 2021-07-07_09:18\n",
      "     shap_adwin\n",
      "       0:00:35\n",
      "     adwin_loss\n",
      "       0:00:07\n",
      "   12 2021-07-07_09:19\n",
      "     shap_adwin\n",
      "       0:00:35\n",
      "     adwin_loss\n",
      "       0:00:12\n",
      "   13 2021-07-07_09:20\n",
      "     shap_adwin\n",
      "       0:00:52\n",
      "     adwin_loss\n",
      "       0:00:09\n",
      "   14 2021-07-07_09:21\n",
      "     shap_adwin\n",
      "       0:00:44\n",
      "     adwin_loss\n",
      "       0:00:16\n",
      "   15 2021-07-07_09:22\n",
      "     shap_adwin\n",
      "       0:00:42\n",
      "     adwin_loss\n",
      "       0:00:11\n",
      "   16 2021-07-07_09:23\n",
      "     shap_adwin\n",
      "       0:00:44\n",
      "     adwin_loss\n",
      "       0:00:06\n",
      "   17 2021-07-07_09:24\n",
      "     shap_adwin\n",
      "       0:00:45\n",
      "     adwin_loss\n",
      "       0:00:12\n",
      "   18 2021-07-07_09:25\n",
      "     shap_adwin\n",
      "       0:00:32\n",
      "     adwin_loss\n",
      "       0:00:07\n",
      "   19 2021-07-07_09:26\n",
      "     shap_adwin\n",
      "       0:00:34\n",
      "     adwin_loss\n",
      "       0:00:07\n"
     ]
    }
   ],
   "source": [
    "n_iter = 20\n",
    "\n",
    "dataset = \"concept_abrupt_stab\"+\"_noisy\"\n",
    "session_time = strftime(\"%Y-%m-%d_%H:%M\", gmtime())\n",
    "\n",
    "funcs = ['retrain_shap_adwin', 'retrain_adwin_loss']\n",
    "        \n",
    "for k in range(n_iter):\n",
    "    \n",
    "    session_time = strftime(\"%Y-%m-%d_%H:%M\", gmtime())\n",
    "    D_G = Drift_generators(n_samples = int(7000), n_features = 3)\n",
    "    circle_centers = [[0.7 for i in range(D_G.n_features)]]\n",
    "    D_G.brutal_concept_drift(n_drift = 1, circle_centers = circle_centers, drift_points=[2500])\n",
    "    D_G.add_noise()\n",
    "\n",
    "\n",
    "    print(\"  \",k, session_time)\n",
    "    for i, func in enumerate(funcs):\n",
    "        t1 = time.time()\n",
    "        print(\"    \",func[8:])\n",
    "        error, detection_indices = getattr(Drift_generators, func)(D_G)\n",
    "        print(\"      \",str(datetime.timedelta(seconds=int(time.time()-t1))))\n",
    "        name = \"/\"+ session_time\n",
    "        path = \"/home/TOTO/Documents/labs/data/results/\"+dataset+\"/\"+func[8:]\n",
    "        if(not os.path.isdir(path)):\n",
    "            os.mkdir(\"/home/TOTO/Documents/labs/data/results/\"+dataset+\"/\"+func[8:]);\n",
    "        pickle.dump( (error, detection_indices), open( path+name+\".p\", \"wb\" ))\n",
    "        \n",
    "    while(strftime(\"%Y-%m-%d_%H:%M\", gmtime()) == session_time):\n",
    "        time.sleep(5)"
   ]
  },
  {
   "cell_type": "markdown",
   "id": "sufficient-peter",
   "metadata": {},
   "source": [
    "## Concept smooth XYZ stabilized"
   ]
  },
  {
   "cell_type": "code",
   "execution_count": 9,
   "id": "disabled-bride",
   "metadata": {},
   "outputs": [],
   "source": [
    "from drift_generators import *\n",
    "from time import gmtime, strftime, time\n",
    "import os\n",
    "import pickle\n",
    "import datetime\n",
    "import time"
   ]
  },
  {
   "cell_type": "code",
   "execution_count": 10,
   "id": "chemical-guard",
   "metadata": {},
   "outputs": [],
   "source": [
    "funcs= ['retrain_shap_adwin',\n",
    "         'retrain_adwin_loss']"
   ]
  },
  {
   "cell_type": "code",
   "execution_count": 11,
   "id": "adequate-indie",
   "metadata": {},
   "outputs": [
    {
     "data": {
      "image/png": "[encoded data removed]",
      "text/plain": [
       "<Figure size 720x576 with 1 Axes>"
      ]
     },
     "metadata": {
      "needs_background": "light"
     },
     "output_type": "display_data"
    }
   ],
   "source": [
    "D_G = Drift_generators(n_samples = int(7000), n_features = 3)\n",
    "circle_centers = [[0.7 for i in range(D_G.n_features)]]\n",
    "D_G.brutal_concept_drift(n_drift = 1, circle_centers = circle_centers, drift_points=[2500])\n",
    "D_G.add_noise()\n",
    "\n",
    "\n",
    "D_G.retrain_nothing()\n",
    "D_G.plot_retrain()"
   ]
  },
  {
   "cell_type": "code",
   "execution_count": 12,
   "id": "supreme-moral",
   "metadata": {
    "scrolled": true
   },
   "outputs": [
    {
     "name": "stdout",
     "output_type": "stream",
     "text": [
      "   0 2021-07-07_09:27\n",
      "     shap_adwin\n",
      "       0:00:35\n",
      "     adwin_loss\n",
      "       0:00:06\n",
      "   1 2021-07-07_09:28\n",
      "     shap_adwin\n",
      "       0:00:41\n",
      "     adwin_loss\n",
      "       0:00:06\n",
      "   2 2021-07-07_09:29\n",
      "     shap_adwin\n",
      "       0:00:38\n",
      "     adwin_loss\n",
      "       0:00:09\n",
      "   3 2021-07-07_09:30\n",
      "     shap_adwin\n",
      "       0:00:34\n",
      "     adwin_loss\n",
      "       0:00:11\n",
      "   4 2021-07-07_09:31\n",
      "     shap_adwin\n",
      "       0:00:40\n",
      "     adwin_loss\n",
      "       0:00:08\n",
      "   5 2021-07-07_09:32\n",
      "     shap_adwin\n",
      "       0:00:35\n",
      "     adwin_loss\n",
      "       0:00:08\n",
      "   6 2021-07-07_09:33\n",
      "     shap_adwin\n",
      "       0:00:37\n",
      "     adwin_loss\n",
      "       0:00:12\n",
      "   7 2021-07-07_09:34\n",
      "     shap_adwin\n",
      "       0:00:37\n",
      "     adwin_loss\n",
      "       0:00:08\n",
      "   8 2021-07-07_09:35\n",
      "     shap_adwin\n",
      "       0:00:34\n",
      "     adwin_loss\n",
      "       0:00:08\n",
      "   9 2021-07-07_09:36\n",
      "     shap_adwin\n",
      "       0:00:44\n",
      "     adwin_loss\n",
      "       0:00:12\n",
      "   10 2021-07-07_09:37\n",
      "     shap_adwin\n",
      "       0:00:40\n",
      "     adwin_loss\n",
      "       0:00:13\n",
      "   11 2021-07-07_09:38\n",
      "     shap_adwin\n",
      "       0:00:32\n",
      "     adwin_loss\n",
      "       0:00:06\n",
      "   12 2021-07-07_09:39\n",
      "     shap_adwin\n",
      "       0:00:35\n",
      "     adwin_loss\n",
      "       0:00:06\n",
      "   13 2021-07-07_09:40\n",
      "     shap_adwin\n",
      "       0:00:40\n",
      "     adwin_loss\n",
      "       0:00:10\n",
      "   14 2021-07-07_09:41\n",
      "     shap_adwin\n",
      "       0:00:34\n",
      "     adwin_loss\n",
      "       0:00:06\n",
      "   15 2021-07-07_09:42\n",
      "     shap_adwin\n",
      "       0:00:34\n",
      "     adwin_loss\n",
      "       0:00:08\n",
      "   16 2021-07-07_09:43\n",
      "     shap_adwin\n",
      "       0:00:34\n",
      "     adwin_loss\n",
      "       0:00:10\n",
      "   17 2021-07-07_09:44\n",
      "     shap_adwin\n",
      "       0:01:09\n",
      "     adwin_loss\n",
      "       0:00:07\n",
      "   18 2021-07-07_09:45\n",
      "     shap_adwin\n",
      "       0:01:03\n",
      "     adwin_loss\n",
      "       0:00:08\n",
      "   19 2021-07-07_09:46\n",
      "     shap_adwin\n",
      "       0:00:41\n",
      "     adwin_loss\n",
      "       0:00:09\n"
     ]
    }
   ],
   "source": [
    "n_iter = 20\n",
    "\n",
    "dataset = \"smooth_drift_sabilized\"+\"_noisy\"\n",
    "session_time = strftime(\"%Y-%m-%d_%H:%M\", gmtime())\n",
    "\n",
    "funcs = ['retrain_shap_adwin', 'retrain_adwin_loss']\n",
    "        \n",
    "for k in range(n_iter):\n",
    "    \n",
    "    session_time = strftime(\"%Y-%m-%d_%H:%M\", gmtime())\n",
    "    \n",
    "    D_G = Drift_generators(n_samples = int(7000), n_features = 3)\n",
    "    circle_centers = [[0.7 for i in range(D_G.n_features)],[0.7 for i in range(D_G.n_features)]]\n",
    "    D_G.new_smooth_concept_drift(n_drift = 2, circle_centers = circle_centers, drift_points= [2500,4500])\n",
    "    D_G.add_noise()\n",
    "\n",
    "    \n",
    "    print(\"  \",k, session_time)\n",
    "    for i, func in enumerate(funcs):\n",
    "        t1 = time.time()\n",
    "        print(\"    \",func[8:])\n",
    "        error, detection_indices = getattr(Drift_generators, func)(D_G)\n",
    "        print(\"      \",str(datetime.timedelta(seconds=int(time.time()-t1))))\n",
    "        name = \"/\"+ session_time\n",
    "        path = \"/home/TOTO/Documents/labs/data/results/\"+dataset+\"/\"+func[8:]\n",
    "        if(not os.path.isdir(path)):\n",
    "            os.mkdir(\"/home/TOTO/Documents/labs/data/results/\"+dataset+\"/\"+func[8:]);\n",
    "        pickle.dump( (error, detection_indices), open( path+name+\".p\", \"wb\" ))\n",
    "        \n",
    "    while(strftime(\"%Y-%m-%d_%H:%M\", gmtime()) == session_time):\n",
    "        time.sleep(5)"
   ]
  },
  {
   "cell_type": "code",
   "execution_count": null,
   "id": "conventional-spine",
   "metadata": {},
   "outputs": [],
   "source": []
  },
  {
   "cell_type": "markdown",
   "id": "august-convert",
   "metadata": {},
   "source": [
    "## Covar xyz abrupt stabilized"
   ]
  },
  {
   "cell_type": "code",
   "execution_count": 13,
   "id": "acute-mineral",
   "metadata": {},
   "outputs": [],
   "source": [
    "from drift_generators import *\n",
    "from time import gmtime, strftime, time\n",
    "import os\n",
    "import pickle\n",
    "import datetime\n",
    "import time"
   ]
  },
  {
   "cell_type": "code",
   "execution_count": 14,
   "id": "sitting-cinema",
   "metadata": {},
   "outputs": [],
   "source": [
    "funcs= ['retrain_shap_adwin',\n",
    "         'retrain_adwin_loss']"
   ]
  },
  {
   "cell_type": "code",
   "execution_count": 15,
   "id": "operating-internship",
   "metadata": {},
   "outputs": [
    {
     "data": {
      "image/png": "[encoded data removed]",
      "text/plain": [
       "<Figure size 720x576 with 1 Axes>"
      ]
     },
     "metadata": {
      "needs_background": "light"
     },
     "output_type": "display_data"
    }
   ],
   "source": [
    "D_G = Drift_generators(n_samples = int(6000), n_features = 3)\n",
    "d_centers = [(0, 0, 0.4, 0.25, 1),(0, 0.4, 1, 0, 0.25),\n",
    "            (1, 0, 0.4, 0.25, 1),(1, 0.4, 1, 0, 0.25),\n",
    "            (2, 0, 0.4, 0.25, 1),(2, 0.4, 1, 0, 0.25),]\n",
    "D_G.brutal_covariate_drift(d_centers=d_centers)\n",
    "D_G.add_noise()\n",
    "\n",
    "\n",
    "D_G.retrain_nothing()\n",
    "D_G.plot_retrain()"
   ]
  },
  {
   "cell_type": "code",
   "execution_count": 16,
   "id": "strong-joseph",
   "metadata": {},
   "outputs": [
    {
     "name": "stdout",
     "output_type": "stream",
     "text": [
      "   0 2021-07-07_09:47\n",
      "     shap_adwin\n",
      "       0:00:27\n",
      "     adwin_loss\n",
      "       0:00:06\n",
      "   1 2021-07-07_09:48\n",
      "     shap_adwin\n",
      "       0:00:36\n",
      "     adwin_loss\n",
      "       0:00:06\n",
      "   2 2021-07-07_09:49\n",
      "     shap_adwin\n",
      "       0:00:38\n",
      "     adwin_loss\n",
      "       0:00:07\n",
      "   3 2021-07-07_09:50\n",
      "     shap_adwin\n",
      "       0:00:48\n",
      "     adwin_loss\n",
      "       0:00:48\n",
      "   4 2021-07-07_09:51\n",
      "     shap_adwin\n",
      "       0:00:34\n",
      "     adwin_loss\n",
      "       0:00:10\n",
      "   5 2021-07-07_09:52\n",
      "     shap_adwin\n",
      "       0:01:08\n",
      "     adwin_loss\n",
      "       0:00:11\n",
      "   6 2021-07-07_09:53\n",
      "     shap_adwin\n",
      "       0:01:00\n",
      "     adwin_loss\n",
      "       0:00:08\n",
      "   7 2021-07-07_09:54\n",
      "     shap_adwin\n",
      "       0:00:31\n",
      "     adwin_loss\n",
      "       0:00:09\n",
      "   8 2021-07-07_09:55\n",
      "     shap_adwin\n",
      "       0:01:46\n",
      "     adwin_loss\n",
      "       0:00:12\n",
      "   9 2021-07-07_09:57\n",
      "     shap_adwin\n",
      "       0:00:34\n",
      "     adwin_loss\n",
      "       0:00:08\n",
      "   10 2021-07-07_09:58\n",
      "     shap_adwin\n",
      "       0:00:41\n",
      "     adwin_loss\n",
      "       0:00:10\n",
      "   11 2021-07-07_09:59\n",
      "     shap_adwin\n",
      "       0:00:32\n",
      "     adwin_loss\n",
      "       0:00:09\n",
      "   12 2021-07-07_10:00\n",
      "     shap_adwin\n",
      "       0:01:33\n",
      "     adwin_loss\n",
      "       0:00:05\n"
     ]
    }
   ],
   "source": [
    "n_iter = 13\n",
    "\n",
    "dataset = \"covar_xyz_drift_stabilized\"+\"_noisy\"\n",
    "session_time = strftime(\"%Y-%m-%d_%H:%M\", gmtime())\n",
    "\n",
    "funcs = ['retrain_shap_adwin', 'retrain_adwin_loss']\n",
    "        \n",
    "for k in range(n_iter):\n",
    "    \n",
    "    session_time = strftime(\"%Y-%m-%d_%H:%M\", gmtime())\n",
    "    D_G = Drift_generators(n_samples = int(6000), n_features = 3)\n",
    "    d_centers = [(0, 0, 0.4, 0.25, 1),(0, 0.4, 1, 0, 0.25),\n",
    "                (1, 0, 0.4, 0.25, 1),(1, 0.4, 1, 0, 0.25),\n",
    "                (2, 0, 0.4, 0.25, 1),(2, 0.4, 1, 0, 0.25),]\n",
    "    D_G.brutal_covariate_drift(d_centers=d_centers)\n",
    "    D_G.add_noise()\n",
    "\n",
    "\n",
    "    print(\"  \",k, session_time)\n",
    "    for i, func in enumerate(funcs):\n",
    "        t1 = time.time()\n",
    "        print(\"    \",func[8:])\n",
    "        error, detection_indices = getattr(Drift_generators, func)(D_G)\n",
    "        print(\"      \",str(datetime.timedelta(seconds=int(time.time()-t1))))\n",
    "        name = \"/\"+ session_time\n",
    "        path = \"/home/TOTO/Documents/labs/data/results/\"+dataset+\"/\"+func[8:]\n",
    "        if(not os.path.isdir(path)):\n",
    "            os.mkdir(\"/home/TOTO/Documents/labs/data/results/\"+dataset+\"/\"+func[8:]);\n",
    "        pickle.dump( (error, detection_indices), open( path+name+\".p\", \"wb\" ))\n",
    "        \n",
    "    while(strftime(\"%Y-%m-%d_%H:%M\", gmtime()) == session_time):\n",
    "        time.sleep(5)"
   ]
  },
  {
   "cell_type": "code",
   "execution_count": null,
   "id": "animal-swiss",
   "metadata": {},
   "outputs": [],
   "source": []
  },
  {
   "cell_type": "code",
   "execution_count": null,
   "id": "weighted-aruba",
   "metadata": {},
   "outputs": [],
   "source": []
  },
  {
   "cell_type": "markdown",
   "id": "framed-knock",
   "metadata": {},
   "source": [
    "## Concept X abrupt stabilized"
   ]
  },
  {
   "cell_type": "code",
   "execution_count": 17,
   "id": "virtual-likelihood",
   "metadata": {},
   "outputs": [],
   "source": [
    "from drift_generators import *\n",
    "from time import gmtime, strftime, time\n",
    "import os\n",
    "import pickle\n",
    "import datetime\n",
    "import time"
   ]
  },
  {
   "cell_type": "code",
   "execution_count": 18,
   "id": "sublime-typing",
   "metadata": {},
   "outputs": [],
   "source": [
    "funcs= ['retrain_shap_adwin',\n",
    "         'retrain_adwin_loss']"
   ]
  },
  {
   "cell_type": "code",
   "execution_count": 19,
   "id": "guided-robert",
   "metadata": {},
   "outputs": [
    {
     "data": {
      "image/png": "[encoded data removed]",
      "text/plain": [
       "<Figure size 720x576 with 1 Axes>"
      ]
     },
     "metadata": {
      "needs_background": "light"
     },
     "output_type": "display_data"
    }
   ],
   "source": [
    "D_G = Drift_generators(n_samples = int(7000), n_features = 3)\n",
    "circle_centers = [[0.7]+[0.4 for i in range(1,D_G.n_features)]]\n",
    "D_G.brutal_concept_drift(n_drift = 1, circle_centers = circle_centers, drift_points=[2500])\n",
    "D_G.add_noise()\n",
    "\n",
    "D_G.retrain_nothing()\n",
    "D_G.plot_retrain()"
   ]
  },
  {
   "cell_type": "code",
   "execution_count": 20,
   "id": "animal-discharge",
   "metadata": {
    "scrolled": true
   },
   "outputs": [
    {
     "name": "stdout",
     "output_type": "stream",
     "text": [
      "   0 2021-07-07_10:01\n",
      "     shap_adwin\n",
      "       0:00:40\n",
      "     adwin_loss\n",
      "       0:00:11\n",
      "   1 2021-07-07_10:02\n",
      "     shap_adwin\n",
      "       0:00:40\n",
      "     adwin_loss\n",
      "       0:00:09\n",
      "   2 2021-07-07_10:03\n",
      "     shap_adwin\n",
      "       0:00:35\n",
      "     adwin_loss\n",
      "       0:00:09\n",
      "   3 2021-07-07_10:04\n",
      "     shap_adwin\n",
      "       0:00:44\n",
      "     adwin_loss\n",
      "       0:00:10\n",
      "   4 2021-07-07_10:05\n",
      "     shap_adwin\n",
      "       0:00:40\n",
      "     adwin_loss\n",
      "       0:00:08\n",
      "   5 2021-07-07_10:06\n",
      "     shap_adwin\n",
      "       0:00:38\n",
      "     adwin_loss\n",
      "       0:00:11\n",
      "   6 2021-07-07_10:07\n",
      "     shap_adwin\n",
      "       0:00:46\n",
      "     adwin_loss\n",
      "       0:00:10\n",
      "   7 2021-07-07_10:08\n",
      "     shap_adwin\n",
      "       0:00:41\n",
      "     adwin_loss\n",
      "       0:00:10\n",
      "   8 2021-07-07_10:09\n",
      "     shap_adwin\n",
      "       0:00:40\n",
      "     adwin_loss\n",
      "       0:00:12\n",
      "   9 2021-07-07_10:10\n",
      "     shap_adwin\n",
      "       0:00:48\n",
      "     adwin_loss\n",
      "       0:00:10\n",
      "   10 2021-07-07_10:11\n",
      "     shap_adwin\n",
      "       0:00:46\n",
      "     adwin_loss\n",
      "       0:00:11\n",
      "   11 2021-07-07_10:12\n",
      "     shap_adwin\n",
      "       0:00:52\n",
      "     adwin_loss\n",
      "       0:00:09\n",
      "   12 2021-07-07_10:13\n",
      "     shap_adwin\n",
      "       0:00:43\n",
      "     adwin_loss\n",
      "       0:00:12\n",
      "   13 2021-07-07_10:14\n",
      "     shap_adwin\n",
      "       0:00:54\n",
      "     adwin_loss\n",
      "       0:00:10\n",
      "   14 2021-07-07_10:15\n",
      "     shap_adwin\n",
      "       0:01:29\n",
      "     adwin_loss\n",
      "       0:00:08\n",
      "   15 2021-07-07_10:16\n",
      "     shap_adwin\n",
      "       0:00:39\n",
      "     adwin_loss\n",
      "       0:00:07\n",
      "   16 2021-07-07_10:17\n",
      "     shap_adwin\n",
      "       0:00:44\n",
      "     adwin_loss\n",
      "       0:00:09\n",
      "   17 2021-07-07_10:18\n",
      "     shap_adwin\n",
      "       0:00:44\n",
      "     adwin_loss\n",
      "       0:00:09\n",
      "   18 2021-07-07_10:19\n",
      "     shap_adwin\n",
      "       0:00:39\n",
      "     adwin_loss\n",
      "       0:00:08\n",
      "   19 2021-07-07_10:20\n",
      "     shap_adwin\n",
      "       0:00:43\n",
      "     adwin_loss\n",
      "       0:00:10\n"
     ]
    }
   ],
   "source": [
    "n_iter = 20\n",
    "\n",
    "dataset = \"concept_x_abrupt_stab\"+\"_noisy\"\n",
    "session_time = strftime(\"%Y-%m-%d_%H:%M\", gmtime())\n",
    "\n",
    "funcs = ['retrain_shap_adwin', 'retrain_adwin_loss']\n",
    "        \n",
    "for k in range(n_iter):\n",
    "    \n",
    "    session_time = strftime(\"%Y-%m-%d_%H:%M\", gmtime())\n",
    "    D_G = Drift_generators(n_samples = int(7000), n_features = 3)\n",
    "    circle_centers = [[0.7]+[0.4 for i in range(1,D_G.n_features)]]\n",
    "    D_G.brutal_concept_drift(n_drift = 1, circle_centers = circle_centers, drift_points=[2500])\n",
    "    D_G.add_noise()\n",
    "    print(\"  \",k, session_time)\n",
    "    for i, func in enumerate(funcs):\n",
    "        t1 = time.time()\n",
    "        print(\"    \",func[8:])\n",
    "        error, detection_indices = getattr(Drift_generators, func)(D_G)\n",
    "        print(\"      \",str(datetime.timedelta(seconds=int(time.time()-t1))))\n",
    "        name = \"/\"+ session_time\n",
    "        path = \"/home/TOTO/Documents/labs/data/results/\"+dataset+\"/\"+func[8:]\n",
    "        if(not os.path.isdir(path)):\n",
    "            os.mkdir(\"/home/TOTO/Documents/labs/data/results/\"+dataset+\"/\"+func[8:]);\n",
    "        pickle.dump( (error, detection_indices), open( path+name+\".p\", \"wb\" ))\n",
    "        \n",
    "    while(strftime(\"%Y-%m-%d_%H:%M\", gmtime()) == session_time):\n",
    "        time.sleep(5)"
   ]
  },
  {
   "cell_type": "markdown",
   "id": "placed-apple",
   "metadata": {},
   "source": [
    "## Concept X smooth stabilized"
   ]
  },
  {
   "cell_type": "code",
   "execution_count": 24,
   "id": "advisory-prediction",
   "metadata": {},
   "outputs": [],
   "source": [
    "from drift_generators import *\n",
    "from time import gmtime, strftime, time\n",
    "import os\n",
    "import pickle\n",
    "import datetime\n",
    "import time"
   ]
  },
  {
   "cell_type": "code",
   "execution_count": 25,
   "id": "earned-president",
   "metadata": {},
   "outputs": [],
   "source": [
    "funcs= ['retrain_shap_adwin',\n",
    "         'retrain_adwin_loss']"
   ]
  },
  {
   "cell_type": "code",
   "execution_count": 26,
   "id": "naked-reproduction",
   "metadata": {},
   "outputs": [
    {
     "data": {
      "image/png": "[encoded data removed]",
      "text/plain": [
       "<Figure size 720x576 with 1 Axes>"
      ]
     },
     "metadata": {
      "needs_background": "light"
     },
     "output_type": "display_data"
    }
   ],
   "source": [
    "D_G = Drift_generators(n_samples = int(7000), n_features = 3)\n",
    "\n",
    "circle_centers = [[0.7]+[0.4 for i in range(1,D_G.n_features)], \n",
    "                  [0.7]+[0.4 for i in range(1,D_G.n_features)]]\n",
    "D_G.new_smooth_concept_drift(n_drift = 2, circle_centers = circle_centers, drift_points= [2500,4500])\n",
    "D_G.add_noise()\n",
    "    \n",
    "D_G.retrain_nothing()\n",
    "D_G.plot_retrain()"
   ]
  },
  {
   "cell_type": "code",
   "execution_count": 21,
   "id": "executive-entertainment",
   "metadata": {
    "scrolled": true
   },
   "outputs": [
    {
     "name": "stdout",
     "output_type": "stream",
     "text": [
      "   0 2021-07-07_10:21\n",
      "     shap_adwin\n",
      "       0:00:43\n",
      "     adwin_loss\n",
      "       0:00:10\n",
      "   1 2021-07-07_10:22\n",
      "     shap_adwin\n",
      "       0:00:45\n",
      "     adwin_loss\n",
      "       0:00:09\n",
      "   2 2021-07-07_10:23\n",
      "     shap_adwin\n",
      "       0:00:35\n",
      "     adwin_loss\n",
      "       0:00:05\n",
      "   3 2021-07-07_10:24\n",
      "     shap_adwin\n",
      "       0:00:27\n",
      "     adwin_loss\n",
      "       0:00:05\n",
      "   4 2021-07-07_10:25\n",
      "     shap_adwin\n",
      "       0:00:27\n",
      "     adwin_loss\n",
      "       0:00:05\n",
      "   5 2021-07-07_10:26\n",
      "     shap_adwin\n",
      "       0:00:26\n",
      "     adwin_loss\n",
      "       0:00:05\n",
      "   6 2021-07-07_10:27\n",
      "     shap_adwin\n",
      "       0:00:26\n",
      "     adwin_loss\n",
      "       0:00:05\n",
      "   7 2021-07-07_10:28\n",
      "     shap_adwin\n",
      "       0:00:26\n",
      "     adwin_loss\n",
      "       0:00:05\n",
      "   8 2021-07-07_10:29\n",
      "     shap_adwin\n",
      "       0:00:26\n",
      "     adwin_loss\n",
      "       0:00:05\n",
      "   9 2021-07-07_10:30\n",
      "     shap_adwin\n",
      "       0:00:25\n",
      "     adwin_loss\n",
      "       0:00:05\n",
      "   10 2021-07-07_10:31\n",
      "     shap_adwin\n",
      "       0:00:26\n",
      "     adwin_loss\n",
      "       0:00:05\n",
      "   11 2021-07-07_10:32\n",
      "     shap_adwin\n",
      "       0:00:26\n",
      "     adwin_loss\n",
      "       0:00:05\n",
      "   12 2021-07-07_10:33\n",
      "     shap_adwin\n",
      "       0:00:26\n",
      "     adwin_loss\n",
      "       0:00:05\n",
      "   13 2021-07-07_10:34\n",
      "     shap_adwin\n",
      "       0:00:26\n",
      "     adwin_loss\n",
      "       0:00:05\n",
      "   14 2021-07-07_10:35\n",
      "     shap_adwin\n",
      "       0:00:26\n",
      "     adwin_loss\n",
      "       0:00:05\n",
      "   15 2021-07-07_10:36\n",
      "     shap_adwin\n",
      "       0:00:25\n",
      "     adwin_loss\n",
      "       0:00:05\n",
      "   16 2021-07-07_10:37\n",
      "     shap_adwin\n",
      "       0:00:25\n",
      "     adwin_loss\n",
      "       0:00:05\n",
      "   17 2021-07-07_10:38\n",
      "     shap_adwin\n",
      "       0:00:26\n",
      "     adwin_loss\n",
      "       0:00:05\n",
      "   18 2021-07-07_10:39\n",
      "     shap_adwin\n",
      "       0:00:26\n",
      "     adwin_loss\n",
      "       0:00:05\n",
      "   19 2021-07-07_10:40\n",
      "     shap_adwin\n",
      "       0:00:25\n",
      "     adwin_loss\n",
      "       0:00:05\n",
      "   20 2021-07-07_10:41\n",
      "     shap_adwin\n",
      "       0:00:25\n",
      "     adwin_loss\n",
      "       0:00:05\n",
      "   21 2021-07-07_10:42\n",
      "     shap_adwin\n",
      "       0:00:25\n",
      "     adwin_loss\n",
      "       0:00:05\n",
      "   22 2021-07-07_10:43\n",
      "     shap_adwin\n",
      "       0:00:26\n",
      "     adwin_loss\n",
      "       0:00:05\n",
      "   23 2021-07-07_10:44\n",
      "     shap_adwin\n",
      "       0:00:26\n",
      "     adwin_loss\n",
      "       0:00:05\n",
      "   24 2021-07-07_10:45\n",
      "     shap_adwin\n",
      "       0:00:27\n",
      "     adwin_loss\n",
      "       0:00:05\n",
      "   25 2021-07-07_10:46\n",
      "     shap_adwin\n",
      "       0:00:25\n",
      "     adwin_loss\n",
      "       0:00:05\n",
      "   26 2021-07-07_10:47\n",
      "     shap_adwin\n",
      "       0:00:26\n",
      "     adwin_loss\n",
      "       0:00:05\n",
      "   27 2021-07-07_10:48\n",
      "     shap_adwin\n",
      "       0:00:26\n",
      "     adwin_loss\n",
      "       0:00:05\n",
      "   28 2021-07-07_10:49\n",
      "     shap_adwin\n",
      "       0:00:28\n",
      "     adwin_loss\n",
      "       0:00:05\n",
      "   29 2021-07-07_10:50\n",
      "     shap_adwin\n",
      "       0:00:26\n",
      "     adwin_loss\n",
      "       0:00:05\n",
      "   30 2021-07-07_10:51\n",
      "     shap_adwin\n",
      "       0:00:26\n",
      "     adwin_loss\n",
      "       0:00:05\n",
      "   31 2021-07-07_10:52\n",
      "     shap_adwin\n",
      "       0:00:26\n",
      "     adwin_loss\n",
      "       0:00:06\n",
      "   32 2021-07-07_10:53\n",
      "     shap_adwin\n",
      "       0:00:26\n",
      "     adwin_loss\n",
      "       0:00:05\n",
      "   33 2021-07-07_10:54\n",
      "     shap_adwin\n",
      "       0:00:26\n",
      "     adwin_loss\n",
      "       0:00:05\n",
      "   34 2021-07-07_10:55\n",
      "     shap_adwin\n",
      "       0:00:27\n",
      "     adwin_loss\n",
      "       0:00:05\n",
      "   35 2021-07-07_10:56\n",
      "     shap_adwin\n",
      "       0:00:26\n",
      "     adwin_loss\n",
      "       0:00:06\n",
      "   36 2021-07-07_10:57\n",
      "     shap_adwin\n",
      "       0:00:25\n",
      "     adwin_loss\n",
      "       0:00:05\n",
      "   37 2021-07-07_10:58\n",
      "     shap_adwin\n",
      "       0:00:26\n",
      "     adwin_loss\n",
      "       0:00:05\n",
      "   38 2021-07-07_10:59\n",
      "     shap_adwin\n",
      "       0:00:26\n",
      "     adwin_loss\n",
      "       0:00:05\n",
      "   39 2021-07-07_11:00\n",
      "     shap_adwin\n",
      "       0:00:25\n",
      "     adwin_loss\n",
      "       0:00:05\n"
     ]
    }
   ],
   "source": [
    "n_iter = 40\n",
    "\n",
    "dataset = \"smooth_x_drift_sabilized\"+\"_noisy\"\n",
    "session_time = strftime(\"%Y-%m-%d_%H:%M\", gmtime())\n",
    "\n",
    "funcs = ['retrain_shap_adwin', 'retrain_adwin_loss']\n",
    "        \n",
    "for k in range(n_iter):\n",
    "    \n",
    "    session_time = strftime(\"%Y-%m-%d_%H:%M\", gmtime())\n",
    "    D_G = Drift_generators(n_samples = int(7000), n_features = 3)\n",
    "    circle_centers = [[0.7]+[0.4 for i in range(1,D_G.n_features)], \n",
    "                      [0.7]+[0.4 for i in range(1,D_G.n_features)]]\n",
    "    D_G.new_smooth_concept_drift(n_drift = 2, circle_centers = circle_centers, drift_points= [2500,4500])\n",
    "    D_G.add_noise()\n",
    "    \n",
    "    print(\"  \",k, session_time)\n",
    "    for i, func in enumerate(funcs):\n",
    "        t1 = time.time()\n",
    "        print(\"    \",func[8:])\n",
    "        error, detection_indices = getattr(Drift_generators, func)(D_G)\n",
    "        print(\"      \",str(datetime.timedelta(seconds=int(time.time()-t1))))\n",
    "        name = \"/\"+ session_time\n",
    "        path = \"/home/TOTO/Documents/labs/data/results/\"+dataset+\"/\"+func[8:]\n",
    "        if(not os.path.isdir(path)):\n",
    "            os.mkdir(\"/home/TOTO/Documents/labs/data/results/\"+dataset+\"/\"+func[8:]);\n",
    "        pickle.dump( (error, detection_indices), open( path+name+\".p\", \"wb\" ))\n",
    "        \n",
    "    while(strftime(\"%Y-%m-%d_%H:%M\", gmtime()) == session_time):\n",
    "        time.sleep(5)"
   ]
  },
  {
   "cell_type": "code",
   "execution_count": null,
   "id": "corresponding-rendering",
   "metadata": {},
   "outputs": [],
   "source": []
  },
  {
   "cell_type": "code",
   "execution_count": null,
   "id": "attached-degree",
   "metadata": {},
   "outputs": [],
   "source": []
  },
  {
   "cell_type": "markdown",
   "id": "broke-allowance",
   "metadata": {},
   "source": [
    "# END NOISE - END SINGLE DRIFT"
   ]
  },
  {
   "cell_type": "code",
   "execution_count": null,
   "id": "crude-differential",
   "metadata": {},
   "outputs": [],
   "source": []
  },
  {
   "cell_type": "code",
   "execution_count": null,
   "id": "accessible-chart",
   "metadata": {},
   "outputs": [],
   "source": []
  },
  {
   "cell_type": "code",
   "execution_count": null,
   "id": "increasing-leather",
   "metadata": {},
   "outputs": [],
   "source": []
  },
  {
   "cell_type": "code",
   "execution_count": null,
   "id": "fluid-answer",
   "metadata": {},
   "outputs": [],
   "source": []
  },
  {
   "cell_type": "code",
   "execution_count": null,
   "id": "thrown-attribute",
   "metadata": {},
   "outputs": [],
   "source": []
  },
  {
   "cell_type": "code",
   "execution_count": null,
   "id": "important-madonna",
   "metadata": {},
   "outputs": [],
   "source": []
  },
  {
   "cell_type": "markdown",
   "id": "backed-morning",
   "metadata": {},
   "source": [
    "## Concept abrupt back and forth"
   ]
  },
  {
   "cell_type": "code",
   "execution_count": null,
   "id": "obvious-pittsburgh",
   "metadata": {},
   "outputs": [],
   "source": [
    "from drift_generators import *\n",
    "from time import gmtime, strftime, time\n",
    "import os\n",
    "import pickle\n",
    "import datetime\n",
    "import time"
   ]
  },
  {
   "cell_type": "code",
   "execution_count": null,
   "id": "featured-station",
   "metadata": {},
   "outputs": [],
   "source": [
    "funcs= ['retrain_shap_adwin',\n",
    "         'retrain_adwin_loss',\n",
    "         'retrain_nothing']"
   ]
  },
  {
   "cell_type": "code",
   "execution_count": null,
   "id": "classical-demand",
   "metadata": {},
   "outputs": [],
   "source": [
    "D_G = Drift_generators(n_samples = int(7000), n_features = 3)\n",
    "D_G.back_and_forth_abrupt_drift()\n",
    "\n",
    "D_G.retrain_nothing()\n",
    "D_G.plot_retrain()"
   ]
  },
  {
   "cell_type": "code",
   "execution_count": null,
   "id": "attractive-voltage",
   "metadata": {
    "scrolled": true
   },
   "outputs": [
    {
     "name": "stdout",
     "output_type": "stream",
     "text": [
      "   0 2021-07-02_13:15\n",
      "     shap_adwin\n"
     ]
    }
   ],
   "source": [
    "n_iter = 20\n",
    "\n",
    "dataset = \"brutal_concept_backforth\"\n",
    "session_time = strftime(\"%Y-%m-%d_%H:%M\", gmtime())\n",
    "\n",
    "funcs = ['retrain_shap_adwin', 'retrain_adwin_loss']\n",
    "        \n",
    "for k in range(n_iter):\n",
    "    \n",
    "    session_time = strftime(\"%Y-%m-%d_%H:%M\", gmtime())\n",
    "    D_G = Drift_generators(n_samples = int(7000), n_features = 3)\n",
    "    D_G.back_and_forth_abrupt_drift()\n",
    "\n",
    "    print(\"  \",k, session_time)\n",
    "    for i, func in enumerate(funcs):\n",
    "        t1 = time.time()\n",
    "        print(\"    \",func[8:])\n",
    "        error, detection_indices = getattr(Drift_generators, func)(D_G)\n",
    "        print(\"      \",str(datetime.timedelta(seconds=int(time.time()-t1))))\n",
    "        name = \"/\"+ session_time\n",
    "        path = \"/home/TOTO/Documents/labs/data/results/\"+dataset+\"/\"+func[8:]\n",
    "        if(not os.path.isdir(path)):\n",
    "            os.mkdir(\"/home/TOTO/Documents/labs/data/results/\"+dataset+\"/\"+func[8:]);\n",
    "        pickle.dump( (error, detection_indices), open( path+name+\".p\", \"wb\" ))\n",
    "        \n",
    "    while(strftime(\"%Y-%m-%d_%H:%M\", gmtime()) == session_time):\n",
    "        time.sleep(5)"
   ]
  },
  {
   "cell_type": "markdown",
   "id": "superior-window",
   "metadata": {},
   "source": [
    "## Covar abrupt back and forth"
   ]
  },
  {
   "cell_type": "code",
   "execution_count": 29,
   "id": "plastic-purchase",
   "metadata": {},
   "outputs": [],
   "source": [
    "from drift_generators import *\n",
    "from time import gmtime, strftime, time\n",
    "import os\n",
    "import pickle\n",
    "import datetime\n",
    "import time"
   ]
  },
  {
   "cell_type": "code",
   "execution_count": 30,
   "id": "homeless-plate",
   "metadata": {},
   "outputs": [],
   "source": [
    "funcs= ['retrain_shap_adwin',\n",
    "         'retrain_adwin_loss',\n",
    "         'retrain_nothing']"
   ]
  },
  {
   "cell_type": "code",
   "execution_count": 31,
   "id": "instant-couple",
   "metadata": {},
   "outputs": [
    {
     "data": {
      "image/png": "[encoded data removed]",
      "text/plain": [
       "<Figure size 720x576 with 1 Axes>"
      ]
     },
     "metadata": {
      "needs_background": "light"
     },
     "output_type": "display_data"
    }
   ],
   "source": [
    "D_G = Drift_generators(n_samples = int(10**4), n_features = 3)\n",
    "d_centers = [(0, 0, 0.3, 0.25, 1),(0, 0.3, 0.5, 0, 0.25),(0, 0.5, 1, 0.25, 1)]\n",
    "D_G.brutal_covariate_drift(d_centers=d_centers)\n",
    "\n",
    "D_G.retrain_nothing()\n",
    "D_G.plot_retrain()"
   ]
  },
  {
   "cell_type": "code",
   "execution_count": null,
   "id": "progressive-pledge",
   "metadata": {
    "scrolled": true
   },
   "outputs": [
    {
     "name": "stdout",
     "output_type": "stream",
     "text": [
      "   0 2021-07-02_13:15\n",
      "     shap_adwin\n"
     ]
    }
   ],
   "source": [
    "n_iter = 20\n",
    "\n",
    "dataset = \"brutal_covar_backforth_0_25\"\n",
    "session_time = strftime(\"%Y-%m-%d_%H:%M\", gmtime())\n",
    "\n",
    "funcs = ['retrain_shap_adwin', 'retrain_adwin_loss']\n",
    "        \n",
    "for k in range(n_iter):\n",
    "    \n",
    "    session_time = strftime(\"%Y-%m-%d_%H:%M\", gmtime())\n",
    "    D_G = Drift_generators(n_samples = int(10**4), n_features = 3)\n",
    "    d_centers = [(0, 0, 0.3, 0.25, 1),(0, 0.3, 0.5, 0, 0.25),(0, 0.5, 1, 0.25, 1)]\n",
    "    D_G.brutal_covariate_drift(d_centers=d_centers)\n",
    "\n",
    "    print(\"  \",k, session_time)\n",
    "    for i, func in enumerate(funcs):\n",
    "        t1 = time.time()\n",
    "        print(\"    \",func[8:])\n",
    "        error, detection_indices = getattr(Drift_generators, func)(D_G)\n",
    "        print(\"      \",str(datetime.timedelta(seconds=int(time.time()-t1))))\n",
    "        name = \"/\"+ session_time\n",
    "        path = \"/home/TOTO/Documents/labs/data/results/\"+dataset+\"/\"+func[8:]\n",
    "        if(not os.path.isdir(path)):\n",
    "            os.mkdir(\"/home/TOTO/Documents/labs/data/results/\"+dataset+\"/\"+func[8:]);\n",
    "        pickle.dump( (error, detection_indices), open( path+name+\".p\", \"wb\" ))\n",
    "        \n",
    "    while(strftime(\"%Y-%m-%d_%H:%M\", gmtime()) == session_time):\n",
    "        time.sleep(5)"
   ]
  },
  {
   "cell_type": "markdown",
   "id": "studied-trading",
   "metadata": {},
   "source": [
    "## Concept smooth back and forth"
   ]
  },
  {
   "cell_type": "code",
   "execution_count": 29,
   "id": "conservative-ladder",
   "metadata": {},
   "outputs": [],
   "source": [
    "from drift_generators import *\n",
    "from time import gmtime, strftime, time\n",
    "import os\n",
    "import pickle\n",
    "import datetime\n",
    "import time"
   ]
  },
  {
   "cell_type": "code",
   "execution_count": 30,
   "id": "corresponding-hunger",
   "metadata": {},
   "outputs": [],
   "source": [
    "funcs= ['retrain_shap_adwin',\n",
    "         'retrain_adwin_loss',\n",
    "         'retrain_nothing']"
   ]
  },
  {
   "cell_type": "code",
   "execution_count": 31,
   "id": "muslim-millennium",
   "metadata": {},
   "outputs": [
    {
     "data": {
      "image/png": "[encoded data removed]",
      "text/plain": [
       "<Figure size 720x576 with 1 Axes>"
      ]
     },
     "metadata": {
      "needs_background": "light"
     },
     "output_type": "display_data"
    }
   ],
   "source": [
    "D_G = Drift_generators(n_samples = int(7000), n_features = 3)\n",
    "D_G.back_and_forth_smooth_drift()\n",
    "\n",
    "D_G.retrain_nothing()\n",
    "D_G.plot_retrain()"
   ]
  },
  {
   "cell_type": "code",
   "execution_count": null,
   "id": "electric-thickness",
   "metadata": {
    "scrolled": true
   },
   "outputs": [
    {
     "name": "stdout",
     "output_type": "stream",
     "text": [
      "   0 2021-07-02_13:15\n",
      "     shap_adwin\n"
     ]
    }
   ],
   "source": [
    "n_iter = 20\n",
    "\n",
    "dataset = \"back_and_forth_smooth_drift\"\n",
    "session_time = strftime(\"%Y-%m-%d_%H:%M\", gmtime())\n",
    "\n",
    "funcs = ['retrain_shap_adwin', 'retrain_adwin_loss']\n",
    "        \n",
    "for k in range(n_iter):\n",
    "    \n",
    "    session_time = strftime(\"%Y-%m-%d_%H:%M\", gmtime())\n",
    "    D_G = Drift_generators(n_samples = int(7000), n_features = 3)\n",
    "    D_G.back_and_forth_smooth_drift()\n",
    "\n",
    "    print(\"  \",k, session_time)\n",
    "    for i, func in enumerate(funcs):\n",
    "        t1 = time.time()\n",
    "        print(\"    \",func[8:])\n",
    "        error, detection_indices = getattr(Drift_generators, func)(D_G)\n",
    "        print(\"      \",str(datevtime.timedelta(seconds=int(time.time()-t1))))\n",
    "        name = \"/\"+ session_time\n",
    "        path = \"/home/TOTO/Documents/labs/data/results/\"+dataset+\"/\"+func[8:]\n",
    "        if(not os.path.isdir(path)):\n",
    "            os.mkdir(\"/home/TOTO/Documents/labs/data/results/\"+dataset+\"/\"+func[8:]);\n",
    "        pickle.dump( (error, detection_indices), open( path+name+\".p\", \"wb\" ))\n",
    "        \n",
    "    while(strftime(\"%Y-%m-%d_%H:%M\", gmtime()) == session_time):\n",
    "        time.sleep(5)"
   ]
  },
  {
   "cell_type": "code",
   "execution_count": null,
   "id": "fifth-pavilion",
   "metadata": {},
   "outputs": [],
   "source": []
  },
  {
   "cell_type": "markdown",
   "id": "absent-webster",
   "metadata": {},
   "source": [
    "# CHANGING DELTA"
   ]
  },
  {
   "cell_type": "code",
   "execution_count": 1,
   "id": "vocal-survey",
   "metadata": {},
   "outputs": [],
   "source": [
    "from drift_generators import *\n",
    "from time import gmtime, strftime, time\n",
    "import os\n",
    "import pickle\n",
    "import datetime\n",
    "import time"
   ]
  },
  {
   "cell_type": "code",
   "execution_count": 2,
   "id": "accessory-ministry",
   "metadata": {},
   "outputs": [],
   "source": [
    "funcs = [func for func in dir(Drift_generators) if callable(getattr(Drift_generators, func))\n",
    "         and not func.startswith(\"__\")\n",
    "         and \"retrain\" in func and not \"plot\" in func and not \"perf\" in func]"
   ]
  },
  {
   "cell_type": "code",
   "execution_count": 4,
   "id": "coastal-mercury",
   "metadata": {
    "scrolled": true
   },
   "outputs": [
    {
     "data": {
      "text/plain": [
       "['retrain_shap_adwin_back_best',\n",
       " 'retrain_shap_adwin_back_train',\n",
       " 'retrain_shap_adwin_back_worse',\n",
       " 'retrain_shap_adwin_smallback',\n",
       " 'retrain_shap_adwin',\n",
       " 'retrain_adwin_loss',\n",
       " 'retrain_nothing',\n",
       " 'retrain_arf']"
      ]
     },
     "execution_count": 4,
     "metadata": {},
     "output_type": "execute_result"
    }
   ],
   "source": [
    "funcs = [func for func in dir(Drift_generators) if callable(getattr(Drift_generators, func))\n",
    "         and not func.startswith(\"__\")\n",
    "         and \"retrain\" in func and not \"plot\" in func and not \"perf\" in func]\n",
    "funcs = [x for x in funcs if \"back\" in x]\n",
    "funcs.append(\"retrain_shap_adwin\")\n",
    "funcs.append(\"retrain_adwin_loss\")\n",
    "funcs.append(\"retrain_nothing\")\n",
    "funcs.append(\"retrain_arf\")\n",
    "funcs"
   ]
  },
  {
   "cell_type": "code",
   "execution_count": 7,
   "id": "abstract-catalyst",
   "metadata": {},
   "outputs": [],
   "source": [
    "funcs= ['retrain_shap_adwin',\n",
    "         'retrain_adwin_loss']"
   ]
  },
  {
   "cell_type": "code",
   "execution_count": 8,
   "id": "indian-offer",
   "metadata": {},
   "outputs": [
    {
     "data": {
      "image/png": "[encoded data removed]",
      "text/plain": [
       "<Figure size 720x576 with 1 Axes>"
      ]
     },
     "metadata": {
      "needs_background": "light"
     },
     "output_type": "display_data"
    }
   ],
   "source": [
    "\n",
    "D_G = Drift_generators(n_samples = int(7000), n_features = 3)\n",
    "circle_centers = [[0.7 for i in range(D_G.n_features)],[0.7 for i in range(D_G.n_features)]]\n",
    "D_G.new_smooth_concept_drift(n_drift = 2, circle_centers = circle_centers, drift_points= [2500,4500])\n",
    "#D_G.smooth_concept_drift\n",
    "D_G.retrain_nothing()\n",
    "D_G.plot_retrain()"
   ]
  },
  {
   "cell_type": "code",
   "execution_count": 11,
   "id": "worse-atmosphere",
   "metadata": {
    "scrolled": true
   },
   "outputs": [
    {
     "name": "stdout",
     "output_type": "stream",
     "text": [
      "     shap_adwin(0.1)\n",
      "       0:00:43\n",
      "     adwin_loss(0.1)\n",
      "       0:00:11\n",
      "     shap_adwin(0.02)\n",
      "       0:00:47\n",
      "     adwin_loss(0.02)\n",
      "       0:00:12\n",
      "     shap_adwin(0.01)\n",
      "       0:00:37\n",
      "     adwin_loss(0.01)\n",
      "       0:00:10\n",
      "     shap_adwin(0.005)\n",
      "       0:00:46\n",
      "     adwin_loss(0.005)\n",
      "       0:00:11\n",
      "     shap_adwin(0.001)\n",
      "       0:00:44\n",
      "     adwin_loss(0.001)\n",
      "       0:00:10\n",
      "     shap_adwin(0.0001)\n",
      "       0:00:50\n",
      "     adwin_loss(0.0001)\n",
      "       0:00:07\n",
      "     shap_adwin(0.1)\n",
      "       0:00:35\n",
      "     adwin_loss(0.1)\n",
      "       0:00:08\n",
      "     shap_adwin(0.02)\n",
      "       0:00:48\n",
      "     adwin_loss(0.02)\n",
      "       0:00:07\n",
      "     shap_adwin(0.01)\n",
      "       0:00:43\n",
      "     adwin_loss(0.01)\n",
      "       0:00:08\n",
      "     shap_adwin(0.005)\n",
      "       0:00:47\n",
      "     adwin_loss(0.005)\n",
      "       0:00:09\n",
      "     shap_adwin(0.001)\n",
      "       0:00:43\n",
      "     adwin_loss(0.001)\n",
      "       0:00:12\n",
      "     shap_adwin(0.0001)\n",
      "       0:00:40\n",
      "     adwin_loss(0.0001)\n",
      "       0:00:07\n",
      "     shap_adwin(0.1)\n",
      "       0:00:47\n",
      "     adwin_loss(0.1)\n",
      "       0:00:08\n",
      "     shap_adwin(0.02)\n",
      "       0:00:49\n",
      "     adwin_loss(0.02)\n",
      "       0:00:08\n",
      "     shap_adwin(0.01)\n",
      "       0:00:41\n",
      "     adwin_loss(0.01)\n",
      "       0:00:15\n",
      "     shap_adwin(0.005)\n",
      "       0:00:47\n",
      "     adwin_loss(0.005)\n",
      "       0:00:08\n",
      "     shap_adwin(0.001)\n",
      "       0:00:51\n",
      "     adwin_loss(0.001)\n",
      "       0:00:09\n",
      "     shap_adwin(0.0001)\n",
      "       0:00:41\n",
      "     adwin_loss(0.0001)\n",
      "       0:00:11\n",
      "     shap_adwin(0.1)\n",
      "       0:00:57\n",
      "     adwin_loss(0.1)\n",
      "       0:00:16\n",
      "     shap_adwin(0.02)\n",
      "       0:00:40\n",
      "     adwin_loss(0.02)\n",
      "       0:00:13\n",
      "     shap_adwin(0.01)\n",
      "       0:00:45\n",
      "     adwin_loss(0.01)\n",
      "       0:00:11\n",
      "     shap_adwin(0.005)\n",
      "       0:00:55\n",
      "     adwin_loss(0.005)\n",
      "       0:00:13\n",
      "     shap_adwin(0.001)\n",
      "       0:00:40\n",
      "     adwin_loss(0.001)\n",
      "       0:00:07\n",
      "     shap_adwin(0.0001)\n",
      "       0:00:45\n",
      "     adwin_loss(0.0001)\n",
      "       0:00:16\n",
      "     shap_adwin(0.1)\n",
      "       0:00:46\n",
      "     adwin_loss(0.1)\n",
      "       0:00:15\n",
      "     shap_adwin(0.02)\n",
      "       0:00:40\n",
      "     adwin_loss(0.02)\n",
      "       0:00:07\n",
      "     shap_adwin(0.01)\n",
      "       0:00:35\n",
      "     adwin_loss(0.01)\n",
      "       0:00:07\n",
      "     shap_adwin(0.005)\n",
      "       0:00:34\n",
      "     adwin_loss(0.005)\n",
      "       0:00:06\n",
      "     shap_adwin(0.001)\n",
      "       0:00:36\n",
      "     adwin_loss(0.001)\n",
      "       0:00:15\n",
      "     shap_adwin(0.0001)\n",
      "       0:00:50\n",
      "     adwin_loss(0.0001)\n",
      "       0:00:10\n",
      "     shap_adwin(0.1)\n",
      "       0:00:45\n",
      "     adwin_loss(0.1)\n",
      "       0:00:08\n",
      "     shap_adwin(0.02)\n",
      "       0:00:49\n",
      "     adwin_loss(0.02)\n",
      "       0:00:10\n",
      "     shap_adwin(0.01)\n",
      "       0:00:45\n",
      "     adwin_loss(0.01)\n",
      "       0:00:10\n",
      "     shap_adwin(0.005)\n",
      "       0:00:46\n",
      "     adwin_loss(0.005)\n",
      "       0:00:11\n",
      "     shap_adwin(0.001)\n",
      "       0:00:49\n",
      "     adwin_loss(0.001)\n",
      "       0:00:09\n",
      "     shap_adwin(0.0001)\n",
      "       0:00:46\n",
      "     adwin_loss(0.0001)\n",
      "       0:00:12\n",
      "     shap_adwin(0.1)\n",
      "       0:00:41\n",
      "     adwin_loss(0.1)\n",
      "       0:00:14\n",
      "     shap_adwin(0.02)\n",
      "       0:00:37\n",
      "     adwin_loss(0.02)\n",
      "       0:00:07\n",
      "     shap_adwin(0.01)\n",
      "       0:00:57\n",
      "     adwin_loss(0.01)\n",
      "       0:00:11\n",
      "     shap_adwin(0.005)\n",
      "       0:00:47\n",
      "     adwin_loss(0.005)\n",
      "       0:00:07\n",
      "     shap_adwin(0.001)\n",
      "       0:00:49\n",
      "     adwin_loss(0.001)\n",
      "       0:00:13\n",
      "     shap_adwin(0.0001)\n",
      "       0:00:34\n",
      "     adwin_loss(0.0001)\n",
      "       0:00:07\n",
      "     shap_adwin(0.1)\n",
      "       0:00:51\n",
      "     adwin_loss(0.1)\n",
      "       0:00:07\n",
      "     shap_adwin(0.02)\n",
      "       0:00:34\n",
      "     adwin_loss(0.02)\n",
      "       0:00:10\n",
      "     shap_adwin(0.01)\n",
      "       0:00:42\n",
      "     adwin_loss(0.01)\n",
      "       0:00:07\n",
      "     shap_adwin(0.005)\n",
      "       0:00:50\n",
      "     adwin_loss(0.005)\n",
      "       0:00:09\n",
      "     shap_adwin(0.001)\n",
      "       0:00:54\n",
      "     adwin_loss(0.001)\n",
      "       0:00:10\n",
      "     shap_adwin(0.0001)\n",
      "       0:00:50\n",
      "     adwin_loss(0.0001)\n",
      "       0:00:07\n",
      "     shap_adwin(0.1)\n",
      "       0:00:38\n",
      "     adwin_loss(0.1)\n",
      "       0:00:08\n",
      "     shap_adwin(0.02)\n",
      "       0:00:50\n",
      "     adwin_loss(0.02)\n",
      "       0:00:09\n",
      "     shap_adwin(0.01)\n",
      "       0:00:42\n",
      "     adwin_loss(0.01)\n",
      "       0:00:11\n",
      "     shap_adwin(0.005)\n",
      "       0:00:36\n",
      "     adwin_loss(0.005)\n",
      "       0:00:08\n",
      "     shap_adwin(0.001)\n",
      "       0:00:37\n",
      "     adwin_loss(0.001)\n",
      "       0:00:05\n",
      "     shap_adwin(0.0001)\n",
      "       0:00:28\n",
      "     adwin_loss(0.0001)\n",
      "       0:00:05\n",
      "     shap_adwin(0.1)\n",
      "       0:00:28\n",
      "     adwin_loss(0.1)\n",
      "       0:00:05\n",
      "     shap_adwin(0.02)\n",
      "       0:00:28\n",
      "     adwin_loss(0.02)\n",
      "       0:00:05\n",
      "     shap_adwin(0.01)\n",
      "       0:00:29\n",
      "     adwin_loss(0.01)\n",
      "       0:00:05\n",
      "     shap_adwin(0.005)\n",
      "       0:00:28\n",
      "     adwin_loss(0.005)\n",
      "       0:00:05\n",
      "     shap_adwin(0.001)\n",
      "       0:00:28\n",
      "     adwin_loss(0.001)\n",
      "       0:00:05\n",
      "     shap_adwin(0.0001)\n",
      "       0:00:28\n",
      "     adwin_loss(0.0001)\n",
      "       0:00:05\n"
     ]
    }
   ],
   "source": [
    "n_iter = 10\n",
    "\n",
    "dataset = \"smooth_drift_sabilized_noisy\"\n",
    "session_time = strftime(\"%Y-%m-%d_%H:%M\", gmtime())\n",
    "\n",
    "funcs = ['retrain_shap_adwin', 'retrain_adwin_loss']\n",
    "        \n",
    "D_G = Drift_generators()\n",
    "for k in range(n_iter):\n",
    "    \n",
    "    session_time = strftime(\"%Y-%m-%d_%H:%M\", gmtime())\n",
    "    D_G = Drift_generators(n_samples = int(7000), n_features = 3)\n",
    "    circle_centers = [[0.7 for i in range(D_G.n_features)],[0.7 for i in range(D_G.n_features)]]\n",
    "    D_G.new_smooth_concept_drift(n_drift = 2, circle_centers = circle_centers, drift_points= [2500,4500])\n",
    "    D_G.add_noise()\n",
    "    \n",
    "    for beta_d in [0.1, 0.02, 0.01, 0.005, 0.001, 0.0001]:\n",
    "        for func in funcs:        \n",
    "\n",
    "            t1 = time.time()\n",
    "            print(\"    \",func[8:]+\"(\"+str(beta_d)+\")\")\n",
    "            error, detection_indices = getattr(Drift_generators, func)(D_G, beta_d = beta_d)\n",
    "            print(\"      \",str(datetime.timedelta(seconds=int(time.time()-t1))))\n",
    "            \n",
    "            name = \"/\"+ session_time\n",
    "            path = \"/home/TOTO/Documents/labs/data/results/\"+dataset+\"/\"+func[8:]+\"_\"+str(beta_d)\n",
    "            if(not os.path.isdir(path)):\n",
    "                os.mkdir(\"/home/TOTO/Documents/labs/data/results/\"+dataset+\"/\"+func[8:]+\"_\"+str(beta_d));\n",
    "            pickle.dump( (error, detection_indices), open( path+name+\".p\", \"wb\" ))\n",
    "\n",
    "    while(strftime(\"%Y-%m-%d_%H:%M\", gmtime()) == session_time):\n",
    "        time.sleep(5)"
   ]
  },
  {
   "cell_type": "markdown",
   "id": "conscious-biography",
   "metadata": {},
   "source": [
    "### HERE"
   ]
  },
  {
   "cell_type": "code",
   "execution_count": null,
   "id": "oriented-boost",
   "metadata": {},
   "outputs": [],
   "source": []
  },
  {
   "cell_type": "code",
   "execution_count": null,
   "id": "sized-deadline",
   "metadata": {},
   "outputs": [],
   "source": []
  },
  {
   "cell_type": "code",
   "execution_count": 8,
   "id": "burning-freeze",
   "metadata": {},
   "outputs": [
    {
     "data": {
      "text/plain": [
       "['retrain_shap_adwin', 'retrain_adwin_loss']"
      ]
     },
     "execution_count": 8,
     "metadata": {},
     "output_type": "execute_result"
    }
   ],
   "source": [
    "funcs"
   ]
  },
  {
   "cell_type": "code",
   "execution_count": 33,
   "id": "absent-ridge",
   "metadata": {
    "scrolled": true
   },
   "outputs": [
    {
     "name": "stdout",
     "output_type": "stream",
     "text": [
      "   0 2021-06-22_12:31\n",
      "     shap_adwin\n",
      "       0:00:40\n",
      "     adwin_loss\n",
      "       0:00:06\n",
      "     nothing\n",
      "       0:00:00\n",
      "   1 2021-06-22_12:32\n",
      "     shap_adwin\n",
      "       0:00:31\n",
      "     adwin_loss\n",
      "       0:00:06\n",
      "     nothing\n",
      "       0:00:00\n",
      "   2 2021-06-22_12:33\n",
      "     shap_adwin\n",
      "       0:00:33\n",
      "     adwin_loss\n",
      "       0:00:06\n",
      "     nothing\n",
      "       0:00:00\n",
      "   3 2021-06-22_12:34\n",
      "     shap_adwin\n",
      "       0:00:31\n",
      "     adwin_loss\n",
      "       0:00:07\n",
      "     nothing\n",
      "       0:00:00\n",
      "   4 2021-06-22_12:35\n",
      "     shap_adwin\n",
      "       0:00:38\n",
      "     adwin_loss\n",
      "       0:00:06\n",
      "     nothing\n",
      "       0:00:00\n",
      "   5 2021-06-22_12:36\n",
      "     shap_adwin\n",
      "       0:00:40\n",
      "     adwin_loss\n",
      "       0:00:10\n",
      "     nothing\n",
      "       0:00:00\n",
      "   6 2021-06-22_12:37\n",
      "     shap_adwin\n",
      "       0:00:33\n",
      "     adwin_loss\n",
      "       0:00:08\n",
      "     nothing\n",
      "       0:00:00\n",
      "   7 2021-06-22_12:38\n",
      "     shap_adwin\n",
      "       0:00:44\n",
      "     adwin_loss\n",
      "       0:00:07\n",
      "     nothing\n",
      "       0:00:00\n",
      "   8 2021-06-22_12:39\n",
      "     shap_adwin\n",
      "       0:00:50\n",
      "     adwin_loss\n",
      "       0:00:11\n",
      "     nothing\n",
      "       0:00:00\n",
      "   9 2021-06-22_12:40\n",
      "     shap_adwin\n",
      "       0:00:36\n",
      "     adwin_loss\n",
      "       0:00:06\n",
      "     nothing\n",
      "       0:00:00\n",
      "   10 2021-06-22_12:41\n",
      "     shap_adwin\n",
      "       0:00:38\n",
      "     adwin_loss\n",
      "       0:00:07\n",
      "     nothing\n",
      "       0:00:00\n",
      "   11 2021-06-22_12:42\n",
      "     shap_adwin\n",
      "       0:00:32\n",
      "     adwin_loss\n",
      "       0:00:06\n",
      "     nothing\n",
      "       0:00:00\n",
      "   12 2021-06-22_12:43\n",
      "     shap_adwin\n",
      "       0:00:44\n",
      "     adwin_loss\n",
      "       0:00:15\n",
      "     nothing\n",
      "       0:00:00\n",
      "   13 2021-06-22_12:44\n",
      "     shap_adwin\n",
      "       0:00:29\n",
      "     adwin_loss\n",
      "       0:00:05\n",
      "     nothing\n",
      "       0:00:00\n",
      "   14 2021-06-22_12:45\n",
      "     shap_adwin\n",
      "       0:00:25\n",
      "     adwin_loss\n",
      "       0:00:05\n",
      "     nothing\n",
      "       0:00:00\n",
      "   15 2021-06-22_12:46\n",
      "     shap_adwin\n",
      "       0:00:23\n",
      "     adwin_loss\n",
      "       0:00:05\n",
      "     nothing\n",
      "       0:00:00\n",
      "   16 2021-06-22_12:47\n",
      "     shap_adwin\n",
      "       0:00:23\n",
      "     adwin_loss\n",
      "       0:00:05\n",
      "     nothing\n",
      "       0:00:00\n",
      "   17 2021-06-22_12:48\n",
      "     shap_adwin\n",
      "       0:01:30\n",
      "     adwin_loss\n",
      "       0:00:06\n",
      "     nothing\n",
      "       0:00:00\n",
      "   18 2021-06-22_12:49\n",
      "     shap_adwin\n",
      "       0:00:37\n",
      "     adwin_loss\n",
      "       0:00:10\n",
      "     nothing\n",
      "       0:00:00\n",
      "   19 2021-06-22_12:50\n",
      "     shap_adwin\n",
      "       0:00:53\n",
      "     adwin_loss\n",
      "       0:00:08\n",
      "     nothing\n",
      "       0:00:00\n"
     ]
    }
   ],
   "source": [
    "n_iter = 20\n",
    "dataset = \"smooth_drift_sabilized_noisy\"\n",
    "\n",
    "session_time = strftime(\"%Y-%m-%d_%H:%M\", gmtime())\n",
    "\n",
    "D_G = Drift_generators()\n",
    "for k in range(n_iter):\n",
    "    session_time = strftime(\"%Y-%m-%d_%H:%M\", gmtime())\n",
    "\n",
    "    D_G = Drift_generators(n_samples = int(10000), n_features = 3)\n",
    "    circle_centers = [[0.7 for i in range(D_G.n_features)],[0.7 for i in range(D_G.n_features)]]\n",
    "    D_G.new_smooth_concept_drift(n_drift = 2, circle_centers = circle_centers, drift_points= [2500,4500])\n",
    "    D_G.add_noise()\n",
    "\n",
    "    print(\"  \",k, session_time)\n",
    "    for i, func in enumerate(funcs):\n",
    "        t1 = time.time()\n",
    "        print(\"    \",func[8:])\n",
    "        error, detection_indices = getattr(Drift_generators, func)(D_G)\n",
    "        print(\"      \",str(datetime.timedelta(seconds=int(time.time()-t1))))\n",
    "        name = \"/\"+ session_time\n",
    "        path = \"/home/TOTO/Documents/labs/data/results/\"+dataset+\"/\"+func[8:]\n",
    "        if(not os.path.isdir(path)):\n",
    "            os.mkdir(\"/home/TOTO/Documents/labs/data/results/\"+dataset+\"/\"+func[8:]);\n",
    "        pickle.dump( (error, detection_indices), open( path+name+\".p\", \"wb\" ))\n",
    "        \n",
    "    while(strftime(\"%Y-%m-%d_%H:%M\", gmtime()) == session_time):\n",
    "        time.sleep(5)"
   ]
  },
  {
   "cell_type": "code",
   "execution_count": 34,
   "id": "marine-oracle",
   "metadata": {
    "scrolled": true
   },
   "outputs": [
    {
     "name": "stdout",
     "output_type": "stream",
     "text": [
      "   0 2021-06-22_12:51\n",
      "     shap_adwin\n",
      "       0:00:31\n",
      "     adwin_loss\n",
      "       0:00:19\n",
      "     nothing\n",
      "       0:00:00\n",
      "   1 2021-06-22_12:52\n",
      "     shap_adwin\n",
      "       0:00:38\n",
      "     adwin_loss\n",
      "       0:00:08\n",
      "     nothing\n",
      "       0:00:00\n",
      "   2 2021-06-22_12:53\n",
      "     shap_adwin\n",
      "       0:00:46\n",
      "     adwin_loss\n",
      "       0:00:06\n",
      "     nothing\n",
      "       0:00:00\n",
      "   3 2021-06-22_12:54\n",
      "     shap_adwin\n",
      "       0:00:30\n",
      "     adwin_loss\n",
      "       0:00:07\n",
      "     nothing\n",
      "       0:00:00\n",
      "   4 2021-06-22_12:55\n",
      "     shap_adwin\n",
      "       0:00:42\n",
      "     adwin_loss\n",
      "       0:00:08\n",
      "     nothing\n",
      "       0:00:00\n",
      "   5 2021-06-22_12:56\n",
      "     shap_adwin\n",
      "       0:00:28\n",
      "     adwin_loss\n",
      "       0:00:06\n",
      "     nothing\n",
      "       0:00:00\n",
      "   6 2021-06-22_12:57\n",
      "     shap_adwin\n",
      "       0:00:33\n",
      "     adwin_loss\n",
      "       0:00:05\n",
      "     nothing\n",
      "       0:00:00\n",
      "   7 2021-06-22_12:58\n",
      "     shap_adwin\n",
      "       0:01:08\n",
      "     adwin_loss\n",
      "       0:00:10\n",
      "     nothing\n",
      "       0:00:00\n",
      "   8 2021-06-22_12:59\n",
      "     shap_adwin\n",
      "       0:00:29\n",
      "     adwin_loss\n",
      "       0:00:06\n",
      "     nothing\n",
      "       0:00:00\n",
      "   9 2021-06-22_13:00\n",
      "     shap_adwin\n",
      "       0:00:30\n",
      "     adwin_loss\n",
      "       0:00:07\n",
      "     nothing\n",
      "       0:00:00\n",
      "   10 2021-06-22_13:01\n",
      "     shap_adwin\n",
      "       0:00:31\n",
      "     adwin_loss\n",
      "       0:00:09\n",
      "     nothing\n",
      "       0:00:00\n",
      "   11 2021-06-22_13:02\n",
      "     shap_adwin\n",
      "       0:00:37\n",
      "     adwin_loss\n",
      "       0:00:10\n",
      "     nothing\n",
      "       0:00:00\n",
      "   12 2021-06-22_13:03\n",
      "     shap_adwin\n",
      "       0:00:27\n",
      "     adwin_loss\n",
      "       0:00:09\n",
      "     nothing\n",
      "       0:00:00\n",
      "   13 2021-06-22_13:04\n",
      "     shap_adwin\n",
      "       0:00:34\n",
      "     adwin_loss\n",
      "       0:00:09\n",
      "     nothing\n",
      "       0:00:00\n",
      "   14 2021-06-22_13:05\n",
      "     shap_adwin\n",
      "       0:00:31\n",
      "     adwin_loss\n",
      "       0:00:08\n",
      "     nothing\n",
      "       0:00:00\n",
      "   15 2021-06-22_13:06\n",
      "     shap_adwin\n",
      "       0:00:32\n",
      "     adwin_loss\n",
      "       0:00:07\n",
      "     nothing\n",
      "       0:00:00\n",
      "   16 2021-06-22_13:07\n",
      "     shap_adwin\n",
      "       0:00:26\n",
      "     adwin_loss\n",
      "       0:00:05\n",
      "     nothing\n",
      "       0:00:00\n",
      "   17 2021-06-22_13:08\n",
      "     shap_adwin\n",
      "       0:00:19\n",
      "     adwin_loss\n",
      "       0:00:08\n",
      "     nothing\n",
      "       0:00:00\n",
      "   18 2021-06-22_13:09\n",
      "     shap_adwin\n",
      "       0:00:25\n",
      "     adwin_loss\n",
      "       0:00:07\n",
      "     nothing\n",
      "       0:00:00\n",
      "   19 2021-06-22_13:10\n",
      "     shap_adwin\n",
      "       0:00:26\n",
      "     adwin_loss\n",
      "       0:00:08\n",
      "     nothing\n",
      "       0:00:00\n"
     ]
    }
   ],
   "source": [
    "n_iter = 20\n",
    "dataset = \"smooth_drift_sabilized\"\n",
    "\n",
    "session_time = strftime(\"%Y-%m-%d_%H:%M\", gmtime())\n",
    "\n",
    "D_G = Drift_generators()\n",
    "for k in range(n_iter):\n",
    "    session_time = strftime(\"%Y-%m-%d_%H:%M\", gmtime())\n",
    "\n",
    "    D_G = Drift_generators(n_samples = int(7000), n_features = 3)\n",
    "    circle_centers = [[0.7 for i in range(D_G.n_features)],[0.7 for i in range(D_G.n_features)]]\n",
    "    D_G.new_smooth_concept_drift(n_drift = 2, circle_centers = circle_centers, drift_points= [2500,4500])\n",
    "    \n",
    "    print(\"  \",k, session_time)\n",
    "    for i, func in enumerate(funcs):\n",
    "        t1 = time.time()\n",
    "        print(\"    \",func[8:])\n",
    "        error, detection_indices = getattr(Drift_generators, func)(D_G)\n",
    "        print(\"      \",str(datetime.timedelta(seconds=int(time.time()-t1))))\n",
    "        name = \"/\"+ session_time\n",
    "        path = \"/home/TOTO/Documents/labs/data/results/\"+dataset+\"/\"+func[8:]\n",
    "        if(not os.path.isdir(path)):\n",
    "            os.mkdir(\"/home/TOTO/Documents/labs/data/results/\"+dataset+\"/\"+func[8:]);\n",
    "        pickle.dump( (error, detection_indices), open( path+name+\".p\", \"wb\" ))\n",
    "        \n",
    "    while(strftime(\"%Y-%m-%d_%H:%M\", gmtime()) == session_time):\n",
    "        time.sleep(5)"
   ]
  },
  {
   "cell_type": "code",
   "execution_count": null,
   "id": "united-madonna",
   "metadata": {},
   "outputs": [],
   "source": []
  },
  {
   "cell_type": "code",
   "execution_count": null,
   "id": "alive-camel",
   "metadata": {},
   "outputs": [],
   "source": []
  },
  {
   "cell_type": "code",
   "execution_count": null,
   "id": "becoming-updating",
   "metadata": {},
   "outputs": [],
   "source": []
  },
  {
   "cell_type": "markdown",
   "id": "anticipated-indonesian",
   "metadata": {},
   "source": [
    "# Old code just in case"
   ]
  },
  {
   "cell_type": "code",
   "execution_count": null,
   "id": "useful-syndicate",
   "metadata": {},
   "outputs": [],
   "source": [
    "n_iter = 15\n",
    "dataset = \"brutal_concept_backforth\"\n",
    "\n",
    "session_time = strftime(\"%Y-%m-%d_%H:%M\", gmtime())\n",
    "\n",
    "for k in range(n_iter):\n",
    "    session_time = strftime(\"%Y-%m-%d_%H:%M\", gmtime())\n",
    "    print(\"  \",k, session_time)\n",
    "    D_G = Drift_generators(n_samples = int(7000), n_features = 3)\n",
    "    #d_centers = [(0, 0, 0.3, 0.25, 1),(0, 0.3, 0.5, 0, 0.25),(0, 0.5, 0.9999, 0.25, 1)]\n",
    "    D_G.back_and_forth_abrupt()\n",
    "    for i, func in enumerate(funcs):\n",
    "        t1 = time()\n",
    "        print(\"    \",func[8:])\n",
    "        error, detection_indices = getattr(Drift_generators, func)(D_G)\n",
    "        print(\"      \",str(datetime.timedelta(seconds=int(time()-t1))))\n",
    "        name = \"/\"+ session_time\n",
    "        path = \"/home/TOTO/Documents/labs/data/results/\"+dataset+\"/\"+func[8:]\n",
    "        if(not os.path.isdir(path)):\n",
    "            os.mkdir(\"/home/TOTO/Documents/labs/data/results/\"+dataset+\"/\"+func[8:]);\n",
    "        pickle.dump( (error, detection_indices), open( path+name+\".p\", \"wb\" ))"
   ]
  },
  {
   "cell_type": "code",
   "execution_count": null,
   "id": "loved-persian",
   "metadata": {},
   "outputs": [],
   "source": [
    "#D_G.plot_retrain()"
   ]
  }
 ],
 "metadata": {
  "hide_input": false,
  "kernelspec": {
   "display_name": "Python 3 (ipykernel)",
   "language": "python",
   "name": "python3"
  },
  "language_info": {
   "codemirror_mode": {
    "name": "ipython",
    "version": 3
   },
   "file_extension": ".py",
   "mimetype": "text/x-python",
   "name": "python",
   "nbconvert_exporter": "python",
   "pygments_lexer": "ipython3",
   "version": "3.8.10"
  },
  "toc": {
   "base_numbering": 1,
   "nav_menu": {},
   "number_sections": true,
   "sideBar": true,
   "skip_h1_title": false,
   "title_cell": "Table of Contents",
   "title_sidebar": "Contents",
   "toc_cell": true,
   "toc_position": {
    "height": "calc(100% - 180px)",
    "left": "10px",
    "top": "150px",
    "width": "189px"
   },
   "toc_section_display": true,
   "toc_window_display": true
  }
 },
 "nbformat": 4,
 "nbformat_minor": 5
}
